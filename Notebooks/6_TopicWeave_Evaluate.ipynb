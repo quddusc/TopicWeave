{
  "nbformat": 4,
  "nbformat_minor": 0,
  "metadata": {
    "colab": {
      "provenance": [],
      "gpuType": "A100",
      "machine_shape": "hm"
    },
    "kernelspec": {
      "name": "python3",
      "display_name": "Python 3"
    },
    "language_info": {
      "name": "python"
    },
    "accelerator": "GPU",
    "widgets": {
      "application/vnd.jupyter.widget-state+json": {
        "8493135e15bd47b28b69e2f9995801f3": {
          "model_module": "@jupyter-widgets/controls",
          "model_name": "HBoxModel",
          "model_module_version": "1.5.0",
          "state": {
            "_dom_classes": [],
            "_model_module": "@jupyter-widgets/controls",
            "_model_module_version": "1.5.0",
            "_model_name": "HBoxModel",
            "_view_count": null,
            "_view_module": "@jupyter-widgets/controls",
            "_view_module_version": "1.5.0",
            "_view_name": "HBoxView",
            "box_style": "",
            "children": [
              "IPY_MODEL_65c665e2ee3b462ebea21b4c18de4e58",
              "IPY_MODEL_0c2f31a1d306430987b89630cccabc41",
              "IPY_MODEL_aa7c0edf3db949d3a109b76d86d9568a"
            ],
            "layout": "IPY_MODEL_e59df4f46336495cb9a6bf8a1368d243"
          }
        },
        "65c665e2ee3b462ebea21b4c18de4e58": {
          "model_module": "@jupyter-widgets/controls",
          "model_name": "HTMLModel",
          "model_module_version": "1.5.0",
          "state": {
            "_dom_classes": [],
            "_model_module": "@jupyter-widgets/controls",
            "_model_module_version": "1.5.0",
            "_model_name": "HTMLModel",
            "_view_count": null,
            "_view_module": "@jupyter-widgets/controls",
            "_view_module_version": "1.5.0",
            "_view_name": "HTMLView",
            "description": "",
            "description_tooltip": null,
            "layout": "IPY_MODEL_4fa29d40dc324dd1b7e86a98ab3cf604",
            "placeholder": "​",
            "style": "IPY_MODEL_bfddfbbbf4654bc4afc5a768b3f4577f",
            "value": "modules.json: 100%"
          }
        },
        "0c2f31a1d306430987b89630cccabc41": {
          "model_module": "@jupyter-widgets/controls",
          "model_name": "FloatProgressModel",
          "model_module_version": "1.5.0",
          "state": {
            "_dom_classes": [],
            "_model_module": "@jupyter-widgets/controls",
            "_model_module_version": "1.5.0",
            "_model_name": "FloatProgressModel",
            "_view_count": null,
            "_view_module": "@jupyter-widgets/controls",
            "_view_module_version": "1.5.0",
            "_view_name": "ProgressView",
            "bar_style": "success",
            "description": "",
            "description_tooltip": null,
            "layout": "IPY_MODEL_ac8e54f7e18644b1885dd01b16694237",
            "max": 229,
            "min": 0,
            "orientation": "horizontal",
            "style": "IPY_MODEL_32787c261ac44b90945b0d527f26f6c7",
            "value": 229
          }
        },
        "aa7c0edf3db949d3a109b76d86d9568a": {
          "model_module": "@jupyter-widgets/controls",
          "model_name": "HTMLModel",
          "model_module_version": "1.5.0",
          "state": {
            "_dom_classes": [],
            "_model_module": "@jupyter-widgets/controls",
            "_model_module_version": "1.5.0",
            "_model_name": "HTMLModel",
            "_view_count": null,
            "_view_module": "@jupyter-widgets/controls",
            "_view_module_version": "1.5.0",
            "_view_name": "HTMLView",
            "description": "",
            "description_tooltip": null,
            "layout": "IPY_MODEL_c6c994eeb0454a7cbacce1920a731712",
            "placeholder": "​",
            "style": "IPY_MODEL_18a338c2226d4ca6936ce6f7f5fe67b6",
            "value": " 229/229 [00:00&lt;00:00, 26.7kB/s]"
          }
        },
        "e59df4f46336495cb9a6bf8a1368d243": {
          "model_module": "@jupyter-widgets/base",
          "model_name": "LayoutModel",
          "model_module_version": "1.2.0",
          "state": {
            "_model_module": "@jupyter-widgets/base",
            "_model_module_version": "1.2.0",
            "_model_name": "LayoutModel",
            "_view_count": null,
            "_view_module": "@jupyter-widgets/base",
            "_view_module_version": "1.2.0",
            "_view_name": "LayoutView",
            "align_content": null,
            "align_items": null,
            "align_self": null,
            "border": null,
            "bottom": null,
            "display": null,
            "flex": null,
            "flex_flow": null,
            "grid_area": null,
            "grid_auto_columns": null,
            "grid_auto_flow": null,
            "grid_auto_rows": null,
            "grid_column": null,
            "grid_gap": null,
            "grid_row": null,
            "grid_template_areas": null,
            "grid_template_columns": null,
            "grid_template_rows": null,
            "height": null,
            "justify_content": null,
            "justify_items": null,
            "left": null,
            "margin": null,
            "max_height": null,
            "max_width": null,
            "min_height": null,
            "min_width": null,
            "object_fit": null,
            "object_position": null,
            "order": null,
            "overflow": null,
            "overflow_x": null,
            "overflow_y": null,
            "padding": null,
            "right": null,
            "top": null,
            "visibility": null,
            "width": null
          }
        },
        "4fa29d40dc324dd1b7e86a98ab3cf604": {
          "model_module": "@jupyter-widgets/base",
          "model_name": "LayoutModel",
          "model_module_version": "1.2.0",
          "state": {
            "_model_module": "@jupyter-widgets/base",
            "_model_module_version": "1.2.0",
            "_model_name": "LayoutModel",
            "_view_count": null,
            "_view_module": "@jupyter-widgets/base",
            "_view_module_version": "1.2.0",
            "_view_name": "LayoutView",
            "align_content": null,
            "align_items": null,
            "align_self": null,
            "border": null,
            "bottom": null,
            "display": null,
            "flex": null,
            "flex_flow": null,
            "grid_area": null,
            "grid_auto_columns": null,
            "grid_auto_flow": null,
            "grid_auto_rows": null,
            "grid_column": null,
            "grid_gap": null,
            "grid_row": null,
            "grid_template_areas": null,
            "grid_template_columns": null,
            "grid_template_rows": null,
            "height": null,
            "justify_content": null,
            "justify_items": null,
            "left": null,
            "margin": null,
            "max_height": null,
            "max_width": null,
            "min_height": null,
            "min_width": null,
            "object_fit": null,
            "object_position": null,
            "order": null,
            "overflow": null,
            "overflow_x": null,
            "overflow_y": null,
            "padding": null,
            "right": null,
            "top": null,
            "visibility": null,
            "width": null
          }
        },
        "bfddfbbbf4654bc4afc5a768b3f4577f": {
          "model_module": "@jupyter-widgets/controls",
          "model_name": "DescriptionStyleModel",
          "model_module_version": "1.5.0",
          "state": {
            "_model_module": "@jupyter-widgets/controls",
            "_model_module_version": "1.5.0",
            "_model_name": "DescriptionStyleModel",
            "_view_count": null,
            "_view_module": "@jupyter-widgets/base",
            "_view_module_version": "1.2.0",
            "_view_name": "StyleView",
            "description_width": ""
          }
        },
        "ac8e54f7e18644b1885dd01b16694237": {
          "model_module": "@jupyter-widgets/base",
          "model_name": "LayoutModel",
          "model_module_version": "1.2.0",
          "state": {
            "_model_module": "@jupyter-widgets/base",
            "_model_module_version": "1.2.0",
            "_model_name": "LayoutModel",
            "_view_count": null,
            "_view_module": "@jupyter-widgets/base",
            "_view_module_version": "1.2.0",
            "_view_name": "LayoutView",
            "align_content": null,
            "align_items": null,
            "align_self": null,
            "border": null,
            "bottom": null,
            "display": null,
            "flex": null,
            "flex_flow": null,
            "grid_area": null,
            "grid_auto_columns": null,
            "grid_auto_flow": null,
            "grid_auto_rows": null,
            "grid_column": null,
            "grid_gap": null,
            "grid_row": null,
            "grid_template_areas": null,
            "grid_template_columns": null,
            "grid_template_rows": null,
            "height": null,
            "justify_content": null,
            "justify_items": null,
            "left": null,
            "margin": null,
            "max_height": null,
            "max_width": null,
            "min_height": null,
            "min_width": null,
            "object_fit": null,
            "object_position": null,
            "order": null,
            "overflow": null,
            "overflow_x": null,
            "overflow_y": null,
            "padding": null,
            "right": null,
            "top": null,
            "visibility": null,
            "width": null
          }
        },
        "32787c261ac44b90945b0d527f26f6c7": {
          "model_module": "@jupyter-widgets/controls",
          "model_name": "ProgressStyleModel",
          "model_module_version": "1.5.0",
          "state": {
            "_model_module": "@jupyter-widgets/controls",
            "_model_module_version": "1.5.0",
            "_model_name": "ProgressStyleModel",
            "_view_count": null,
            "_view_module": "@jupyter-widgets/base",
            "_view_module_version": "1.2.0",
            "_view_name": "StyleView",
            "bar_color": null,
            "description_width": ""
          }
        },
        "c6c994eeb0454a7cbacce1920a731712": {
          "model_module": "@jupyter-widgets/base",
          "model_name": "LayoutModel",
          "model_module_version": "1.2.0",
          "state": {
            "_model_module": "@jupyter-widgets/base",
            "_model_module_version": "1.2.0",
            "_model_name": "LayoutModel",
            "_view_count": null,
            "_view_module": "@jupyter-widgets/base",
            "_view_module_version": "1.2.0",
            "_view_name": "LayoutView",
            "align_content": null,
            "align_items": null,
            "align_self": null,
            "border": null,
            "bottom": null,
            "display": null,
            "flex": null,
            "flex_flow": null,
            "grid_area": null,
            "grid_auto_columns": null,
            "grid_auto_flow": null,
            "grid_auto_rows": null,
            "grid_column": null,
            "grid_gap": null,
            "grid_row": null,
            "grid_template_areas": null,
            "grid_template_columns": null,
            "grid_template_rows": null,
            "height": null,
            "justify_content": null,
            "justify_items": null,
            "left": null,
            "margin": null,
            "max_height": null,
            "max_width": null,
            "min_height": null,
            "min_width": null,
            "object_fit": null,
            "object_position": null,
            "order": null,
            "overflow": null,
            "overflow_x": null,
            "overflow_y": null,
            "padding": null,
            "right": null,
            "top": null,
            "visibility": null,
            "width": null
          }
        },
        "18a338c2226d4ca6936ce6f7f5fe67b6": {
          "model_module": "@jupyter-widgets/controls",
          "model_name": "DescriptionStyleModel",
          "model_module_version": "1.5.0",
          "state": {
            "_model_module": "@jupyter-widgets/controls",
            "_model_module_version": "1.5.0",
            "_model_name": "DescriptionStyleModel",
            "_view_count": null,
            "_view_module": "@jupyter-widgets/base",
            "_view_module_version": "1.2.0",
            "_view_name": "StyleView",
            "description_width": ""
          }
        },
        "4c22020b21a040ae85841c7a871eb97d": {
          "model_module": "@jupyter-widgets/controls",
          "model_name": "HBoxModel",
          "model_module_version": "1.5.0",
          "state": {
            "_dom_classes": [],
            "_model_module": "@jupyter-widgets/controls",
            "_model_module_version": "1.5.0",
            "_model_name": "HBoxModel",
            "_view_count": null,
            "_view_module": "@jupyter-widgets/controls",
            "_view_module_version": "1.5.0",
            "_view_name": "HBoxView",
            "box_style": "",
            "children": [
              "IPY_MODEL_7c98c1e786b643b6bc6781dbb04df378",
              "IPY_MODEL_e6556c85b91d420495799d9c55bbc729",
              "IPY_MODEL_d5fd409763874e0a8ae8723cc8d33cb3"
            ],
            "layout": "IPY_MODEL_d3311098982b465abf3b58666c251ca2"
          }
        },
        "7c98c1e786b643b6bc6781dbb04df378": {
          "model_module": "@jupyter-widgets/controls",
          "model_name": "HTMLModel",
          "model_module_version": "1.5.0",
          "state": {
            "_dom_classes": [],
            "_model_module": "@jupyter-widgets/controls",
            "_model_module_version": "1.5.0",
            "_model_name": "HTMLModel",
            "_view_count": null,
            "_view_module": "@jupyter-widgets/controls",
            "_view_module_version": "1.5.0",
            "_view_name": "HTMLView",
            "description": "",
            "description_tooltip": null,
            "layout": "IPY_MODEL_88af6b06a033433dbca66d60b3841138",
            "placeholder": "​",
            "style": "IPY_MODEL_e015c43dcb3f4a9aad2f83ccdc135034",
            "value": "config_sentence_transformers.json: 100%"
          }
        },
        "e6556c85b91d420495799d9c55bbc729": {
          "model_module": "@jupyter-widgets/controls",
          "model_name": "FloatProgressModel",
          "model_module_version": "1.5.0",
          "state": {
            "_dom_classes": [],
            "_model_module": "@jupyter-widgets/controls",
            "_model_module_version": "1.5.0",
            "_model_name": "FloatProgressModel",
            "_view_count": null,
            "_view_module": "@jupyter-widgets/controls",
            "_view_module_version": "1.5.0",
            "_view_name": "ProgressView",
            "bar_style": "success",
            "description": "",
            "description_tooltip": null,
            "layout": "IPY_MODEL_83d5eb08635b40b192a48545d0dc720f",
            "max": 122,
            "min": 0,
            "orientation": "horizontal",
            "style": "IPY_MODEL_2965b0a5af384a1e8a3ba86fabfb7e30",
            "value": 122
          }
        },
        "d5fd409763874e0a8ae8723cc8d33cb3": {
          "model_module": "@jupyter-widgets/controls",
          "model_name": "HTMLModel",
          "model_module_version": "1.5.0",
          "state": {
            "_dom_classes": [],
            "_model_module": "@jupyter-widgets/controls",
            "_model_module_version": "1.5.0",
            "_model_name": "HTMLModel",
            "_view_count": null,
            "_view_module": "@jupyter-widgets/controls",
            "_view_module_version": "1.5.0",
            "_view_name": "HTMLView",
            "description": "",
            "description_tooltip": null,
            "layout": "IPY_MODEL_4dedd14c75e3418e9eb9a651b371fc8f",
            "placeholder": "​",
            "style": "IPY_MODEL_6eebe755161747c486818a6e426b07ea",
            "value": " 122/122 [00:00&lt;00:00, 15.5kB/s]"
          }
        },
        "d3311098982b465abf3b58666c251ca2": {
          "model_module": "@jupyter-widgets/base",
          "model_name": "LayoutModel",
          "model_module_version": "1.2.0",
          "state": {
            "_model_module": "@jupyter-widgets/base",
            "_model_module_version": "1.2.0",
            "_model_name": "LayoutModel",
            "_view_count": null,
            "_view_module": "@jupyter-widgets/base",
            "_view_module_version": "1.2.0",
            "_view_name": "LayoutView",
            "align_content": null,
            "align_items": null,
            "align_self": null,
            "border": null,
            "bottom": null,
            "display": null,
            "flex": null,
            "flex_flow": null,
            "grid_area": null,
            "grid_auto_columns": null,
            "grid_auto_flow": null,
            "grid_auto_rows": null,
            "grid_column": null,
            "grid_gap": null,
            "grid_row": null,
            "grid_template_areas": null,
            "grid_template_columns": null,
            "grid_template_rows": null,
            "height": null,
            "justify_content": null,
            "justify_items": null,
            "left": null,
            "margin": null,
            "max_height": null,
            "max_width": null,
            "min_height": null,
            "min_width": null,
            "object_fit": null,
            "object_position": null,
            "order": null,
            "overflow": null,
            "overflow_x": null,
            "overflow_y": null,
            "padding": null,
            "right": null,
            "top": null,
            "visibility": null,
            "width": null
          }
        },
        "88af6b06a033433dbca66d60b3841138": {
          "model_module": "@jupyter-widgets/base",
          "model_name": "LayoutModel",
          "model_module_version": "1.2.0",
          "state": {
            "_model_module": "@jupyter-widgets/base",
            "_model_module_version": "1.2.0",
            "_model_name": "LayoutModel",
            "_view_count": null,
            "_view_module": "@jupyter-widgets/base",
            "_view_module_version": "1.2.0",
            "_view_name": "LayoutView",
            "align_content": null,
            "align_items": null,
            "align_self": null,
            "border": null,
            "bottom": null,
            "display": null,
            "flex": null,
            "flex_flow": null,
            "grid_area": null,
            "grid_auto_columns": null,
            "grid_auto_flow": null,
            "grid_auto_rows": null,
            "grid_column": null,
            "grid_gap": null,
            "grid_row": null,
            "grid_template_areas": null,
            "grid_template_columns": null,
            "grid_template_rows": null,
            "height": null,
            "justify_content": null,
            "justify_items": null,
            "left": null,
            "margin": null,
            "max_height": null,
            "max_width": null,
            "min_height": null,
            "min_width": null,
            "object_fit": null,
            "object_position": null,
            "order": null,
            "overflow": null,
            "overflow_x": null,
            "overflow_y": null,
            "padding": null,
            "right": null,
            "top": null,
            "visibility": null,
            "width": null
          }
        },
        "e015c43dcb3f4a9aad2f83ccdc135034": {
          "model_module": "@jupyter-widgets/controls",
          "model_name": "DescriptionStyleModel",
          "model_module_version": "1.5.0",
          "state": {
            "_model_module": "@jupyter-widgets/controls",
            "_model_module_version": "1.5.0",
            "_model_name": "DescriptionStyleModel",
            "_view_count": null,
            "_view_module": "@jupyter-widgets/base",
            "_view_module_version": "1.2.0",
            "_view_name": "StyleView",
            "description_width": ""
          }
        },
        "83d5eb08635b40b192a48545d0dc720f": {
          "model_module": "@jupyter-widgets/base",
          "model_name": "LayoutModel",
          "model_module_version": "1.2.0",
          "state": {
            "_model_module": "@jupyter-widgets/base",
            "_model_module_version": "1.2.0",
            "_model_name": "LayoutModel",
            "_view_count": null,
            "_view_module": "@jupyter-widgets/base",
            "_view_module_version": "1.2.0",
            "_view_name": "LayoutView",
            "align_content": null,
            "align_items": null,
            "align_self": null,
            "border": null,
            "bottom": null,
            "display": null,
            "flex": null,
            "flex_flow": null,
            "grid_area": null,
            "grid_auto_columns": null,
            "grid_auto_flow": null,
            "grid_auto_rows": null,
            "grid_column": null,
            "grid_gap": null,
            "grid_row": null,
            "grid_template_areas": null,
            "grid_template_columns": null,
            "grid_template_rows": null,
            "height": null,
            "justify_content": null,
            "justify_items": null,
            "left": null,
            "margin": null,
            "max_height": null,
            "max_width": null,
            "min_height": null,
            "min_width": null,
            "object_fit": null,
            "object_position": null,
            "order": null,
            "overflow": null,
            "overflow_x": null,
            "overflow_y": null,
            "padding": null,
            "right": null,
            "top": null,
            "visibility": null,
            "width": null
          }
        },
        "2965b0a5af384a1e8a3ba86fabfb7e30": {
          "model_module": "@jupyter-widgets/controls",
          "model_name": "ProgressStyleModel",
          "model_module_version": "1.5.0",
          "state": {
            "_model_module": "@jupyter-widgets/controls",
            "_model_module_version": "1.5.0",
            "_model_name": "ProgressStyleModel",
            "_view_count": null,
            "_view_module": "@jupyter-widgets/base",
            "_view_module_version": "1.2.0",
            "_view_name": "StyleView",
            "bar_color": null,
            "description_width": ""
          }
        },
        "4dedd14c75e3418e9eb9a651b371fc8f": {
          "model_module": "@jupyter-widgets/base",
          "model_name": "LayoutModel",
          "model_module_version": "1.2.0",
          "state": {
            "_model_module": "@jupyter-widgets/base",
            "_model_module_version": "1.2.0",
            "_model_name": "LayoutModel",
            "_view_count": null,
            "_view_module": "@jupyter-widgets/base",
            "_view_module_version": "1.2.0",
            "_view_name": "LayoutView",
            "align_content": null,
            "align_items": null,
            "align_self": null,
            "border": null,
            "bottom": null,
            "display": null,
            "flex": null,
            "flex_flow": null,
            "grid_area": null,
            "grid_auto_columns": null,
            "grid_auto_flow": null,
            "grid_auto_rows": null,
            "grid_column": null,
            "grid_gap": null,
            "grid_row": null,
            "grid_template_areas": null,
            "grid_template_columns": null,
            "grid_template_rows": null,
            "height": null,
            "justify_content": null,
            "justify_items": null,
            "left": null,
            "margin": null,
            "max_height": null,
            "max_width": null,
            "min_height": null,
            "min_width": null,
            "object_fit": null,
            "object_position": null,
            "order": null,
            "overflow": null,
            "overflow_x": null,
            "overflow_y": null,
            "padding": null,
            "right": null,
            "top": null,
            "visibility": null,
            "width": null
          }
        },
        "6eebe755161747c486818a6e426b07ea": {
          "model_module": "@jupyter-widgets/controls",
          "model_name": "DescriptionStyleModel",
          "model_module_version": "1.5.0",
          "state": {
            "_model_module": "@jupyter-widgets/controls",
            "_model_module_version": "1.5.0",
            "_model_name": "DescriptionStyleModel",
            "_view_count": null,
            "_view_module": "@jupyter-widgets/base",
            "_view_module_version": "1.2.0",
            "_view_name": "StyleView",
            "description_width": ""
          }
        },
        "f0bdd14087784b9f85e2a348b1e8cd28": {
          "model_module": "@jupyter-widgets/controls",
          "model_name": "HBoxModel",
          "model_module_version": "1.5.0",
          "state": {
            "_dom_classes": [],
            "_model_module": "@jupyter-widgets/controls",
            "_model_module_version": "1.5.0",
            "_model_name": "HBoxModel",
            "_view_count": null,
            "_view_module": "@jupyter-widgets/controls",
            "_view_module_version": "1.5.0",
            "_view_name": "HBoxView",
            "box_style": "",
            "children": [
              "IPY_MODEL_3ec4d186d1d64047afaca3cdf46f9b51",
              "IPY_MODEL_021a84ea85c24ab4a2409aac78261a81",
              "IPY_MODEL_fd2f9f2049a1492cb62f64030c1811e4"
            ],
            "layout": "IPY_MODEL_56431d8922584fe6b90383c5e4825a6e"
          }
        },
        "3ec4d186d1d64047afaca3cdf46f9b51": {
          "model_module": "@jupyter-widgets/controls",
          "model_name": "HTMLModel",
          "model_module_version": "1.5.0",
          "state": {
            "_dom_classes": [],
            "_model_module": "@jupyter-widgets/controls",
            "_model_module_version": "1.5.0",
            "_model_name": "HTMLModel",
            "_view_count": null,
            "_view_module": "@jupyter-widgets/controls",
            "_view_module_version": "1.5.0",
            "_view_name": "HTMLView",
            "description": "",
            "description_tooltip": null,
            "layout": "IPY_MODEL_7bb281646af548e898871e0248271390",
            "placeholder": "​",
            "style": "IPY_MODEL_c99ed8354d52446381f122b3fdabadac",
            "value": "README.md: 100%"
          }
        },
        "021a84ea85c24ab4a2409aac78261a81": {
          "model_module": "@jupyter-widgets/controls",
          "model_name": "FloatProgressModel",
          "model_module_version": "1.5.0",
          "state": {
            "_dom_classes": [],
            "_model_module": "@jupyter-widgets/controls",
            "_model_module_version": "1.5.0",
            "_model_name": "FloatProgressModel",
            "_view_count": null,
            "_view_module": "@jupyter-widgets/controls",
            "_view_module_version": "1.5.0",
            "_view_name": "ProgressView",
            "bar_style": "success",
            "description": "",
            "description_tooltip": null,
            "layout": "IPY_MODEL_97fca3b40d9441f5ae63605f07c394cf",
            "max": 3517,
            "min": 0,
            "orientation": "horizontal",
            "style": "IPY_MODEL_2282cf0e4b594c6ebd946aba3ee9d83a",
            "value": 3517
          }
        },
        "fd2f9f2049a1492cb62f64030c1811e4": {
          "model_module": "@jupyter-widgets/controls",
          "model_name": "HTMLModel",
          "model_module_version": "1.5.0",
          "state": {
            "_dom_classes": [],
            "_model_module": "@jupyter-widgets/controls",
            "_model_module_version": "1.5.0",
            "_model_name": "HTMLModel",
            "_view_count": null,
            "_view_module": "@jupyter-widgets/controls",
            "_view_module_version": "1.5.0",
            "_view_name": "HTMLView",
            "description": "",
            "description_tooltip": null,
            "layout": "IPY_MODEL_183915bf9dc2424a922597ce3510f6da",
            "placeholder": "​",
            "style": "IPY_MODEL_fc9b252be5b54167aeb6ae6c915d8af8",
            "value": " 3.52k/3.52k [00:00&lt;00:00, 264kB/s]"
          }
        },
        "56431d8922584fe6b90383c5e4825a6e": {
          "model_module": "@jupyter-widgets/base",
          "model_name": "LayoutModel",
          "model_module_version": "1.2.0",
          "state": {
            "_model_module": "@jupyter-widgets/base",
            "_model_module_version": "1.2.0",
            "_model_name": "LayoutModel",
            "_view_count": null,
            "_view_module": "@jupyter-widgets/base",
            "_view_module_version": "1.2.0",
            "_view_name": "LayoutView",
            "align_content": null,
            "align_items": null,
            "align_self": null,
            "border": null,
            "bottom": null,
            "display": null,
            "flex": null,
            "flex_flow": null,
            "grid_area": null,
            "grid_auto_columns": null,
            "grid_auto_flow": null,
            "grid_auto_rows": null,
            "grid_column": null,
            "grid_gap": null,
            "grid_row": null,
            "grid_template_areas": null,
            "grid_template_columns": null,
            "grid_template_rows": null,
            "height": null,
            "justify_content": null,
            "justify_items": null,
            "left": null,
            "margin": null,
            "max_height": null,
            "max_width": null,
            "min_height": null,
            "min_width": null,
            "object_fit": null,
            "object_position": null,
            "order": null,
            "overflow": null,
            "overflow_x": null,
            "overflow_y": null,
            "padding": null,
            "right": null,
            "top": null,
            "visibility": null,
            "width": null
          }
        },
        "7bb281646af548e898871e0248271390": {
          "model_module": "@jupyter-widgets/base",
          "model_name": "LayoutModel",
          "model_module_version": "1.2.0",
          "state": {
            "_model_module": "@jupyter-widgets/base",
            "_model_module_version": "1.2.0",
            "_model_name": "LayoutModel",
            "_view_count": null,
            "_view_module": "@jupyter-widgets/base",
            "_view_module_version": "1.2.0",
            "_view_name": "LayoutView",
            "align_content": null,
            "align_items": null,
            "align_self": null,
            "border": null,
            "bottom": null,
            "display": null,
            "flex": null,
            "flex_flow": null,
            "grid_area": null,
            "grid_auto_columns": null,
            "grid_auto_flow": null,
            "grid_auto_rows": null,
            "grid_column": null,
            "grid_gap": null,
            "grid_row": null,
            "grid_template_areas": null,
            "grid_template_columns": null,
            "grid_template_rows": null,
            "height": null,
            "justify_content": null,
            "justify_items": null,
            "left": null,
            "margin": null,
            "max_height": null,
            "max_width": null,
            "min_height": null,
            "min_width": null,
            "object_fit": null,
            "object_position": null,
            "order": null,
            "overflow": null,
            "overflow_x": null,
            "overflow_y": null,
            "padding": null,
            "right": null,
            "top": null,
            "visibility": null,
            "width": null
          }
        },
        "c99ed8354d52446381f122b3fdabadac": {
          "model_module": "@jupyter-widgets/controls",
          "model_name": "DescriptionStyleModel",
          "model_module_version": "1.5.0",
          "state": {
            "_model_module": "@jupyter-widgets/controls",
            "_model_module_version": "1.5.0",
            "_model_name": "DescriptionStyleModel",
            "_view_count": null,
            "_view_module": "@jupyter-widgets/base",
            "_view_module_version": "1.2.0",
            "_view_name": "StyleView",
            "description_width": ""
          }
        },
        "97fca3b40d9441f5ae63605f07c394cf": {
          "model_module": "@jupyter-widgets/base",
          "model_name": "LayoutModel",
          "model_module_version": "1.2.0",
          "state": {
            "_model_module": "@jupyter-widgets/base",
            "_model_module_version": "1.2.0",
            "_model_name": "LayoutModel",
            "_view_count": null,
            "_view_module": "@jupyter-widgets/base",
            "_view_module_version": "1.2.0",
            "_view_name": "LayoutView",
            "align_content": null,
            "align_items": null,
            "align_self": null,
            "border": null,
            "bottom": null,
            "display": null,
            "flex": null,
            "flex_flow": null,
            "grid_area": null,
            "grid_auto_columns": null,
            "grid_auto_flow": null,
            "grid_auto_rows": null,
            "grid_column": null,
            "grid_gap": null,
            "grid_row": null,
            "grid_template_areas": null,
            "grid_template_columns": null,
            "grid_template_rows": null,
            "height": null,
            "justify_content": null,
            "justify_items": null,
            "left": null,
            "margin": null,
            "max_height": null,
            "max_width": null,
            "min_height": null,
            "min_width": null,
            "object_fit": null,
            "object_position": null,
            "order": null,
            "overflow": null,
            "overflow_x": null,
            "overflow_y": null,
            "padding": null,
            "right": null,
            "top": null,
            "visibility": null,
            "width": null
          }
        },
        "2282cf0e4b594c6ebd946aba3ee9d83a": {
          "model_module": "@jupyter-widgets/controls",
          "model_name": "ProgressStyleModel",
          "model_module_version": "1.5.0",
          "state": {
            "_model_module": "@jupyter-widgets/controls",
            "_model_module_version": "1.5.0",
            "_model_name": "ProgressStyleModel",
            "_view_count": null,
            "_view_module": "@jupyter-widgets/base",
            "_view_module_version": "1.2.0",
            "_view_name": "StyleView",
            "bar_color": null,
            "description_width": ""
          }
        },
        "183915bf9dc2424a922597ce3510f6da": {
          "model_module": "@jupyter-widgets/base",
          "model_name": "LayoutModel",
          "model_module_version": "1.2.0",
          "state": {
            "_model_module": "@jupyter-widgets/base",
            "_model_module_version": "1.2.0",
            "_model_name": "LayoutModel",
            "_view_count": null,
            "_view_module": "@jupyter-widgets/base",
            "_view_module_version": "1.2.0",
            "_view_name": "LayoutView",
            "align_content": null,
            "align_items": null,
            "align_self": null,
            "border": null,
            "bottom": null,
            "display": null,
            "flex": null,
            "flex_flow": null,
            "grid_area": null,
            "grid_auto_columns": null,
            "grid_auto_flow": null,
            "grid_auto_rows": null,
            "grid_column": null,
            "grid_gap": null,
            "grid_row": null,
            "grid_template_areas": null,
            "grid_template_columns": null,
            "grid_template_rows": null,
            "height": null,
            "justify_content": null,
            "justify_items": null,
            "left": null,
            "margin": null,
            "max_height": null,
            "max_width": null,
            "min_height": null,
            "min_width": null,
            "object_fit": null,
            "object_position": null,
            "order": null,
            "overflow": null,
            "overflow_x": null,
            "overflow_y": null,
            "padding": null,
            "right": null,
            "top": null,
            "visibility": null,
            "width": null
          }
        },
        "fc9b252be5b54167aeb6ae6c915d8af8": {
          "model_module": "@jupyter-widgets/controls",
          "model_name": "DescriptionStyleModel",
          "model_module_version": "1.5.0",
          "state": {
            "_model_module": "@jupyter-widgets/controls",
            "_model_module_version": "1.5.0",
            "_model_name": "DescriptionStyleModel",
            "_view_count": null,
            "_view_module": "@jupyter-widgets/base",
            "_view_module_version": "1.2.0",
            "_view_name": "StyleView",
            "description_width": ""
          }
        },
        "ea4a5eeb3fe448489f9d3b37bb757233": {
          "model_module": "@jupyter-widgets/controls",
          "model_name": "HBoxModel",
          "model_module_version": "1.5.0",
          "state": {
            "_dom_classes": [],
            "_model_module": "@jupyter-widgets/controls",
            "_model_module_version": "1.5.0",
            "_model_name": "HBoxModel",
            "_view_count": null,
            "_view_module": "@jupyter-widgets/controls",
            "_view_module_version": "1.5.0",
            "_view_name": "HBoxView",
            "box_style": "",
            "children": [
              "IPY_MODEL_9ff00d12346a42febe74f4b3a9a98605",
              "IPY_MODEL_7aa1811a8a774a28a1c9269a6ff494fe",
              "IPY_MODEL_dceac534350446568e4b46fbce4f2741"
            ],
            "layout": "IPY_MODEL_cf7cbff02e5849af8ec42a05b87202e6"
          }
        },
        "9ff00d12346a42febe74f4b3a9a98605": {
          "model_module": "@jupyter-widgets/controls",
          "model_name": "HTMLModel",
          "model_module_version": "1.5.0",
          "state": {
            "_dom_classes": [],
            "_model_module": "@jupyter-widgets/controls",
            "_model_module_version": "1.5.0",
            "_model_name": "HTMLModel",
            "_view_count": null,
            "_view_module": "@jupyter-widgets/controls",
            "_view_module_version": "1.5.0",
            "_view_name": "HTMLView",
            "description": "",
            "description_tooltip": null,
            "layout": "IPY_MODEL_f2e0f5be7b384ff3b08771aa3f557d50",
            "placeholder": "​",
            "style": "IPY_MODEL_d38504a1ce7848f98a78d1f771b0fdde",
            "value": "sentence_bert_config.json: 100%"
          }
        },
        "7aa1811a8a774a28a1c9269a6ff494fe": {
          "model_module": "@jupyter-widgets/controls",
          "model_name": "FloatProgressModel",
          "model_module_version": "1.5.0",
          "state": {
            "_dom_classes": [],
            "_model_module": "@jupyter-widgets/controls",
            "_model_module_version": "1.5.0",
            "_model_name": "FloatProgressModel",
            "_view_count": null,
            "_view_module": "@jupyter-widgets/controls",
            "_view_module_version": "1.5.0",
            "_view_name": "ProgressView",
            "bar_style": "success",
            "description": "",
            "description_tooltip": null,
            "layout": "IPY_MODEL_0c8a4d4538724bcab34ec3d25020f163",
            "max": 53,
            "min": 0,
            "orientation": "horizontal",
            "style": "IPY_MODEL_68b2f36f007c40f4aa029ccb17a254a6",
            "value": 53
          }
        },
        "dceac534350446568e4b46fbce4f2741": {
          "model_module": "@jupyter-widgets/controls",
          "model_name": "HTMLModel",
          "model_module_version": "1.5.0",
          "state": {
            "_dom_classes": [],
            "_model_module": "@jupyter-widgets/controls",
            "_model_module_version": "1.5.0",
            "_model_name": "HTMLModel",
            "_view_count": null,
            "_view_module": "@jupyter-widgets/controls",
            "_view_module_version": "1.5.0",
            "_view_name": "HTMLView",
            "description": "",
            "description_tooltip": null,
            "layout": "IPY_MODEL_4bb0bbab5d4342adbcb9253b3bea5c1e",
            "placeholder": "​",
            "style": "IPY_MODEL_e170159531b54d5c9c620eb93536d225",
            "value": " 53.0/53.0 [00:00&lt;00:00, 6.25kB/s]"
          }
        },
        "cf7cbff02e5849af8ec42a05b87202e6": {
          "model_module": "@jupyter-widgets/base",
          "model_name": "LayoutModel",
          "model_module_version": "1.2.0",
          "state": {
            "_model_module": "@jupyter-widgets/base",
            "_model_module_version": "1.2.0",
            "_model_name": "LayoutModel",
            "_view_count": null,
            "_view_module": "@jupyter-widgets/base",
            "_view_module_version": "1.2.0",
            "_view_name": "LayoutView",
            "align_content": null,
            "align_items": null,
            "align_self": null,
            "border": null,
            "bottom": null,
            "display": null,
            "flex": null,
            "flex_flow": null,
            "grid_area": null,
            "grid_auto_columns": null,
            "grid_auto_flow": null,
            "grid_auto_rows": null,
            "grid_column": null,
            "grid_gap": null,
            "grid_row": null,
            "grid_template_areas": null,
            "grid_template_columns": null,
            "grid_template_rows": null,
            "height": null,
            "justify_content": null,
            "justify_items": null,
            "left": null,
            "margin": null,
            "max_height": null,
            "max_width": null,
            "min_height": null,
            "min_width": null,
            "object_fit": null,
            "object_position": null,
            "order": null,
            "overflow": null,
            "overflow_x": null,
            "overflow_y": null,
            "padding": null,
            "right": null,
            "top": null,
            "visibility": null,
            "width": null
          }
        },
        "f2e0f5be7b384ff3b08771aa3f557d50": {
          "model_module": "@jupyter-widgets/base",
          "model_name": "LayoutModel",
          "model_module_version": "1.2.0",
          "state": {
            "_model_module": "@jupyter-widgets/base",
            "_model_module_version": "1.2.0",
            "_model_name": "LayoutModel",
            "_view_count": null,
            "_view_module": "@jupyter-widgets/base",
            "_view_module_version": "1.2.0",
            "_view_name": "LayoutView",
            "align_content": null,
            "align_items": null,
            "align_self": null,
            "border": null,
            "bottom": null,
            "display": null,
            "flex": null,
            "flex_flow": null,
            "grid_area": null,
            "grid_auto_columns": null,
            "grid_auto_flow": null,
            "grid_auto_rows": null,
            "grid_column": null,
            "grid_gap": null,
            "grid_row": null,
            "grid_template_areas": null,
            "grid_template_columns": null,
            "grid_template_rows": null,
            "height": null,
            "justify_content": null,
            "justify_items": null,
            "left": null,
            "margin": null,
            "max_height": null,
            "max_width": null,
            "min_height": null,
            "min_width": null,
            "object_fit": null,
            "object_position": null,
            "order": null,
            "overflow": null,
            "overflow_x": null,
            "overflow_y": null,
            "padding": null,
            "right": null,
            "top": null,
            "visibility": null,
            "width": null
          }
        },
        "d38504a1ce7848f98a78d1f771b0fdde": {
          "model_module": "@jupyter-widgets/controls",
          "model_name": "DescriptionStyleModel",
          "model_module_version": "1.5.0",
          "state": {
            "_model_module": "@jupyter-widgets/controls",
            "_model_module_version": "1.5.0",
            "_model_name": "DescriptionStyleModel",
            "_view_count": null,
            "_view_module": "@jupyter-widgets/base",
            "_view_module_version": "1.2.0",
            "_view_name": "StyleView",
            "description_width": ""
          }
        },
        "0c8a4d4538724bcab34ec3d25020f163": {
          "model_module": "@jupyter-widgets/base",
          "model_name": "LayoutModel",
          "model_module_version": "1.2.0",
          "state": {
            "_model_module": "@jupyter-widgets/base",
            "_model_module_version": "1.2.0",
            "_model_name": "LayoutModel",
            "_view_count": null,
            "_view_module": "@jupyter-widgets/base",
            "_view_module_version": "1.2.0",
            "_view_name": "LayoutView",
            "align_content": null,
            "align_items": null,
            "align_self": null,
            "border": null,
            "bottom": null,
            "display": null,
            "flex": null,
            "flex_flow": null,
            "grid_area": null,
            "grid_auto_columns": null,
            "grid_auto_flow": null,
            "grid_auto_rows": null,
            "grid_column": null,
            "grid_gap": null,
            "grid_row": null,
            "grid_template_areas": null,
            "grid_template_columns": null,
            "grid_template_rows": null,
            "height": null,
            "justify_content": null,
            "justify_items": null,
            "left": null,
            "margin": null,
            "max_height": null,
            "max_width": null,
            "min_height": null,
            "min_width": null,
            "object_fit": null,
            "object_position": null,
            "order": null,
            "overflow": null,
            "overflow_x": null,
            "overflow_y": null,
            "padding": null,
            "right": null,
            "top": null,
            "visibility": null,
            "width": null
          }
        },
        "68b2f36f007c40f4aa029ccb17a254a6": {
          "model_module": "@jupyter-widgets/controls",
          "model_name": "ProgressStyleModel",
          "model_module_version": "1.5.0",
          "state": {
            "_model_module": "@jupyter-widgets/controls",
            "_model_module_version": "1.5.0",
            "_model_name": "ProgressStyleModel",
            "_view_count": null,
            "_view_module": "@jupyter-widgets/base",
            "_view_module_version": "1.2.0",
            "_view_name": "StyleView",
            "bar_color": null,
            "description_width": ""
          }
        },
        "4bb0bbab5d4342adbcb9253b3bea5c1e": {
          "model_module": "@jupyter-widgets/base",
          "model_name": "LayoutModel",
          "model_module_version": "1.2.0",
          "state": {
            "_model_module": "@jupyter-widgets/base",
            "_model_module_version": "1.2.0",
            "_model_name": "LayoutModel",
            "_view_count": null,
            "_view_module": "@jupyter-widgets/base",
            "_view_module_version": "1.2.0",
            "_view_name": "LayoutView",
            "align_content": null,
            "align_items": null,
            "align_self": null,
            "border": null,
            "bottom": null,
            "display": null,
            "flex": null,
            "flex_flow": null,
            "grid_area": null,
            "grid_auto_columns": null,
            "grid_auto_flow": null,
            "grid_auto_rows": null,
            "grid_column": null,
            "grid_gap": null,
            "grid_row": null,
            "grid_template_areas": null,
            "grid_template_columns": null,
            "grid_template_rows": null,
            "height": null,
            "justify_content": null,
            "justify_items": null,
            "left": null,
            "margin": null,
            "max_height": null,
            "max_width": null,
            "min_height": null,
            "min_width": null,
            "object_fit": null,
            "object_position": null,
            "order": null,
            "overflow": null,
            "overflow_x": null,
            "overflow_y": null,
            "padding": null,
            "right": null,
            "top": null,
            "visibility": null,
            "width": null
          }
        },
        "e170159531b54d5c9c620eb93536d225": {
          "model_module": "@jupyter-widgets/controls",
          "model_name": "DescriptionStyleModel",
          "model_module_version": "1.5.0",
          "state": {
            "_model_module": "@jupyter-widgets/controls",
            "_model_module_version": "1.5.0",
            "_model_name": "DescriptionStyleModel",
            "_view_count": null,
            "_view_module": "@jupyter-widgets/base",
            "_view_module_version": "1.2.0",
            "_view_name": "StyleView",
            "description_width": ""
          }
        },
        "270951dd378546d4ac1e1b42c6af922e": {
          "model_module": "@jupyter-widgets/controls",
          "model_name": "HBoxModel",
          "model_module_version": "1.5.0",
          "state": {
            "_dom_classes": [],
            "_model_module": "@jupyter-widgets/controls",
            "_model_module_version": "1.5.0",
            "_model_name": "HBoxModel",
            "_view_count": null,
            "_view_module": "@jupyter-widgets/controls",
            "_view_module_version": "1.5.0",
            "_view_name": "HBoxView",
            "box_style": "",
            "children": [
              "IPY_MODEL_6fe92f0c24b2438aa1cf8828f920ea4a",
              "IPY_MODEL_91bfcfeee8684d4dbbd6f42cf5a2eaed",
              "IPY_MODEL_3c8b4e631ae44187a692d20b630a61ce"
            ],
            "layout": "IPY_MODEL_459103e63c334e628b21b9173c51ebbc"
          }
        },
        "6fe92f0c24b2438aa1cf8828f920ea4a": {
          "model_module": "@jupyter-widgets/controls",
          "model_name": "HTMLModel",
          "model_module_version": "1.5.0",
          "state": {
            "_dom_classes": [],
            "_model_module": "@jupyter-widgets/controls",
            "_model_module_version": "1.5.0",
            "_model_name": "HTMLModel",
            "_view_count": null,
            "_view_module": "@jupyter-widgets/controls",
            "_view_module_version": "1.5.0",
            "_view_name": "HTMLView",
            "description": "",
            "description_tooltip": null,
            "layout": "IPY_MODEL_716ec674b92f496eb75b17c2b5999e64",
            "placeholder": "​",
            "style": "IPY_MODEL_1bb5eeb123a44db6917af8e67f948f50",
            "value": "config.json: 100%"
          }
        },
        "91bfcfeee8684d4dbbd6f42cf5a2eaed": {
          "model_module": "@jupyter-widgets/controls",
          "model_name": "FloatProgressModel",
          "model_module_version": "1.5.0",
          "state": {
            "_dom_classes": [],
            "_model_module": "@jupyter-widgets/controls",
            "_model_module_version": "1.5.0",
            "_model_name": "FloatProgressModel",
            "_view_count": null,
            "_view_module": "@jupyter-widgets/controls",
            "_view_module_version": "1.5.0",
            "_view_name": "ProgressView",
            "bar_style": "success",
            "description": "",
            "description_tooltip": null,
            "layout": "IPY_MODEL_219515c62e2f44ecb028687fa0fdb339",
            "max": 631,
            "min": 0,
            "orientation": "horizontal",
            "style": "IPY_MODEL_7cade5c431ef47ea8a687e7a0c1ec199",
            "value": 631
          }
        },
        "3c8b4e631ae44187a692d20b630a61ce": {
          "model_module": "@jupyter-widgets/controls",
          "model_name": "HTMLModel",
          "model_module_version": "1.5.0",
          "state": {
            "_dom_classes": [],
            "_model_module": "@jupyter-widgets/controls",
            "_model_module_version": "1.5.0",
            "_model_name": "HTMLModel",
            "_view_count": null,
            "_view_module": "@jupyter-widgets/controls",
            "_view_module_version": "1.5.0",
            "_view_name": "HTMLView",
            "description": "",
            "description_tooltip": null,
            "layout": "IPY_MODEL_c0b9d8c9adc649b09a2bf9a1a48e09cd",
            "placeholder": "​",
            "style": "IPY_MODEL_08f6a173789649519bdad76a5fd4dca7",
            "value": " 631/631 [00:00&lt;00:00, 79.1kB/s]"
          }
        },
        "459103e63c334e628b21b9173c51ebbc": {
          "model_module": "@jupyter-widgets/base",
          "model_name": "LayoutModel",
          "model_module_version": "1.2.0",
          "state": {
            "_model_module": "@jupyter-widgets/base",
            "_model_module_version": "1.2.0",
            "_model_name": "LayoutModel",
            "_view_count": null,
            "_view_module": "@jupyter-widgets/base",
            "_view_module_version": "1.2.0",
            "_view_name": "LayoutView",
            "align_content": null,
            "align_items": null,
            "align_self": null,
            "border": null,
            "bottom": null,
            "display": null,
            "flex": null,
            "flex_flow": null,
            "grid_area": null,
            "grid_auto_columns": null,
            "grid_auto_flow": null,
            "grid_auto_rows": null,
            "grid_column": null,
            "grid_gap": null,
            "grid_row": null,
            "grid_template_areas": null,
            "grid_template_columns": null,
            "grid_template_rows": null,
            "height": null,
            "justify_content": null,
            "justify_items": null,
            "left": null,
            "margin": null,
            "max_height": null,
            "max_width": null,
            "min_height": null,
            "min_width": null,
            "object_fit": null,
            "object_position": null,
            "order": null,
            "overflow": null,
            "overflow_x": null,
            "overflow_y": null,
            "padding": null,
            "right": null,
            "top": null,
            "visibility": null,
            "width": null
          }
        },
        "716ec674b92f496eb75b17c2b5999e64": {
          "model_module": "@jupyter-widgets/base",
          "model_name": "LayoutModel",
          "model_module_version": "1.2.0",
          "state": {
            "_model_module": "@jupyter-widgets/base",
            "_model_module_version": "1.2.0",
            "_model_name": "LayoutModel",
            "_view_count": null,
            "_view_module": "@jupyter-widgets/base",
            "_view_module_version": "1.2.0",
            "_view_name": "LayoutView",
            "align_content": null,
            "align_items": null,
            "align_self": null,
            "border": null,
            "bottom": null,
            "display": null,
            "flex": null,
            "flex_flow": null,
            "grid_area": null,
            "grid_auto_columns": null,
            "grid_auto_flow": null,
            "grid_auto_rows": null,
            "grid_column": null,
            "grid_gap": null,
            "grid_row": null,
            "grid_template_areas": null,
            "grid_template_columns": null,
            "grid_template_rows": null,
            "height": null,
            "justify_content": null,
            "justify_items": null,
            "left": null,
            "margin": null,
            "max_height": null,
            "max_width": null,
            "min_height": null,
            "min_width": null,
            "object_fit": null,
            "object_position": null,
            "order": null,
            "overflow": null,
            "overflow_x": null,
            "overflow_y": null,
            "padding": null,
            "right": null,
            "top": null,
            "visibility": null,
            "width": null
          }
        },
        "1bb5eeb123a44db6917af8e67f948f50": {
          "model_module": "@jupyter-widgets/controls",
          "model_name": "DescriptionStyleModel",
          "model_module_version": "1.5.0",
          "state": {
            "_model_module": "@jupyter-widgets/controls",
            "_model_module_version": "1.5.0",
            "_model_name": "DescriptionStyleModel",
            "_view_count": null,
            "_view_module": "@jupyter-widgets/base",
            "_view_module_version": "1.2.0",
            "_view_name": "StyleView",
            "description_width": ""
          }
        },
        "219515c62e2f44ecb028687fa0fdb339": {
          "model_module": "@jupyter-widgets/base",
          "model_name": "LayoutModel",
          "model_module_version": "1.2.0",
          "state": {
            "_model_module": "@jupyter-widgets/base",
            "_model_module_version": "1.2.0",
            "_model_name": "LayoutModel",
            "_view_count": null,
            "_view_module": "@jupyter-widgets/base",
            "_view_module_version": "1.2.0",
            "_view_name": "LayoutView",
            "align_content": null,
            "align_items": null,
            "align_self": null,
            "border": null,
            "bottom": null,
            "display": null,
            "flex": null,
            "flex_flow": null,
            "grid_area": null,
            "grid_auto_columns": null,
            "grid_auto_flow": null,
            "grid_auto_rows": null,
            "grid_column": null,
            "grid_gap": null,
            "grid_row": null,
            "grid_template_areas": null,
            "grid_template_columns": null,
            "grid_template_rows": null,
            "height": null,
            "justify_content": null,
            "justify_items": null,
            "left": null,
            "margin": null,
            "max_height": null,
            "max_width": null,
            "min_height": null,
            "min_width": null,
            "object_fit": null,
            "object_position": null,
            "order": null,
            "overflow": null,
            "overflow_x": null,
            "overflow_y": null,
            "padding": null,
            "right": null,
            "top": null,
            "visibility": null,
            "width": null
          }
        },
        "7cade5c431ef47ea8a687e7a0c1ec199": {
          "model_module": "@jupyter-widgets/controls",
          "model_name": "ProgressStyleModel",
          "model_module_version": "1.5.0",
          "state": {
            "_model_module": "@jupyter-widgets/controls",
            "_model_module_version": "1.5.0",
            "_model_name": "ProgressStyleModel",
            "_view_count": null,
            "_view_module": "@jupyter-widgets/base",
            "_view_module_version": "1.2.0",
            "_view_name": "StyleView",
            "bar_color": null,
            "description_width": ""
          }
        },
        "c0b9d8c9adc649b09a2bf9a1a48e09cd": {
          "model_module": "@jupyter-widgets/base",
          "model_name": "LayoutModel",
          "model_module_version": "1.2.0",
          "state": {
            "_model_module": "@jupyter-widgets/base",
            "_model_module_version": "1.2.0",
            "_model_name": "LayoutModel",
            "_view_count": null,
            "_view_module": "@jupyter-widgets/base",
            "_view_module_version": "1.2.0",
            "_view_name": "LayoutView",
            "align_content": null,
            "align_items": null,
            "align_self": null,
            "border": null,
            "bottom": null,
            "display": null,
            "flex": null,
            "flex_flow": null,
            "grid_area": null,
            "grid_auto_columns": null,
            "grid_auto_flow": null,
            "grid_auto_rows": null,
            "grid_column": null,
            "grid_gap": null,
            "grid_row": null,
            "grid_template_areas": null,
            "grid_template_columns": null,
            "grid_template_rows": null,
            "height": null,
            "justify_content": null,
            "justify_items": null,
            "left": null,
            "margin": null,
            "max_height": null,
            "max_width": null,
            "min_height": null,
            "min_width": null,
            "object_fit": null,
            "object_position": null,
            "order": null,
            "overflow": null,
            "overflow_x": null,
            "overflow_y": null,
            "padding": null,
            "right": null,
            "top": null,
            "visibility": null,
            "width": null
          }
        },
        "08f6a173789649519bdad76a5fd4dca7": {
          "model_module": "@jupyter-widgets/controls",
          "model_name": "DescriptionStyleModel",
          "model_module_version": "1.5.0",
          "state": {
            "_model_module": "@jupyter-widgets/controls",
            "_model_module_version": "1.5.0",
            "_model_name": "DescriptionStyleModel",
            "_view_count": null,
            "_view_module": "@jupyter-widgets/base",
            "_view_module_version": "1.2.0",
            "_view_name": "StyleView",
            "description_width": ""
          }
        },
        "b576385c599c46899106bc89422db74b": {
          "model_module": "@jupyter-widgets/controls",
          "model_name": "HBoxModel",
          "model_module_version": "1.5.0",
          "state": {
            "_dom_classes": [],
            "_model_module": "@jupyter-widgets/controls",
            "_model_module_version": "1.5.0",
            "_model_name": "HBoxModel",
            "_view_count": null,
            "_view_module": "@jupyter-widgets/controls",
            "_view_module_version": "1.5.0",
            "_view_name": "HBoxView",
            "box_style": "",
            "children": [
              "IPY_MODEL_a8ec73f4a4f9440882937fe6676c2413",
              "IPY_MODEL_78b9ef45e48345e7b0a2dee126ee688b",
              "IPY_MODEL_ecadb50c10684a0191ba280d46f4e48b"
            ],
            "layout": "IPY_MODEL_e92e650bf4854d0a89e6c8f145d6023d"
          }
        },
        "a8ec73f4a4f9440882937fe6676c2413": {
          "model_module": "@jupyter-widgets/controls",
          "model_name": "HTMLModel",
          "model_module_version": "1.5.0",
          "state": {
            "_dom_classes": [],
            "_model_module": "@jupyter-widgets/controls",
            "_model_module_version": "1.5.0",
            "_model_name": "HTMLModel",
            "_view_count": null,
            "_view_module": "@jupyter-widgets/controls",
            "_view_module_version": "1.5.0",
            "_view_name": "HTMLView",
            "description": "",
            "description_tooltip": null,
            "layout": "IPY_MODEL_98740b5464804acd8dbf8cbe9429c8a6",
            "placeholder": "​",
            "style": "IPY_MODEL_00f6439415aa4e468d1b44ba62fb0d9e",
            "value": "model.safetensors: 100%"
          }
        },
        "78b9ef45e48345e7b0a2dee126ee688b": {
          "model_module": "@jupyter-widgets/controls",
          "model_name": "FloatProgressModel",
          "model_module_version": "1.5.0",
          "state": {
            "_dom_classes": [],
            "_model_module": "@jupyter-widgets/controls",
            "_model_module_version": "1.5.0",
            "_model_name": "FloatProgressModel",
            "_view_count": null,
            "_view_module": "@jupyter-widgets/controls",
            "_view_module_version": "1.5.0",
            "_view_name": "ProgressView",
            "bar_style": "success",
            "description": "",
            "description_tooltip": null,
            "layout": "IPY_MODEL_823050715cb24ce2b7098530f63e0004",
            "max": 133466304,
            "min": 0,
            "orientation": "horizontal",
            "style": "IPY_MODEL_8465854bbcae464f8dca6c63aad577f4",
            "value": 133466304
          }
        },
        "ecadb50c10684a0191ba280d46f4e48b": {
          "model_module": "@jupyter-widgets/controls",
          "model_name": "HTMLModel",
          "model_module_version": "1.5.0",
          "state": {
            "_dom_classes": [],
            "_model_module": "@jupyter-widgets/controls",
            "_model_module_version": "1.5.0",
            "_model_name": "HTMLModel",
            "_view_count": null,
            "_view_module": "@jupyter-widgets/controls",
            "_view_module_version": "1.5.0",
            "_view_name": "HTMLView",
            "description": "",
            "description_tooltip": null,
            "layout": "IPY_MODEL_7361378519534aafbd1a4c2fe70bec80",
            "placeholder": "​",
            "style": "IPY_MODEL_37c7bd836e424962b68ac0f708748c80",
            "value": " 133M/133M [00:02&lt;00:00, 49.4MB/s]"
          }
        },
        "e92e650bf4854d0a89e6c8f145d6023d": {
          "model_module": "@jupyter-widgets/base",
          "model_name": "LayoutModel",
          "model_module_version": "1.2.0",
          "state": {
            "_model_module": "@jupyter-widgets/base",
            "_model_module_version": "1.2.0",
            "_model_name": "LayoutModel",
            "_view_count": null,
            "_view_module": "@jupyter-widgets/base",
            "_view_module_version": "1.2.0",
            "_view_name": "LayoutView",
            "align_content": null,
            "align_items": null,
            "align_self": null,
            "border": null,
            "bottom": null,
            "display": null,
            "flex": null,
            "flex_flow": null,
            "grid_area": null,
            "grid_auto_columns": null,
            "grid_auto_flow": null,
            "grid_auto_rows": null,
            "grid_column": null,
            "grid_gap": null,
            "grid_row": null,
            "grid_template_areas": null,
            "grid_template_columns": null,
            "grid_template_rows": null,
            "height": null,
            "justify_content": null,
            "justify_items": null,
            "left": null,
            "margin": null,
            "max_height": null,
            "max_width": null,
            "min_height": null,
            "min_width": null,
            "object_fit": null,
            "object_position": null,
            "order": null,
            "overflow": null,
            "overflow_x": null,
            "overflow_y": null,
            "padding": null,
            "right": null,
            "top": null,
            "visibility": null,
            "width": null
          }
        },
        "98740b5464804acd8dbf8cbe9429c8a6": {
          "model_module": "@jupyter-widgets/base",
          "model_name": "LayoutModel",
          "model_module_version": "1.2.0",
          "state": {
            "_model_module": "@jupyter-widgets/base",
            "_model_module_version": "1.2.0",
            "_model_name": "LayoutModel",
            "_view_count": null,
            "_view_module": "@jupyter-widgets/base",
            "_view_module_version": "1.2.0",
            "_view_name": "LayoutView",
            "align_content": null,
            "align_items": null,
            "align_self": null,
            "border": null,
            "bottom": null,
            "display": null,
            "flex": null,
            "flex_flow": null,
            "grid_area": null,
            "grid_auto_columns": null,
            "grid_auto_flow": null,
            "grid_auto_rows": null,
            "grid_column": null,
            "grid_gap": null,
            "grid_row": null,
            "grid_template_areas": null,
            "grid_template_columns": null,
            "grid_template_rows": null,
            "height": null,
            "justify_content": null,
            "justify_items": null,
            "left": null,
            "margin": null,
            "max_height": null,
            "max_width": null,
            "min_height": null,
            "min_width": null,
            "object_fit": null,
            "object_position": null,
            "order": null,
            "overflow": null,
            "overflow_x": null,
            "overflow_y": null,
            "padding": null,
            "right": null,
            "top": null,
            "visibility": null,
            "width": null
          }
        },
        "00f6439415aa4e468d1b44ba62fb0d9e": {
          "model_module": "@jupyter-widgets/controls",
          "model_name": "DescriptionStyleModel",
          "model_module_version": "1.5.0",
          "state": {
            "_model_module": "@jupyter-widgets/controls",
            "_model_module_version": "1.5.0",
            "_model_name": "DescriptionStyleModel",
            "_view_count": null,
            "_view_module": "@jupyter-widgets/base",
            "_view_module_version": "1.2.0",
            "_view_name": "StyleView",
            "description_width": ""
          }
        },
        "823050715cb24ce2b7098530f63e0004": {
          "model_module": "@jupyter-widgets/base",
          "model_name": "LayoutModel",
          "model_module_version": "1.2.0",
          "state": {
            "_model_module": "@jupyter-widgets/base",
            "_model_module_version": "1.2.0",
            "_model_name": "LayoutModel",
            "_view_count": null,
            "_view_module": "@jupyter-widgets/base",
            "_view_module_version": "1.2.0",
            "_view_name": "LayoutView",
            "align_content": null,
            "align_items": null,
            "align_self": null,
            "border": null,
            "bottom": null,
            "display": null,
            "flex": null,
            "flex_flow": null,
            "grid_area": null,
            "grid_auto_columns": null,
            "grid_auto_flow": null,
            "grid_auto_rows": null,
            "grid_column": null,
            "grid_gap": null,
            "grid_row": null,
            "grid_template_areas": null,
            "grid_template_columns": null,
            "grid_template_rows": null,
            "height": null,
            "justify_content": null,
            "justify_items": null,
            "left": null,
            "margin": null,
            "max_height": null,
            "max_width": null,
            "min_height": null,
            "min_width": null,
            "object_fit": null,
            "object_position": null,
            "order": null,
            "overflow": null,
            "overflow_x": null,
            "overflow_y": null,
            "padding": null,
            "right": null,
            "top": null,
            "visibility": null,
            "width": null
          }
        },
        "8465854bbcae464f8dca6c63aad577f4": {
          "model_module": "@jupyter-widgets/controls",
          "model_name": "ProgressStyleModel",
          "model_module_version": "1.5.0",
          "state": {
            "_model_module": "@jupyter-widgets/controls",
            "_model_module_version": "1.5.0",
            "_model_name": "ProgressStyleModel",
            "_view_count": null,
            "_view_module": "@jupyter-widgets/base",
            "_view_module_version": "1.2.0",
            "_view_name": "StyleView",
            "bar_color": null,
            "description_width": ""
          }
        },
        "7361378519534aafbd1a4c2fe70bec80": {
          "model_module": "@jupyter-widgets/base",
          "model_name": "LayoutModel",
          "model_module_version": "1.2.0",
          "state": {
            "_model_module": "@jupyter-widgets/base",
            "_model_module_version": "1.2.0",
            "_model_name": "LayoutModel",
            "_view_count": null,
            "_view_module": "@jupyter-widgets/base",
            "_view_module_version": "1.2.0",
            "_view_name": "LayoutView",
            "align_content": null,
            "align_items": null,
            "align_self": null,
            "border": null,
            "bottom": null,
            "display": null,
            "flex": null,
            "flex_flow": null,
            "grid_area": null,
            "grid_auto_columns": null,
            "grid_auto_flow": null,
            "grid_auto_rows": null,
            "grid_column": null,
            "grid_gap": null,
            "grid_row": null,
            "grid_template_areas": null,
            "grid_template_columns": null,
            "grid_template_rows": null,
            "height": null,
            "justify_content": null,
            "justify_items": null,
            "left": null,
            "margin": null,
            "max_height": null,
            "max_width": null,
            "min_height": null,
            "min_width": null,
            "object_fit": null,
            "object_position": null,
            "order": null,
            "overflow": null,
            "overflow_x": null,
            "overflow_y": null,
            "padding": null,
            "right": null,
            "top": null,
            "visibility": null,
            "width": null
          }
        },
        "37c7bd836e424962b68ac0f708748c80": {
          "model_module": "@jupyter-widgets/controls",
          "model_name": "DescriptionStyleModel",
          "model_module_version": "1.5.0",
          "state": {
            "_model_module": "@jupyter-widgets/controls",
            "_model_module_version": "1.5.0",
            "_model_name": "DescriptionStyleModel",
            "_view_count": null,
            "_view_module": "@jupyter-widgets/base",
            "_view_module_version": "1.2.0",
            "_view_name": "StyleView",
            "description_width": ""
          }
        },
        "78701f10ed8a4a53a41007140b4afaeb": {
          "model_module": "@jupyter-widgets/controls",
          "model_name": "HBoxModel",
          "model_module_version": "1.5.0",
          "state": {
            "_dom_classes": [],
            "_model_module": "@jupyter-widgets/controls",
            "_model_module_version": "1.5.0",
            "_model_name": "HBoxModel",
            "_view_count": null,
            "_view_module": "@jupyter-widgets/controls",
            "_view_module_version": "1.5.0",
            "_view_name": "HBoxView",
            "box_style": "",
            "children": [
              "IPY_MODEL_38be6d74d9a14eb7802ed98f25327354",
              "IPY_MODEL_98aa99b1488640b5be7dc92d32b8cc12",
              "IPY_MODEL_7a594e569f3b41838fe04f5d7e85c928"
            ],
            "layout": "IPY_MODEL_4dfbd68c372640388f72657402399f41"
          }
        },
        "38be6d74d9a14eb7802ed98f25327354": {
          "model_module": "@jupyter-widgets/controls",
          "model_name": "HTMLModel",
          "model_module_version": "1.5.0",
          "state": {
            "_dom_classes": [],
            "_model_module": "@jupyter-widgets/controls",
            "_model_module_version": "1.5.0",
            "_model_name": "HTMLModel",
            "_view_count": null,
            "_view_module": "@jupyter-widgets/controls",
            "_view_module_version": "1.5.0",
            "_view_name": "HTMLView",
            "description": "",
            "description_tooltip": null,
            "layout": "IPY_MODEL_04a36b23a2ce454c9810c89017dbfbb6",
            "placeholder": "​",
            "style": "IPY_MODEL_e3cd825ae01e498c923fbdcd63f2037f",
            "value": "tokenizer_config.json: 100%"
          }
        },
        "98aa99b1488640b5be7dc92d32b8cc12": {
          "model_module": "@jupyter-widgets/controls",
          "model_name": "FloatProgressModel",
          "model_module_version": "1.5.0",
          "state": {
            "_dom_classes": [],
            "_model_module": "@jupyter-widgets/controls",
            "_model_module_version": "1.5.0",
            "_model_name": "FloatProgressModel",
            "_view_count": null,
            "_view_module": "@jupyter-widgets/controls",
            "_view_module_version": "1.5.0",
            "_view_name": "ProgressView",
            "bar_style": "success",
            "description": "",
            "description_tooltip": null,
            "layout": "IPY_MODEL_f0a3502046574dc9a4875851acf06bfb",
            "max": 316,
            "min": 0,
            "orientation": "horizontal",
            "style": "IPY_MODEL_d5a2891385a24b088378cc5b66a90f74",
            "value": 316
          }
        },
        "7a594e569f3b41838fe04f5d7e85c928": {
          "model_module": "@jupyter-widgets/controls",
          "model_name": "HTMLModel",
          "model_module_version": "1.5.0",
          "state": {
            "_dom_classes": [],
            "_model_module": "@jupyter-widgets/controls",
            "_model_module_version": "1.5.0",
            "_model_name": "HTMLModel",
            "_view_count": null,
            "_view_module": "@jupyter-widgets/controls",
            "_view_module_version": "1.5.0",
            "_view_name": "HTMLView",
            "description": "",
            "description_tooltip": null,
            "layout": "IPY_MODEL_5cae75bb25b24a8bbc763bedbb0743dc",
            "placeholder": "​",
            "style": "IPY_MODEL_8e7a5931215d45638e33b106cf3ad653",
            "value": " 316/316 [00:00&lt;00:00, 41.5kB/s]"
          }
        },
        "4dfbd68c372640388f72657402399f41": {
          "model_module": "@jupyter-widgets/base",
          "model_name": "LayoutModel",
          "model_module_version": "1.2.0",
          "state": {
            "_model_module": "@jupyter-widgets/base",
            "_model_module_version": "1.2.0",
            "_model_name": "LayoutModel",
            "_view_count": null,
            "_view_module": "@jupyter-widgets/base",
            "_view_module_version": "1.2.0",
            "_view_name": "LayoutView",
            "align_content": null,
            "align_items": null,
            "align_self": null,
            "border": null,
            "bottom": null,
            "display": null,
            "flex": null,
            "flex_flow": null,
            "grid_area": null,
            "grid_auto_columns": null,
            "grid_auto_flow": null,
            "grid_auto_rows": null,
            "grid_column": null,
            "grid_gap": null,
            "grid_row": null,
            "grid_template_areas": null,
            "grid_template_columns": null,
            "grid_template_rows": null,
            "height": null,
            "justify_content": null,
            "justify_items": null,
            "left": null,
            "margin": null,
            "max_height": null,
            "max_width": null,
            "min_height": null,
            "min_width": null,
            "object_fit": null,
            "object_position": null,
            "order": null,
            "overflow": null,
            "overflow_x": null,
            "overflow_y": null,
            "padding": null,
            "right": null,
            "top": null,
            "visibility": null,
            "width": null
          }
        },
        "04a36b23a2ce454c9810c89017dbfbb6": {
          "model_module": "@jupyter-widgets/base",
          "model_name": "LayoutModel",
          "model_module_version": "1.2.0",
          "state": {
            "_model_module": "@jupyter-widgets/base",
            "_model_module_version": "1.2.0",
            "_model_name": "LayoutModel",
            "_view_count": null,
            "_view_module": "@jupyter-widgets/base",
            "_view_module_version": "1.2.0",
            "_view_name": "LayoutView",
            "align_content": null,
            "align_items": null,
            "align_self": null,
            "border": null,
            "bottom": null,
            "display": null,
            "flex": null,
            "flex_flow": null,
            "grid_area": null,
            "grid_auto_columns": null,
            "grid_auto_flow": null,
            "grid_auto_rows": null,
            "grid_column": null,
            "grid_gap": null,
            "grid_row": null,
            "grid_template_areas": null,
            "grid_template_columns": null,
            "grid_template_rows": null,
            "height": null,
            "justify_content": null,
            "justify_items": null,
            "left": null,
            "margin": null,
            "max_height": null,
            "max_width": null,
            "min_height": null,
            "min_width": null,
            "object_fit": null,
            "object_position": null,
            "order": null,
            "overflow": null,
            "overflow_x": null,
            "overflow_y": null,
            "padding": null,
            "right": null,
            "top": null,
            "visibility": null,
            "width": null
          }
        },
        "e3cd825ae01e498c923fbdcd63f2037f": {
          "model_module": "@jupyter-widgets/controls",
          "model_name": "DescriptionStyleModel",
          "model_module_version": "1.5.0",
          "state": {
            "_model_module": "@jupyter-widgets/controls",
            "_model_module_version": "1.5.0",
            "_model_name": "DescriptionStyleModel",
            "_view_count": null,
            "_view_module": "@jupyter-widgets/base",
            "_view_module_version": "1.2.0",
            "_view_name": "StyleView",
            "description_width": ""
          }
        },
        "f0a3502046574dc9a4875851acf06bfb": {
          "model_module": "@jupyter-widgets/base",
          "model_name": "LayoutModel",
          "model_module_version": "1.2.0",
          "state": {
            "_model_module": "@jupyter-widgets/base",
            "_model_module_version": "1.2.0",
            "_model_name": "LayoutModel",
            "_view_count": null,
            "_view_module": "@jupyter-widgets/base",
            "_view_module_version": "1.2.0",
            "_view_name": "LayoutView",
            "align_content": null,
            "align_items": null,
            "align_self": null,
            "border": null,
            "bottom": null,
            "display": null,
            "flex": null,
            "flex_flow": null,
            "grid_area": null,
            "grid_auto_columns": null,
            "grid_auto_flow": null,
            "grid_auto_rows": null,
            "grid_column": null,
            "grid_gap": null,
            "grid_row": null,
            "grid_template_areas": null,
            "grid_template_columns": null,
            "grid_template_rows": null,
            "height": null,
            "justify_content": null,
            "justify_items": null,
            "left": null,
            "margin": null,
            "max_height": null,
            "max_width": null,
            "min_height": null,
            "min_width": null,
            "object_fit": null,
            "object_position": null,
            "order": null,
            "overflow": null,
            "overflow_x": null,
            "overflow_y": null,
            "padding": null,
            "right": null,
            "top": null,
            "visibility": null,
            "width": null
          }
        },
        "d5a2891385a24b088378cc5b66a90f74": {
          "model_module": "@jupyter-widgets/controls",
          "model_name": "ProgressStyleModel",
          "model_module_version": "1.5.0",
          "state": {
            "_model_module": "@jupyter-widgets/controls",
            "_model_module_version": "1.5.0",
            "_model_name": "ProgressStyleModel",
            "_view_count": null,
            "_view_module": "@jupyter-widgets/base",
            "_view_module_version": "1.2.0",
            "_view_name": "StyleView",
            "bar_color": null,
            "description_width": ""
          }
        },
        "5cae75bb25b24a8bbc763bedbb0743dc": {
          "model_module": "@jupyter-widgets/base",
          "model_name": "LayoutModel",
          "model_module_version": "1.2.0",
          "state": {
            "_model_module": "@jupyter-widgets/base",
            "_model_module_version": "1.2.0",
            "_model_name": "LayoutModel",
            "_view_count": null,
            "_view_module": "@jupyter-widgets/base",
            "_view_module_version": "1.2.0",
            "_view_name": "LayoutView",
            "align_content": null,
            "align_items": null,
            "align_self": null,
            "border": null,
            "bottom": null,
            "display": null,
            "flex": null,
            "flex_flow": null,
            "grid_area": null,
            "grid_auto_columns": null,
            "grid_auto_flow": null,
            "grid_auto_rows": null,
            "grid_column": null,
            "grid_gap": null,
            "grid_row": null,
            "grid_template_areas": null,
            "grid_template_columns": null,
            "grid_template_rows": null,
            "height": null,
            "justify_content": null,
            "justify_items": null,
            "left": null,
            "margin": null,
            "max_height": null,
            "max_width": null,
            "min_height": null,
            "min_width": null,
            "object_fit": null,
            "object_position": null,
            "order": null,
            "overflow": null,
            "overflow_x": null,
            "overflow_y": null,
            "padding": null,
            "right": null,
            "top": null,
            "visibility": null,
            "width": null
          }
        },
        "8e7a5931215d45638e33b106cf3ad653": {
          "model_module": "@jupyter-widgets/controls",
          "model_name": "DescriptionStyleModel",
          "model_module_version": "1.5.0",
          "state": {
            "_model_module": "@jupyter-widgets/controls",
            "_model_module_version": "1.5.0",
            "_model_name": "DescriptionStyleModel",
            "_view_count": null,
            "_view_module": "@jupyter-widgets/base",
            "_view_module_version": "1.2.0",
            "_view_name": "StyleView",
            "description_width": ""
          }
        },
        "8eb69dbc021040caa8d58328a1d35e0d": {
          "model_module": "@jupyter-widgets/controls",
          "model_name": "HBoxModel",
          "model_module_version": "1.5.0",
          "state": {
            "_dom_classes": [],
            "_model_module": "@jupyter-widgets/controls",
            "_model_module_version": "1.5.0",
            "_model_name": "HBoxModel",
            "_view_count": null,
            "_view_module": "@jupyter-widgets/controls",
            "_view_module_version": "1.5.0",
            "_view_name": "HBoxView",
            "box_style": "",
            "children": [
              "IPY_MODEL_296d2d28ce24489692a72b0f0cd3be11",
              "IPY_MODEL_bde296f578c84a36a4b73c873fe77a06",
              "IPY_MODEL_5ef0cc96b9314357b0a587f6e084f501"
            ],
            "layout": "IPY_MODEL_29d96f5586e5475ca2904e4e5de474a0"
          }
        },
        "296d2d28ce24489692a72b0f0cd3be11": {
          "model_module": "@jupyter-widgets/controls",
          "model_name": "HTMLModel",
          "model_module_version": "1.5.0",
          "state": {
            "_dom_classes": [],
            "_model_module": "@jupyter-widgets/controls",
            "_model_module_version": "1.5.0",
            "_model_name": "HTMLModel",
            "_view_count": null,
            "_view_module": "@jupyter-widgets/controls",
            "_view_module_version": "1.5.0",
            "_view_name": "HTMLView",
            "description": "",
            "description_tooltip": null,
            "layout": "IPY_MODEL_22c48ba33b894f93a52b5c55e7b353d3",
            "placeholder": "​",
            "style": "IPY_MODEL_006dc2c439d0424d982f890b9f763543",
            "value": "vocab.txt: 100%"
          }
        },
        "bde296f578c84a36a4b73c873fe77a06": {
          "model_module": "@jupyter-widgets/controls",
          "model_name": "FloatProgressModel",
          "model_module_version": "1.5.0",
          "state": {
            "_dom_classes": [],
            "_model_module": "@jupyter-widgets/controls",
            "_model_module_version": "1.5.0",
            "_model_name": "FloatProgressModel",
            "_view_count": null,
            "_view_module": "@jupyter-widgets/controls",
            "_view_module_version": "1.5.0",
            "_view_name": "ProgressView",
            "bar_style": "success",
            "description": "",
            "description_tooltip": null,
            "layout": "IPY_MODEL_da3a1a5e52794b389fe310619ad2b379",
            "max": 231508,
            "min": 0,
            "orientation": "horizontal",
            "style": "IPY_MODEL_a9320b571d53456fbec2e2e795d4db5e",
            "value": 231508
          }
        },
        "5ef0cc96b9314357b0a587f6e084f501": {
          "model_module": "@jupyter-widgets/controls",
          "model_name": "HTMLModel",
          "model_module_version": "1.5.0",
          "state": {
            "_dom_classes": [],
            "_model_module": "@jupyter-widgets/controls",
            "_model_module_version": "1.5.0",
            "_model_name": "HTMLModel",
            "_view_count": null,
            "_view_module": "@jupyter-widgets/controls",
            "_view_module_version": "1.5.0",
            "_view_name": "HTMLView",
            "description": "",
            "description_tooltip": null,
            "layout": "IPY_MODEL_538c577edf9d439ebb6375a0fcbd3a3a",
            "placeholder": "​",
            "style": "IPY_MODEL_8d4db0047ccb400e8a96b24f85a6c5c3",
            "value": " 232k/232k [00:00&lt;00:00, 4.62MB/s]"
          }
        },
        "29d96f5586e5475ca2904e4e5de474a0": {
          "model_module": "@jupyter-widgets/base",
          "model_name": "LayoutModel",
          "model_module_version": "1.2.0",
          "state": {
            "_model_module": "@jupyter-widgets/base",
            "_model_module_version": "1.2.0",
            "_model_name": "LayoutModel",
            "_view_count": null,
            "_view_module": "@jupyter-widgets/base",
            "_view_module_version": "1.2.0",
            "_view_name": "LayoutView",
            "align_content": null,
            "align_items": null,
            "align_self": null,
            "border": null,
            "bottom": null,
            "display": null,
            "flex": null,
            "flex_flow": null,
            "grid_area": null,
            "grid_auto_columns": null,
            "grid_auto_flow": null,
            "grid_auto_rows": null,
            "grid_column": null,
            "grid_gap": null,
            "grid_row": null,
            "grid_template_areas": null,
            "grid_template_columns": null,
            "grid_template_rows": null,
            "height": null,
            "justify_content": null,
            "justify_items": null,
            "left": null,
            "margin": null,
            "max_height": null,
            "max_width": null,
            "min_height": null,
            "min_width": null,
            "object_fit": null,
            "object_position": null,
            "order": null,
            "overflow": null,
            "overflow_x": null,
            "overflow_y": null,
            "padding": null,
            "right": null,
            "top": null,
            "visibility": null,
            "width": null
          }
        },
        "22c48ba33b894f93a52b5c55e7b353d3": {
          "model_module": "@jupyter-widgets/base",
          "model_name": "LayoutModel",
          "model_module_version": "1.2.0",
          "state": {
            "_model_module": "@jupyter-widgets/base",
            "_model_module_version": "1.2.0",
            "_model_name": "LayoutModel",
            "_view_count": null,
            "_view_module": "@jupyter-widgets/base",
            "_view_module_version": "1.2.0",
            "_view_name": "LayoutView",
            "align_content": null,
            "align_items": null,
            "align_self": null,
            "border": null,
            "bottom": null,
            "display": null,
            "flex": null,
            "flex_flow": null,
            "grid_area": null,
            "grid_auto_columns": null,
            "grid_auto_flow": null,
            "grid_auto_rows": null,
            "grid_column": null,
            "grid_gap": null,
            "grid_row": null,
            "grid_template_areas": null,
            "grid_template_columns": null,
            "grid_template_rows": null,
            "height": null,
            "justify_content": null,
            "justify_items": null,
            "left": null,
            "margin": null,
            "max_height": null,
            "max_width": null,
            "min_height": null,
            "min_width": null,
            "object_fit": null,
            "object_position": null,
            "order": null,
            "overflow": null,
            "overflow_x": null,
            "overflow_y": null,
            "padding": null,
            "right": null,
            "top": null,
            "visibility": null,
            "width": null
          }
        },
        "006dc2c439d0424d982f890b9f763543": {
          "model_module": "@jupyter-widgets/controls",
          "model_name": "DescriptionStyleModel",
          "model_module_version": "1.5.0",
          "state": {
            "_model_module": "@jupyter-widgets/controls",
            "_model_module_version": "1.5.0",
            "_model_name": "DescriptionStyleModel",
            "_view_count": null,
            "_view_module": "@jupyter-widgets/base",
            "_view_module_version": "1.2.0",
            "_view_name": "StyleView",
            "description_width": ""
          }
        },
        "da3a1a5e52794b389fe310619ad2b379": {
          "model_module": "@jupyter-widgets/base",
          "model_name": "LayoutModel",
          "model_module_version": "1.2.0",
          "state": {
            "_model_module": "@jupyter-widgets/base",
            "_model_module_version": "1.2.0",
            "_model_name": "LayoutModel",
            "_view_count": null,
            "_view_module": "@jupyter-widgets/base",
            "_view_module_version": "1.2.0",
            "_view_name": "LayoutView",
            "align_content": null,
            "align_items": null,
            "align_self": null,
            "border": null,
            "bottom": null,
            "display": null,
            "flex": null,
            "flex_flow": null,
            "grid_area": null,
            "grid_auto_columns": null,
            "grid_auto_flow": null,
            "grid_auto_rows": null,
            "grid_column": null,
            "grid_gap": null,
            "grid_row": null,
            "grid_template_areas": null,
            "grid_template_columns": null,
            "grid_template_rows": null,
            "height": null,
            "justify_content": null,
            "justify_items": null,
            "left": null,
            "margin": null,
            "max_height": null,
            "max_width": null,
            "min_height": null,
            "min_width": null,
            "object_fit": null,
            "object_position": null,
            "order": null,
            "overflow": null,
            "overflow_x": null,
            "overflow_y": null,
            "padding": null,
            "right": null,
            "top": null,
            "visibility": null,
            "width": null
          }
        },
        "a9320b571d53456fbec2e2e795d4db5e": {
          "model_module": "@jupyter-widgets/controls",
          "model_name": "ProgressStyleModel",
          "model_module_version": "1.5.0",
          "state": {
            "_model_module": "@jupyter-widgets/controls",
            "_model_module_version": "1.5.0",
            "_model_name": "ProgressStyleModel",
            "_view_count": null,
            "_view_module": "@jupyter-widgets/base",
            "_view_module_version": "1.2.0",
            "_view_name": "StyleView",
            "bar_color": null,
            "description_width": ""
          }
        },
        "538c577edf9d439ebb6375a0fcbd3a3a": {
          "model_module": "@jupyter-widgets/base",
          "model_name": "LayoutModel",
          "model_module_version": "1.2.0",
          "state": {
            "_model_module": "@jupyter-widgets/base",
            "_model_module_version": "1.2.0",
            "_model_name": "LayoutModel",
            "_view_count": null,
            "_view_module": "@jupyter-widgets/base",
            "_view_module_version": "1.2.0",
            "_view_name": "LayoutView",
            "align_content": null,
            "align_items": null,
            "align_self": null,
            "border": null,
            "bottom": null,
            "display": null,
            "flex": null,
            "flex_flow": null,
            "grid_area": null,
            "grid_auto_columns": null,
            "grid_auto_flow": null,
            "grid_auto_rows": null,
            "grid_column": null,
            "grid_gap": null,
            "grid_row": null,
            "grid_template_areas": null,
            "grid_template_columns": null,
            "grid_template_rows": null,
            "height": null,
            "justify_content": null,
            "justify_items": null,
            "left": null,
            "margin": null,
            "max_height": null,
            "max_width": null,
            "min_height": null,
            "min_width": null,
            "object_fit": null,
            "object_position": null,
            "order": null,
            "overflow": null,
            "overflow_x": null,
            "overflow_y": null,
            "padding": null,
            "right": null,
            "top": null,
            "visibility": null,
            "width": null
          }
        },
        "8d4db0047ccb400e8a96b24f85a6c5c3": {
          "model_module": "@jupyter-widgets/controls",
          "model_name": "DescriptionStyleModel",
          "model_module_version": "1.5.0",
          "state": {
            "_model_module": "@jupyter-widgets/controls",
            "_model_module_version": "1.5.0",
            "_model_name": "DescriptionStyleModel",
            "_view_count": null,
            "_view_module": "@jupyter-widgets/base",
            "_view_module_version": "1.2.0",
            "_view_name": "StyleView",
            "description_width": ""
          }
        },
        "93415568d5794912aa22c07f9420b546": {
          "model_module": "@jupyter-widgets/controls",
          "model_name": "HBoxModel",
          "model_module_version": "1.5.0",
          "state": {
            "_dom_classes": [],
            "_model_module": "@jupyter-widgets/controls",
            "_model_module_version": "1.5.0",
            "_model_name": "HBoxModel",
            "_view_count": null,
            "_view_module": "@jupyter-widgets/controls",
            "_view_module_version": "1.5.0",
            "_view_name": "HBoxView",
            "box_style": "",
            "children": [
              "IPY_MODEL_73b7aa2aa66c4bc3bc707f381ef6ab5b",
              "IPY_MODEL_781b9dd08d8e45baad71ecc23e48dd17",
              "IPY_MODEL_f2fcdf690cff444d9ec090d93e867b70"
            ],
            "layout": "IPY_MODEL_242e9bd39da84355a4e39d5212ba1166"
          }
        },
        "73b7aa2aa66c4bc3bc707f381ef6ab5b": {
          "model_module": "@jupyter-widgets/controls",
          "model_name": "HTMLModel",
          "model_module_version": "1.5.0",
          "state": {
            "_dom_classes": [],
            "_model_module": "@jupyter-widgets/controls",
            "_model_module_version": "1.5.0",
            "_model_name": "HTMLModel",
            "_view_count": null,
            "_view_module": "@jupyter-widgets/controls",
            "_view_module_version": "1.5.0",
            "_view_name": "HTMLView",
            "description": "",
            "description_tooltip": null,
            "layout": "IPY_MODEL_c2aa2e07df4841c3817cb4502c3f1685",
            "placeholder": "​",
            "style": "IPY_MODEL_484b8904d8204c8bae68007735474f37",
            "value": "tokenizer.json: 100%"
          }
        },
        "781b9dd08d8e45baad71ecc23e48dd17": {
          "model_module": "@jupyter-widgets/controls",
          "model_name": "FloatProgressModel",
          "model_module_version": "1.5.0",
          "state": {
            "_dom_classes": [],
            "_model_module": "@jupyter-widgets/controls",
            "_model_module_version": "1.5.0",
            "_model_name": "FloatProgressModel",
            "_view_count": null,
            "_view_module": "@jupyter-widgets/controls",
            "_view_module_version": "1.5.0",
            "_view_name": "ProgressView",
            "bar_style": "success",
            "description": "",
            "description_tooltip": null,
            "layout": "IPY_MODEL_6d39f38bed6846269fac02cc5cd0d209",
            "max": 466081,
            "min": 0,
            "orientation": "horizontal",
            "style": "IPY_MODEL_7ca3f8724e3e487cb3796b371ee977af",
            "value": 466081
          }
        },
        "f2fcdf690cff444d9ec090d93e867b70": {
          "model_module": "@jupyter-widgets/controls",
          "model_name": "HTMLModel",
          "model_module_version": "1.5.0",
          "state": {
            "_dom_classes": [],
            "_model_module": "@jupyter-widgets/controls",
            "_model_module_version": "1.5.0",
            "_model_name": "HTMLModel",
            "_view_count": null,
            "_view_module": "@jupyter-widgets/controls",
            "_view_module_version": "1.5.0",
            "_view_name": "HTMLView",
            "description": "",
            "description_tooltip": null,
            "layout": "IPY_MODEL_034268e6efa14abbafb80d7fa9b26efe",
            "placeholder": "​",
            "style": "IPY_MODEL_a05a5b184c004d9b9b6bbcf16419c438",
            "value": " 466k/466k [00:00&lt;00:00, 14.0MB/s]"
          }
        },
        "242e9bd39da84355a4e39d5212ba1166": {
          "model_module": "@jupyter-widgets/base",
          "model_name": "LayoutModel",
          "model_module_version": "1.2.0",
          "state": {
            "_model_module": "@jupyter-widgets/base",
            "_model_module_version": "1.2.0",
            "_model_name": "LayoutModel",
            "_view_count": null,
            "_view_module": "@jupyter-widgets/base",
            "_view_module_version": "1.2.0",
            "_view_name": "LayoutView",
            "align_content": null,
            "align_items": null,
            "align_self": null,
            "border": null,
            "bottom": null,
            "display": null,
            "flex": null,
            "flex_flow": null,
            "grid_area": null,
            "grid_auto_columns": null,
            "grid_auto_flow": null,
            "grid_auto_rows": null,
            "grid_column": null,
            "grid_gap": null,
            "grid_row": null,
            "grid_template_areas": null,
            "grid_template_columns": null,
            "grid_template_rows": null,
            "height": null,
            "justify_content": null,
            "justify_items": null,
            "left": null,
            "margin": null,
            "max_height": null,
            "max_width": null,
            "min_height": null,
            "min_width": null,
            "object_fit": null,
            "object_position": null,
            "order": null,
            "overflow": null,
            "overflow_x": null,
            "overflow_y": null,
            "padding": null,
            "right": null,
            "top": null,
            "visibility": null,
            "width": null
          }
        },
        "c2aa2e07df4841c3817cb4502c3f1685": {
          "model_module": "@jupyter-widgets/base",
          "model_name": "LayoutModel",
          "model_module_version": "1.2.0",
          "state": {
            "_model_module": "@jupyter-widgets/base",
            "_model_module_version": "1.2.0",
            "_model_name": "LayoutModel",
            "_view_count": null,
            "_view_module": "@jupyter-widgets/base",
            "_view_module_version": "1.2.0",
            "_view_name": "LayoutView",
            "align_content": null,
            "align_items": null,
            "align_self": null,
            "border": null,
            "bottom": null,
            "display": null,
            "flex": null,
            "flex_flow": null,
            "grid_area": null,
            "grid_auto_columns": null,
            "grid_auto_flow": null,
            "grid_auto_rows": null,
            "grid_column": null,
            "grid_gap": null,
            "grid_row": null,
            "grid_template_areas": null,
            "grid_template_columns": null,
            "grid_template_rows": null,
            "height": null,
            "justify_content": null,
            "justify_items": null,
            "left": null,
            "margin": null,
            "max_height": null,
            "max_width": null,
            "min_height": null,
            "min_width": null,
            "object_fit": null,
            "object_position": null,
            "order": null,
            "overflow": null,
            "overflow_x": null,
            "overflow_y": null,
            "padding": null,
            "right": null,
            "top": null,
            "visibility": null,
            "width": null
          }
        },
        "484b8904d8204c8bae68007735474f37": {
          "model_module": "@jupyter-widgets/controls",
          "model_name": "DescriptionStyleModel",
          "model_module_version": "1.5.0",
          "state": {
            "_model_module": "@jupyter-widgets/controls",
            "_model_module_version": "1.5.0",
            "_model_name": "DescriptionStyleModel",
            "_view_count": null,
            "_view_module": "@jupyter-widgets/base",
            "_view_module_version": "1.2.0",
            "_view_name": "StyleView",
            "description_width": ""
          }
        },
        "6d39f38bed6846269fac02cc5cd0d209": {
          "model_module": "@jupyter-widgets/base",
          "model_name": "LayoutModel",
          "model_module_version": "1.2.0",
          "state": {
            "_model_module": "@jupyter-widgets/base",
            "_model_module_version": "1.2.0",
            "_model_name": "LayoutModel",
            "_view_count": null,
            "_view_module": "@jupyter-widgets/base",
            "_view_module_version": "1.2.0",
            "_view_name": "LayoutView",
            "align_content": null,
            "align_items": null,
            "align_self": null,
            "border": null,
            "bottom": null,
            "display": null,
            "flex": null,
            "flex_flow": null,
            "grid_area": null,
            "grid_auto_columns": null,
            "grid_auto_flow": null,
            "grid_auto_rows": null,
            "grid_column": null,
            "grid_gap": null,
            "grid_row": null,
            "grid_template_areas": null,
            "grid_template_columns": null,
            "grid_template_rows": null,
            "height": null,
            "justify_content": null,
            "justify_items": null,
            "left": null,
            "margin": null,
            "max_height": null,
            "max_width": null,
            "min_height": null,
            "min_width": null,
            "object_fit": null,
            "object_position": null,
            "order": null,
            "overflow": null,
            "overflow_x": null,
            "overflow_y": null,
            "padding": null,
            "right": null,
            "top": null,
            "visibility": null,
            "width": null
          }
        },
        "7ca3f8724e3e487cb3796b371ee977af": {
          "model_module": "@jupyter-widgets/controls",
          "model_name": "ProgressStyleModel",
          "model_module_version": "1.5.0",
          "state": {
            "_model_module": "@jupyter-widgets/controls",
            "_model_module_version": "1.5.0",
            "_model_name": "ProgressStyleModel",
            "_view_count": null,
            "_view_module": "@jupyter-widgets/base",
            "_view_module_version": "1.2.0",
            "_view_name": "StyleView",
            "bar_color": null,
            "description_width": ""
          }
        },
        "034268e6efa14abbafb80d7fa9b26efe": {
          "model_module": "@jupyter-widgets/base",
          "model_name": "LayoutModel",
          "model_module_version": "1.2.0",
          "state": {
            "_model_module": "@jupyter-widgets/base",
            "_model_module_version": "1.2.0",
            "_model_name": "LayoutModel",
            "_view_count": null,
            "_view_module": "@jupyter-widgets/base",
            "_view_module_version": "1.2.0",
            "_view_name": "LayoutView",
            "align_content": null,
            "align_items": null,
            "align_self": null,
            "border": null,
            "bottom": null,
            "display": null,
            "flex": null,
            "flex_flow": null,
            "grid_area": null,
            "grid_auto_columns": null,
            "grid_auto_flow": null,
            "grid_auto_rows": null,
            "grid_column": null,
            "grid_gap": null,
            "grid_row": null,
            "grid_template_areas": null,
            "grid_template_columns": null,
            "grid_template_rows": null,
            "height": null,
            "justify_content": null,
            "justify_items": null,
            "left": null,
            "margin": null,
            "max_height": null,
            "max_width": null,
            "min_height": null,
            "min_width": null,
            "object_fit": null,
            "object_position": null,
            "order": null,
            "overflow": null,
            "overflow_x": null,
            "overflow_y": null,
            "padding": null,
            "right": null,
            "top": null,
            "visibility": null,
            "width": null
          }
        },
        "a05a5b184c004d9b9b6bbcf16419c438": {
          "model_module": "@jupyter-widgets/controls",
          "model_name": "DescriptionStyleModel",
          "model_module_version": "1.5.0",
          "state": {
            "_model_module": "@jupyter-widgets/controls",
            "_model_module_version": "1.5.0",
            "_model_name": "DescriptionStyleModel",
            "_view_count": null,
            "_view_module": "@jupyter-widgets/base",
            "_view_module_version": "1.2.0",
            "_view_name": "StyleView",
            "description_width": ""
          }
        },
        "600cd94469f340318c3f2de1be2c2637": {
          "model_module": "@jupyter-widgets/controls",
          "model_name": "HBoxModel",
          "model_module_version": "1.5.0",
          "state": {
            "_dom_classes": [],
            "_model_module": "@jupyter-widgets/controls",
            "_model_module_version": "1.5.0",
            "_model_name": "HBoxModel",
            "_view_count": null,
            "_view_module": "@jupyter-widgets/controls",
            "_view_module_version": "1.5.0",
            "_view_name": "HBoxView",
            "box_style": "",
            "children": [
              "IPY_MODEL_3840a9cc686f4402a062e1e05984adb7",
              "IPY_MODEL_581691eede194f41bbc2e1e3238ee95e",
              "IPY_MODEL_18de8cbc4f1446278e48ed468c46702c"
            ],
            "layout": "IPY_MODEL_c6e8b6fde3f94af5a9bf79462e7e5e2b"
          }
        },
        "3840a9cc686f4402a062e1e05984adb7": {
          "model_module": "@jupyter-widgets/controls",
          "model_name": "HTMLModel",
          "model_module_version": "1.5.0",
          "state": {
            "_dom_classes": [],
            "_model_module": "@jupyter-widgets/controls",
            "_model_module_version": "1.5.0",
            "_model_name": "HTMLModel",
            "_view_count": null,
            "_view_module": "@jupyter-widgets/controls",
            "_view_module_version": "1.5.0",
            "_view_name": "HTMLView",
            "description": "",
            "description_tooltip": null,
            "layout": "IPY_MODEL_0a433b62446f4a5ba646f263ac41eef9",
            "placeholder": "​",
            "style": "IPY_MODEL_34233d11a5c64692a4542ee4e826438f",
            "value": "special_tokens_map.json: 100%"
          }
        },
        "581691eede194f41bbc2e1e3238ee95e": {
          "model_module": "@jupyter-widgets/controls",
          "model_name": "FloatProgressModel",
          "model_module_version": "1.5.0",
          "state": {
            "_dom_classes": [],
            "_model_module": "@jupyter-widgets/controls",
            "_model_module_version": "1.5.0",
            "_model_name": "FloatProgressModel",
            "_view_count": null,
            "_view_module": "@jupyter-widgets/controls",
            "_view_module_version": "1.5.0",
            "_view_name": "ProgressView",
            "bar_style": "success",
            "description": "",
            "description_tooltip": null,
            "layout": "IPY_MODEL_755630721e6d43368482cdbfc250d75b",
            "max": 112,
            "min": 0,
            "orientation": "horizontal",
            "style": "IPY_MODEL_165b9db2ad62443fb09b8d7b2099bd27",
            "value": 112
          }
        },
        "18de8cbc4f1446278e48ed468c46702c": {
          "model_module": "@jupyter-widgets/controls",
          "model_name": "HTMLModel",
          "model_module_version": "1.5.0",
          "state": {
            "_dom_classes": [],
            "_model_module": "@jupyter-widgets/controls",
            "_model_module_version": "1.5.0",
            "_model_name": "HTMLModel",
            "_view_count": null,
            "_view_module": "@jupyter-widgets/controls",
            "_view_module_version": "1.5.0",
            "_view_name": "HTMLView",
            "description": "",
            "description_tooltip": null,
            "layout": "IPY_MODEL_04842f1f8314450e8726d815ffab23d0",
            "placeholder": "​",
            "style": "IPY_MODEL_bba68993661549888f761c51ada1b9ee",
            "value": " 112/112 [00:00&lt;00:00, 13.9kB/s]"
          }
        },
        "c6e8b6fde3f94af5a9bf79462e7e5e2b": {
          "model_module": "@jupyter-widgets/base",
          "model_name": "LayoutModel",
          "model_module_version": "1.2.0",
          "state": {
            "_model_module": "@jupyter-widgets/base",
            "_model_module_version": "1.2.0",
            "_model_name": "LayoutModel",
            "_view_count": null,
            "_view_module": "@jupyter-widgets/base",
            "_view_module_version": "1.2.0",
            "_view_name": "LayoutView",
            "align_content": null,
            "align_items": null,
            "align_self": null,
            "border": null,
            "bottom": null,
            "display": null,
            "flex": null,
            "flex_flow": null,
            "grid_area": null,
            "grid_auto_columns": null,
            "grid_auto_flow": null,
            "grid_auto_rows": null,
            "grid_column": null,
            "grid_gap": null,
            "grid_row": null,
            "grid_template_areas": null,
            "grid_template_columns": null,
            "grid_template_rows": null,
            "height": null,
            "justify_content": null,
            "justify_items": null,
            "left": null,
            "margin": null,
            "max_height": null,
            "max_width": null,
            "min_height": null,
            "min_width": null,
            "object_fit": null,
            "object_position": null,
            "order": null,
            "overflow": null,
            "overflow_x": null,
            "overflow_y": null,
            "padding": null,
            "right": null,
            "top": null,
            "visibility": null,
            "width": null
          }
        },
        "0a433b62446f4a5ba646f263ac41eef9": {
          "model_module": "@jupyter-widgets/base",
          "model_name": "LayoutModel",
          "model_module_version": "1.2.0",
          "state": {
            "_model_module": "@jupyter-widgets/base",
            "_model_module_version": "1.2.0",
            "_model_name": "LayoutModel",
            "_view_count": null,
            "_view_module": "@jupyter-widgets/base",
            "_view_module_version": "1.2.0",
            "_view_name": "LayoutView",
            "align_content": null,
            "align_items": null,
            "align_self": null,
            "border": null,
            "bottom": null,
            "display": null,
            "flex": null,
            "flex_flow": null,
            "grid_area": null,
            "grid_auto_columns": null,
            "grid_auto_flow": null,
            "grid_auto_rows": null,
            "grid_column": null,
            "grid_gap": null,
            "grid_row": null,
            "grid_template_areas": null,
            "grid_template_columns": null,
            "grid_template_rows": null,
            "height": null,
            "justify_content": null,
            "justify_items": null,
            "left": null,
            "margin": null,
            "max_height": null,
            "max_width": null,
            "min_height": null,
            "min_width": null,
            "object_fit": null,
            "object_position": null,
            "order": null,
            "overflow": null,
            "overflow_x": null,
            "overflow_y": null,
            "padding": null,
            "right": null,
            "top": null,
            "visibility": null,
            "width": null
          }
        },
        "34233d11a5c64692a4542ee4e826438f": {
          "model_module": "@jupyter-widgets/controls",
          "model_name": "DescriptionStyleModel",
          "model_module_version": "1.5.0",
          "state": {
            "_model_module": "@jupyter-widgets/controls",
            "_model_module_version": "1.5.0",
            "_model_name": "DescriptionStyleModel",
            "_view_count": null,
            "_view_module": "@jupyter-widgets/base",
            "_view_module_version": "1.2.0",
            "_view_name": "StyleView",
            "description_width": ""
          }
        },
        "755630721e6d43368482cdbfc250d75b": {
          "model_module": "@jupyter-widgets/base",
          "model_name": "LayoutModel",
          "model_module_version": "1.2.0",
          "state": {
            "_model_module": "@jupyter-widgets/base",
            "_model_module_version": "1.2.0",
            "_model_name": "LayoutModel",
            "_view_count": null,
            "_view_module": "@jupyter-widgets/base",
            "_view_module_version": "1.2.0",
            "_view_name": "LayoutView",
            "align_content": null,
            "align_items": null,
            "align_self": null,
            "border": null,
            "bottom": null,
            "display": null,
            "flex": null,
            "flex_flow": null,
            "grid_area": null,
            "grid_auto_columns": null,
            "grid_auto_flow": null,
            "grid_auto_rows": null,
            "grid_column": null,
            "grid_gap": null,
            "grid_row": null,
            "grid_template_areas": null,
            "grid_template_columns": null,
            "grid_template_rows": null,
            "height": null,
            "justify_content": null,
            "justify_items": null,
            "left": null,
            "margin": null,
            "max_height": null,
            "max_width": null,
            "min_height": null,
            "min_width": null,
            "object_fit": null,
            "object_position": null,
            "order": null,
            "overflow": null,
            "overflow_x": null,
            "overflow_y": null,
            "padding": null,
            "right": null,
            "top": null,
            "visibility": null,
            "width": null
          }
        },
        "165b9db2ad62443fb09b8d7b2099bd27": {
          "model_module": "@jupyter-widgets/controls",
          "model_name": "ProgressStyleModel",
          "model_module_version": "1.5.0",
          "state": {
            "_model_module": "@jupyter-widgets/controls",
            "_model_module_version": "1.5.0",
            "_model_name": "ProgressStyleModel",
            "_view_count": null,
            "_view_module": "@jupyter-widgets/base",
            "_view_module_version": "1.2.0",
            "_view_name": "StyleView",
            "bar_color": null,
            "description_width": ""
          }
        },
        "04842f1f8314450e8726d815ffab23d0": {
          "model_module": "@jupyter-widgets/base",
          "model_name": "LayoutModel",
          "model_module_version": "1.2.0",
          "state": {
            "_model_module": "@jupyter-widgets/base",
            "_model_module_version": "1.2.0",
            "_model_name": "LayoutModel",
            "_view_count": null,
            "_view_module": "@jupyter-widgets/base",
            "_view_module_version": "1.2.0",
            "_view_name": "LayoutView",
            "align_content": null,
            "align_items": null,
            "align_self": null,
            "border": null,
            "bottom": null,
            "display": null,
            "flex": null,
            "flex_flow": null,
            "grid_area": null,
            "grid_auto_columns": null,
            "grid_auto_flow": null,
            "grid_auto_rows": null,
            "grid_column": null,
            "grid_gap": null,
            "grid_row": null,
            "grid_template_areas": null,
            "grid_template_columns": null,
            "grid_template_rows": null,
            "height": null,
            "justify_content": null,
            "justify_items": null,
            "left": null,
            "margin": null,
            "max_height": null,
            "max_width": null,
            "min_height": null,
            "min_width": null,
            "object_fit": null,
            "object_position": null,
            "order": null,
            "overflow": null,
            "overflow_x": null,
            "overflow_y": null,
            "padding": null,
            "right": null,
            "top": null,
            "visibility": null,
            "width": null
          }
        },
        "bba68993661549888f761c51ada1b9ee": {
          "model_module": "@jupyter-widgets/controls",
          "model_name": "DescriptionStyleModel",
          "model_module_version": "1.5.0",
          "state": {
            "_model_module": "@jupyter-widgets/controls",
            "_model_module_version": "1.5.0",
            "_model_name": "DescriptionStyleModel",
            "_view_count": null,
            "_view_module": "@jupyter-widgets/base",
            "_view_module_version": "1.2.0",
            "_view_name": "StyleView",
            "description_width": ""
          }
        },
        "4effb34db1cd4c18a7cce5d1f5d9f367": {
          "model_module": "@jupyter-widgets/controls",
          "model_name": "HBoxModel",
          "model_module_version": "1.5.0",
          "state": {
            "_dom_classes": [],
            "_model_module": "@jupyter-widgets/controls",
            "_model_module_version": "1.5.0",
            "_model_name": "HBoxModel",
            "_view_count": null,
            "_view_module": "@jupyter-widgets/controls",
            "_view_module_version": "1.5.0",
            "_view_name": "HBoxView",
            "box_style": "",
            "children": [
              "IPY_MODEL_7c1bf2b54e05458cb2205414758dcd6d",
              "IPY_MODEL_0095c1a9bc4a45a58dd7c7fd35117b57",
              "IPY_MODEL_74cd83480efe404685c7b11d7065006e"
            ],
            "layout": "IPY_MODEL_04e9cbcbe90145f4bed6a63e5b4be5fa"
          }
        },
        "7c1bf2b54e05458cb2205414758dcd6d": {
          "model_module": "@jupyter-widgets/controls",
          "model_name": "HTMLModel",
          "model_module_version": "1.5.0",
          "state": {
            "_dom_classes": [],
            "_model_module": "@jupyter-widgets/controls",
            "_model_module_version": "1.5.0",
            "_model_name": "HTMLModel",
            "_view_count": null,
            "_view_module": "@jupyter-widgets/controls",
            "_view_module_version": "1.5.0",
            "_view_name": "HTMLView",
            "description": "",
            "description_tooltip": null,
            "layout": "IPY_MODEL_e101a51f81ca42248fa0dcf31f343a02",
            "placeholder": "​",
            "style": "IPY_MODEL_4894a3441c6d4a06b32ca94c5b829c1e",
            "value": "config.json: 100%"
          }
        },
        "0095c1a9bc4a45a58dd7c7fd35117b57": {
          "model_module": "@jupyter-widgets/controls",
          "model_name": "FloatProgressModel",
          "model_module_version": "1.5.0",
          "state": {
            "_dom_classes": [],
            "_model_module": "@jupyter-widgets/controls",
            "_model_module_version": "1.5.0",
            "_model_name": "FloatProgressModel",
            "_view_count": null,
            "_view_module": "@jupyter-widgets/controls",
            "_view_module_version": "1.5.0",
            "_view_name": "ProgressView",
            "bar_style": "success",
            "description": "",
            "description_tooltip": null,
            "layout": "IPY_MODEL_1e5bba7ff89545e2acc7d4b3e164734e",
            "max": 190,
            "min": 0,
            "orientation": "horizontal",
            "style": "IPY_MODEL_adaab56ce85b4a28a809c0b423a48f3d",
            "value": 190
          }
        },
        "74cd83480efe404685c7b11d7065006e": {
          "model_module": "@jupyter-widgets/controls",
          "model_name": "HTMLModel",
          "model_module_version": "1.5.0",
          "state": {
            "_dom_classes": [],
            "_model_module": "@jupyter-widgets/controls",
            "_model_module_version": "1.5.0",
            "_model_name": "HTMLModel",
            "_view_count": null,
            "_view_module": "@jupyter-widgets/controls",
            "_view_module_version": "1.5.0",
            "_view_name": "HTMLView",
            "description": "",
            "description_tooltip": null,
            "layout": "IPY_MODEL_eb8941e4f9cb412c99eeb3445a676650",
            "placeholder": "​",
            "style": "IPY_MODEL_8ff01fb04208470e9f9201029810f9b0",
            "value": " 190/190 [00:00&lt;00:00, 22.0kB/s]"
          }
        },
        "04e9cbcbe90145f4bed6a63e5b4be5fa": {
          "model_module": "@jupyter-widgets/base",
          "model_name": "LayoutModel",
          "model_module_version": "1.2.0",
          "state": {
            "_model_module": "@jupyter-widgets/base",
            "_model_module_version": "1.2.0",
            "_model_name": "LayoutModel",
            "_view_count": null,
            "_view_module": "@jupyter-widgets/base",
            "_view_module_version": "1.2.0",
            "_view_name": "LayoutView",
            "align_content": null,
            "align_items": null,
            "align_self": null,
            "border": null,
            "bottom": null,
            "display": null,
            "flex": null,
            "flex_flow": null,
            "grid_area": null,
            "grid_auto_columns": null,
            "grid_auto_flow": null,
            "grid_auto_rows": null,
            "grid_column": null,
            "grid_gap": null,
            "grid_row": null,
            "grid_template_areas": null,
            "grid_template_columns": null,
            "grid_template_rows": null,
            "height": null,
            "justify_content": null,
            "justify_items": null,
            "left": null,
            "margin": null,
            "max_height": null,
            "max_width": null,
            "min_height": null,
            "min_width": null,
            "object_fit": null,
            "object_position": null,
            "order": null,
            "overflow": null,
            "overflow_x": null,
            "overflow_y": null,
            "padding": null,
            "right": null,
            "top": null,
            "visibility": null,
            "width": null
          }
        },
        "e101a51f81ca42248fa0dcf31f343a02": {
          "model_module": "@jupyter-widgets/base",
          "model_name": "LayoutModel",
          "model_module_version": "1.2.0",
          "state": {
            "_model_module": "@jupyter-widgets/base",
            "_model_module_version": "1.2.0",
            "_model_name": "LayoutModel",
            "_view_count": null,
            "_view_module": "@jupyter-widgets/base",
            "_view_module_version": "1.2.0",
            "_view_name": "LayoutView",
            "align_content": null,
            "align_items": null,
            "align_self": null,
            "border": null,
            "bottom": null,
            "display": null,
            "flex": null,
            "flex_flow": null,
            "grid_area": null,
            "grid_auto_columns": null,
            "grid_auto_flow": null,
            "grid_auto_rows": null,
            "grid_column": null,
            "grid_gap": null,
            "grid_row": null,
            "grid_template_areas": null,
            "grid_template_columns": null,
            "grid_template_rows": null,
            "height": null,
            "justify_content": null,
            "justify_items": null,
            "left": null,
            "margin": null,
            "max_height": null,
            "max_width": null,
            "min_height": null,
            "min_width": null,
            "object_fit": null,
            "object_position": null,
            "order": null,
            "overflow": null,
            "overflow_x": null,
            "overflow_y": null,
            "padding": null,
            "right": null,
            "top": null,
            "visibility": null,
            "width": null
          }
        },
        "4894a3441c6d4a06b32ca94c5b829c1e": {
          "model_module": "@jupyter-widgets/controls",
          "model_name": "DescriptionStyleModel",
          "model_module_version": "1.5.0",
          "state": {
            "_model_module": "@jupyter-widgets/controls",
            "_model_module_version": "1.5.0",
            "_model_name": "DescriptionStyleModel",
            "_view_count": null,
            "_view_module": "@jupyter-widgets/base",
            "_view_module_version": "1.2.0",
            "_view_name": "StyleView",
            "description_width": ""
          }
        },
        "1e5bba7ff89545e2acc7d4b3e164734e": {
          "model_module": "@jupyter-widgets/base",
          "model_name": "LayoutModel",
          "model_module_version": "1.2.0",
          "state": {
            "_model_module": "@jupyter-widgets/base",
            "_model_module_version": "1.2.0",
            "_model_name": "LayoutModel",
            "_view_count": null,
            "_view_module": "@jupyter-widgets/base",
            "_view_module_version": "1.2.0",
            "_view_name": "LayoutView",
            "align_content": null,
            "align_items": null,
            "align_self": null,
            "border": null,
            "bottom": null,
            "display": null,
            "flex": null,
            "flex_flow": null,
            "grid_area": null,
            "grid_auto_columns": null,
            "grid_auto_flow": null,
            "grid_auto_rows": null,
            "grid_column": null,
            "grid_gap": null,
            "grid_row": null,
            "grid_template_areas": null,
            "grid_template_columns": null,
            "grid_template_rows": null,
            "height": null,
            "justify_content": null,
            "justify_items": null,
            "left": null,
            "margin": null,
            "max_height": null,
            "max_width": null,
            "min_height": null,
            "min_width": null,
            "object_fit": null,
            "object_position": null,
            "order": null,
            "overflow": null,
            "overflow_x": null,
            "overflow_y": null,
            "padding": null,
            "right": null,
            "top": null,
            "visibility": null,
            "width": null
          }
        },
        "adaab56ce85b4a28a809c0b423a48f3d": {
          "model_module": "@jupyter-widgets/controls",
          "model_name": "ProgressStyleModel",
          "model_module_version": "1.5.0",
          "state": {
            "_model_module": "@jupyter-widgets/controls",
            "_model_module_version": "1.5.0",
            "_model_name": "ProgressStyleModel",
            "_view_count": null,
            "_view_module": "@jupyter-widgets/base",
            "_view_module_version": "1.2.0",
            "_view_name": "StyleView",
            "bar_color": null,
            "description_width": ""
          }
        },
        "eb8941e4f9cb412c99eeb3445a676650": {
          "model_module": "@jupyter-widgets/base",
          "model_name": "LayoutModel",
          "model_module_version": "1.2.0",
          "state": {
            "_model_module": "@jupyter-widgets/base",
            "_model_module_version": "1.2.0",
            "_model_name": "LayoutModel",
            "_view_count": null,
            "_view_module": "@jupyter-widgets/base",
            "_view_module_version": "1.2.0",
            "_view_name": "LayoutView",
            "align_content": null,
            "align_items": null,
            "align_self": null,
            "border": null,
            "bottom": null,
            "display": null,
            "flex": null,
            "flex_flow": null,
            "grid_area": null,
            "grid_auto_columns": null,
            "grid_auto_flow": null,
            "grid_auto_rows": null,
            "grid_column": null,
            "grid_gap": null,
            "grid_row": null,
            "grid_template_areas": null,
            "grid_template_columns": null,
            "grid_template_rows": null,
            "height": null,
            "justify_content": null,
            "justify_items": null,
            "left": null,
            "margin": null,
            "max_height": null,
            "max_width": null,
            "min_height": null,
            "min_width": null,
            "object_fit": null,
            "object_position": null,
            "order": null,
            "overflow": null,
            "overflow_x": null,
            "overflow_y": null,
            "padding": null,
            "right": null,
            "top": null,
            "visibility": null,
            "width": null
          }
        },
        "8ff01fb04208470e9f9201029810f9b0": {
          "model_module": "@jupyter-widgets/controls",
          "model_name": "DescriptionStyleModel",
          "model_module_version": "1.5.0",
          "state": {
            "_model_module": "@jupyter-widgets/controls",
            "_model_module_version": "1.5.0",
            "_model_name": "DescriptionStyleModel",
            "_view_count": null,
            "_view_module": "@jupyter-widgets/base",
            "_view_module_version": "1.2.0",
            "_view_name": "StyleView",
            "description_width": ""
          }
        },
        "91ba066f53be456993458fc5dad011f8": {
          "model_module": "@jupyter-widgets/controls",
          "model_name": "HBoxModel",
          "model_module_version": "1.5.0",
          "state": {
            "_dom_classes": [],
            "_model_module": "@jupyter-widgets/controls",
            "_model_module_version": "1.5.0",
            "_model_name": "HBoxModel",
            "_view_count": null,
            "_view_module": "@jupyter-widgets/controls",
            "_view_module_version": "1.5.0",
            "_view_name": "HBoxView",
            "box_style": "",
            "children": [
              "IPY_MODEL_e12ea78ad9cd4d6cbd0987d1c908f1fb",
              "IPY_MODEL_b7a914181ee246ed938090556d8eedae",
              "IPY_MODEL_ed409085a34d43d5a0c44babaec224fb"
            ],
            "layout": "IPY_MODEL_4eff0104ffd0412cb73a44b4b9f88060"
          }
        },
        "e12ea78ad9cd4d6cbd0987d1c908f1fb": {
          "model_module": "@jupyter-widgets/controls",
          "model_name": "HTMLModel",
          "model_module_version": "1.5.0",
          "state": {
            "_dom_classes": [],
            "_model_module": "@jupyter-widgets/controls",
            "_model_module_version": "1.5.0",
            "_model_name": "HTMLModel",
            "_view_count": null,
            "_view_module": "@jupyter-widgets/controls",
            "_view_module_version": "1.5.0",
            "_view_name": "HTMLView",
            "description": "",
            "description_tooltip": null,
            "layout": "IPY_MODEL_e4b44c18ae894acfbb6602281c7d697a",
            "placeholder": "​",
            "style": "IPY_MODEL_e434ec3b549e4c3fb86e1531d8ef69cd",
            "value": "Batches: 100%"
          }
        },
        "b7a914181ee246ed938090556d8eedae": {
          "model_module": "@jupyter-widgets/controls",
          "model_name": "FloatProgressModel",
          "model_module_version": "1.5.0",
          "state": {
            "_dom_classes": [],
            "_model_module": "@jupyter-widgets/controls",
            "_model_module_version": "1.5.0",
            "_model_name": "FloatProgressModel",
            "_view_count": null,
            "_view_module": "@jupyter-widgets/controls",
            "_view_module_version": "1.5.0",
            "_view_name": "ProgressView",
            "bar_style": "success",
            "description": "",
            "description_tooltip": null,
            "layout": "IPY_MODEL_e43c291b37bd403e8b41c5f5868f6c32",
            "max": 1427,
            "min": 0,
            "orientation": "horizontal",
            "style": "IPY_MODEL_6152ea2b681a433b96665fa481290b7d",
            "value": 1427
          }
        },
        "ed409085a34d43d5a0c44babaec224fb": {
          "model_module": "@jupyter-widgets/controls",
          "model_name": "HTMLModel",
          "model_module_version": "1.5.0",
          "state": {
            "_dom_classes": [],
            "_model_module": "@jupyter-widgets/controls",
            "_model_module_version": "1.5.0",
            "_model_name": "HTMLModel",
            "_view_count": null,
            "_view_module": "@jupyter-widgets/controls",
            "_view_module_version": "1.5.0",
            "_view_name": "HTMLView",
            "description": "",
            "description_tooltip": null,
            "layout": "IPY_MODEL_4f8c76403abd4661bc5dc167dbd03c16",
            "placeholder": "​",
            "style": "IPY_MODEL_757bcb05c4214b2f86c2bf08af7feae3",
            "value": " 1427/1427 [00:41&lt;00:00, 68.10it/s]"
          }
        },
        "4eff0104ffd0412cb73a44b4b9f88060": {
          "model_module": "@jupyter-widgets/base",
          "model_name": "LayoutModel",
          "model_module_version": "1.2.0",
          "state": {
            "_model_module": "@jupyter-widgets/base",
            "_model_module_version": "1.2.0",
            "_model_name": "LayoutModel",
            "_view_count": null,
            "_view_module": "@jupyter-widgets/base",
            "_view_module_version": "1.2.0",
            "_view_name": "LayoutView",
            "align_content": null,
            "align_items": null,
            "align_self": null,
            "border": null,
            "bottom": null,
            "display": null,
            "flex": null,
            "flex_flow": null,
            "grid_area": null,
            "grid_auto_columns": null,
            "grid_auto_flow": null,
            "grid_auto_rows": null,
            "grid_column": null,
            "grid_gap": null,
            "grid_row": null,
            "grid_template_areas": null,
            "grid_template_columns": null,
            "grid_template_rows": null,
            "height": null,
            "justify_content": null,
            "justify_items": null,
            "left": null,
            "margin": null,
            "max_height": null,
            "max_width": null,
            "min_height": null,
            "min_width": null,
            "object_fit": null,
            "object_position": null,
            "order": null,
            "overflow": null,
            "overflow_x": null,
            "overflow_y": null,
            "padding": null,
            "right": null,
            "top": null,
            "visibility": null,
            "width": null
          }
        },
        "e4b44c18ae894acfbb6602281c7d697a": {
          "model_module": "@jupyter-widgets/base",
          "model_name": "LayoutModel",
          "model_module_version": "1.2.0",
          "state": {
            "_model_module": "@jupyter-widgets/base",
            "_model_module_version": "1.2.0",
            "_model_name": "LayoutModel",
            "_view_count": null,
            "_view_module": "@jupyter-widgets/base",
            "_view_module_version": "1.2.0",
            "_view_name": "LayoutView",
            "align_content": null,
            "align_items": null,
            "align_self": null,
            "border": null,
            "bottom": null,
            "display": null,
            "flex": null,
            "flex_flow": null,
            "grid_area": null,
            "grid_auto_columns": null,
            "grid_auto_flow": null,
            "grid_auto_rows": null,
            "grid_column": null,
            "grid_gap": null,
            "grid_row": null,
            "grid_template_areas": null,
            "grid_template_columns": null,
            "grid_template_rows": null,
            "height": null,
            "justify_content": null,
            "justify_items": null,
            "left": null,
            "margin": null,
            "max_height": null,
            "max_width": null,
            "min_height": null,
            "min_width": null,
            "object_fit": null,
            "object_position": null,
            "order": null,
            "overflow": null,
            "overflow_x": null,
            "overflow_y": null,
            "padding": null,
            "right": null,
            "top": null,
            "visibility": null,
            "width": null
          }
        },
        "e434ec3b549e4c3fb86e1531d8ef69cd": {
          "model_module": "@jupyter-widgets/controls",
          "model_name": "DescriptionStyleModel",
          "model_module_version": "1.5.0",
          "state": {
            "_model_module": "@jupyter-widgets/controls",
            "_model_module_version": "1.5.0",
            "_model_name": "DescriptionStyleModel",
            "_view_count": null,
            "_view_module": "@jupyter-widgets/base",
            "_view_module_version": "1.2.0",
            "_view_name": "StyleView",
            "description_width": ""
          }
        },
        "e43c291b37bd403e8b41c5f5868f6c32": {
          "model_module": "@jupyter-widgets/base",
          "model_name": "LayoutModel",
          "model_module_version": "1.2.0",
          "state": {
            "_model_module": "@jupyter-widgets/base",
            "_model_module_version": "1.2.0",
            "_model_name": "LayoutModel",
            "_view_count": null,
            "_view_module": "@jupyter-widgets/base",
            "_view_module_version": "1.2.0",
            "_view_name": "LayoutView",
            "align_content": null,
            "align_items": null,
            "align_self": null,
            "border": null,
            "bottom": null,
            "display": null,
            "flex": null,
            "flex_flow": null,
            "grid_area": null,
            "grid_auto_columns": null,
            "grid_auto_flow": null,
            "grid_auto_rows": null,
            "grid_column": null,
            "grid_gap": null,
            "grid_row": null,
            "grid_template_areas": null,
            "grid_template_columns": null,
            "grid_template_rows": null,
            "height": null,
            "justify_content": null,
            "justify_items": null,
            "left": null,
            "margin": null,
            "max_height": null,
            "max_width": null,
            "min_height": null,
            "min_width": null,
            "object_fit": null,
            "object_position": null,
            "order": null,
            "overflow": null,
            "overflow_x": null,
            "overflow_y": null,
            "padding": null,
            "right": null,
            "top": null,
            "visibility": null,
            "width": null
          }
        },
        "6152ea2b681a433b96665fa481290b7d": {
          "model_module": "@jupyter-widgets/controls",
          "model_name": "ProgressStyleModel",
          "model_module_version": "1.5.0",
          "state": {
            "_model_module": "@jupyter-widgets/controls",
            "_model_module_version": "1.5.0",
            "_model_name": "ProgressStyleModel",
            "_view_count": null,
            "_view_module": "@jupyter-widgets/base",
            "_view_module_version": "1.2.0",
            "_view_name": "StyleView",
            "bar_color": null,
            "description_width": ""
          }
        },
        "4f8c76403abd4661bc5dc167dbd03c16": {
          "model_module": "@jupyter-widgets/base",
          "model_name": "LayoutModel",
          "model_module_version": "1.2.0",
          "state": {
            "_model_module": "@jupyter-widgets/base",
            "_model_module_version": "1.2.0",
            "_model_name": "LayoutModel",
            "_view_count": null,
            "_view_module": "@jupyter-widgets/base",
            "_view_module_version": "1.2.0",
            "_view_name": "LayoutView",
            "align_content": null,
            "align_items": null,
            "align_self": null,
            "border": null,
            "bottom": null,
            "display": null,
            "flex": null,
            "flex_flow": null,
            "grid_area": null,
            "grid_auto_columns": null,
            "grid_auto_flow": null,
            "grid_auto_rows": null,
            "grid_column": null,
            "grid_gap": null,
            "grid_row": null,
            "grid_template_areas": null,
            "grid_template_columns": null,
            "grid_template_rows": null,
            "height": null,
            "justify_content": null,
            "justify_items": null,
            "left": null,
            "margin": null,
            "max_height": null,
            "max_width": null,
            "min_height": null,
            "min_width": null,
            "object_fit": null,
            "object_position": null,
            "order": null,
            "overflow": null,
            "overflow_x": null,
            "overflow_y": null,
            "padding": null,
            "right": null,
            "top": null,
            "visibility": null,
            "width": null
          }
        },
        "757bcb05c4214b2f86c2bf08af7feae3": {
          "model_module": "@jupyter-widgets/controls",
          "model_name": "DescriptionStyleModel",
          "model_module_version": "1.5.0",
          "state": {
            "_model_module": "@jupyter-widgets/controls",
            "_model_module_version": "1.5.0",
            "_model_name": "DescriptionStyleModel",
            "_view_count": null,
            "_view_module": "@jupyter-widgets/base",
            "_view_module_version": "1.2.0",
            "_view_name": "StyleView",
            "description_width": ""
          }
        },
        "e79899c502084df69ad1a2cf9ff49a03": {
          "model_module": "@jupyter-widgets/controls",
          "model_name": "HBoxModel",
          "model_module_version": "1.5.0",
          "state": {
            "_dom_classes": [],
            "_model_module": "@jupyter-widgets/controls",
            "_model_module_version": "1.5.0",
            "_model_name": "HBoxModel",
            "_view_count": null,
            "_view_module": "@jupyter-widgets/controls",
            "_view_module_version": "1.5.0",
            "_view_name": "HBoxView",
            "box_style": "",
            "children": [
              "IPY_MODEL_d3d9abc38cb04696bd39be166a138e88",
              "IPY_MODEL_098b36aa21c14dcc82d98378b1d611ce",
              "IPY_MODEL_10c4ef8d27284cc2be360f88f34c42e6"
            ],
            "layout": "IPY_MODEL_7ab3b5e7767d4bc3b225d0a2fa672843"
          }
        },
        "d3d9abc38cb04696bd39be166a138e88": {
          "model_module": "@jupyter-widgets/controls",
          "model_name": "HTMLModel",
          "model_module_version": "1.5.0",
          "state": {
            "_dom_classes": [],
            "_model_module": "@jupyter-widgets/controls",
            "_model_module_version": "1.5.0",
            "_model_name": "HTMLModel",
            "_view_count": null,
            "_view_module": "@jupyter-widgets/controls",
            "_view_module_version": "1.5.0",
            "_view_name": "HTMLView",
            "description": "",
            "description_tooltip": null,
            "layout": "IPY_MODEL_3baff9c989e0490ea70eee7a7443c719",
            "placeholder": "​",
            "style": "IPY_MODEL_70679ab0a18245e98aa825d1fcebf493",
            "value": " 96%"
          }
        },
        "098b36aa21c14dcc82d98378b1d611ce": {
          "model_module": "@jupyter-widgets/controls",
          "model_name": "FloatProgressModel",
          "model_module_version": "1.5.0",
          "state": {
            "_dom_classes": [],
            "_model_module": "@jupyter-widgets/controls",
            "_model_module_version": "1.5.0",
            "_model_name": "FloatProgressModel",
            "_view_count": null,
            "_view_module": "@jupyter-widgets/controls",
            "_view_module_version": "1.5.0",
            "_view_name": "ProgressView",
            "bar_style": "",
            "description": "",
            "description_tooltip": null,
            "layout": "IPY_MODEL_123ca81b76f84a2c8e653088a07a7baf",
            "max": 54,
            "min": 0,
            "orientation": "horizontal",
            "style": "IPY_MODEL_ed0d736be6f24e02ac2f172e015a908e",
            "value": 52
          }
        },
        "10c4ef8d27284cc2be360f88f34c42e6": {
          "model_module": "@jupyter-widgets/controls",
          "model_name": "HTMLModel",
          "model_module_version": "1.5.0",
          "state": {
            "_dom_classes": [],
            "_model_module": "@jupyter-widgets/controls",
            "_model_module_version": "1.5.0",
            "_model_name": "HTMLModel",
            "_view_count": null,
            "_view_module": "@jupyter-widgets/controls",
            "_view_module_version": "1.5.0",
            "_view_name": "HTMLView",
            "description": "",
            "description_tooltip": null,
            "layout": "IPY_MODEL_736fee1171334c21bb1a6b6458393452",
            "placeholder": "​",
            "style": "IPY_MODEL_d02107bf118a4458ae22ab9219ec11b3",
            "value": " 52/54 [2:16:02&lt;04:38, 139.50s/it]"
          }
        },
        "7ab3b5e7767d4bc3b225d0a2fa672843": {
          "model_module": "@jupyter-widgets/base",
          "model_name": "LayoutModel",
          "model_module_version": "1.2.0",
          "state": {
            "_model_module": "@jupyter-widgets/base",
            "_model_module_version": "1.2.0",
            "_model_name": "LayoutModel",
            "_view_count": null,
            "_view_module": "@jupyter-widgets/base",
            "_view_module_version": "1.2.0",
            "_view_name": "LayoutView",
            "align_content": null,
            "align_items": null,
            "align_self": null,
            "border": null,
            "bottom": null,
            "display": null,
            "flex": null,
            "flex_flow": null,
            "grid_area": null,
            "grid_auto_columns": null,
            "grid_auto_flow": null,
            "grid_auto_rows": null,
            "grid_column": null,
            "grid_gap": null,
            "grid_row": null,
            "grid_template_areas": null,
            "grid_template_columns": null,
            "grid_template_rows": null,
            "height": null,
            "justify_content": null,
            "justify_items": null,
            "left": null,
            "margin": null,
            "max_height": null,
            "max_width": null,
            "min_height": null,
            "min_width": null,
            "object_fit": null,
            "object_position": null,
            "order": null,
            "overflow": null,
            "overflow_x": null,
            "overflow_y": null,
            "padding": null,
            "right": null,
            "top": null,
            "visibility": null,
            "width": null
          }
        },
        "3baff9c989e0490ea70eee7a7443c719": {
          "model_module": "@jupyter-widgets/base",
          "model_name": "LayoutModel",
          "model_module_version": "1.2.0",
          "state": {
            "_model_module": "@jupyter-widgets/base",
            "_model_module_version": "1.2.0",
            "_model_name": "LayoutModel",
            "_view_count": null,
            "_view_module": "@jupyter-widgets/base",
            "_view_module_version": "1.2.0",
            "_view_name": "LayoutView",
            "align_content": null,
            "align_items": null,
            "align_self": null,
            "border": null,
            "bottom": null,
            "display": null,
            "flex": null,
            "flex_flow": null,
            "grid_area": null,
            "grid_auto_columns": null,
            "grid_auto_flow": null,
            "grid_auto_rows": null,
            "grid_column": null,
            "grid_gap": null,
            "grid_row": null,
            "grid_template_areas": null,
            "grid_template_columns": null,
            "grid_template_rows": null,
            "height": null,
            "justify_content": null,
            "justify_items": null,
            "left": null,
            "margin": null,
            "max_height": null,
            "max_width": null,
            "min_height": null,
            "min_width": null,
            "object_fit": null,
            "object_position": null,
            "order": null,
            "overflow": null,
            "overflow_x": null,
            "overflow_y": null,
            "padding": null,
            "right": null,
            "top": null,
            "visibility": null,
            "width": null
          }
        },
        "70679ab0a18245e98aa825d1fcebf493": {
          "model_module": "@jupyter-widgets/controls",
          "model_name": "DescriptionStyleModel",
          "model_module_version": "1.5.0",
          "state": {
            "_model_module": "@jupyter-widgets/controls",
            "_model_module_version": "1.5.0",
            "_model_name": "DescriptionStyleModel",
            "_view_count": null,
            "_view_module": "@jupyter-widgets/base",
            "_view_module_version": "1.2.0",
            "_view_name": "StyleView",
            "description_width": ""
          }
        },
        "123ca81b76f84a2c8e653088a07a7baf": {
          "model_module": "@jupyter-widgets/base",
          "model_name": "LayoutModel",
          "model_module_version": "1.2.0",
          "state": {
            "_model_module": "@jupyter-widgets/base",
            "_model_module_version": "1.2.0",
            "_model_name": "LayoutModel",
            "_view_count": null,
            "_view_module": "@jupyter-widgets/base",
            "_view_module_version": "1.2.0",
            "_view_name": "LayoutView",
            "align_content": null,
            "align_items": null,
            "align_self": null,
            "border": null,
            "bottom": null,
            "display": null,
            "flex": null,
            "flex_flow": null,
            "grid_area": null,
            "grid_auto_columns": null,
            "grid_auto_flow": null,
            "grid_auto_rows": null,
            "grid_column": null,
            "grid_gap": null,
            "grid_row": null,
            "grid_template_areas": null,
            "grid_template_columns": null,
            "grid_template_rows": null,
            "height": null,
            "justify_content": null,
            "justify_items": null,
            "left": null,
            "margin": null,
            "max_height": null,
            "max_width": null,
            "min_height": null,
            "min_width": null,
            "object_fit": null,
            "object_position": null,
            "order": null,
            "overflow": null,
            "overflow_x": null,
            "overflow_y": null,
            "padding": null,
            "right": null,
            "top": null,
            "visibility": null,
            "width": null
          }
        },
        "ed0d736be6f24e02ac2f172e015a908e": {
          "model_module": "@jupyter-widgets/controls",
          "model_name": "ProgressStyleModel",
          "model_module_version": "1.5.0",
          "state": {
            "_model_module": "@jupyter-widgets/controls",
            "_model_module_version": "1.5.0",
            "_model_name": "ProgressStyleModel",
            "_view_count": null,
            "_view_module": "@jupyter-widgets/base",
            "_view_module_version": "1.2.0",
            "_view_name": "StyleView",
            "bar_color": null,
            "description_width": ""
          }
        },
        "736fee1171334c21bb1a6b6458393452": {
          "model_module": "@jupyter-widgets/base",
          "model_name": "LayoutModel",
          "model_module_version": "1.2.0",
          "state": {
            "_model_module": "@jupyter-widgets/base",
            "_model_module_version": "1.2.0",
            "_model_name": "LayoutModel",
            "_view_count": null,
            "_view_module": "@jupyter-widgets/base",
            "_view_module_version": "1.2.0",
            "_view_name": "LayoutView",
            "align_content": null,
            "align_items": null,
            "align_self": null,
            "border": null,
            "bottom": null,
            "display": null,
            "flex": null,
            "flex_flow": null,
            "grid_area": null,
            "grid_auto_columns": null,
            "grid_auto_flow": null,
            "grid_auto_rows": null,
            "grid_column": null,
            "grid_gap": null,
            "grid_row": null,
            "grid_template_areas": null,
            "grid_template_columns": null,
            "grid_template_rows": null,
            "height": null,
            "justify_content": null,
            "justify_items": null,
            "left": null,
            "margin": null,
            "max_height": null,
            "max_width": null,
            "min_height": null,
            "min_width": null,
            "object_fit": null,
            "object_position": null,
            "order": null,
            "overflow": null,
            "overflow_x": null,
            "overflow_y": null,
            "padding": null,
            "right": null,
            "top": null,
            "visibility": null,
            "width": null
          }
        },
        "d02107bf118a4458ae22ab9219ec11b3": {
          "model_module": "@jupyter-widgets/controls",
          "model_name": "DescriptionStyleModel",
          "model_module_version": "1.5.0",
          "state": {
            "_model_module": "@jupyter-widgets/controls",
            "_model_module_version": "1.5.0",
            "_model_name": "DescriptionStyleModel",
            "_view_count": null,
            "_view_module": "@jupyter-widgets/base",
            "_view_module_version": "1.2.0",
            "_view_name": "StyleView",
            "description_width": ""
          }
        }
      }
    }
  },
  "cells": [
    {
      "cell_type": "markdown",
      "source": [
        "# TopicWeave: Comprehensive Evaluation\n",
        "This notebook evaluates all TopicWeave variants including the domain-adapted version,\n",
        "with hyperparameter tuning and before/after fine-tuning comparisons."
      ],
      "metadata": {
        "id": "_dmRSbMS5sT6"
      }
    },
    {
      "cell_type": "code",
      "execution_count": 1,
      "metadata": {
        "id": "CBMHQ1wP5e6q",
        "colab": {
          "base_uri": "https://localhost:8080/"
        },
        "outputId": "faf7ed30-f214-4436-b898-6135b0e80aa1"
      },
      "outputs": [
        {
          "output_type": "stream",
          "name": "stdout",
          "text": [
            "\u001b[2K     \u001b[90m━━━━━━━━━━━━━━━━━━━━━━━━━━━━━━━━━━━━━━━━\u001b[0m \u001b[32m61.0/61.0 kB\u001b[0m \u001b[31m1.9 MB/s\u001b[0m eta \u001b[36m0:00:00\u001b[0m\n",
            "\u001b[2K     \u001b[90m━━━━━━━━━━━━━━━━━━━━━━━━━━━━━━━━━━━━━━━━\u001b[0m \u001b[32m60.6/60.6 kB\u001b[0m \u001b[31m3.4 MB/s\u001b[0m eta \u001b[36m0:00:00\u001b[0m\n",
            "\u001b[2K   \u001b[90m━━━━━━━━━━━━━━━━━━━━━━━━━━━━━━━━━━━━━━━━\u001b[0m \u001b[32m26.7/26.7 MB\u001b[0m \u001b[31m77.3 MB/s\u001b[0m eta \u001b[36m0:00:00\u001b[0m\n",
            "\u001b[2K   \u001b[90m━━━━━━━━━━━━━━━━━━━━━━━━━━━━━━━━━━━━━━━━\u001b[0m \u001b[32m18.3/18.3 MB\u001b[0m \u001b[31m100.6 MB/s\u001b[0m eta \u001b[36m0:00:00\u001b[0m\n",
            "\u001b[2K   \u001b[90m━━━━━━━━━━━━━━━━━━━━━━━━━━━━━━━━━━━━━━━━\u001b[0m \u001b[32m38.6/38.6 MB\u001b[0m \u001b[31m53.7 MB/s\u001b[0m eta \u001b[36m0:00:00\u001b[0m\n",
            "\u001b[2K   \u001b[90m━━━━━━━━━━━━━━━━━━━━━━━━━━━━━━━━━━━━━━━━\u001b[0m \u001b[32m363.4/363.4 MB\u001b[0m \u001b[31m2.9 MB/s\u001b[0m eta \u001b[36m0:00:00\u001b[0m\n",
            "\u001b[2K   \u001b[90m━━━━━━━━━━━━━━━━━━━━━━━━━━━━━━━━━━━━━━━━\u001b[0m \u001b[32m13.8/13.8 MB\u001b[0m \u001b[31m92.9 MB/s\u001b[0m eta \u001b[36m0:00:00\u001b[0m\n",
            "\u001b[2K   \u001b[90m━━━━━━━━━━━━━━━━━━━━━━━━━━━━━━━━━━━━━━━━\u001b[0m \u001b[32m24.6/24.6 MB\u001b[0m \u001b[31m63.3 MB/s\u001b[0m eta \u001b[36m0:00:00\u001b[0m\n",
            "\u001b[2K   \u001b[90m━━━━━━━━━━━━━━━━━━━━━━━━━━━━━━━━━━━━━━━━\u001b[0m \u001b[32m883.7/883.7 kB\u001b[0m \u001b[31m46.9 MB/s\u001b[0m eta \u001b[36m0:00:00\u001b[0m\n",
            "\u001b[2K   \u001b[90m━━━━━━━━━━━━━━━━━━━━━━━━━━━━━━━━━━━━━━━━\u001b[0m \u001b[32m664.8/664.8 MB\u001b[0m \u001b[31m2.2 MB/s\u001b[0m eta \u001b[36m0:00:00\u001b[0m\n",
            "\u001b[2K   \u001b[90m━━━━━━━━━━━━━━━━━━━━━━━━━━━━━━━━━━━━━━━━\u001b[0m \u001b[32m211.5/211.5 MB\u001b[0m \u001b[31m10.7 MB/s\u001b[0m eta \u001b[36m0:00:00\u001b[0m\n",
            "\u001b[2K   \u001b[90m━━━━━━━━━━━━━━━━━━━━━━━━━━━━━━━━━━━━━━━━\u001b[0m \u001b[32m56.3/56.3 MB\u001b[0m \u001b[31m39.2 MB/s\u001b[0m eta \u001b[36m0:00:00\u001b[0m\n",
            "\u001b[2K   \u001b[90m━━━━━━━━━━━━━━━━━━━━━━━━━━━━━━━━━━━━━━━━\u001b[0m \u001b[32m127.9/127.9 MB\u001b[0m \u001b[31m9.8 MB/s\u001b[0m eta \u001b[36m0:00:00\u001b[0m\n",
            "\u001b[2K   \u001b[90m━━━━━━━━━━━━━━━━━━━━━━━━━━━━━━━━━━━━━━━━\u001b[0m \u001b[32m207.5/207.5 MB\u001b[0m \u001b[31m10.7 MB/s\u001b[0m eta \u001b[36m0:00:00\u001b[0m\n",
            "\u001b[2K   \u001b[90m━━━━━━━━━━━━━━━━━━━━━━━━━━━━━━━━━━━━━━━━\u001b[0m \u001b[32m21.1/21.1 MB\u001b[0m \u001b[31m97.3 MB/s\u001b[0m eta \u001b[36m0:00:00\u001b[0m\n",
            "\u001b[2K   \u001b[90m━━━━━━━━━━━━━━━━━━━━━━━━━━━━━━━━━━━━━━━━\u001b[0m \u001b[32m150.6/150.6 kB\u001b[0m \u001b[31m3.9 MB/s\u001b[0m eta \u001b[36m0:00:00\u001b[0m\n",
            "\u001b[?25h"
          ]
        }
      ],
      "source": [
        "# Install required packages\n",
        "!pip install -q numpy pandas matplotlib seaborn scikit-learn tqdm\n",
        "!pip install -q umap-learn hdbscan\n",
        "!pip install -q gensim tensorflow\n",
        "!pip install -q sentence-transformers\n",
        "!pip install -q bertopic"
      ]
    },
    {
      "cell_type": "code",
      "source": [
        "# Import necessary libraries\n",
        "import os\n",
        "import numpy as np\n",
        "import pandas as pd\n",
        "import matplotlib.pyplot as plt\n",
        "import seaborn as sns\n",
        "from sklearn.metrics import normalized_mutual_info_score, adjusted_rand_score\n",
        "from sklearn.manifold import TSNE\n",
        "from gensim.models.coherencemodel import CoherenceModel\n",
        "import gensim.corpora as corpora\n",
        "from tqdm.auto import tqdm\n",
        "import json\n",
        "from datetime import datetime\n",
        "from pathlib import Path\n",
        "import random\n",
        "from itertools import product\n",
        "import warnings\n",
        "warnings.filterwarnings(\"ignore\", category=FutureWarning)\n",
        "\n",
        "# UMAP for dimensionality reduction\n",
        "import umap\n",
        "\n",
        "# HDBSCAN for clustering\n",
        "import hdbscan\n",
        "\n",
        "# BERTopic and sentence transformers\n",
        "import bertopic\n",
        "from bertopic import BERTopic"
      ],
      "metadata": {
        "id": "G2Z1ywig5v8_"
      },
      "execution_count": 1,
      "outputs": []
    },
    {
      "cell_type": "code",
      "source": [
        "# Mount Google Drive\n",
        "from google.colab import drive\n",
        "drive.mount('/content/drive')"
      ],
      "metadata": {
        "id": "g7VoKXvn533-",
        "colab": {
          "base_uri": "https://localhost:8080/"
        },
        "outputId": "62ef9344-ba99-4575-8e1e-4579e86ae305"
      },
      "execution_count": 2,
      "outputs": [
        {
          "output_type": "stream",
          "name": "stdout",
          "text": [
            "Mounted at /content/drive\n"
          ]
        }
      ]
    },
    {
      "cell_type": "code",
      "source": [
        "# Define output and data directories\n",
        "PROJECT_DIR = '/content/drive/MyDrive/MIDS/W266/final_project/'\n",
        "EMBEDDING_DIR = f\"{PROJECT_DIR}/embeddings/\"\n",
        "DOMAIN_DIR = f\"{PROJECT_DIR}/domain_adaptation/\"\n",
        "DOMAIN_INT_DIR = f\"{PROJECT_DIR}/domain_integration/\"\n",
        "OUTPUT_DIR = f\"{PROJECT_DIR}/evaluation_results/\"\n",
        "FIGURE_DIR = f\"{PROJECT_DIR}/figures/evaluation_results/\"\n",
        "\n",
        "# Ensure directories exist\n",
        "for directory in [OUTPUT_DIR, FIGURE_DIR]:\n",
        "    os.makedirs(directory, exist_ok=True)"
      ],
      "metadata": {
        "id": "uWB_BCxd56kA"
      },
      "execution_count": 3,
      "outputs": []
    },
    {
      "cell_type": "code",
      "source": [
        "# Set random seed for reproducibility\n",
        "RANDOM_SEED = 42\n",
        "np.random.seed(RANDOM_SEED)\n",
        "random.seed(RANDOM_SEED)\n",
        "\n",
        "print(f\"TopicWeave Comprehensive Evaluation - Started at {datetime.now().strftime('%Y-%m-%d %H:%M')}\")"
      ],
      "metadata": {
        "id": "UwCjcLAe59Bv",
        "colab": {
          "base_uri": "https://localhost:8080/"
        },
        "outputId": "8c4d2fcd-0ed4-4ae6-d143-2fc98375a10e"
      },
      "execution_count": 4,
      "outputs": [
        {
          "output_type": "stream",
          "name": "stdout",
          "text": [
            "TopicWeave Comprehensive Evaluation - Started at 2025-03-30 22:18\n"
          ]
        }
      ]
    },
    {
      "cell_type": "markdown",
      "source": [
        "## Data Loading"
      ],
      "metadata": {
        "id": "4j-qQLcc6Gd9"
      }
    },
    {
      "cell_type": "code",
      "source": [
        "def load_all_embeddings():\n",
        "    \"\"\"\n",
        "    Load all available embeddings for comprehensive evaluation\n",
        "    \"\"\"\n",
        "    print(\"\\n===== Loading All Embeddings =====\")\n",
        "\n",
        "    # Load document information\n",
        "    docs_df = pd.read_csv(f\"{EMBEDDING_DIR}/document_info.csv\")\n",
        "\n",
        "    # Dictionary to store all embeddings\n",
        "    embeddings = {}\n",
        "\n",
        "    # Load original embeddings\n",
        "    embeddings[\"TopicWeave\"] = np.load(f\"{EMBEDDING_DIR}/topicweave_embeddings.npy\")\n",
        "    embeddings[\"SciBERT\"] = np.load(f\"{EMBEDDING_DIR}/scibert_embeddings.npy\")\n",
        "    embeddings[\"Citation\"] = np.load(f\"{EMBEDDING_DIR}/citation_embeddings.npy\")\n",
        "\n",
        "    # Load domain-adapted SciBERT embeddings\n",
        "    domain_scibert_path = f\"{DOMAIN_DIR}/domain_adapted_embeddings.npy\"\n",
        "    if os.path.exists(domain_scibert_path):\n",
        "        embeddings[\"Domain-Adapted SciBERT\"] = np.load(domain_scibert_path)\n",
        "    else:\n",
        "        print(f\"Warning: Domain-adapted SciBERT embeddings not found at {domain_scibert_path}\")\n",
        "\n",
        "    # Load domain-adapted TopicWeave embeddings\n",
        "    domain_topicweave_path = f\"{DOMAIN_INT_DIR}/domain_topicweave_embeddings.npy\"\n",
        "    if os.path.exists(domain_topicweave_path):\n",
        "        embeddings[\"Domain-Adapted TopicWeave\"] = np.load(domain_topicweave_path)\n",
        "    else:\n",
        "        print(f\"Warning: Domain-adapted TopicWeave embeddings not found at {domain_topicweave_path}\")\n",
        "\n",
        "    print(\"Loaded embeddings for the following models:\")\n",
        "    for model, embedding in embeddings.items():\n",
        "        print(f\"  - {model}: {embedding.shape}\")\n",
        "\n",
        "    return docs_df, embeddings"
      ],
      "metadata": {
        "id": "-qYoMMP96JIS"
      },
      "execution_count": 5,
      "outputs": []
    },
    {
      "cell_type": "markdown",
      "source": [
        "## BERTopic Model Creation and Evaluation"
      ],
      "metadata": {
        "id": "YwksbL5S6N5d"
      }
    },
    {
      "cell_type": "code",
      "source": [
        "def create_custom_bertopic(embeddings, min_topic_size=10, umap_components=5,\n",
        "                          umap_neighbors=15, hdbscan_min_samples=10):\n",
        "    \"\"\"\n",
        "    Create a custom BERTopic model using pre-computed embeddings\n",
        "    \"\"\"\n",
        "    # Create UMAP model\n",
        "    umap_model = umap.UMAP(\n",
        "        n_components=umap_components,\n",
        "        n_neighbors=umap_neighbors,\n",
        "        min_dist=0.0,\n",
        "        metric='cosine',\n",
        "        random_state=RANDOM_SEED\n",
        "    )\n",
        "\n",
        "    # Create HDBSCAN model\n",
        "    hdbscan_model = hdbscan.HDBSCAN(\n",
        "        min_cluster_size=min_topic_size,\n",
        "        min_samples=hdbscan_min_samples,\n",
        "        metric='euclidean',\n",
        "        prediction_data=True\n",
        "    )\n",
        "\n",
        "    # Create BERTopic model\n",
        "    topic_model = BERTopic(\n",
        "        embedding_model=None,  # No embedding model since we already have embeddings\n",
        "        umap_model=umap_model,\n",
        "        hdbscan_model=hdbscan_model,\n",
        "        verbose=True\n",
        "    )\n",
        "\n",
        "    return topic_model"
      ],
      "metadata": {
        "id": "Sdcfkekm6R8Z"
      },
      "execution_count": 6,
      "outputs": []
    },
    {
      "cell_type": "code",
      "source": [
        "def evaluate_bertopic_quantitative(topics, categories):\n",
        "    \"\"\"\n",
        "    Evaluate BERTopic results using quantitative metrics\n",
        "    \"\"\"\n",
        "    # Calculate Normalized Mutual Information (NMI)\n",
        "    nmi = normalized_mutual_info_score(categories, topics)\n",
        "\n",
        "    # Calculate Adjusted Rand Index (ARI)\n",
        "    ari = adjusted_rand_score(categories, topics)\n",
        "\n",
        "    # Count unique topics and categories\n",
        "    n_topics = len(set([t for t in topics if t != -1]))  # Exclude outlier topic\n",
        "    n_categories = len(set(categories))\n",
        "\n",
        "    return {\n",
        "        \"NMI\": nmi,\n",
        "        \"ARI\": ari,\n",
        "        \"n_topics\": n_topics,\n",
        "        \"n_categories\": n_categories\n",
        "    }"
      ],
      "metadata": {
        "id": "Cf6A8ABt6WA8"
      },
      "execution_count": 7,
      "outputs": []
    },
    {
      "cell_type": "code",
      "source": [
        "def evaluate_bertopic_qualitative(topic_model, topics, texts):\n",
        "    \"\"\"\n",
        "    Evaluate BERTopic results using qualitative metrics (coherence)\n",
        "    \"\"\"\n",
        "    def simple_preprocess(text):\n",
        "        \"\"\"Simple text preprocessing for coherence calculation\"\"\"\n",
        "        if isinstance(text, str):\n",
        "            tokens = text.lower().split()\n",
        "            return [token for token in tokens if len(token) > 2]\n",
        "        return []\n",
        "\n",
        "    # Create dictionary and corpus\n",
        "    print(\"Building dictionary and corpus...\")\n",
        "    tokenized_texts = [simple_preprocess(text) for text in texts]\n",
        "    dictionary = corpora.Dictionary(tokenized_texts)\n",
        "    corpus = [dictionary.doc2bow(text) for text in tokenized_texts]\n",
        "\n",
        "    # Get unique topics (excluding outliers)\n",
        "    unique_topics = [t for t in set(topics) if t != -1]\n",
        "    print(f\"Analyzing {len(unique_topics)} unique topics (excluding outliers)\")\n",
        "\n",
        "    # Get topic words\n",
        "    topic_words = []\n",
        "    skipped_topics = 0\n",
        "    for topic_id in unique_topics:\n",
        "        try:\n",
        "            words = [word for word, _ in topic_model.get_topic(topic_id)][:10]\n",
        "            topic_words.append(words)\n",
        "        except Exception as e:\n",
        "            print(f\"Error getting topic words for topic {topic_id}: {e}\")\n",
        "            skipped_topics += 1\n",
        "\n",
        "    print(f\"Successfully extracted words for {len(topic_words)} topics (skipped {skipped_topics})\")\n",
        "\n",
        "    if not topic_words:\n",
        "        print(\"No valid topics to analyze. Cannot calculate coherence.\")\n",
        "        return {\"C_v Coherence\": None, \"NPMI Coherence\": None}\n",
        "\n",
        "    coherence_results = {}\n",
        "    try:\n",
        "        # Calculate C_v coherence\n",
        "        cv_model = CoherenceModel(topics=topic_words, texts=tokenized_texts,\n",
        "                                 dictionary=dictionary, coherence='c_v')\n",
        "        coherence_results[\"C_v Coherence\"] = cv_model.get_coherence()\n",
        "    except Exception as e:\n",
        "        print(f\"Error calculating C_v coherence: {e}\")\n",
        "        coherence_results[\"C_v Coherence\"] = None\n",
        "\n",
        "    try:\n",
        "        # Calculate NPMI coherence\n",
        "        print(\"Calculating NPMI coherence...\")\n",
        "        npmi_model = CoherenceModel(topics=topic_words, texts=tokenized_texts,\n",
        "                                   dictionary=dictionary, coherence='c_npmi')\n",
        "        coherence_results[\"NPMI Coherence\"] = npmi_model.get_coherence()\n",
        "    except Exception as e:\n",
        "        print(f\"Error calculating NPMI coherence: {e}\")\n",
        "        coherence_results[\"NPMI Coherence\"] = None\n",
        "\n",
        "    return coherence_results"
      ],
      "metadata": {
        "id": "Sj6SEKlO6eGM"
      },
      "execution_count": 8,
      "outputs": []
    },
    {
      "cell_type": "markdown",
      "source": [
        "## Hyperparameter Tuning"
      ],
      "metadata": {
        "id": "cxVpmHtiApzR"
      }
    },
    {
      "cell_type": "code",
      "source": [
        "def tune_hyperparameters_for_model(model_name, embeddings, texts, categories):\n",
        "    \"\"\"\n",
        "    Tune hyperparameters for a specific model\n",
        "\n",
        "    Args:\n",
        "        model_name: Name of the model\n",
        "        embeddings: Model embeddings\n",
        "        texts: Document texts\n",
        "        categories: Document categories\n",
        "\n",
        "    Returns:\n",
        "        Dictionary with tuning results\n",
        "    \"\"\"\n",
        "    print(f\"\\n===== Tuning Hyperparameters for {model_name} =====\")\n",
        "\n",
        "    # Define parameter grid\n",
        "    param_grid = {\n",
        "        \"min_topic_size\": [5, 10, 15],\n",
        "        \"umap_components\": [5, 10],\n",
        "        \"umap_neighbors\": [10, 15, 20],\n",
        "        \"hdbscan_min_samples\": [5, 10, 15]\n",
        "    }\n",
        "\n",
        "    results = []\n",
        "\n",
        "    # Generate parameter combinations\n",
        "    param_combinations = list(product(\n",
        "        param_grid[\"min_topic_size\"],\n",
        "        param_grid[\"umap_components\"],\n",
        "        param_grid[\"umap_neighbors\"],\n",
        "        param_grid[\"hdbscan_min_samples\"]\n",
        "    ))\n",
        "\n",
        "    print(f\"Testing {len(param_combinations)} parameter combinations\")\n",
        "\n",
        "    # Test each parameter combination\n",
        "    for params in tqdm(param_combinations):\n",
        "        min_topic_size, umap_components, umap_neighbors, hdbscan_min_samples = params\n",
        "\n",
        "        # Create hyperparameter dictionary\n",
        "        hyperparams = {\n",
        "            \"min_topic_size\": min_topic_size,\n",
        "            \"umap_components\": umap_components,\n",
        "            \"umap_neighbors\": umap_neighbors,\n",
        "            \"hdbscan_min_samples\": hdbscan_min_samples\n",
        "        }\n",
        "\n",
        "        try:\n",
        "            # Create BERTopic model\n",
        "            topic_model = create_custom_bertopic(\n",
        "                embeddings=embeddings,\n",
        "                **hyperparams\n",
        "            )\n",
        "\n",
        "            # Fit and transform\n",
        "            topics, _ = topic_model.fit_transform(texts, embeddings=embeddings)\n",
        "\n",
        "            # Evaluate metrics\n",
        "            quant_results = evaluate_bertopic_quantitative(topics, categories)\n",
        "            qual_results = evaluate_bertopic_qualitative(topic_model, topics, texts)\n",
        "\n",
        "            # Skip if coherence couldn't be calculated\n",
        "            if qual_results[\"C_v Coherence\"] is None:\n",
        "                continue\n",
        "\n",
        "            # Calculate combined score (weighted)\n",
        "            # Put more weight on NMI and Coherence as they're most important for topic model quality\n",
        "            combined_score = (\n",
        "                0.4 * quant_results[\"NMI\"] +\n",
        "                0.2 * quant_results[\"ARI\"] +\n",
        "                0.4 * qual_results[\"C_v Coherence\"]\n",
        "            )\n",
        "\n",
        "            # Store results\n",
        "            result = {\n",
        "                \"min_topic_size\": min_topic_size,\n",
        "                \"umap_components\": umap_components,\n",
        "                \"umap_neighbors\": umap_neighbors,\n",
        "                \"hdbscan_min_samples\": hdbscan_min_samples,\n",
        "                \"NMI\": quant_results[\"NMI\"],\n",
        "                \"ARI\": quant_results[\"ARI\"],\n",
        "                \"n_topics\": quant_results[\"n_topics\"],\n",
        "                \"C_v Coherence\": qual_results[\"C_v Coherence\"],\n",
        "                \"NPMI Coherence\": qual_results[\"NPMI Coherence\"],\n",
        "                \"combined_score\": combined_score\n",
        "            }\n",
        "            results.append(result)\n",
        "\n",
        "        except Exception as e:\n",
        "            print(f\"Error with hyperparameters {hyperparams}: {e}\")\n",
        "\n",
        "    # Convert to DataFrame\n",
        "    if not results:\n",
        "        print(f\"No valid results for {model_name}\")\n",
        "        return None\n",
        "\n",
        "    results_df = pd.DataFrame(results)\n",
        "\n",
        "    # Find best configuration\n",
        "    best_idx = results_df['combined_score'].idxmax()\n",
        "    best_params = {\n",
        "        \"min_topic_size\": results_df.loc[best_idx, 'min_topic_size'],\n",
        "        \"umap_components\": results_df.loc[best_idx, 'umap_components'],\n",
        "        \"umap_neighbors\": results_df.loc[best_idx, 'umap_neighbors'],\n",
        "        \"hdbscan_min_samples\": results_df.loc[best_idx, 'hdbscan_min_samples']\n",
        "    }\n",
        "\n",
        "    print(f\"\\nBest hyperparameters for {model_name}:\")\n",
        "    for param, value in best_params.items():\n",
        "        print(f\"  {param}: {value}\")\n",
        "    print(f\"Best combined score: {results_df.loc[best_idx, 'combined_score']:.4f}\")\n",
        "\n",
        "    # Save results\n",
        "    results_df.to_csv(f\"{OUTPUT_DIR}/{model_name}_hyperparameter_tuning.csv\", index=False)\n",
        "\n",
        "    # Create visualization\n",
        "    plt.figure(figsize=(12, 8))\n",
        "\n",
        "    # Plot effect of each parameter on combined score\n",
        "    for i, param in enumerate(param_grid.keys()):\n",
        "        plt.subplot(2, 2, i+1)\n",
        "        sns.boxplot(x=param, y='combined_score', data=results_df)\n",
        "        plt.title(f'Effect of {param}')\n",
        "        plt.grid(True, alpha=0.3)\n",
        "\n",
        "    plt.tight_layout()\n",
        "    plt.savefig(f\"{FIGURE_DIR}/{model_name}_hyperparameter_effects.png\", dpi=300, bbox_inches='tight')\n",
        "    plt.close()\n",
        "\n",
        "    return {\n",
        "        \"best_params\": best_params,\n",
        "        \"results_df\": results_df\n",
        "    }\n"
      ],
      "metadata": {
        "id": "Y0v8nq4YAsFk"
      },
      "execution_count": 9,
      "outputs": []
    },
    {
      "cell_type": "code",
      "source": [
        "def tune_hyperparameters_all_models(docs_df, embeddings_dict):\n",
        "    \"\"\"\n",
        "    Tune hyperparameters for all models\n",
        "\n",
        "    Args:\n",
        "        docs_df: DataFrame with document data\n",
        "        embeddings_dict: Dictionary with embeddings for each model\n",
        "\n",
        "    Returns:\n",
        "        Dictionary with tuning results for each model\n",
        "    \"\"\"\n",
        "    print(\"\\n===== Tuning Hyperparameters for All Models =====\")\n",
        "\n",
        "    texts = docs_df['processed_text'].tolist()\n",
        "    categories = docs_df['category'].tolist()\n",
        "\n",
        "    tuning_results = {}\n",
        "\n",
        "    # Tune each model\n",
        "    for model_name, embeddings in embeddings_dict.items():\n",
        "        if \"Domain-Adapted\" in model_name:  # Focus on domain-adapted models\n",
        "            print(f\"\\nTuning hyperparameters for {model_name}\")\n",
        "            model_results = tune_hyperparameters_for_model(\n",
        "                model_name=model_name,\n",
        "                embeddings=embeddings,\n",
        "                texts=texts,\n",
        "                categories=categories\n",
        "            )\n",
        "\n",
        "            if model_results:\n",
        "                tuning_results[model_name] = model_results\n",
        "\n",
        "    return tuning_results"
      ],
      "metadata": {
        "id": "uF1bnafrA4PV"
      },
      "execution_count": 10,
      "outputs": []
    },
    {
      "cell_type": "markdown",
      "source": [
        "## Run Compherensive Evaluation with Default Parameters"
      ],
      "metadata": {
        "id": "m3UpwXUE6iB9"
      }
    },
    {
      "cell_type": "code",
      "source": [
        "def run_default_evaluation(docs_df, embeddings_dict, hyperparams=None):\n",
        "    \"\"\"\n",
        "    Run evaluation with default hyperparameters\n",
        "\n",
        "    Args:\n",
        "        docs_df: DataFrame with document data\n",
        "        embeddings_dict: Dictionary with embeddings for each model\n",
        "        hyperparams: Dictionary with hyperparameters (optional)\n",
        "\n",
        "    Returns:\n",
        "        Dictionary with evaluation results\n",
        "    \"\"\"\n",
        "    print(\"\\n===== Running Evaluation with Default Parameters =====\")\n",
        "\n",
        "    # Set default hyperparameters if not provided\n",
        "    if hyperparams is None:\n",
        "        hyperparams = {\n",
        "            \"min_topic_size\": 10,\n",
        "            \"umap_components\": 5,\n",
        "            \"umap_neighbors\": 15,\n",
        "            \"hdbscan_min_samples\": 10\n",
        "        }\n",
        "\n",
        "    # Get document texts and categories\n",
        "    texts = docs_df['processed_text'].tolist()\n",
        "    categories = docs_df['category'].tolist()\n",
        "\n",
        "    # Store results\n",
        "    results = {}\n",
        "\n",
        "    # First, run the baseline model with the standard embedding approach\n",
        "    print(f\"\\n{'='*50}\")\n",
        "    print(f\"Running baseline BERTopic model with default embedding model\")\n",
        "    print(f\"{'='*50}\")\n",
        "\n",
        "    try:\n",
        "        # Create standard BERTopic model with default embedding model\n",
        "        baseline_model = BERTopic(\n",
        "            embedding_model=\"paraphrase-MiniLM-L12-v2\",\n",
        "            min_topic_size=hyperparams[\"min_topic_size\"],\n",
        "            verbose=True\n",
        "        )\n",
        "\n",
        "        # Fit and transform\n",
        "        baseline_topics, baseline_probs = baseline_model.fit_transform(texts)\n",
        "\n",
        "        # Evaluate quantitative metrics\n",
        "        quant_results = evaluate_bertopic_quantitative(baseline_topics, categories)\n",
        "        print(\"\\nQuantitative Evaluation Results:\")\n",
        "        for metric, value in quant_results.items():\n",
        "            print(f\"{metric}: {value}\")\n",
        "\n",
        "        # Evaluate qualitative metrics\n",
        "        qual_results = evaluate_bertopic_qualitative(baseline_model, baseline_topics, texts)\n",
        "        print(\"\\nQualitative Evaluation Results:\")\n",
        "        for metric, value in qual_results.items():\n",
        "            if value is not None:\n",
        "                print(f\"{metric}: {value:.4f}\")\n",
        "            else:\n",
        "                print(f\"{metric}: Not Calculated\")\n",
        "\n",
        "        # Store results\n",
        "        results[\"Baseline\"] = {\n",
        "            \"model\": baseline_model,\n",
        "            \"topics\": baseline_topics,\n",
        "            \"probs\": baseline_probs,\n",
        "            \"quantitative\": quant_results,\n",
        "            \"qualitative\": qual_results,\n",
        "            \"description\": \"Standard BERTopic with paraphrase-MiniLM-L12-v2 embeddings\"\n",
        "        }\n",
        "    except Exception as e:\n",
        "        print(f\"Error running baseline model: {e}\")\n",
        "\n",
        "    # Now run each embedding model\n",
        "    for model_name, embeddings in embeddings_dict.items():\n",
        "        print(f\"\\n{'='*50}\")\n",
        "        print(f\"Running evaluation: {model_name}\")\n",
        "        print(f\"{'='*50}\")\n",
        "\n",
        "        try:\n",
        "            # Create BERTopic model\n",
        "            topic_model = create_custom_bertopic(\n",
        "                embeddings=embeddings,\n",
        "                **hyperparams\n",
        "            )\n",
        "\n",
        "            # Fit and transform (skip the embedding step)\n",
        "            topics, probs = topic_model.fit_transform(texts, embeddings=embeddings)\n",
        "\n",
        "            # Evaluate quantitative metrics\n",
        "            quant_results = evaluate_bertopic_quantitative(topics, categories)\n",
        "            print(\"\\nQuantitative Evaluation Results:\")\n",
        "            for metric, value in quant_results.items():\n",
        "                print(f\"{metric}: {value}\")\n",
        "\n",
        "            # Evaluate qualitative metrics\n",
        "            qual_results = evaluate_bertopic_qualitative(topic_model, topics, texts)\n",
        "            print(\"\\nQualitative Evaluation Results:\")\n",
        "            for metric, value in qual_results.items():\n",
        "                if value is not None:\n",
        "                    print(f\"{metric}: {value:.4f}\")\n",
        "                else:\n",
        "                    print(f\"{metric}: Not Calculated\")\n",
        "\n",
        "            # Store results\n",
        "            results[model_name] = {\n",
        "                \"model\": topic_model,\n",
        "                \"topics\": topics,\n",
        "                \"probs\": probs,\n",
        "                \"quantitative\": quant_results,\n",
        "                \"qualitative\": qual_results,\n",
        "                \"description\": f\"{model_name} embeddings\"\n",
        "            }\n",
        "\n",
        "        except Exception as e:\n",
        "            print(f\"Error in evaluating {model_name}: {e}\")\n",
        "\n",
        "    return results"
      ],
      "metadata": {
        "id": "FBya6KQ_6lJa"
      },
      "execution_count": 11,
      "outputs": []
    },
    {
      "cell_type": "markdown",
      "source": [
        "## Run Evaluation with Tuned Parameters"
      ],
      "metadata": {
        "id": "7ZlgixuiBHow"
      }
    },
    {
      "cell_type": "code",
      "source": [
        "def run_tuned_evaluation(docs_df, embeddings_dict, tuning_results):\n",
        "    \"\"\"\n",
        "    Run evaluation with tuned hyperparameters\n",
        "\n",
        "    Args:\n",
        "        docs_df: DataFrame with document data\n",
        "        embeddings_dict: Dictionary with embeddings for each model\n",
        "        tuning_results: Dictionary with tuning results\n",
        "\n",
        "    Returns:\n",
        "        Dictionary with evaluation results\n",
        "    \"\"\"\n",
        "    print(\"\\n===== Running Evaluation with Tuned Parameters =====\")\n",
        "\n",
        "    # Get document texts and categories\n",
        "    texts = docs_df['processed_text'].tolist()\n",
        "    categories = docs_df['category'].tolist()\n",
        "\n",
        "    # Store results\n",
        "    results = {}\n",
        "\n",
        "    # Run each tuned model\n",
        "    for model_name, tuning_result in tuning_results.items():\n",
        "        if model_name not in embeddings_dict:\n",
        "            print(f\"Skipping {model_name} - embeddings not found\")\n",
        "            continue\n",
        "\n",
        "        embeddings = embeddings_dict[model_name]\n",
        "        best_params = tuning_result[\"best_params\"]\n",
        "\n",
        "        print(f\"\\n{'='*50}\")\n",
        "        print(f\"Running tuned evaluation: {model_name}\")\n",
        "        print(f\"{'='*50}\")\n",
        "\n",
        "        try:\n",
        "            # Create BERTopic model with tuned parameters\n",
        "            topic_model = create_custom_bertopic(\n",
        "                embeddings=embeddings,\n",
        "                **best_params\n",
        "            )\n",
        "\n",
        "            # Fit and transform\n",
        "            topics, probs = topic_model.fit_transform(texts, embeddings=embeddings)\n",
        "\n",
        "            # Evaluate quantitative metrics\n",
        "            quant_results = evaluate_bertopic_quantitative(topics, categories)\n",
        "            print(\"\\nQuantitative Evaluation Results:\")\n",
        "            for metric, value in quant_results.items():\n",
        "                print(f\"{metric}: {value}\")\n",
        "\n",
        "            # Evaluate qualitative metrics\n",
        "            qual_results = evaluate_bertopic_qualitative(topic_model, topics, texts)\n",
        "            print(\"\\nQualitative Evaluation Results:\")\n",
        "            for metric, value in qual_results.items():\n",
        "                if value is not None:\n",
        "                    print(f\"{metric}: {value:.4f}\")\n",
        "                else:\n",
        "                    print(f\"{metric}: Not Calculated\")\n",
        "\n",
        "            # Store results\n",
        "            results[f\"{model_name} (Tuned)\"] = {\n",
        "                \"model\": topic_model,\n",
        "                \"topics\": topics,\n",
        "                \"probs\": probs,\n",
        "                \"quantitative\": quant_results,\n",
        "                \"qualitative\": qual_results,\n",
        "                \"description\": f\"{model_name} with tuned hyperparameters\",\n",
        "                \"hyperparams\": best_params\n",
        "            }\n",
        "\n",
        "        except Exception as e:\n",
        "            print(f\"Error in evaluating tuned {model_name}: {e}\")\n",
        "\n",
        "    return results"
      ],
      "metadata": {
        "id": "8Afcbl5uBKA_"
      },
      "execution_count": 12,
      "outputs": []
    },
    {
      "cell_type": "markdown",
      "source": [
        "## Create Visualizations and Save Results"
      ],
      "metadata": {
        "id": "h4K_jgnR6-5t"
      }
    },
    {
      "cell_type": "code",
      "source": [
        "def create_comprehensive_visualizations(default_results, tuned_results=None):\n",
        "    \"\"\"\n",
        "    Create visualizations comparing all models\n",
        "\n",
        "    Args:\n",
        "        default_results: Results with default parameters\n",
        "        tuned_results: Results with tuned parameters (optional)\n",
        "\n",
        "    Returns:\n",
        "        DataFrame with summary\n",
        "    \"\"\"\n",
        "    print(\"\\n===== Creating Comprehensive Visualizations =====\")\n",
        "\n",
        "    # Create summary dataframe\n",
        "    summary = []\n",
        "\n",
        "    # Add default results\n",
        "    for name, result in default_results.items():\n",
        "        try:\n",
        "            entry = {\n",
        "                \"Model\": name,\n",
        "                \"Type\": \"Default\",\n",
        "                \"NMI\": result[\"quantitative\"][\"NMI\"],\n",
        "                \"ARI\": result[\"quantitative\"][\"ARI\"],\n",
        "                \"Topics\": result[\"quantitative\"][\"n_topics\"],\n",
        "                \"C_v Coherence\": result[\"qualitative\"][\"C_v Coherence\"],\n",
        "                \"NPMI Coherence\": result[\"qualitative\"][\"NPMI Coherence\"]\n",
        "            }\n",
        "            summary.append(entry)\n",
        "        except Exception as e:\n",
        "            print(f\"Error adding {name} to summary: {e}\")\n",
        "\n",
        "    # Add tuned results if available\n",
        "    if tuned_results:\n",
        "        for name, result in tuned_results.items():\n",
        "            try:\n",
        "                entry = {\n",
        "                    \"Model\": name,\n",
        "                    \"Type\": \"Tuned\",\n",
        "                    \"NMI\": result[\"quantitative\"][\"NMI\"],\n",
        "                    \"ARI\": result[\"quantitative\"][\"ARI\"],\n",
        "                    \"Topics\": result[\"quantitative\"][\"n_topics\"],\n",
        "                    \"C_v Coherence\": result[\"qualitative\"][\"C_v Coherence\"],\n",
        "                    \"NPMI Coherence\": result[\"qualitative\"][\"NPMI Coherence\"]\n",
        "                }\n",
        "                summary.append(entry)\n",
        "            except Exception as e:\n",
        "                print(f\"Error adding {name} to summary: {e}\")\n",
        "\n",
        "    summary_df = pd.DataFrame(summary)\n",
        "\n",
        "    # Create visualization comparing default and tuned models\n",
        "    plt.figure(figsize=(15, 10))\n",
        "\n",
        "    # NMI comparison\n",
        "    plt.subplot(2, 2, 1)\n",
        "    if tuned_results:\n",
        "        sns.barplot(x=\"Model\", y=\"NMI\", hue=\"Type\", data=summary_df)\n",
        "    else:\n",
        "        sns.barplot(x=\"Model\", y=\"NMI\", data=summary_df)\n",
        "    plt.title('NMI Comparison')\n",
        "    plt.xticks(rotation=45, ha='right')\n",
        "    plt.legend(loc='best')\n",
        "\n",
        "    # ARI comparison\n",
        "    plt.subplot(2, 2, 2)\n",
        "    if tuned_results:\n",
        "        sns.barplot(x=\"Model\", y=\"ARI\", hue=\"Type\", data=summary_df)\n",
        "    else:\n",
        "        sns.barplot(x=\"Model\", y=\"ARI\", data=summary_df)\n",
        "    plt.title('ARI Comparison')\n",
        "    plt.xticks(rotation=45, ha='right')\n",
        "    plt.legend(loc='best')\n",
        "\n",
        "    # C_v Coherence comparison\n",
        "    plt.subplot(2, 2, 3)\n",
        "    if tuned_results:\n",
        "        sns.barplot(x=\"Model\", y=\"C_v Coherence\", hue=\"Type\", data=summary_df)\n",
        "    else:\n",
        "        sns.barplot(x=\"Model\", y=\"C_v Coherence\", data=summary_df)\n",
        "    plt.title('C_v Coherence Comparison')\n",
        "    plt.xticks(rotation=45, ha='right')\n",
        "    plt.legend(loc='best')\n",
        "\n",
        "    # Topics count comparison\n",
        "    plt.subplot(2, 2, 4)\n",
        "    if tuned_results:\n",
        "        sns.barplot(x=\"Model\", y=\"Topics\", hue=\"Type\", data=summary_df)\n",
        "    else:\n",
        "        sns.barplot(x=\"Model\", y=\"Topics\", data=summary_df)\n",
        "    plt.title('Number of Topics Comparison')\n",
        "    plt.xticks(rotation=45, ha='right')\n",
        "    plt.legend(loc='best')\n",
        "\n",
        "    plt.tight_layout()\n",
        "    plt.savefig(f\"{FIGURE_DIR}/model_comparison.png\", dpi=300, bbox_inches='tight')\n",
        "\n",
        "    # Create radar chart for comparing models\n",
        "    plt.figure(figsize=(12, 10))\n",
        "\n",
        "    # Prepare the data\n",
        "    metrics = ['NMI', 'ARI', 'C_v Coherence', 'NPMI Coherence']\n",
        "\n",
        "    # Number of variables\n",
        "    N = len(metrics)\n",
        "\n",
        "    # Create angle array for radar chart\n",
        "    angles = np.linspace(0, 2*np.pi, N, endpoint=False).tolist()\n",
        "    angles += angles[:1]  # Close the loop\n",
        "\n",
        "    # Create polar plot\n",
        "    ax = plt.subplot(111, polar=True)\n",
        "\n",
        "    # Focus on key models\n",
        "    key_models = [\"Baseline\", \"TopicWeave\", \"Domain-Adapted SciBERT\", \"Domain-Adapted TopicWeave\"]\n",
        "\n",
        "    # For each model\n",
        "    for model in key_models:\n",
        "        if model in default_results:\n",
        "            values = [\n",
        "                default_results[model][\"quantitative\"][\"NMI\"],\n",
        "                default_results[model][\"quantitative\"][\"ARI\"],\n",
        "                default_results[model][\"qualitative\"][\"C_v Coherence\"] if default_results[model][\"qualitative\"][\"C_v Coherence\"] else 0,\n",
        "                default_results[model][\"qualitative\"][\"NPMI Coherence\"] if default_results[model][\"qualitative\"][\"NPMI Coherence\"] else 0\n",
        "            ]\n",
        "            values += values[:1]  # Close the loop\n",
        "\n",
        "            # Plot the model\n",
        "            ax.plot(angles, values, linewidth=2, label=model)\n",
        "            ax.fill(angles, values, alpha=0.1)\n",
        "\n",
        "    # Add tuned models to the radar chart\n",
        "    if tuned_results:\n",
        "        for model_name in tuned_results:\n",
        "            base_name = model_name.replace(\" (Tuned)\", \"\")\n",
        "            if base_name in key_models:\n",
        "                values = [\n",
        "                    tuned_results[model_name][\"quantitative\"][\"NMI\"],\n",
        "                    tuned_results[model_name][\"quantitative\"][\"ARI\"],\n",
        "                    tuned_results[model_name][\"qualitative\"][\"C_v Coherence\"] if tuned_results[model_name][\"qualitative\"][\"C_v Coherence\"] else 0,\n",
        "                    tuned_results[model_name][\"qualitative\"][\"NPMI Coherence\"] if tuned_results[model_name][\"qualitative\"][\"NPMI Coherence\"] else 0\n",
        "                ]\n",
        "                values += values[:1]  # Close the loop\n",
        "\n",
        "                # Plot the tuned model\n",
        "                ax.plot(angles, values, linewidth=2, label=f\"{base_name} (Tuned)\", linestyle='--')\n",
        "                ax.fill(angles, values, alpha=0.1)\n",
        "\n",
        "    # Set labels and title\n",
        "    ax.set_theta_offset(np.pi / 2)\n",
        "    ax.set_theta_direction(-1)\n",
        "    ax.set_thetagrids(np.degrees(angles[:-1]), metrics)\n",
        "    ax.set_title('Model Comparison across Metrics', size=15)\n",
        "    ax.legend(loc='upper right', bbox_to_anchor=(0.1, 0.1))\n",
        "\n",
        "    plt.tight_layout()\n",
        "    plt.savefig(f\"{FIGURE_DIR}/radar_chart.png\", dpi=300, bbox_inches='tight')\n",
        "    plt.close()\n",
        "\n",
        "    return summary_df"
      ],
      "metadata": {
        "id": "IjWnBKAA7DGm"
      },
      "execution_count": 13,
      "outputs": []
    },
    {
      "cell_type": "code",
      "source": [
        "def save_comprehensive_results(default_results, summary_df, domain_df, tuned_results=None):\n",
        "    \"\"\"\n",
        "    Save comprehensive evaluation results\n",
        "\n",
        "    Args:\n",
        "        default_results: Results with default parameters\n",
        "        summary_df: Summary DataFrame\n",
        "        domain_df: Domain-specific analysis DataFrame\n",
        "        tuned_results: Results with tuned parameters (optional)\n",
        "    \"\"\"\n",
        "    print(\"\\n===== Saving Comprehensive Results =====\")\n",
        "\n",
        "    # Save summary table\n",
        "    summary_df.to_csv(f\"{OUTPUT_DIR}/comprehensive_evaluation.csv\", index=False)\n",
        "\n",
        "    # Save domain-specific analysis if available\n",
        "    if domain_df is not None:\n",
        "        domain_df.to_csv(f\"{OUTPUT_DIR}/domain_specific_analysis.csv\", index=False)\n",
        "\n",
        "    # Save topic information for each model with default parameters\n",
        "    for name, result in default_results.items():\n",
        "        try:\n",
        "            model = result[\"model\"]\n",
        "            topic_info = model.get_topic_info()\n",
        "            topic_info.to_csv(f\"{OUTPUT_DIR}/{name}_topic_info.csv\", index=False)\n",
        "\n",
        "            # Save top terms for each topic\n",
        "            topics_dict = {}\n",
        "            for topic_id in topic_info['Topic']:\n",
        "                if topic_id != -1:  # Skip outlier topic\n",
        "                    topics_dict[topic_id] = model.get_topic(topic_id)\n",
        "\n",
        "            # Save topic terms as JSON\n",
        "            with open(f\"{OUTPUT_DIR}/{name}_topic_terms.json\", 'w') as f:\n",
        "                json.dump({str(k): [(str(w), float(s)) for w, s in v] for k, v in topics_dict.items()}, f, indent=2)\n",
        "\n",
        "            # Save hyperparameters if this is a tuned model\n",
        "            if \"hyperparams\" in result:\n",
        "                with open(f\"{OUTPUT_DIR}/{name}_hyperparams.json\", 'w') as f:\n",
        "                    json.dump(result[\"hyperparams\"], f, indent=2)\n",
        "        except Exception as e:\n",
        "            print(f\"Error saving topic info for {name}: {e}\")\n",
        "\n",
        "    # Helper function to make results JSON serializable\n",
        "        def convert_to_serializable(obj):\n",
        "            if isinstance(obj, np.integer):\n",
        "                return int(obj)\n",
        "            elif isinstance(obj, np.floating):\n",
        "                return float(obj)\n",
        "            elif isinstance(obj, np.ndarray):\n",
        "                return obj.tolist()\n",
        "            else:\n",
        "                return obj\n",
        "\n",
        "    # Save tuned results if available\n",
        "    if tuned_results:\n",
        "        for name, result in tuned_results.items():\n",
        "            try:\n",
        "                model = result[\"model\"]\n",
        "                topic_info = model.get_topic_info()\n",
        "                topic_info.to_csv(f\"{OUTPUT_DIR}/{name}_topic_info.csv\", index=False)\n",
        "\n",
        "                # Convert hyperparameters to serializable format\n",
        "                if \"hyperparams\" in result:\n",
        "                    serializable_hyperparams = {k: convert_to_serializable(v) for k, v in result[\"hyperparams\"].items()}\n",
        "                    with open(f\"{OUTPUT_DIR}/{name}_hyperparams.json\", 'w') as f:\n",
        "                        json.dump(serializable_hyperparams, f, indent=2)\n",
        "\n",
        "                # Save topic terms\n",
        "                topics_dict = {}\n",
        "                for topic_id in topic_info['Topic']:\n",
        "                    if topic_id != -1:  # Skip outlier topic\n",
        "                        topics_dict[topic_id] = model.get_topic(topic_id)\n",
        "\n",
        "                # Save topic terms as JSON for tuned models\n",
        "                with open(f\"{OUTPUT_DIR}/{name}_topic_terms.json\", 'w') as f:\n",
        "                    json.dump({str(convert_to_serializable(k)): [(str(w), float(s)) for w, s in v]\n",
        "                              for k, v in topics_dict.items()}, f, indent=2)\n",
        "            except Exception as e:\n",
        "                print(f\"Error saving tuned results for {name}: {e}\")\n",
        "\n",
        "    print(f\"Results saved to {OUTPUT_DIR}\")"
      ],
      "metadata": {
        "id": "476WMyUG7Im2"
      },
      "execution_count": 22,
      "outputs": []
    },
    {
      "cell_type": "code",
      "source": [
        "def create_domain_specific_analysis(default_results, tuned_results=None):\n",
        "    \"\"\"\n",
        "    Create domain-specific analysis comparing performance across domains\n",
        "\n",
        "    Args:\n",
        "        default_results: Results with default parameters\n",
        "        tuned_results: Results with tuned parameters (optional)\n",
        "\n",
        "    Returns:\n",
        "        DataFrame with domain-specific analysis\n",
        "    \"\"\"\n",
        "    print(\"\\n===== Creating Domain-Specific Analysis =====\")\n",
        "\n",
        "    # All domains used for fine-tuning\n",
        "    target_domains = [\"cs.AI\", \"cs.CL\", \"cs.CV\", \"cs.DL\", \"cs.LG\", \"math.ST\",\n",
        "                      \"physics.comp-ph\", \"q-bio.QM\", \"q-fin.ST\", \"stat.ML\"]\n",
        "\n",
        "    # Extract topics and categories\n",
        "    domain_analysis = []\n",
        "\n",
        "    # Get all documents by domain\n",
        "    docs_df = pd.read_csv(f\"{EMBEDDING_DIR}/document_info.csv\")\n",
        "\n",
        "    # Process default results\n",
        "    for model_name, result in default_results.items():\n",
        "        if \"model\" not in result or \"topics\" not in result:\n",
        "            continue\n",
        "\n",
        "        topics = result[\"topics\"]\n",
        "\n",
        "        # For each domain\n",
        "        for domain in target_domains:\n",
        "            # Get documents for this domain\n",
        "            domain_indices = docs_df[docs_df['category'] == domain].index.tolist()\n",
        "\n",
        "            if domain_indices:\n",
        "                # Get topic assignments for this domain\n",
        "                domain_topics = [topics[i] for i in domain_indices if i < len(topics)]\n",
        "                domain_categories = [domain] * len(domain_topics)\n",
        "\n",
        "                # Calculate metrics\n",
        "                try:\n",
        "                    nmi = normalized_mutual_info_score(domain_categories, domain_topics)\n",
        "                    ari = adjusted_rand_score(domain_categories, domain_topics)\n",
        "\n",
        "                    domain_analysis.append({\n",
        "                        \"Model\": model_name,\n",
        "                        \"Type\": \"Default\",\n",
        "                        \"Domain\": domain,\n",
        "                        \"NMI\": nmi,\n",
        "                        \"ARI\": ari,\n",
        "                        \"Document Count\": len(domain_indices)\n",
        "                    })\n",
        "                except Exception as e:\n",
        "                    print(f\"Error calculating metrics for {model_name} on {domain}: {e}\")\n",
        "\n",
        "    # Process tuned results if available\n",
        "    if tuned_results:\n",
        "        for model_name, result in tuned_results.items():\n",
        "            if \"model\" not in result or \"topics\" not in result:\n",
        "                continue\n",
        "\n",
        "            topics = result[\"topics\"]\n",
        "\n",
        "            # For each domain\n",
        "            for domain in target_domains:\n",
        "                # Get documents for this domain\n",
        "                domain_indices = docs_df[docs_df['category'] == domain].index.tolist()\n",
        "\n",
        "                if domain_indices:\n",
        "                    # Get topic assignments for this domain\n",
        "                    domain_topics = [topics[i] for i in domain_indices if i < len(topics)]\n",
        "                    domain_categories = [domain] * len(domain_topics)\n",
        "\n",
        "                    # Calculate metrics\n",
        "                    try:\n",
        "                        nmi = normalized_mutual_info_score(domain_categories, domain_topics)\n",
        "                        ari = adjusted_rand_score(domain_categories, domain_topics)\n",
        "\n",
        "                        domain_analysis.append({\n",
        "                            \"Model\": model_name,\n",
        "                            \"Type\": \"Tuned\",\n",
        "                            \"Domain\": domain,\n",
        "                            \"NMI\": nmi,\n",
        "                            \"ARI\": ari,\n",
        "                            \"Document Count\": len(domain_indices)\n",
        "                        })\n",
        "                    except Exception as e:\n",
        "                        print(f\"Error calculating metrics for {model_name} on {domain}: {e}\")\n",
        "\n",
        "    # Convert to DataFrame\n",
        "    domain_df = pd.DataFrame(domain_analysis)\n",
        "\n",
        "    if len(domain_df) == 0:\n",
        "        print(\"No domain-specific analysis created - empty results\")\n",
        "        return domain_df\n",
        "\n",
        "    # Save domain analysis\n",
        "    domain_df.to_csv(f\"{OUTPUT_DIR}/domain_specific_analysis.csv\", index=False)\n",
        "\n",
        "    # Create heatmap of model performance by domain\n",
        "    plt.figure(figsize=(14, 10))\n",
        "\n",
        "    # Filter to key models for more readable visualization\n",
        "    key_models = [\"Baseline\", \"TopicWeave\", \"Domain-Adapted SciBERT\", \"Domain-Adapted TopicWeave\"]\n",
        "    if tuned_results:\n",
        "        for model in key_models:\n",
        "            if f\"{model} (Tuned)\" in tuned_results:\n",
        "                key_models.append(f\"{model} (Tuned)\")\n",
        "\n",
        "    # Filter dataframe\n",
        "    plot_df = domain_df[domain_df['Model'].isin(key_models)]\n",
        "\n",
        "    # Create pivot table for NMI scores\n",
        "    heatmap_data = plot_df.pivot_table(index='Model', columns='Domain', values='NMI')\n",
        "\n",
        "    # Create heatmap\n",
        "    ax = sns.heatmap(heatmap_data, annot=True, cmap=\"viridis\", fmt=\".3f\", linewidths=0.5)\n",
        "    plt.title(\"NMI Scores by Model and Domain\")\n",
        "    plt.xticks(rotation=45, ha='right')\n",
        "    plt.tight_layout()\n",
        "    plt.savefig(f\"{FIGURE_DIR}/domain_performance_heatmap.png\", dpi=300, bbox_inches='tight')\n",
        "    plt.close()\n",
        "\n",
        "    # Create improvement visualization if tuned results available\n",
        "    if tuned_results:\n",
        "        improvement_data = []\n",
        "        for model in key_models:\n",
        "            if model in default_results and f\"{model} (Tuned)\" in tuned_results:\n",
        "                # For each domain\n",
        "                for domain in target_domains:\n",
        "                    default_nmi = plot_df[(plot_df['Model'] == model) &\n",
        "                                          (plot_df['Domain'] == domain)]['NMI'].values\n",
        "                    tuned_nmi = plot_df[(plot_df['Model'] == f\"{model} (Tuned)\") &\n",
        "                                        (plot_df['Domain'] == domain)]['NMI'].values\n",
        "\n",
        "                    if len(default_nmi) > 0 and len(tuned_nmi) > 0:\n",
        "                        improvement = float(tuned_nmi[0]) - float(default_nmi[0])\n",
        "                        improvement_data.append({\n",
        "                            \"Model\": model,\n",
        "                            \"Domain\": domain,\n",
        "                            \"Improvement\": improvement,\n",
        "                            \"Improvement %\": improvement / float(default_nmi[0]) * 100 if float(default_nmi[0]) != 0 else 0\n",
        "                        })\n",
        "\n",
        "        if improvement_data:\n",
        "            # Create improvement dataframe\n",
        "            imp_df = pd.DataFrame(improvement_data)\n",
        "\n",
        "            # Create heatmap of improvements\n",
        "            plt.figure(figsize=(14, 10))\n",
        "            imp_pivot = imp_df.pivot_table(index='Model', columns='Domain', values='Improvement')\n",
        "            sns.heatmap(imp_pivot, annot=True, cmap=\"RdYlGn\", fmt=\".3f\", center=0, linewidths=0.5)\n",
        "            plt.title(\"NMI Improvement from Hyperparameter Tuning by Domain\")\n",
        "            plt.xticks(rotation=45, ha='right')\n",
        "            plt.tight_layout()\n",
        "            plt.savefig(f\"{FIGURE_DIR}/tuning_improvement_heatmap.png\", dpi=300, bbox_inches='tight')\n",
        "            plt.close()\n",
        "\n",
        "    return domain_df"
      ],
      "metadata": {
        "id": "_iLvWE0m7Mza"
      },
      "execution_count": 15,
      "outputs": []
    },
    {
      "cell_type": "markdown",
      "source": [
        "## Main Execution"
      ],
      "metadata": {
        "id": "UNb0Xk9I7U-s"
      }
    },
    {
      "cell_type": "code",
      "source": [
        "start_time = datetime.now()\n",
        "\n",
        "# Step 1: Load all embeddings\n",
        "docs_df, embeddings_dict = load_all_embeddings()"
      ],
      "metadata": {
        "id": "u2DprzFc7Xe0",
        "colab": {
          "base_uri": "https://localhost:8080/"
        },
        "outputId": "8ff42ba0-c173-4c99-f92a-82a0703c8dfb"
      },
      "execution_count": 16,
      "outputs": [
        {
          "output_type": "stream",
          "name": "stdout",
          "text": [
            "\n",
            "===== Loading All Embeddings =====\n",
            "Loaded embeddings for the following models:\n",
            "  - TopicWeave: (45655, 768)\n",
            "  - SciBERT: (45655, 768)\n",
            "  - Citation: (45655, 768)\n",
            "  - Domain-Adapted SciBERT: (45655, 768)\n",
            "  - Domain-Adapted TopicWeave: (45655, 768)\n"
          ]
        }
      ]
    },
    {
      "cell_type": "code",
      "source": [
        "# Step 2: Run default evaluation\n",
        "print(\"\\n[Step 2]: Running evaluation with default parameters\")\n",
        "default_results = run_default_evaluation(docs_df, embeddings_dict)"
      ],
      "metadata": {
        "id": "gTqapJEq704b",
        "colab": {
          "base_uri": "https://localhost:8080/",
          "height": 1000,
          "referenced_widgets": [
            "8493135e15bd47b28b69e2f9995801f3",
            "65c665e2ee3b462ebea21b4c18de4e58",
            "0c2f31a1d306430987b89630cccabc41",
            "aa7c0edf3db949d3a109b76d86d9568a",
            "e59df4f46336495cb9a6bf8a1368d243",
            "4fa29d40dc324dd1b7e86a98ab3cf604",
            "bfddfbbbf4654bc4afc5a768b3f4577f",
            "ac8e54f7e18644b1885dd01b16694237",
            "32787c261ac44b90945b0d527f26f6c7",
            "c6c994eeb0454a7cbacce1920a731712",
            "18a338c2226d4ca6936ce6f7f5fe67b6",
            "4c22020b21a040ae85841c7a871eb97d",
            "7c98c1e786b643b6bc6781dbb04df378",
            "e6556c85b91d420495799d9c55bbc729",
            "d5fd409763874e0a8ae8723cc8d33cb3",
            "d3311098982b465abf3b58666c251ca2",
            "88af6b06a033433dbca66d60b3841138",
            "e015c43dcb3f4a9aad2f83ccdc135034",
            "83d5eb08635b40b192a48545d0dc720f",
            "2965b0a5af384a1e8a3ba86fabfb7e30",
            "4dedd14c75e3418e9eb9a651b371fc8f",
            "6eebe755161747c486818a6e426b07ea",
            "f0bdd14087784b9f85e2a348b1e8cd28",
            "3ec4d186d1d64047afaca3cdf46f9b51",
            "021a84ea85c24ab4a2409aac78261a81",
            "fd2f9f2049a1492cb62f64030c1811e4",
            "56431d8922584fe6b90383c5e4825a6e",
            "7bb281646af548e898871e0248271390",
            "c99ed8354d52446381f122b3fdabadac",
            "97fca3b40d9441f5ae63605f07c394cf",
            "2282cf0e4b594c6ebd946aba3ee9d83a",
            "183915bf9dc2424a922597ce3510f6da",
            "fc9b252be5b54167aeb6ae6c915d8af8",
            "ea4a5eeb3fe448489f9d3b37bb757233",
            "9ff00d12346a42febe74f4b3a9a98605",
            "7aa1811a8a774a28a1c9269a6ff494fe",
            "dceac534350446568e4b46fbce4f2741",
            "cf7cbff02e5849af8ec42a05b87202e6",
            "f2e0f5be7b384ff3b08771aa3f557d50",
            "d38504a1ce7848f98a78d1f771b0fdde",
            "0c8a4d4538724bcab34ec3d25020f163",
            "68b2f36f007c40f4aa029ccb17a254a6",
            "4bb0bbab5d4342adbcb9253b3bea5c1e",
            "e170159531b54d5c9c620eb93536d225",
            "270951dd378546d4ac1e1b42c6af922e",
            "6fe92f0c24b2438aa1cf8828f920ea4a",
            "91bfcfeee8684d4dbbd6f42cf5a2eaed",
            "3c8b4e631ae44187a692d20b630a61ce",
            "459103e63c334e628b21b9173c51ebbc",
            "716ec674b92f496eb75b17c2b5999e64",
            "1bb5eeb123a44db6917af8e67f948f50",
            "219515c62e2f44ecb028687fa0fdb339",
            "7cade5c431ef47ea8a687e7a0c1ec199",
            "c0b9d8c9adc649b09a2bf9a1a48e09cd",
            "08f6a173789649519bdad76a5fd4dca7",
            "b576385c599c46899106bc89422db74b",
            "a8ec73f4a4f9440882937fe6676c2413",
            "78b9ef45e48345e7b0a2dee126ee688b",
            "ecadb50c10684a0191ba280d46f4e48b",
            "e92e650bf4854d0a89e6c8f145d6023d",
            "98740b5464804acd8dbf8cbe9429c8a6",
            "00f6439415aa4e468d1b44ba62fb0d9e",
            "823050715cb24ce2b7098530f63e0004",
            "8465854bbcae464f8dca6c63aad577f4",
            "7361378519534aafbd1a4c2fe70bec80",
            "37c7bd836e424962b68ac0f708748c80",
            "78701f10ed8a4a53a41007140b4afaeb",
            "38be6d74d9a14eb7802ed98f25327354",
            "98aa99b1488640b5be7dc92d32b8cc12",
            "7a594e569f3b41838fe04f5d7e85c928",
            "4dfbd68c372640388f72657402399f41",
            "04a36b23a2ce454c9810c89017dbfbb6",
            "e3cd825ae01e498c923fbdcd63f2037f",
            "f0a3502046574dc9a4875851acf06bfb",
            "d5a2891385a24b088378cc5b66a90f74",
            "5cae75bb25b24a8bbc763bedbb0743dc",
            "8e7a5931215d45638e33b106cf3ad653",
            "8eb69dbc021040caa8d58328a1d35e0d",
            "296d2d28ce24489692a72b0f0cd3be11",
            "bde296f578c84a36a4b73c873fe77a06",
            "5ef0cc96b9314357b0a587f6e084f501",
            "29d96f5586e5475ca2904e4e5de474a0",
            "22c48ba33b894f93a52b5c55e7b353d3",
            "006dc2c439d0424d982f890b9f763543",
            "da3a1a5e52794b389fe310619ad2b379",
            "a9320b571d53456fbec2e2e795d4db5e",
            "538c577edf9d439ebb6375a0fcbd3a3a",
            "8d4db0047ccb400e8a96b24f85a6c5c3",
            "93415568d5794912aa22c07f9420b546",
            "73b7aa2aa66c4bc3bc707f381ef6ab5b",
            "781b9dd08d8e45baad71ecc23e48dd17",
            "f2fcdf690cff444d9ec090d93e867b70",
            "242e9bd39da84355a4e39d5212ba1166",
            "c2aa2e07df4841c3817cb4502c3f1685",
            "484b8904d8204c8bae68007735474f37",
            "6d39f38bed6846269fac02cc5cd0d209",
            "7ca3f8724e3e487cb3796b371ee977af",
            "034268e6efa14abbafb80d7fa9b26efe",
            "a05a5b184c004d9b9b6bbcf16419c438",
            "600cd94469f340318c3f2de1be2c2637",
            "3840a9cc686f4402a062e1e05984adb7",
            "581691eede194f41bbc2e1e3238ee95e",
            "18de8cbc4f1446278e48ed468c46702c",
            "c6e8b6fde3f94af5a9bf79462e7e5e2b",
            "0a433b62446f4a5ba646f263ac41eef9",
            "34233d11a5c64692a4542ee4e826438f",
            "755630721e6d43368482cdbfc250d75b",
            "165b9db2ad62443fb09b8d7b2099bd27",
            "04842f1f8314450e8726d815ffab23d0",
            "bba68993661549888f761c51ada1b9ee",
            "4effb34db1cd4c18a7cce5d1f5d9f367",
            "7c1bf2b54e05458cb2205414758dcd6d",
            "0095c1a9bc4a45a58dd7c7fd35117b57",
            "74cd83480efe404685c7b11d7065006e",
            "04e9cbcbe90145f4bed6a63e5b4be5fa",
            "e101a51f81ca42248fa0dcf31f343a02",
            "4894a3441c6d4a06b32ca94c5b829c1e",
            "1e5bba7ff89545e2acc7d4b3e164734e",
            "adaab56ce85b4a28a809c0b423a48f3d",
            "eb8941e4f9cb412c99eeb3445a676650",
            "8ff01fb04208470e9f9201029810f9b0",
            "91ba066f53be456993458fc5dad011f8",
            "e12ea78ad9cd4d6cbd0987d1c908f1fb",
            "b7a914181ee246ed938090556d8eedae",
            "ed409085a34d43d5a0c44babaec224fb",
            "4eff0104ffd0412cb73a44b4b9f88060",
            "e4b44c18ae894acfbb6602281c7d697a",
            "e434ec3b549e4c3fb86e1531d8ef69cd",
            "e43c291b37bd403e8b41c5f5868f6c32",
            "6152ea2b681a433b96665fa481290b7d",
            "4f8c76403abd4661bc5dc167dbd03c16",
            "757bcb05c4214b2f86c2bf08af7feae3"
          ]
        },
        "outputId": "764055a7-83c1-436e-d983-6afc44951bfe"
      },
      "execution_count": 17,
      "outputs": [
        {
          "output_type": "stream",
          "name": "stderr",
          "text": [
            "2025-03-30 22:19:08,084 - BERTopic - Embedding - Transforming documents to embeddings.\n"
          ]
        },
        {
          "output_type": "stream",
          "name": "stdout",
          "text": [
            "\n",
            "[Step 2]: Running evaluation with default parameters\n",
            "\n",
            "===== Running Evaluation with Default Parameters =====\n",
            "\n",
            "==================================================\n",
            "Running baseline BERTopic model with default embedding model\n",
            "==================================================\n"
          ]
        },
        {
          "output_type": "display_data",
          "data": {
            "text/plain": [
              "modules.json:   0%|          | 0.00/229 [00:00<?, ?B/s]"
            ],
            "application/vnd.jupyter.widget-view+json": {
              "version_major": 2,
              "version_minor": 0,
              "model_id": "8493135e15bd47b28b69e2f9995801f3"
            }
          },
          "metadata": {}
        },
        {
          "output_type": "display_data",
          "data": {
            "text/plain": [
              "config_sentence_transformers.json:   0%|          | 0.00/122 [00:00<?, ?B/s]"
            ],
            "application/vnd.jupyter.widget-view+json": {
              "version_major": 2,
              "version_minor": 0,
              "model_id": "4c22020b21a040ae85841c7a871eb97d"
            }
          },
          "metadata": {}
        },
        {
          "output_type": "display_data",
          "data": {
            "text/plain": [
              "README.md:   0%|          | 0.00/3.52k [00:00<?, ?B/s]"
            ],
            "application/vnd.jupyter.widget-view+json": {
              "version_major": 2,
              "version_minor": 0,
              "model_id": "f0bdd14087784b9f85e2a348b1e8cd28"
            }
          },
          "metadata": {}
        },
        {
          "output_type": "display_data",
          "data": {
            "text/plain": [
              "sentence_bert_config.json:   0%|          | 0.00/53.0 [00:00<?, ?B/s]"
            ],
            "application/vnd.jupyter.widget-view+json": {
              "version_major": 2,
              "version_minor": 0,
              "model_id": "ea4a5eeb3fe448489f9d3b37bb757233"
            }
          },
          "metadata": {}
        },
        {
          "output_type": "display_data",
          "data": {
            "text/plain": [
              "config.json:   0%|          | 0.00/631 [00:00<?, ?B/s]"
            ],
            "application/vnd.jupyter.widget-view+json": {
              "version_major": 2,
              "version_minor": 0,
              "model_id": "270951dd378546d4ac1e1b42c6af922e"
            }
          },
          "metadata": {}
        },
        {
          "output_type": "display_data",
          "data": {
            "text/plain": [
              "model.safetensors:   0%|          | 0.00/133M [00:00<?, ?B/s]"
            ],
            "application/vnd.jupyter.widget-view+json": {
              "version_major": 2,
              "version_minor": 0,
              "model_id": "b576385c599c46899106bc89422db74b"
            }
          },
          "metadata": {}
        },
        {
          "output_type": "display_data",
          "data": {
            "text/plain": [
              "tokenizer_config.json:   0%|          | 0.00/316 [00:00<?, ?B/s]"
            ],
            "application/vnd.jupyter.widget-view+json": {
              "version_major": 2,
              "version_minor": 0,
              "model_id": "78701f10ed8a4a53a41007140b4afaeb"
            }
          },
          "metadata": {}
        },
        {
          "output_type": "display_data",
          "data": {
            "text/plain": [
              "vocab.txt:   0%|          | 0.00/232k [00:00<?, ?B/s]"
            ],
            "application/vnd.jupyter.widget-view+json": {
              "version_major": 2,
              "version_minor": 0,
              "model_id": "8eb69dbc021040caa8d58328a1d35e0d"
            }
          },
          "metadata": {}
        },
        {
          "output_type": "display_data",
          "data": {
            "text/plain": [
              "tokenizer.json:   0%|          | 0.00/466k [00:00<?, ?B/s]"
            ],
            "application/vnd.jupyter.widget-view+json": {
              "version_major": 2,
              "version_minor": 0,
              "model_id": "93415568d5794912aa22c07f9420b546"
            }
          },
          "metadata": {}
        },
        {
          "output_type": "display_data",
          "data": {
            "text/plain": [
              "special_tokens_map.json:   0%|          | 0.00/112 [00:00<?, ?B/s]"
            ],
            "application/vnd.jupyter.widget-view+json": {
              "version_major": 2,
              "version_minor": 0,
              "model_id": "600cd94469f340318c3f2de1be2c2637"
            }
          },
          "metadata": {}
        },
        {
          "output_type": "display_data",
          "data": {
            "text/plain": [
              "config.json:   0%|          | 0.00/190 [00:00<?, ?B/s]"
            ],
            "application/vnd.jupyter.widget-view+json": {
              "version_major": 2,
              "version_minor": 0,
              "model_id": "4effb34db1cd4c18a7cce5d1f5d9f367"
            }
          },
          "metadata": {}
        },
        {
          "output_type": "display_data",
          "data": {
            "text/plain": [
              "Batches:   0%|          | 0/1427 [00:00<?, ?it/s]"
            ],
            "application/vnd.jupyter.widget-view+json": {
              "version_major": 2,
              "version_minor": 0,
              "model_id": "91ba066f53be456993458fc5dad011f8"
            }
          },
          "metadata": {}
        },
        {
          "output_type": "stream",
          "name": "stderr",
          "text": [
            "2025-03-30 22:20:00,855 - BERTopic - Embedding - Completed ✓\n",
            "2025-03-30 22:20:00,856 - BERTopic - Dimensionality - Fitting the dimensionality reduction algorithm\n",
            "2025-03-30 22:20:37,274 - BERTopic - Dimensionality - Completed ✓\n",
            "2025-03-30 22:20:37,276 - BERTopic - Cluster - Start clustering the reduced embeddings\n",
            "2025-03-30 22:20:40,856 - BERTopic - Cluster - Completed ✓\n",
            "2025-03-30 22:20:40,877 - BERTopic - Representation - Fine-tuning topics using representation models.\n",
            "2025-03-30 22:20:44,290 - BERTopic - Representation - Completed ✓\n"
          ]
        },
        {
          "output_type": "stream",
          "name": "stdout",
          "text": [
            "\n",
            "Quantitative Evaluation Results:\n",
            "NMI: 0.2942962802150318\n",
            "ARI: 0.02516090540233512\n",
            "n_topics: 364\n",
            "n_categories: 10\n",
            "Building dictionary and corpus...\n",
            "Analyzing 364 unique topics (excluding outliers)\n",
            "Successfully extracted words for 364 topics (skipped 0)\n",
            "Calculating NPMI coherence...\n"
          ]
        },
        {
          "output_type": "stream",
          "name": "stderr",
          "text": [
            "2025-03-30 22:22:06,647 - BERTopic - Dimensionality - Fitting the dimensionality reduction algorithm\n"
          ]
        },
        {
          "output_type": "stream",
          "name": "stdout",
          "text": [
            "\n",
            "Qualitative Evaluation Results:\n",
            "C_v Coherence: 0.5788\n",
            "NPMI Coherence: 0.0989\n",
            "\n",
            "==================================================\n",
            "Running evaluation: TopicWeave\n",
            "==================================================\n"
          ]
        },
        {
          "output_type": "stream",
          "name": "stderr",
          "text": [
            "2025-03-30 22:23:03,000 - BERTopic - Dimensionality - Completed ✓\n",
            "2025-03-30 22:23:03,002 - BERTopic - Cluster - Start clustering the reduced embeddings\n",
            "2025-03-30 22:23:05,006 - BERTopic - Cluster - Completed ✓\n",
            "2025-03-30 22:23:05,018 - BERTopic - Representation - Fine-tuning topics using representation models.\n",
            "2025-03-30 22:23:09,219 - BERTopic - Representation - Completed ✓\n"
          ]
        },
        {
          "output_type": "stream",
          "name": "stdout",
          "text": [
            "\n",
            "Quantitative Evaluation Results:\n",
            "NMI: 0.335306882303558\n",
            "ARI: 0.030723056384189866\n",
            "n_topics: 370\n",
            "n_categories: 10\n",
            "Building dictionary and corpus...\n",
            "Analyzing 370 unique topics (excluding outliers)\n",
            "Successfully extracted words for 370 topics (skipped 0)\n",
            "Calculating NPMI coherence...\n"
          ]
        },
        {
          "output_type": "stream",
          "name": "stderr",
          "text": [
            "2025-03-30 22:24:16,804 - BERTopic - Dimensionality - Fitting the dimensionality reduction algorithm\n"
          ]
        },
        {
          "output_type": "stream",
          "name": "stdout",
          "text": [
            "\n",
            "Qualitative Evaluation Results:\n",
            "C_v Coherence: 0.6000\n",
            "NPMI Coherence: 0.1026\n",
            "\n",
            "==================================================\n",
            "Running evaluation: SciBERT\n",
            "==================================================\n"
          ]
        },
        {
          "output_type": "stream",
          "name": "stderr",
          "text": [
            "2025-03-30 22:25:12,313 - BERTopic - Dimensionality - Completed ✓\n",
            "2025-03-30 22:25:12,315 - BERTopic - Cluster - Start clustering the reduced embeddings\n",
            "2025-03-30 22:25:14,348 - BERTopic - Cluster - Completed ✓\n",
            "2025-03-30 22:25:14,358 - BERTopic - Representation - Fine-tuning topics using representation models.\n",
            "2025-03-30 22:25:18,262 - BERTopic - Representation - Completed ✓\n"
          ]
        },
        {
          "output_type": "stream",
          "name": "stdout",
          "text": [
            "\n",
            "Quantitative Evaluation Results:\n",
            "NMI: 0.16203598222279333\n",
            "ARI: 0.010627533581384548\n",
            "n_topics: 53\n",
            "n_categories: 10\n",
            "Building dictionary and corpus...\n",
            "Analyzing 53 unique topics (excluding outliers)\n",
            "Successfully extracted words for 53 topics (skipped 0)\n",
            "Calculating NPMI coherence...\n"
          ]
        },
        {
          "output_type": "stream",
          "name": "stderr",
          "text": [
            "2025-03-30 22:25:49,327 - BERTopic - Dimensionality - Fitting the dimensionality reduction algorithm\n"
          ]
        },
        {
          "output_type": "stream",
          "name": "stdout",
          "text": [
            "\n",
            "Qualitative Evaluation Results:\n",
            "C_v Coherence: 0.6195\n",
            "NPMI Coherence: 0.1104\n",
            "\n",
            "==================================================\n",
            "Running evaluation: Citation\n",
            "==================================================\n"
          ]
        },
        {
          "output_type": "stream",
          "name": "stderr",
          "text": [
            "2025-03-30 22:26:46,980 - BERTopic - Dimensionality - Completed ✓\n",
            "2025-03-30 22:26:46,982 - BERTopic - Cluster - Start clustering the reduced embeddings\n",
            "2025-03-30 22:26:48,962 - BERTopic - Cluster - Completed ✓\n",
            "2025-03-30 22:26:48,975 - BERTopic - Representation - Fine-tuning topics using representation models.\n",
            "2025-03-30 22:26:53,213 - BERTopic - Representation - Completed ✓\n"
          ]
        },
        {
          "output_type": "stream",
          "name": "stdout",
          "text": [
            "\n",
            "Quantitative Evaluation Results:\n",
            "NMI: 0.33492775997965296\n",
            "ARI: 0.03738078092359722\n",
            "n_topics: 380\n",
            "n_categories: 10\n",
            "Building dictionary and corpus...\n",
            "Analyzing 380 unique topics (excluding outliers)\n",
            "Successfully extracted words for 380 topics (skipped 0)\n",
            "Calculating NPMI coherence...\n"
          ]
        },
        {
          "output_type": "stream",
          "name": "stderr",
          "text": [
            "2025-03-30 22:28:13,338 - BERTopic - Dimensionality - Fitting the dimensionality reduction algorithm\n"
          ]
        },
        {
          "output_type": "stream",
          "name": "stdout",
          "text": [
            "\n",
            "Qualitative Evaluation Results:\n",
            "C_v Coherence: 0.5884\n",
            "NPMI Coherence: 0.0992\n",
            "\n",
            "==================================================\n",
            "Running evaluation: Domain-Adapted SciBERT\n",
            "==================================================\n"
          ]
        },
        {
          "output_type": "stream",
          "name": "stderr",
          "text": [
            "2025-03-30 22:29:08,507 - BERTopic - Dimensionality - Completed ✓\n",
            "2025-03-30 22:29:08,509 - BERTopic - Cluster - Start clustering the reduced embeddings\n",
            "2025-03-30 22:29:10,689 - BERTopic - Cluster - Completed ✓\n",
            "2025-03-30 22:29:10,701 - BERTopic - Representation - Fine-tuning topics using representation models.\n",
            "2025-03-30 22:29:14,831 - BERTopic - Representation - Completed ✓\n"
          ]
        },
        {
          "output_type": "stream",
          "name": "stdout",
          "text": [
            "\n",
            "Quantitative Evaluation Results:\n",
            "NMI: 0.31562144403223347\n",
            "ARI: 0.027517050020383932\n",
            "n_topics: 315\n",
            "n_categories: 10\n",
            "Building dictionary and corpus...\n",
            "Analyzing 315 unique topics (excluding outliers)\n",
            "Successfully extracted words for 315 topics (skipped 0)\n",
            "Calculating NPMI coherence...\n"
          ]
        },
        {
          "output_type": "stream",
          "name": "stderr",
          "text": [
            "2025-03-30 22:30:29,471 - BERTopic - Dimensionality - Fitting the dimensionality reduction algorithm\n"
          ]
        },
        {
          "output_type": "stream",
          "name": "stdout",
          "text": [
            "\n",
            "Qualitative Evaluation Results:\n",
            "C_v Coherence: 0.5922\n",
            "NPMI Coherence: 0.1100\n",
            "\n",
            "==================================================\n",
            "Running evaluation: Domain-Adapted TopicWeave\n",
            "==================================================\n"
          ]
        },
        {
          "output_type": "stream",
          "name": "stderr",
          "text": [
            "2025-03-30 22:31:25,269 - BERTopic - Dimensionality - Completed ✓\n",
            "2025-03-30 22:31:25,271 - BERTopic - Cluster - Start clustering the reduced embeddings\n",
            "2025-03-30 22:31:27,324 - BERTopic - Cluster - Completed ✓\n",
            "2025-03-30 22:31:27,336 - BERTopic - Representation - Fine-tuning topics using representation models.\n",
            "2025-03-30 22:31:31,549 - BERTopic - Representation - Completed ✓\n"
          ]
        },
        {
          "output_type": "stream",
          "name": "stdout",
          "text": [
            "\n",
            "Quantitative Evaluation Results:\n",
            "NMI: 0.35759476084211494\n",
            "ARI: 0.06715870438731443\n",
            "n_topics: 301\n",
            "n_categories: 10\n",
            "Building dictionary and corpus...\n",
            "Analyzing 301 unique topics (excluding outliers)\n",
            "Successfully extracted words for 301 topics (skipped 0)\n",
            "Calculating NPMI coherence...\n",
            "\n",
            "Qualitative Evaluation Results:\n",
            "C_v Coherence: 0.6040\n",
            "NPMI Coherence: 0.1135\n"
          ]
        }
      ]
    },
    {
      "cell_type": "code",
      "source": [
        "# Step 3: Run hyperparameter tuning (optional)\n",
        "run_tuning = True  # Set to False to skip tuning\n",
        "if run_tuning:\n",
        "    print(\"\\n[Step 3]: Tuning hyperparameters for domain-adapted models\")\n",
        "    # Only tune the domain-adapted models to save time\n",
        "    tuning_models = {k: v for k, v in embeddings_dict.items() if \"Domain-Adapted\" in k}\n",
        "    tuning_results = tune_hyperparameters_all_models(docs_df, tuning_models)\n",
        "\n",
        "    # Step 4: Run evaluation with tuned parameters\n",
        "    print(\"\\n[Step 4]: Running evaluation with tuned parameters\")\n",
        "    tuned_results = run_tuned_evaluation(docs_df, embeddings_dict, tuning_results)\n",
        "else:\n",
        "    tuning_results = None\n",
        "    tuned_results = None"
      ],
      "metadata": {
        "id": "SZSk9AMy74cS",
        "colab": {
          "base_uri": "https://localhost:8080/",
          "height": 1000,
          "referenced_widgets": [
            "e79899c502084df69ad1a2cf9ff49a03",
            "d3d9abc38cb04696bd39be166a138e88",
            "098b36aa21c14dcc82d98378b1d611ce",
            "10c4ef8d27284cc2be360f88f34c42e6",
            "7ab3b5e7767d4bc3b225d0a2fa672843",
            "3baff9c989e0490ea70eee7a7443c719",
            "70679ab0a18245e98aa825d1fcebf493",
            "123ca81b76f84a2c8e653088a07a7baf",
            "ed0d736be6f24e02ac2f172e015a908e",
            "736fee1171334c21bb1a6b6458393452",
            "d02107bf118a4458ae22ab9219ec11b3",
            "fa40bd0f3a71420e94678a90e51b82da"
          ]
        },
        "outputId": "4bc37112-2f30-4fa3-dbe9-4056234842fd"
      },
      "execution_count": 18,
      "outputs": [
        {
          "metadata": {
            "tags": null
          },
          "name": "stdout",
          "output_type": "stream",
          "text": [
            "\n",
            "[Step 3]: Tuning hyperparameters for domain-adapted models\n",
            "\n",
            "===== Tuning Hyperparameters for All Models =====\n",
            "\n",
            "Tuning hyperparameters for Domain-Adapted SciBERT\n",
            "\n",
            "===== Tuning Hyperparameters for Domain-Adapted SciBERT =====\n",
            "Testing 54 parameter combinations\n"
          ]
        },
        {
          "data": {
            "application/vnd.jupyter.widget-view+json": {
              "model_id": "e79899c502084df69ad1a2cf9ff49a03",
              "version_major": 2,
              "version_minor": 0
            },
            "text/plain": [
              "  0%|          | 0/54 [00:00<?, ?it/s]"
            ]
          },
          "metadata": {},
          "output_type": "display_data"
        },
        {
          "metadata": {
            "tags": null
          },
          "name": "stderr",
          "output_type": "stream",
          "text": [
            "2025-03-30 22:32:39,658 - BERTopic - Dimensionality - Fitting the dimensionality reduction algorithm\n",
            "2025-03-30 22:33:27,772 - BERTopic - Dimensionality - Completed ✓\n",
            "2025-03-30 22:33:27,774 - BERTopic - Cluster - Start clustering the reduced embeddings\n",
            "2025-03-30 22:33:30,489 - BERTopic - Cluster - Completed ✓\n",
            "2025-03-30 22:33:30,504 - BERTopic - Representation - Fine-tuning topics using representation models.\n",
            "2025-03-30 22:33:35,378 - BERTopic - Representation - Completed ✓\n"
          ]
        },
        {
          "metadata": {
            "tags": null
          },
          "name": "stdout",
          "output_type": "stream",
          "text": [
            "Building dictionary and corpus...\n",
            "Analyzing 1008 unique topics (excluding outliers)\n",
            "Successfully extracted words for 1008 topics (skipped 0)\n",
            "Calculating NPMI coherence...\n"
          ]
        },
        {
          "metadata": {
            "tags": null
          },
          "name": "stderr",
          "output_type": "stream",
          "text": [
            "2025-03-30 22:38:22,968 - BERTopic - Dimensionality - Fitting the dimensionality reduction algorithm\n",
            "2025-03-30 22:39:07,739 - BERTopic - Dimensionality - Completed ✓\n",
            "2025-03-30 22:39:07,741 - BERTopic - Cluster - Start clustering the reduced embeddings\n",
            "2025-03-30 22:39:11,595 - BERTopic - Cluster - Completed ✓\n",
            "2025-03-30 22:39:11,609 - BERTopic - Representation - Fine-tuning topics using representation models.\n",
            "2025-03-30 22:39:16,137 - BERTopic - Representation - Completed ✓\n"
          ]
        },
        {
          "metadata": {
            "tags": null
          },
          "name": "stdout",
          "output_type": "stream",
          "text": [
            "Building dictionary and corpus...\n",
            "Analyzing 502 unique topics (excluding outliers)\n",
            "Successfully extracted words for 502 topics (skipped 0)\n",
            "Calculating NPMI coherence...\n"
          ]
        },
        {
          "metadata": {
            "tags": null
          },
          "name": "stderr",
          "output_type": "stream",
          "text": [
            "2025-03-30 22:40:52,902 - BERTopic - Dimensionality - Fitting the dimensionality reduction algorithm\n",
            "2025-03-30 22:41:37,845 - BERTopic - Dimensionality - Completed ✓\n",
            "2025-03-30 22:41:37,847 - BERTopic - Cluster - Start clustering the reduced embeddings\n",
            "2025-03-30 22:41:39,995 - BERTopic - Cluster - Completed ✓\n",
            "2025-03-30 22:41:40,007 - BERTopic - Representation - Fine-tuning topics using representation models.\n",
            "2025-03-30 22:41:44,221 - BERTopic - Representation - Completed ✓\n"
          ]
        },
        {
          "metadata": {
            "tags": null
          },
          "name": "stdout",
          "output_type": "stream",
          "text": [
            "Building dictionary and corpus...\n",
            "Analyzing 307 unique topics (excluding outliers)\n",
            "Successfully extracted words for 307 topics (skipped 0)\n",
            "Calculating NPMI coherence...\n"
          ]
        },
        {
          "metadata": {
            "tags": null
          },
          "name": "stderr",
          "output_type": "stream",
          "text": [
            "2025-03-30 22:42:56,695 - BERTopic - Dimensionality - Fitting the dimensionality reduction algorithm\n",
            "2025-03-30 22:43:52,325 - BERTopic - Dimensionality - Completed ✓\n",
            "2025-03-30 22:43:52,327 - BERTopic - Cluster - Start clustering the reduced embeddings\n",
            "2025-03-30 22:43:55,040 - BERTopic - Cluster - Completed ✓\n",
            "2025-03-30 22:43:55,055 - BERTopic - Representation - Fine-tuning topics using representation models.\n",
            "2025-03-30 22:43:59,741 - BERTopic - Representation - Completed ✓\n"
          ]
        },
        {
          "metadata": {
            "tags": null
          },
          "name": "stdout",
          "output_type": "stream",
          "text": [
            "Building dictionary and corpus...\n",
            "Analyzing 814 unique topics (excluding outliers)\n",
            "Successfully extracted words for 814 topics (skipped 0)\n",
            "Calculating NPMI coherence...\n"
          ]
        },
        {
          "metadata": {
            "tags": null
          },
          "name": "stderr",
          "output_type": "stream",
          "text": [
            "2025-03-30 22:47:26,542 - BERTopic - Dimensionality - Fitting the dimensionality reduction algorithm\n",
            "2025-03-30 22:48:22,598 - BERTopic - Dimensionality - Completed ✓\n",
            "2025-03-30 22:48:22,599 - BERTopic - Cluster - Start clustering the reduced embeddings\n",
            "2025-03-30 22:48:24,911 - BERTopic - Cluster - Completed ✓\n",
            "2025-03-30 22:48:24,923 - BERTopic - Representation - Fine-tuning topics using representation models.\n",
            "2025-03-30 22:48:29,249 - BERTopic - Representation - Completed ✓\n"
          ]
        },
        {
          "metadata": {
            "tags": null
          },
          "name": "stdout",
          "output_type": "stream",
          "text": [
            "Building dictionary and corpus...\n",
            "Analyzing 393 unique topics (excluding outliers)\n",
            "Successfully extracted words for 393 topics (skipped 0)\n",
            "Calculating NPMI coherence...\n"
          ]
        },
        {
          "metadata": {
            "tags": null
          },
          "name": "stderr",
          "output_type": "stream",
          "text": [
            "2025-03-30 22:49:56,334 - BERTopic - Dimensionality - Fitting the dimensionality reduction algorithm\n",
            "2025-03-30 22:50:51,844 - BERTopic - Dimensionality - Completed ✓\n",
            "2025-03-30 22:50:51,846 - BERTopic - Cluster - Start clustering the reduced embeddings\n",
            "2025-03-30 22:50:54,105 - BERTopic - Cluster - Completed ✓\n",
            "2025-03-30 22:50:54,117 - BERTopic - Representation - Fine-tuning topics using representation models.\n",
            "2025-03-30 22:50:58,382 - BERTopic - Representation - Completed ✓\n"
          ]
        },
        {
          "metadata": {
            "tags": null
          },
          "name": "stdout",
          "output_type": "stream",
          "text": [
            "Building dictionary and corpus...\n",
            "Analyzing 285 unique topics (excluding outliers)\n",
            "Successfully extracted words for 285 topics (skipped 0)\n",
            "Calculating NPMI coherence...\n"
          ]
        },
        {
          "metadata": {
            "tags": null
          },
          "name": "stderr",
          "output_type": "stream",
          "text": [
            "2025-03-30 22:52:06,844 - BERTopic - Dimensionality - Fitting the dimensionality reduction algorithm\n",
            "2025-03-30 22:53:11,998 - BERTopic - Dimensionality - Completed ✓\n",
            "2025-03-30 22:53:11,999 - BERTopic - Cluster - Start clustering the reduced embeddings\n",
            "2025-03-30 22:53:14,612 - BERTopic - Cluster - Completed ✓\n",
            "2025-03-30 22:53:14,627 - BERTopic - Representation - Fine-tuning topics using representation models.\n",
            "2025-03-30 22:53:19,310 - BERTopic - Representation - Completed ✓\n"
          ]
        },
        {
          "metadata": {
            "tags": null
          },
          "name": "stdout",
          "output_type": "stream",
          "text": [
            "Building dictionary and corpus...\n",
            "Analyzing 751 unique topics (excluding outliers)\n",
            "Successfully extracted words for 751 topics (skipped 0)\n",
            "Calculating NPMI coherence...\n"
          ]
        },
        {
          "metadata": {
            "tags": null
          },
          "name": "stderr",
          "output_type": "stream",
          "text": [
            "2025-03-30 22:55:46,518 - BERTopic - Dimensionality - Fitting the dimensionality reduction algorithm\n",
            "2025-03-30 22:56:53,169 - BERTopic - Dimensionality - Completed ✓\n",
            "2025-03-30 22:56:53,171 - BERTopic - Cluster - Start clustering the reduced embeddings\n",
            "2025-03-30 22:56:55,387 - BERTopic - Cluster - Completed ✓\n",
            "2025-03-30 22:56:55,399 - BERTopic - Representation - Fine-tuning topics using representation models.\n",
            "2025-03-30 22:56:59,653 - BERTopic - Representation - Completed ✓\n"
          ]
        },
        {
          "metadata": {
            "tags": null
          },
          "name": "stdout",
          "output_type": "stream",
          "text": [
            "Building dictionary and corpus...\n",
            "Analyzing 301 unique topics (excluding outliers)\n",
            "Successfully extracted words for 301 topics (skipped 0)\n",
            "Calculating NPMI coherence...\n"
          ]
        },
        {
          "metadata": {
            "tags": null
          },
          "name": "stderr",
          "output_type": "stream",
          "text": [
            "2025-03-30 22:58:09,039 - BERTopic - Dimensionality - Fitting the dimensionality reduction algorithm\n",
            "2025-03-30 22:59:13,732 - BERTopic - Dimensionality - Completed ✓\n",
            "2025-03-30 22:59:13,733 - BERTopic - Cluster - Start clustering the reduced embeddings\n",
            "2025-03-30 22:59:15,928 - BERTopic - Cluster - Completed ✓\n",
            "2025-03-30 22:59:15,939 - BERTopic - Representation - Fine-tuning topics using representation models.\n",
            "2025-03-30 22:59:20,190 - BERTopic - Representation - Completed ✓\n"
          ]
        },
        {
          "metadata": {
            "tags": null
          },
          "name": "stdout",
          "output_type": "stream",
          "text": [
            "Building dictionary and corpus...\n",
            "Analyzing 250 unique topics (excluding outliers)\n",
            "Successfully extracted words for 250 topics (skipped 0)\n",
            "Calculating NPMI coherence...\n"
          ]
        },
        {
          "metadata": {
            "tags": null
          },
          "name": "stderr",
          "output_type": "stream",
          "text": [
            "2025-03-30 23:00:21,457 - BERTopic - Dimensionality - Fitting the dimensionality reduction algorithm\n",
            "2025-03-30 23:01:16,366 - BERTopic - Dimensionality - Completed ✓\n",
            "2025-03-30 23:01:16,369 - BERTopic - Cluster - Start clustering the reduced embeddings\n",
            "2025-03-30 23:01:21,001 - BERTopic - Cluster - Completed ✓\n",
            "2025-03-30 23:01:21,017 - BERTopic - Representation - Fine-tuning topics using representation models.\n",
            "2025-03-30 23:01:25,929 - BERTopic - Representation - Completed ✓\n"
          ]
        },
        {
          "metadata": {
            "tags": null
          },
          "name": "stdout",
          "output_type": "stream",
          "text": [
            "Building dictionary and corpus...\n",
            "Analyzing 997 unique topics (excluding outliers)\n",
            "Successfully extracted words for 997 topics (skipped 0)\n",
            "Calculating NPMI coherence...\n"
          ]
        },
        {
          "metadata": {
            "tags": null
          },
          "name": "stderr",
          "output_type": "stream",
          "text": [
            "2025-03-30 23:06:15,126 - BERTopic - Dimensionality - Fitting the dimensionality reduction algorithm\n",
            "2025-03-30 23:07:08,988 - BERTopic - Dimensionality - Completed ✓\n",
            "2025-03-30 23:07:08,990 - BERTopic - Cluster - Start clustering the reduced embeddings\n",
            "2025-03-30 23:07:14,903 - BERTopic - Cluster - Completed ✓\n",
            "2025-03-30 23:07:14,916 - BERTopic - Representation - Fine-tuning topics using representation models.\n",
            "2025-03-30 23:07:19,506 - BERTopic - Representation - Completed ✓\n"
          ]
        },
        {
          "metadata": {
            "tags": null
          },
          "name": "stdout",
          "output_type": "stream",
          "text": [
            "Building dictionary and corpus...\n",
            "Analyzing 459 unique topics (excluding outliers)\n",
            "Successfully extracted words for 459 topics (skipped 0)\n",
            "Calculating NPMI coherence...\n"
          ]
        },
        {
          "metadata": {
            "tags": null
          },
          "name": "stderr",
          "output_type": "stream",
          "text": [
            "2025-03-30 23:08:55,152 - BERTopic - Dimensionality - Fitting the dimensionality reduction algorithm\n",
            "2025-03-30 23:09:49,226 - BERTopic - Dimensionality - Completed ✓\n",
            "2025-03-30 23:09:49,229 - BERTopic - Cluster - Start clustering the reduced embeddings\n",
            "2025-03-30 23:09:53,574 - BERTopic - Cluster - Completed ✓\n",
            "2025-03-30 23:09:53,586 - BERTopic - Representation - Fine-tuning topics using representation models.\n",
            "2025-03-30 23:09:57,841 - BERTopic - Representation - Completed ✓\n"
          ]
        },
        {
          "metadata": {
            "tags": null
          },
          "name": "stdout",
          "output_type": "stream",
          "text": [
            "Building dictionary and corpus...\n",
            "Analyzing 293 unique topics (excluding outliers)\n",
            "Successfully extracted words for 293 topics (skipped 0)\n",
            "Calculating NPMI coherence...\n"
          ]
        },
        {
          "metadata": {
            "tags": null
          },
          "name": "stderr",
          "output_type": "stream",
          "text": [
            "2025-03-30 23:11:08,746 - BERTopic - Dimensionality - Fitting the dimensionality reduction algorithm\n",
            "2025-03-30 23:12:15,496 - BERTopic - Dimensionality - Completed ✓\n",
            "2025-03-30 23:12:15,498 - BERTopic - Cluster - Start clustering the reduced embeddings\n",
            "2025-03-30 23:12:20,078 - BERTopic - Cluster - Completed ✓\n",
            "2025-03-30 23:12:20,092 - BERTopic - Representation - Fine-tuning topics using representation models.\n",
            "2025-03-30 23:12:24,896 - BERTopic - Representation - Completed ✓\n"
          ]
        },
        {
          "metadata": {
            "tags": null
          },
          "name": "stdout",
          "output_type": "stream",
          "text": [
            "Building dictionary and corpus...\n",
            "Analyzing 862 unique topics (excluding outliers)\n",
            "Successfully extracted words for 862 topics (skipped 0)\n",
            "Calculating NPMI coherence...\n"
          ]
        },
        {
          "metadata": {
            "tags": null
          },
          "name": "stderr",
          "output_type": "stream",
          "text": [
            "/usr/local/lib/python3.11/dist-packages/numpy/core/fromnumeric.py:3504: RuntimeWarning: Mean of empty slice.\n",
            "  return _methods._mean(a, axis=axis, dtype=dtype,\n",
            "/usr/local/lib/python3.11/dist-packages/numpy/core/_methods.py:129: RuntimeWarning: invalid value encountered in scalar divide\n",
            "  ret = ret.dtype.type(ret / rcount)\n",
            "2025-03-30 23:16:10,447 - BERTopic - Dimensionality - Fitting the dimensionality reduction algorithm\n",
            "2025-03-30 23:17:17,501 - BERTopic - Dimensionality - Completed ✓\n",
            "2025-03-30 23:17:17,504 - BERTopic - Cluster - Start clustering the reduced embeddings\n",
            "2025-03-30 23:17:23,489 - BERTopic - Cluster - Completed ✓\n",
            "2025-03-30 23:17:23,502 - BERTopic - Representation - Fine-tuning topics using representation models.\n",
            "2025-03-30 23:17:28,031 - BERTopic - Representation - Completed ✓\n"
          ]
        },
        {
          "metadata": {
            "tags": null
          },
          "name": "stdout",
          "output_type": "stream",
          "text": [
            "Building dictionary and corpus...\n",
            "Analyzing 392 unique topics (excluding outliers)\n",
            "Successfully extracted words for 392 topics (skipped 0)\n",
            "Calculating NPMI coherence...\n"
          ]
        },
        {
          "metadata": {
            "tags": null
          },
          "name": "stderr",
          "output_type": "stream",
          "text": [
            "2025-03-30 23:18:53,341 - BERTopic - Dimensionality - Fitting the dimensionality reduction algorithm\n",
            "2025-03-30 23:20:00,099 - BERTopic - Dimensionality - Completed ✓\n",
            "2025-03-30 23:20:00,101 - BERTopic - Cluster - Start clustering the reduced embeddings\n",
            "2025-03-30 23:20:04,478 - BERTopic - Cluster - Completed ✓\n",
            "2025-03-30 23:20:04,489 - BERTopic - Representation - Fine-tuning topics using representation models.\n",
            "2025-03-30 23:20:08,735 - BERTopic - Representation - Completed ✓\n"
          ]
        },
        {
          "metadata": {
            "tags": null
          },
          "name": "stdout",
          "output_type": "stream",
          "text": [
            "Building dictionary and corpus...\n",
            "Analyzing 241 unique topics (excluding outliers)\n",
            "Successfully extracted words for 241 topics (skipped 0)\n",
            "Calculating NPMI coherence...\n"
          ]
        },
        {
          "metadata": {
            "tags": null
          },
          "name": "stderr",
          "output_type": "stream",
          "text": [
            "2025-03-30 23:21:11,330 - BERTopic - Dimensionality - Fitting the dimensionality reduction algorithm\n",
            "2025-03-30 23:22:29,135 - BERTopic - Dimensionality - Completed ✓\n",
            "2025-03-30 23:22:29,137 - BERTopic - Cluster - Start clustering the reduced embeddings\n",
            "2025-03-30 23:22:34,702 - BERTopic - Cluster - Completed ✓\n",
            "2025-03-30 23:22:34,717 - BERTopic - Representation - Fine-tuning topics using representation models.\n",
            "2025-03-30 23:22:39,422 - BERTopic - Representation - Completed ✓\n"
          ]
        },
        {
          "metadata": {
            "tags": null
          },
          "name": "stdout",
          "output_type": "stream",
          "text": [
            "Building dictionary and corpus...\n",
            "Analyzing 759 unique topics (excluding outliers)\n",
            "Successfully extracted words for 759 topics (skipped 0)\n",
            "Calculating NPMI coherence...\n"
          ]
        },
        {
          "metadata": {
            "tags": null
          },
          "name": "stderr",
          "output_type": "stream",
          "text": [
            "/usr/local/lib/python3.11/dist-packages/numpy/core/fromnumeric.py:3504: RuntimeWarning: Mean of empty slice.\n",
            "  return _methods._mean(a, axis=axis, dtype=dtype,\n",
            "/usr/local/lib/python3.11/dist-packages/numpy/core/_methods.py:129: RuntimeWarning: invalid value encountered in scalar divide\n",
            "  ret = ret.dtype.type(ret / rcount)\n",
            "2025-03-30 23:25:05,296 - BERTopic - Dimensionality - Fitting the dimensionality reduction algorithm\n",
            "2025-03-30 23:26:23,720 - BERTopic - Dimensionality - Completed ✓\n",
            "2025-03-30 23:26:23,723 - BERTopic - Cluster - Start clustering the reduced embeddings\n",
            "2025-03-30 23:26:29,092 - BERTopic - Cluster - Completed ✓\n",
            "2025-03-30 23:26:29,104 - BERTopic - Representation - Fine-tuning topics using representation models.\n",
            "2025-03-30 23:26:33,477 - BERTopic - Representation - Completed ✓\n"
          ]
        },
        {
          "metadata": {
            "tags": null
          },
          "name": "stdout",
          "output_type": "stream",
          "text": [
            "Building dictionary and corpus...\n",
            "Analyzing 333 unique topics (excluding outliers)\n",
            "Successfully extracted words for 333 topics (skipped 0)\n",
            "Calculating NPMI coherence...\n"
          ]
        },
        {
          "metadata": {
            "tags": null
          },
          "name": "stderr",
          "output_type": "stream",
          "text": [
            "2025-03-30 23:27:48,302 - BERTopic - Dimensionality - Fitting the dimensionality reduction algorithm\n",
            "2025-03-30 23:29:07,703 - BERTopic - Dimensionality - Completed ✓\n",
            "2025-03-30 23:29:07,706 - BERTopic - Cluster - Start clustering the reduced embeddings\n",
            "2025-03-30 23:29:13,229 - BERTopic - Cluster - Completed ✓\n",
            "2025-03-30 23:29:13,240 - BERTopic - Representation - Fine-tuning topics using representation models.\n",
            "2025-03-30 23:29:17,541 - BERTopic - Representation - Completed ✓\n"
          ]
        },
        {
          "metadata": {
            "tags": null
          },
          "name": "stdout",
          "output_type": "stream",
          "text": [
            "Building dictionary and corpus...\n",
            "Analyzing 235 unique topics (excluding outliers)\n",
            "Successfully extracted words for 235 topics (skipped 0)\n",
            "Calculating NPMI coherence...\n"
          ]
        },
        {
          "metadata": {
            "tags": null
          },
          "name": "stderr",
          "output_type": "stream",
          "text": [
            "2025-03-30 23:30:18,421 - BERTopic - Dimensionality - Fitting the dimensionality reduction algorithm\n",
            "2025-03-30 23:31:02,767 - BERTopic - Dimensionality - Completed ✓\n",
            "2025-03-30 23:31:02,769 - BERTopic - Cluster - Start clustering the reduced embeddings\n",
            "2025-03-30 23:31:04,977 - BERTopic - Cluster - Completed ✓\n",
            "2025-03-30 23:31:04,991 - BERTopic - Representation - Fine-tuning topics using representation models.\n",
            "2025-03-30 23:31:09,455 - BERTopic - Representation - Completed ✓\n"
          ]
        },
        {
          "metadata": {
            "tags": null
          },
          "name": "stdout",
          "output_type": "stream",
          "text": [
            "Building dictionary and corpus...\n",
            "Analyzing 496 unique topics (excluding outliers)\n",
            "Successfully extracted words for 496 topics (skipped 0)\n",
            "Calculating NPMI coherence...\n"
          ]
        },
        {
          "metadata": {
            "tags": null
          },
          "name": "stderr",
          "output_type": "stream",
          "text": [
            "2025-03-30 23:32:52,216 - BERTopic - Dimensionality - Fitting the dimensionality reduction algorithm\n",
            "2025-03-30 23:33:36,867 - BERTopic - Dimensionality - Completed ✓\n",
            "2025-03-30 23:33:36,869 - BERTopic - Cluster - Start clustering the reduced embeddings\n",
            "2025-03-30 23:33:38,965 - BERTopic - Cluster - Completed ✓\n",
            "2025-03-30 23:33:38,978 - BERTopic - Representation - Fine-tuning topics using representation models.\n",
            "2025-03-30 23:33:43,341 - BERTopic - Representation - Completed ✓\n"
          ]
        },
        {
          "metadata": {
            "tags": null
          },
          "name": "stdout",
          "output_type": "stream",
          "text": [
            "Building dictionary and corpus...\n",
            "Analyzing 368 unique topics (excluding outliers)\n",
            "Successfully extracted words for 368 topics (skipped 0)\n",
            "Calculating NPMI coherence...\n"
          ]
        },
        {
          "metadata": {
            "tags": null
          },
          "name": "stderr",
          "output_type": "stream",
          "text": [
            "2025-03-30 23:35:00,491 - BERTopic - Dimensionality - Fitting the dimensionality reduction algorithm\n",
            "2025-03-30 23:35:45,700 - BERTopic - Dimensionality - Completed ✓\n",
            "2025-03-30 23:35:45,701 - BERTopic - Cluster - Start clustering the reduced embeddings\n",
            "2025-03-30 23:35:47,785 - BERTopic - Cluster - Completed ✓\n",
            "2025-03-30 23:35:47,797 - BERTopic - Representation - Fine-tuning topics using representation models.\n",
            "2025-03-30 23:35:51,993 - BERTopic - Representation - Completed ✓\n"
          ]
        },
        {
          "metadata": {
            "tags": null
          },
          "name": "stdout",
          "output_type": "stream",
          "text": [
            "Building dictionary and corpus...\n",
            "Analyzing 242 unique topics (excluding outliers)\n",
            "Successfully extracted words for 242 topics (skipped 0)\n",
            "Calculating NPMI coherence...\n"
          ]
        },
        {
          "metadata": {
            "tags": null
          },
          "name": "stderr",
          "output_type": "stream",
          "text": [
            "2025-03-30 23:36:54,990 - BERTopic - Dimensionality - Fitting the dimensionality reduction algorithm\n",
            "2025-03-30 23:37:49,771 - BERTopic - Dimensionality - Completed ✓\n",
            "2025-03-30 23:37:49,773 - BERTopic - Cluster - Start clustering the reduced embeddings\n",
            "2025-03-30 23:37:52,039 - BERTopic - Cluster - Completed ✓\n",
            "2025-03-30 23:37:52,053 - BERTopic - Representation - Fine-tuning topics using representation models.\n",
            "2025-03-30 23:37:56,464 - BERTopic - Representation - Completed ✓\n"
          ]
        },
        {
          "metadata": {
            "tags": null
          },
          "name": "stdout",
          "output_type": "stream",
          "text": [
            "Building dictionary and corpus...\n",
            "Analyzing 455 unique topics (excluding outliers)\n",
            "Successfully extracted words for 455 topics (skipped 0)\n",
            "Calculating NPMI coherence...\n"
          ]
        },
        {
          "metadata": {
            "tags": null
          },
          "name": "stderr",
          "output_type": "stream",
          "text": [
            "2025-03-30 23:39:32,065 - BERTopic - Dimensionality - Fitting the dimensionality reduction algorithm\n",
            "2025-03-30 23:40:28,200 - BERTopic - Dimensionality - Completed ✓\n",
            "2025-03-30 23:40:28,202 - BERTopic - Cluster - Start clustering the reduced embeddings\n",
            "2025-03-30 23:40:30,383 - BERTopic - Cluster - Completed ✓\n",
            "2025-03-30 23:40:30,394 - BERTopic - Representation - Fine-tuning topics using representation models.\n",
            "2025-03-30 23:40:34,687 - BERTopic - Representation - Completed ✓\n"
          ]
        },
        {
          "metadata": {
            "tags": null
          },
          "name": "stdout",
          "output_type": "stream",
          "text": [
            "Building dictionary and corpus...\n",
            "Analyzing 315 unique topics (excluding outliers)\n",
            "Successfully extracted words for 315 topics (skipped 0)\n",
            "Calculating NPMI coherence...\n"
          ]
        },
        {
          "metadata": {
            "tags": null
          },
          "name": "stderr",
          "output_type": "stream",
          "text": [
            "2025-03-30 23:41:50,060 - BERTopic - Dimensionality - Fitting the dimensionality reduction algorithm\n",
            "2025-03-30 23:42:45,055 - BERTopic - Dimensionality - Completed ✓\n",
            "2025-03-30 23:42:45,057 - BERTopic - Cluster - Start clustering the reduced embeddings\n",
            "2025-03-30 23:42:47,322 - BERTopic - Cluster - Completed ✓\n",
            "2025-03-30 23:42:47,334 - BERTopic - Representation - Fine-tuning topics using representation models.\n",
            "2025-03-30 23:42:51,560 - BERTopic - Representation - Completed ✓\n"
          ]
        },
        {
          "metadata": {
            "tags": null
          },
          "name": "stdout",
          "output_type": "stream",
          "text": [
            "Building dictionary and corpus...\n",
            "Analyzing 179 unique topics (excluding outliers)\n",
            "Successfully extracted words for 179 topics (skipped 0)\n",
            "Calculating NPMI coherence...\n"
          ]
        },
        {
          "metadata": {
            "tags": null
          },
          "name": "stderr",
          "output_type": "stream",
          "text": [
            "2025-03-30 23:43:44,757 - BERTopic - Dimensionality - Fitting the dimensionality reduction algorithm\n",
            "2025-03-30 23:44:50,107 - BERTopic - Dimensionality - Completed ✓\n",
            "2025-03-30 23:44:50,109 - BERTopic - Cluster - Start clustering the reduced embeddings\n",
            "2025-03-30 23:44:52,340 - BERTopic - Cluster - Completed ✓\n",
            "2025-03-30 23:44:52,352 - BERTopic - Representation - Fine-tuning topics using representation models.\n",
            "2025-03-30 23:44:56,754 - BERTopic - Representation - Completed ✓\n"
          ]
        },
        {
          "metadata": {
            "tags": null
          },
          "name": "stdout",
          "output_type": "stream",
          "text": [
            "Building dictionary and corpus...\n",
            "Analyzing 366 unique topics (excluding outliers)\n",
            "Successfully extracted words for 366 topics (skipped 0)\n",
            "Calculating NPMI coherence...\n"
          ]
        },
        {
          "metadata": {
            "tags": null
          },
          "name": "stderr",
          "output_type": "stream",
          "text": [
            "2025-03-30 23:46:14,268 - BERTopic - Dimensionality - Fitting the dimensionality reduction algorithm\n",
            "2025-03-30 23:47:18,928 - BERTopic - Dimensionality - Completed ✓\n",
            "2025-03-30 23:47:18,930 - BERTopic - Cluster - Start clustering the reduced embeddings\n",
            "2025-03-30 23:47:21,113 - BERTopic - Cluster - Completed ✓\n",
            "2025-03-30 23:47:21,125 - BERTopic - Representation - Fine-tuning topics using representation models.\n",
            "2025-03-30 23:47:25,481 - BERTopic - Representation - Completed ✓\n"
          ]
        },
        {
          "metadata": {
            "tags": null
          },
          "name": "stdout",
          "output_type": "stream",
          "text": [
            "Building dictionary and corpus...\n",
            "Analyzing 250 unique topics (excluding outliers)\n",
            "Successfully extracted words for 250 topics (skipped 0)\n",
            "Calculating NPMI coherence...\n"
          ]
        },
        {
          "metadata": {
            "tags": null
          },
          "name": "stderr",
          "output_type": "stream",
          "text": [
            "2025-03-30 23:48:27,024 - BERTopic - Dimensionality - Fitting the dimensionality reduction algorithm\n",
            "2025-03-30 23:49:31,556 - BERTopic - Dimensionality - Completed ✓\n",
            "2025-03-30 23:49:31,558 - BERTopic - Cluster - Start clustering the reduced embeddings\n",
            "2025-03-30 23:49:33,705 - BERTopic - Cluster - Completed ✓\n",
            "2025-03-30 23:49:33,716 - BERTopic - Representation - Fine-tuning topics using representation models.\n",
            "2025-03-30 23:49:37,948 - BERTopic - Representation - Completed ✓\n"
          ]
        },
        {
          "metadata": {
            "tags": null
          },
          "name": "stdout",
          "output_type": "stream",
          "text": [
            "Building dictionary and corpus...\n",
            "Analyzing 212 unique topics (excluding outliers)\n",
            "Successfully extracted words for 212 topics (skipped 0)\n",
            "Calculating NPMI coherence...\n"
          ]
        },
        {
          "metadata": {
            "tags": null
          },
          "name": "stderr",
          "output_type": "stream",
          "text": [
            "2025-03-30 23:50:37,715 - BERTopic - Dimensionality - Fitting the dimensionality reduction algorithm\n",
            "2025-03-30 23:51:32,509 - BERTopic - Dimensionality - Completed ✓\n",
            "2025-03-30 23:51:32,512 - BERTopic - Cluster - Start clustering the reduced embeddings\n",
            "2025-03-30 23:51:36,711 - BERTopic - Cluster - Completed ✓\n",
            "2025-03-30 23:51:36,725 - BERTopic - Representation - Fine-tuning topics using representation models.\n",
            "2025-03-30 23:51:41,273 - BERTopic - Representation - Completed ✓\n"
          ]
        },
        {
          "metadata": {
            "tags": null
          },
          "name": "stdout",
          "output_type": "stream",
          "text": [
            "Building dictionary and corpus...\n",
            "Analyzing 541 unique topics (excluding outliers)\n",
            "Successfully extracted words for 541 topics (skipped 0)\n",
            "Calculating NPMI coherence...\n"
          ]
        },
        {
          "metadata": {
            "tags": null
          },
          "name": "stderr",
          "output_type": "stream",
          "text": [
            "2025-03-30 23:53:34,646 - BERTopic - Dimensionality - Fitting the dimensionality reduction algorithm\n",
            "2025-03-30 23:54:30,769 - BERTopic - Dimensionality - Completed ✓\n",
            "2025-03-30 23:54:30,772 - BERTopic - Cluster - Start clustering the reduced embeddings\n",
            "2025-03-30 23:54:35,039 - BERTopic - Cluster - Completed ✓\n",
            "2025-03-30 23:54:35,052 - BERTopic - Representation - Fine-tuning topics using representation models.\n",
            "2025-03-30 23:54:39,424 - BERTopic - Representation - Completed ✓\n"
          ]
        },
        {
          "metadata": {
            "tags": null
          },
          "name": "stdout",
          "output_type": "stream",
          "text": [
            "Building dictionary and corpus...\n",
            "Analyzing 361 unique topics (excluding outliers)\n",
            "Successfully extracted words for 361 topics (skipped 0)\n",
            "Calculating NPMI coherence...\n"
          ]
        },
        {
          "metadata": {
            "tags": null
          },
          "name": "stderr",
          "output_type": "stream",
          "text": [
            "2025-03-30 23:55:57,973 - BERTopic - Dimensionality - Fitting the dimensionality reduction algorithm\n",
            "2025-03-30 23:56:52,557 - BERTopic - Dimensionality - Completed ✓\n",
            "2025-03-30 23:56:52,560 - BERTopic - Cluster - Start clustering the reduced embeddings\n",
            "2025-03-30 23:56:56,842 - BERTopic - Cluster - Completed ✓\n",
            "2025-03-30 23:56:56,853 - BERTopic - Representation - Fine-tuning topics using representation models.\n",
            "2025-03-30 23:57:01,101 - BERTopic - Representation - Completed ✓\n"
          ]
        },
        {
          "metadata": {
            "tags": null
          },
          "name": "stdout",
          "output_type": "stream",
          "text": [
            "Building dictionary and corpus...\n",
            "Analyzing 255 unique topics (excluding outliers)\n",
            "Successfully extracted words for 255 topics (skipped 0)\n",
            "Calculating NPMI coherence...\n"
          ]
        },
        {
          "metadata": {
            "tags": null
          },
          "name": "stderr",
          "output_type": "stream",
          "text": [
            "2025-03-30 23:58:05,355 - BERTopic - Dimensionality - Fitting the dimensionality reduction algorithm\n",
            "2025-03-30 23:59:12,375 - BERTopic - Dimensionality - Completed ✓\n",
            "2025-03-30 23:59:12,378 - BERTopic - Cluster - Start clustering the reduced embeddings\n",
            "2025-03-30 23:59:16,632 - BERTopic - Cluster - Completed ✓\n",
            "2025-03-30 23:59:16,645 - BERTopic - Representation - Fine-tuning topics using representation models.\n",
            "2025-03-30 23:59:21,110 - BERTopic - Representation - Completed ✓\n"
          ]
        },
        {
          "metadata": {
            "tags": null
          },
          "name": "stdout",
          "output_type": "stream",
          "text": [
            "Building dictionary and corpus...\n",
            "Analyzing 462 unique topics (excluding outliers)\n",
            "Successfully extracted words for 462 topics (skipped 0)\n",
            "Calculating NPMI coherence...\n"
          ]
        },
        {
          "metadata": {
            "tags": null
          },
          "name": "stderr",
          "output_type": "stream",
          "text": [
            "2025-03-31 00:01:02,587 - BERTopic - Dimensionality - Fitting the dimensionality reduction algorithm\n",
            "2025-03-31 00:02:09,329 - BERTopic - Dimensionality - Completed ✓\n",
            "2025-03-31 00:02:09,332 - BERTopic - Cluster - Start clustering the reduced embeddings\n",
            "2025-03-31 00:02:13,572 - BERTopic - Cluster - Completed ✓\n",
            "2025-03-31 00:02:13,584 - BERTopic - Representation - Fine-tuning topics using representation models.\n",
            "2025-03-31 00:02:17,908 - BERTopic - Representation - Completed ✓\n"
          ]
        },
        {
          "metadata": {
            "tags": null
          },
          "name": "stdout",
          "output_type": "stream",
          "text": [
            "Building dictionary and corpus...\n",
            "Analyzing 308 unique topics (excluding outliers)\n",
            "Successfully extracted words for 308 topics (skipped 0)\n",
            "Calculating NPMI coherence...\n"
          ]
        },
        {
          "metadata": {
            "tags": null
          },
          "name": "stderr",
          "output_type": "stream",
          "text": [
            "2025-03-31 00:03:31,143 - BERTopic - Dimensionality - Fitting the dimensionality reduction algorithm\n",
            "2025-03-31 00:04:38,408 - BERTopic - Dimensionality - Completed ✓\n",
            "2025-03-31 00:04:38,410 - BERTopic - Cluster - Start clustering the reduced embeddings\n",
            "2025-03-31 00:04:42,760 - BERTopic - Cluster - Completed ✓\n",
            "2025-03-31 00:04:42,771 - BERTopic - Representation - Fine-tuning topics using representation models.\n",
            "2025-03-31 00:04:46,994 - BERTopic - Representation - Completed ✓\n"
          ]
        },
        {
          "metadata": {
            "tags": null
          },
          "name": "stdout",
          "output_type": "stream",
          "text": [
            "Building dictionary and corpus...\n",
            "Analyzing 212 unique topics (excluding outliers)\n",
            "Successfully extracted words for 212 topics (skipped 0)\n",
            "Calculating NPMI coherence...\n"
          ]
        },
        {
          "metadata": {
            "tags": null
          },
          "name": "stderr",
          "output_type": "stream",
          "text": [
            "2025-03-31 00:05:46,362 - BERTopic - Dimensionality - Fitting the dimensionality reduction algorithm\n",
            "2025-03-31 00:07:04,178 - BERTopic - Dimensionality - Completed ✓\n",
            "2025-03-31 00:07:04,181 - BERTopic - Cluster - Start clustering the reduced embeddings\n",
            "2025-03-31 00:07:09,368 - BERTopic - Cluster - Completed ✓\n",
            "2025-03-31 00:07:09,381 - BERTopic - Representation - Fine-tuning topics using representation models.\n",
            "2025-03-31 00:07:13,900 - BERTopic - Representation - Completed ✓\n"
          ]
        },
        {
          "metadata": {
            "tags": null
          },
          "name": "stdout",
          "output_type": "stream",
          "text": [
            "Building dictionary and corpus...\n",
            "Analyzing 427 unique topics (excluding outliers)\n",
            "Successfully extracted words for 427 topics (skipped 0)\n",
            "Calculating NPMI coherence...\n"
          ]
        },
        {
          "metadata": {
            "tags": null
          },
          "name": "stderr",
          "output_type": "stream",
          "text": [
            "2025-03-31 00:08:45,041 - BERTopic - Dimensionality - Fitting the dimensionality reduction algorithm\n",
            "2025-03-31 00:10:04,986 - BERTopic - Dimensionality - Completed ✓\n",
            "2025-03-31 00:10:04,989 - BERTopic - Cluster - Start clustering the reduced embeddings\n",
            "2025-03-31 00:10:10,242 - BERTopic - Cluster - Completed ✓\n",
            "2025-03-31 00:10:10,253 - BERTopic - Representation - Fine-tuning topics using representation models.\n",
            "2025-03-31 00:10:14,545 - BERTopic - Representation - Completed ✓\n"
          ]
        },
        {
          "metadata": {
            "tags": null
          },
          "name": "stdout",
          "output_type": "stream",
          "text": [
            "Building dictionary and corpus...\n",
            "Analyzing 264 unique topics (excluding outliers)\n",
            "Successfully extracted words for 264 topics (skipped 0)\n",
            "Calculating NPMI coherence...\n"
          ]
        },
        {
          "metadata": {
            "tags": null
          },
          "name": "stderr",
          "output_type": "stream",
          "text": [
            "2025-03-31 00:11:19,645 - BERTopic - Dimensionality - Fitting the dimensionality reduction algorithm\n",
            "2025-03-31 00:12:37,637 - BERTopic - Dimensionality - Completed ✓\n",
            "2025-03-31 00:12:37,639 - BERTopic - Cluster - Start clustering the reduced embeddings\n",
            "2025-03-31 00:12:43,154 - BERTopic - Cluster - Completed ✓\n",
            "2025-03-31 00:12:43,165 - BERTopic - Representation - Fine-tuning topics using representation models.\n",
            "2025-03-31 00:12:47,387 - BERTopic - Representation - Completed ✓\n"
          ]
        },
        {
          "metadata": {
            "tags": null
          },
          "name": "stdout",
          "output_type": "stream",
          "text": [
            "Building dictionary and corpus...\n",
            "Analyzing 207 unique topics (excluding outliers)\n",
            "Successfully extracted words for 207 topics (skipped 0)\n",
            "Calculating NPMI coherence...\n"
          ]
        },
        {
          "metadata": {
            "tags": null
          },
          "name": "stderr",
          "output_type": "stream",
          "text": [
            "2025-03-31 00:13:46,231 - BERTopic - Dimensionality - Fitting the dimensionality reduction algorithm\n",
            "2025-03-31 00:14:30,629 - BERTopic - Dimensionality - Completed ✓\n",
            "2025-03-31 00:14:30,631 - BERTopic - Cluster - Start clustering the reduced embeddings\n",
            "2025-03-31 00:14:32,706 - BERTopic - Cluster - Completed ✓\n",
            "2025-03-31 00:14:32,720 - BERTopic - Representation - Fine-tuning topics using representation models.\n",
            "2025-03-31 00:14:37,097 - BERTopic - Representation - Completed ✓\n"
          ]
        },
        {
          "metadata": {
            "tags": null
          },
          "name": "stdout",
          "output_type": "stream",
          "text": [
            "Building dictionary and corpus...\n",
            "Analyzing 344 unique topics (excluding outliers)\n",
            "Successfully extracted words for 344 topics (skipped 0)\n",
            "Calculating NPMI coherence...\n"
          ]
        },
        {
          "metadata": {
            "tags": null
          },
          "name": "stderr",
          "output_type": "stream",
          "text": [
            "2025-03-31 00:15:53,521 - BERTopic - Dimensionality - Fitting the dimensionality reduction algorithm\n",
            "2025-03-31 00:16:38,368 - BERTopic - Dimensionality - Completed ✓\n",
            "2025-03-31 00:16:38,369 - BERTopic - Cluster - Start clustering the reduced embeddings\n",
            "2025-03-31 00:16:40,385 - BERTopic - Cluster - Completed ✓\n",
            "2025-03-31 00:16:40,397 - BERTopic - Representation - Fine-tuning topics using representation models.\n",
            "2025-03-31 00:16:44,634 - BERTopic - Representation - Completed ✓\n"
          ]
        },
        {
          "metadata": {
            "tags": null
          },
          "name": "stdout",
          "output_type": "stream",
          "text": [
            "Building dictionary and corpus...\n",
            "Analyzing 248 unique topics (excluding outliers)\n",
            "Successfully extracted words for 248 topics (skipped 0)\n",
            "Calculating NPMI coherence...\n"
          ]
        },
        {
          "metadata": {
            "tags": null
          },
          "name": "stderr",
          "output_type": "stream",
          "text": [
            "2025-03-31 00:17:48,267 - BERTopic - Dimensionality - Fitting the dimensionality reduction algorithm\n",
            "2025-03-31 00:18:32,904 - BERTopic - Dimensionality - Completed ✓\n",
            "2025-03-31 00:18:32,905 - BERTopic - Cluster - Start clustering the reduced embeddings\n",
            "2025-03-31 00:18:34,985 - BERTopic - Cluster - Completed ✓\n",
            "2025-03-31 00:18:34,997 - BERTopic - Representation - Fine-tuning topics using representation models.\n",
            "2025-03-31 00:18:39,220 - BERTopic - Representation - Completed ✓\n"
          ]
        },
        {
          "metadata": {
            "tags": null
          },
          "name": "stdout",
          "output_type": "stream",
          "text": [
            "Building dictionary and corpus...\n",
            "Analyzing 233 unique topics (excluding outliers)\n",
            "Successfully extracted words for 233 topics (skipped 0)\n",
            "Calculating NPMI coherence...\n"
          ]
        },
        {
          "metadata": {
            "tags": null
          },
          "name": "stderr",
          "output_type": "stream",
          "text": [
            "2025-03-31 00:19:41,386 - BERTopic - Dimensionality - Fitting the dimensionality reduction algorithm\n",
            "2025-03-31 00:20:36,426 - BERTopic - Dimensionality - Completed ✓\n",
            "2025-03-31 00:20:36,428 - BERTopic - Cluster - Start clustering the reduced embeddings\n",
            "2025-03-31 00:20:38,564 - BERTopic - Cluster - Completed ✓\n",
            "2025-03-31 00:20:38,576 - BERTopic - Representation - Fine-tuning topics using representation models.\n",
            "2025-03-31 00:20:42,880 - BERTopic - Representation - Completed ✓\n"
          ]
        },
        {
          "metadata": {
            "tags": null
          },
          "name": "stdout",
          "output_type": "stream",
          "text": [
            "Building dictionary and corpus...\n",
            "Analyzing 323 unique topics (excluding outliers)\n",
            "Successfully extracted words for 323 topics (skipped 0)\n",
            "Calculating NPMI coherence...\n"
          ]
        },
        {
          "metadata": {
            "tags": null
          },
          "name": "stderr",
          "output_type": "stream",
          "text": [
            "2025-03-31 00:21:58,005 - BERTopic - Dimensionality - Fitting the dimensionality reduction algorithm\n",
            "2025-03-31 00:22:53,009 - BERTopic - Dimensionality - Completed ✓\n",
            "2025-03-31 00:22:53,011 - BERTopic - Cluster - Start clustering the reduced embeddings\n",
            "2025-03-31 00:22:55,173 - BERTopic - Cluster - Completed ✓\n",
            "2025-03-31 00:22:55,184 - BERTopic - Representation - Fine-tuning topics using representation models.\n",
            "2025-03-31 00:22:59,445 - BERTopic - Representation - Completed ✓\n"
          ]
        },
        {
          "metadata": {
            "tags": null
          },
          "name": "stdout",
          "output_type": "stream",
          "text": [
            "Building dictionary and corpus...\n",
            "Analyzing 260 unique topics (excluding outliers)\n",
            "Successfully extracted words for 260 topics (skipped 0)\n",
            "Calculating NPMI coherence...\n"
          ]
        },
        {
          "metadata": {
            "tags": null
          },
          "name": "stderr",
          "output_type": "stream",
          "text": [
            "2025-03-31 00:24:05,161 - BERTopic - Dimensionality - Fitting the dimensionality reduction algorithm\n",
            "2025-03-31 00:25:00,254 - BERTopic - Dimensionality - Completed ✓\n",
            "2025-03-31 00:25:00,257 - BERTopic - Cluster - Start clustering the reduced embeddings\n",
            "2025-03-31 00:25:02,414 - BERTopic - Cluster - Completed ✓\n",
            "2025-03-31 00:25:02,425 - BERTopic - Representation - Fine-tuning topics using representation models.\n",
            "2025-03-31 00:25:06,606 - BERTopic - Representation - Completed ✓\n"
          ]
        },
        {
          "metadata": {
            "tags": null
          },
          "name": "stdout",
          "output_type": "stream",
          "text": [
            "Building dictionary and corpus...\n",
            "Analyzing 159 unique topics (excluding outliers)\n",
            "Successfully extracted words for 159 topics (skipped 0)\n",
            "Calculating NPMI coherence...\n"
          ]
        },
        {
          "metadata": {
            "tags": null
          },
          "name": "stderr",
          "output_type": "stream",
          "text": [
            "2025-03-31 00:25:57,522 - BERTopic - Dimensionality - Fitting the dimensionality reduction algorithm\n",
            "2025-03-31 00:27:03,913 - BERTopic - Dimensionality - Completed ✓\n",
            "2025-03-31 00:27:03,914 - BERTopic - Cluster - Start clustering the reduced embeddings\n",
            "2025-03-31 00:27:06,029 - BERTopic - Cluster - Completed ✓\n",
            "2025-03-31 00:27:06,040 - BERTopic - Representation - Fine-tuning topics using representation models.\n",
            "2025-03-31 00:27:10,310 - BERTopic - Representation - Completed ✓\n"
          ]
        },
        {
          "metadata": {
            "tags": null
          },
          "name": "stdout",
          "output_type": "stream",
          "text": [
            "Building dictionary and corpus...\n",
            "Analyzing 249 unique topics (excluding outliers)\n",
            "Successfully extracted words for 249 topics (skipped 0)\n",
            "Calculating NPMI coherence...\n"
          ]
        },
        {
          "metadata": {
            "tags": null
          },
          "name": "stderr",
          "output_type": "stream",
          "text": [
            "2025-03-31 00:28:14,235 - BERTopic - Dimensionality - Fitting the dimensionality reduction algorithm\n",
            "2025-03-31 00:29:19,204 - BERTopic - Dimensionality - Completed ✓\n",
            "2025-03-31 00:29:19,206 - BERTopic - Cluster - Start clustering the reduced embeddings\n",
            "2025-03-31 00:29:21,323 - BERTopic - Cluster - Completed ✓\n",
            "2025-03-31 00:29:21,334 - BERTopic - Representation - Fine-tuning topics using representation models.\n",
            "2025-03-31 00:29:25,529 - BERTopic - Representation - Completed ✓\n"
          ]
        },
        {
          "metadata": {
            "tags": null
          },
          "name": "stdout",
          "output_type": "stream",
          "text": [
            "Building dictionary and corpus...\n",
            "Analyzing 197 unique topics (excluding outliers)\n",
            "Successfully extracted words for 197 topics (skipped 0)\n",
            "Calculating NPMI coherence...\n"
          ]
        },
        {
          "metadata": {
            "tags": null
          },
          "name": "stderr",
          "output_type": "stream",
          "text": [
            "2025-03-31 00:30:22,972 - BERTopic - Dimensionality - Fitting the dimensionality reduction algorithm\n",
            "2025-03-31 00:31:28,104 - BERTopic - Dimensionality - Completed ✓\n",
            "2025-03-31 00:31:28,106 - BERTopic - Cluster - Start clustering the reduced embeddings\n",
            "2025-03-31 00:31:30,229 - BERTopic - Cluster - Completed ✓\n",
            "2025-03-31 00:31:30,240 - BERTopic - Representation - Fine-tuning topics using representation models.\n",
            "2025-03-31 00:31:34,464 - BERTopic - Representation - Completed ✓\n"
          ]
        },
        {
          "metadata": {
            "tags": null
          },
          "name": "stdout",
          "output_type": "stream",
          "text": [
            "Building dictionary and corpus...\n",
            "Analyzing 187 unique topics (excluding outliers)\n",
            "Successfully extracted words for 187 topics (skipped 0)\n",
            "Calculating NPMI coherence...\n"
          ]
        },
        {
          "metadata": {
            "tags": null
          },
          "name": "stderr",
          "output_type": "stream",
          "text": [
            "2025-03-31 00:32:31,573 - BERTopic - Dimensionality - Fitting the dimensionality reduction algorithm\n",
            "2025-03-31 00:33:27,498 - BERTopic - Dimensionality - Completed ✓\n",
            "2025-03-31 00:33:27,501 - BERTopic - Cluster - Start clustering the reduced embeddings\n",
            "2025-03-31 00:33:31,542 - BERTopic - Cluster - Completed ✓\n",
            "2025-03-31 00:33:31,555 - BERTopic - Representation - Fine-tuning topics using representation models.\n",
            "2025-03-31 00:33:35,851 - BERTopic - Representation - Completed ✓\n"
          ]
        },
        {
          "metadata": {
            "tags": null
          },
          "name": "stdout",
          "output_type": "stream",
          "text": [
            "Building dictionary and corpus...\n",
            "Analyzing 351 unique topics (excluding outliers)\n",
            "Successfully extracted words for 351 topics (skipped 0)\n",
            "Calculating NPMI coherence...\n"
          ]
        },
        {
          "metadata": {
            "tags": null
          },
          "name": "stderr",
          "output_type": "stream",
          "text": [
            "2025-03-31 00:34:54,461 - BERTopic - Dimensionality - Fitting the dimensionality reduction algorithm\n",
            "2025-03-31 00:35:49,291 - BERTopic - Dimensionality - Completed ✓\n",
            "2025-03-31 00:35:49,294 - BERTopic - Cluster - Start clustering the reduced embeddings\n",
            "2025-03-31 00:35:53,424 - BERTopic - Cluster - Completed ✓\n",
            "2025-03-31 00:35:53,435 - BERTopic - Representation - Fine-tuning topics using representation models.\n",
            "2025-03-31 00:35:57,716 - BERTopic - Representation - Completed ✓\n"
          ]
        },
        {
          "metadata": {
            "tags": null
          },
          "name": "stdout",
          "output_type": "stream",
          "text": [
            "Building dictionary and corpus...\n",
            "Analyzing 284 unique topics (excluding outliers)\n",
            "Successfully extracted words for 284 topics (skipped 0)\n",
            "Calculating NPMI coherence...\n"
          ]
        },
        {
          "metadata": {
            "tags": null
          },
          "name": "stderr",
          "output_type": "stream",
          "text": [
            "2025-03-31 00:37:08,544 - BERTopic - Dimensionality - Fitting the dimensionality reduction algorithm\n",
            "2025-03-31 00:38:03,316 - BERTopic - Dimensionality - Completed ✓\n",
            "2025-03-31 00:38:03,319 - BERTopic - Cluster - Start clustering the reduced embeddings\n",
            "2025-03-31 00:38:07,583 - BERTopic - Cluster - Completed ✓\n",
            "2025-03-31 00:38:07,594 - BERTopic - Representation - Fine-tuning topics using representation models.\n",
            "2025-03-31 00:38:11,796 - BERTopic - Representation - Completed ✓\n"
          ]
        },
        {
          "metadata": {
            "tags": null
          },
          "name": "stdout",
          "output_type": "stream",
          "text": [
            "Building dictionary and corpus...\n",
            "Analyzing 219 unique topics (excluding outliers)\n",
            "Successfully extracted words for 219 topics (skipped 0)\n",
            "Calculating NPMI coherence...\n"
          ]
        },
        {
          "metadata": {
            "tags": null
          },
          "name": "stderr",
          "output_type": "stream",
          "text": [
            "2025-03-31 00:39:14,068 - BERTopic - Dimensionality - Fitting the dimensionality reduction algorithm\n",
            "2025-03-31 00:40:20,013 - BERTopic - Dimensionality - Completed ✓\n",
            "2025-03-31 00:40:20,015 - BERTopic - Cluster - Start clustering the reduced embeddings\n",
            "2025-03-31 00:40:24,138 - BERTopic - Cluster - Completed ✓\n",
            "2025-03-31 00:40:24,150 - BERTopic - Representation - Fine-tuning topics using representation models.\n",
            "2025-03-31 00:40:28,492 - BERTopic - Representation - Completed ✓\n"
          ]
        },
        {
          "metadata": {
            "tags": null
          },
          "name": "stdout",
          "output_type": "stream",
          "text": [
            "Building dictionary and corpus...\n",
            "Analyzing 311 unique topics (excluding outliers)\n",
            "Successfully extracted words for 311 topics (skipped 0)\n",
            "Calculating NPMI coherence...\n"
          ]
        },
        {
          "metadata": {
            "tags": null
          },
          "name": "stderr",
          "output_type": "stream",
          "text": [
            "2025-03-31 00:41:43,408 - BERTopic - Dimensionality - Fitting the dimensionality reduction algorithm\n",
            "2025-03-31 00:42:50,672 - BERTopic - Dimensionality - Completed ✓\n",
            "2025-03-31 00:42:50,675 - BERTopic - Cluster - Start clustering the reduced embeddings\n",
            "2025-03-31 00:42:54,828 - BERTopic - Cluster - Completed ✓\n",
            "2025-03-31 00:42:54,839 - BERTopic - Representation - Fine-tuning topics using representation models.\n",
            "2025-03-31 00:42:59,083 - BERTopic - Representation - Completed ✓\n"
          ]
        },
        {
          "metadata": {
            "tags": null
          },
          "name": "stdout",
          "output_type": "stream",
          "text": [
            "Building dictionary and corpus...\n",
            "Analyzing 223 unique topics (excluding outliers)\n",
            "Successfully extracted words for 223 topics (skipped 0)\n",
            "Calculating NPMI coherence...\n"
          ]
        },
        {
          "metadata": {
            "tags": null
          },
          "name": "stderr",
          "output_type": "stream",
          "text": [
            "2025-03-31 00:44:02,038 - BERTopic - Dimensionality - Fitting the dimensionality reduction algorithm\n",
            "2025-03-31 00:45:09,213 - BERTopic - Dimensionality - Completed ✓\n",
            "2025-03-31 00:45:09,215 - BERTopic - Cluster - Start clustering the reduced embeddings\n",
            "2025-03-31 00:45:13,530 - BERTopic - Cluster - Completed ✓\n",
            "2025-03-31 00:45:13,541 - BERTopic - Representation - Fine-tuning topics using representation models.\n",
            "2025-03-31 00:45:17,740 - BERTopic - Representation - Completed ✓\n"
          ]
        },
        {
          "metadata": {
            "tags": null
          },
          "name": "stdout",
          "output_type": "stream",
          "text": [
            "Building dictionary and corpus...\n",
            "Analyzing 188 unique topics (excluding outliers)\n",
            "Successfully extracted words for 188 topics (skipped 0)\n",
            "Calculating NPMI coherence...\n"
          ]
        },
        {
          "metadata": {
            "tags": null
          },
          "name": "stderr",
          "output_type": "stream",
          "text": [
            "2025-03-31 00:46:13,704 - BERTopic - Dimensionality - Fitting the dimensionality reduction algorithm\n",
            "2025-03-31 00:47:30,818 - BERTopic - Dimensionality - Completed ✓\n",
            "2025-03-31 00:47:30,821 - BERTopic - Cluster - Start clustering the reduced embeddings\n",
            "2025-03-31 00:47:35,821 - BERTopic - Cluster - Completed ✓\n",
            "2025-03-31 00:47:35,832 - BERTopic - Representation - Fine-tuning topics using representation models.\n",
            "2025-03-31 00:47:40,113 - BERTopic - Representation - Completed ✓\n"
          ]
        },
        {
          "metadata": {
            "tags": null
          },
          "name": "stdout",
          "output_type": "stream",
          "text": [
            "Building dictionary and corpus...\n",
            "Analyzing 242 unique topics (excluding outliers)\n",
            "Successfully extracted words for 242 topics (skipped 0)\n",
            "Calculating NPMI coherence...\n"
          ]
        },
        {
          "metadata": {
            "tags": null
          },
          "name": "stderr",
          "output_type": "stream",
          "text": [
            "2025-03-31 00:48:42,589 - BERTopic - Dimensionality - Fitting the dimensionality reduction algorithm\n",
            "2025-03-31 00:50:00,863 - BERTopic - Dimensionality - Completed ✓\n",
            "2025-03-31 00:50:00,866 - BERTopic - Cluster - Start clustering the reduced embeddings\n",
            "2025-03-31 00:50:06,092 - BERTopic - Cluster - Completed ✓\n",
            "2025-03-31 00:50:06,103 - BERTopic - Representation - Fine-tuning topics using representation models.\n",
            "2025-03-31 00:50:10,357 - BERTopic - Representation - Completed ✓\n"
          ]
        },
        {
          "metadata": {
            "tags": null
          },
          "name": "stdout",
          "output_type": "stream",
          "text": [
            "Building dictionary and corpus...\n",
            "Analyzing 224 unique topics (excluding outliers)\n",
            "Successfully extracted words for 224 topics (skipped 0)\n",
            "Calculating NPMI coherence...\n"
          ]
        },
        {
          "metadata": {
            "tags": null
          },
          "name": "stderr",
          "output_type": "stream",
          "text": [
            "2025-03-31 00:51:11,561 - BERTopic - Dimensionality - Fitting the dimensionality reduction algorithm\n",
            "2025-03-31 00:52:29,385 - BERTopic - Dimensionality - Completed ✓\n",
            "2025-03-31 00:52:29,388 - BERTopic - Cluster - Start clustering the reduced embeddings\n",
            "2025-03-31 00:52:34,852 - BERTopic - Cluster - Completed ✓\n",
            "2025-03-31 00:52:34,864 - BERTopic - Representation - Fine-tuning topics using representation models.\n",
            "2025-03-31 00:52:39,057 - BERTopic - Representation - Completed ✓\n"
          ]
        },
        {
          "metadata": {
            "tags": null
          },
          "name": "stdout",
          "output_type": "stream",
          "text": [
            "Building dictionary and corpus...\n",
            "Analyzing 165 unique topics (excluding outliers)\n",
            "Successfully extracted words for 165 topics (skipped 0)\n",
            "Calculating NPMI coherence...\n",
            "\n",
            "Best hyperparameters for Domain-Adapted SciBERT:\n",
            "  min_topic_size: 15\n",
            "  umap_components: 10\n",
            "  umap_neighbors: 20\n",
            "  hdbscan_min_samples: 15\n",
            "Best combined score: 0.4403\n",
            "\n",
            "Tuning hyperparameters for Domain-Adapted TopicWeave\n",
            "\n",
            "===== Tuning Hyperparameters for Domain-Adapted TopicWeave =====\n",
            "Testing 54 parameter combinations\n"
          ]
        },
        {
          "data": {
            "application/vnd.jupyter.widget-view+json": {
              "model_id": "fa40bd0f3a71420e94678a90e51b82da",
              "version_major": 2,
              "version_minor": 0
            },
            "text/plain": [
              "  0%|          | 0/54 [00:00<?, ?it/s]"
            ]
          },
          "metadata": {},
          "output_type": "display_data"
        },
        {
          "metadata": {
            "tags": null
          },
          "name": "stderr",
          "output_type": "stream",
          "text": [
            "2025-03-31 00:53:33,271 - BERTopic - Dimensionality - Fitting the dimensionality reduction algorithm\n",
            "2025-03-31 00:54:17,636 - BERTopic - Dimensionality - Completed ✓\n",
            "2025-03-31 00:54:17,637 - BERTopic - Cluster - Start clustering the reduced embeddings\n",
            "2025-03-31 00:54:20,274 - BERTopic - Cluster - Completed ✓\n",
            "2025-03-31 00:54:20,289 - BERTopic - Representation - Fine-tuning topics using representation models.\n",
            "2025-03-31 00:54:25,307 - BERTopic - Representation - Completed ✓\n"
          ]
        },
        {
          "metadata": {
            "tags": null
          },
          "name": "stdout",
          "output_type": "stream",
          "text": [
            "Building dictionary and corpus...\n",
            "Analyzing 1022 unique topics (excluding outliers)\n",
            "Successfully extracted words for 1022 topics (skipped 0)\n",
            "Calculating NPMI coherence...\n"
          ]
        },
        {
          "metadata": {
            "tags": null
          },
          "name": "stderr",
          "output_type": "stream",
          "text": [
            "/usr/local/lib/python3.11/dist-packages/numpy/core/fromnumeric.py:3504: RuntimeWarning: Mean of empty slice.\n",
            "  return _methods._mean(a, axis=axis, dtype=dtype,\n",
            "/usr/local/lib/python3.11/dist-packages/numpy/core/_methods.py:129: RuntimeWarning: invalid value encountered in scalar divide\n",
            "  ret = ret.dtype.type(ret / rcount)\n",
            "2025-03-31 00:59:43,259 - BERTopic - Dimensionality - Fitting the dimensionality reduction algorithm\n",
            "2025-03-31 01:00:28,391 - BERTopic - Dimensionality - Completed ✓\n",
            "2025-03-31 01:00:28,393 - BERTopic - Cluster - Start clustering the reduced embeddings\n",
            "2025-03-31 01:00:32,260 - BERTopic - Cluster - Completed ✓\n",
            "2025-03-31 01:00:32,274 - BERTopic - Representation - Fine-tuning topics using representation models.\n",
            "2025-03-31 01:00:36,917 - BERTopic - Representation - Completed ✓\n"
          ]
        },
        {
          "metadata": {
            "tags": null
          },
          "name": "stdout",
          "output_type": "stream",
          "text": [
            "Building dictionary and corpus...\n",
            "Analyzing 506 unique topics (excluding outliers)\n",
            "Successfully extracted words for 506 topics (skipped 0)\n",
            "Calculating NPMI coherence...\n"
          ]
        },
        {
          "metadata": {
            "tags": null
          },
          "name": "stderr",
          "output_type": "stream",
          "text": [
            "/usr/local/lib/python3.11/dist-packages/numpy/core/fromnumeric.py:3504: RuntimeWarning: Mean of empty slice.\n",
            "  return _methods._mean(a, axis=axis, dtype=dtype,\n",
            "/usr/local/lib/python3.11/dist-packages/numpy/core/_methods.py:129: RuntimeWarning: invalid value encountered in scalar divide\n",
            "  ret = ret.dtype.type(ret / rcount)\n",
            "2025-03-31 01:02:20,228 - BERTopic - Dimensionality - Fitting the dimensionality reduction algorithm\n",
            "2025-03-31 01:03:06,026 - BERTopic - Dimensionality - Completed ✓\n",
            "2025-03-31 01:03:06,028 - BERTopic - Cluster - Start clustering the reduced embeddings\n",
            "2025-03-31 01:03:08,133 - BERTopic - Cluster - Completed ✓\n",
            "2025-03-31 01:03:08,146 - BERTopic - Representation - Fine-tuning topics using representation models.\n",
            "2025-03-31 01:03:12,769 - BERTopic - Representation - Completed ✓\n"
          ]
        },
        {
          "metadata": {
            "tags": null
          },
          "name": "stdout",
          "output_type": "stream",
          "text": [
            "Building dictionary and corpus...\n",
            "Analyzing 341 unique topics (excluding outliers)\n",
            "Successfully extracted words for 341 topics (skipped 0)\n",
            "Calculating NPMI coherence...\n"
          ]
        },
        {
          "metadata": {
            "tags": null
          },
          "name": "stderr",
          "output_type": "stream",
          "text": [
            "2025-03-31 01:04:28,240 - BERTopic - Dimensionality - Fitting the dimensionality reduction algorithm\n",
            "2025-03-31 01:05:23,610 - BERTopic - Dimensionality - Completed ✓\n",
            "2025-03-31 01:05:23,612 - BERTopic - Cluster - Start clustering the reduced embeddings\n",
            "2025-03-31 01:05:26,179 - BERTopic - Cluster - Completed ✓\n",
            "2025-03-31 01:05:26,195 - BERTopic - Representation - Fine-tuning topics using representation models.\n",
            "2025-03-31 01:05:31,092 - BERTopic - Representation - Completed ✓\n"
          ]
        },
        {
          "metadata": {
            "tags": null
          },
          "name": "stdout",
          "output_type": "stream",
          "text": [
            "Building dictionary and corpus...\n",
            "Analyzing 915 unique topics (excluding outliers)\n",
            "Successfully extracted words for 915 topics (skipped 0)\n",
            "Calculating NPMI coherence...\n"
          ]
        },
        {
          "metadata": {
            "tags": null
          },
          "name": "stderr",
          "output_type": "stream",
          "text": [
            "2025-03-31 01:09:42,792 - BERTopic - Dimensionality - Fitting the dimensionality reduction algorithm\n",
            "2025-03-31 01:10:38,257 - BERTopic - Dimensionality - Completed ✓\n",
            "2025-03-31 01:10:38,259 - BERTopic - Cluster - Start clustering the reduced embeddings\n",
            "2025-03-31 01:10:42,092 - BERTopic - Cluster - Completed ✓\n",
            "2025-03-31 01:10:42,105 - BERTopic - Representation - Fine-tuning topics using representation models.\n",
            "2025-03-31 01:10:46,692 - BERTopic - Representation - Completed ✓\n"
          ]
        },
        {
          "metadata": {
            "tags": null
          },
          "name": "stdout",
          "output_type": "stream",
          "text": [
            "Building dictionary and corpus...\n",
            "Analyzing 376 unique topics (excluding outliers)\n",
            "Successfully extracted words for 376 topics (skipped 0)\n",
            "Calculating NPMI coherence...\n"
          ]
        },
        {
          "metadata": {
            "tags": null
          },
          "name": "stderr",
          "output_type": "stream",
          "text": [
            "2025-03-31 01:11:59,512 - BERTopic - Dimensionality - Fitting the dimensionality reduction algorithm\n",
            "2025-03-31 01:12:55,293 - BERTopic - Dimensionality - Completed ✓\n",
            "2025-03-31 01:12:55,295 - BERTopic - Cluster - Start clustering the reduced embeddings\n",
            "2025-03-31 01:12:57,448 - BERTopic - Cluster - Completed ✓\n",
            "2025-03-31 01:12:57,460 - BERTopic - Representation - Fine-tuning topics using representation models.\n",
            "2025-03-31 01:13:01,811 - BERTopic - Representation - Completed ✓\n"
          ]
        },
        {
          "metadata": {
            "tags": null
          },
          "name": "stdout",
          "output_type": "stream",
          "text": [
            "Building dictionary and corpus...\n",
            "Analyzing 271 unique topics (excluding outliers)\n",
            "Successfully extracted words for 271 topics (skipped 0)\n",
            "Calculating NPMI coherence...\n"
          ]
        },
        {
          "metadata": {
            "tags": null
          },
          "name": "stderr",
          "output_type": "stream",
          "text": [
            "2025-03-31 01:14:08,347 - BERTopic - Dimensionality - Fitting the dimensionality reduction algorithm\n",
            "2025-03-31 01:15:14,381 - BERTopic - Dimensionality - Completed ✓\n",
            "2025-03-31 01:15:14,383 - BERTopic - Cluster - Start clustering the reduced embeddings\n",
            "2025-03-31 01:15:16,909 - BERTopic - Cluster - Completed ✓\n",
            "2025-03-31 01:15:16,924 - BERTopic - Representation - Fine-tuning topics using representation models.\n",
            "2025-03-31 01:15:21,741 - BERTopic - Representation - Completed ✓\n"
          ]
        },
        {
          "metadata": {
            "tags": null
          },
          "name": "stdout",
          "output_type": "stream",
          "text": [
            "Building dictionary and corpus...\n",
            "Analyzing 813 unique topics (excluding outliers)\n",
            "Successfully extracted words for 813 topics (skipped 0)\n",
            "Calculating NPMI coherence...\n"
          ]
        },
        {
          "metadata": {
            "tags": null
          },
          "name": "stderr",
          "output_type": "stream",
          "text": [
            "/usr/local/lib/python3.11/dist-packages/numpy/core/fromnumeric.py:3504: RuntimeWarning: Mean of empty slice.\n",
            "  return _methods._mean(a, axis=axis, dtype=dtype,\n",
            "/usr/local/lib/python3.11/dist-packages/numpy/core/_methods.py:129: RuntimeWarning: invalid value encountered in scalar divide\n",
            "  ret = ret.dtype.type(ret / rcount)\n",
            "2025-03-31 01:18:55,717 - BERTopic - Dimensionality - Fitting the dimensionality reduction algorithm\n",
            "2025-03-31 01:20:00,929 - BERTopic - Dimensionality - Completed ✓\n",
            "2025-03-31 01:20:00,931 - BERTopic - Cluster - Start clustering the reduced embeddings\n",
            "2025-03-31 01:20:03,115 - BERTopic - Cluster - Completed ✓\n",
            "2025-03-31 01:20:03,128 - BERTopic - Representation - Fine-tuning topics using representation models.\n",
            "2025-03-31 01:20:07,542 - BERTopic - Representation - Completed ✓\n"
          ]
        },
        {
          "metadata": {
            "tags": null
          },
          "name": "stdout",
          "output_type": "stream",
          "text": [
            "Building dictionary and corpus...\n",
            "Analyzing 348 unique topics (excluding outliers)\n",
            "Successfully extracted words for 348 topics (skipped 0)\n",
            "Calculating NPMI coherence...\n"
          ]
        },
        {
          "metadata": {
            "tags": null
          },
          "name": "stderr",
          "output_type": "stream",
          "text": [
            "2025-03-31 01:21:21,560 - BERTopic - Dimensionality - Fitting the dimensionality reduction algorithm\n",
            "2025-03-31 01:22:26,882 - BERTopic - Dimensionality - Completed ✓\n",
            "2025-03-31 01:22:26,883 - BERTopic - Cluster - Start clustering the reduced embeddings\n",
            "2025-03-31 01:22:29,039 - BERTopic - Cluster - Completed ✓\n",
            "2025-03-31 01:22:29,051 - BERTopic - Representation - Fine-tuning topics using representation models.\n",
            "2025-03-31 01:22:33,472 - BERTopic - Representation - Completed ✓\n"
          ]
        },
        {
          "metadata": {
            "tags": null
          },
          "name": "stdout",
          "output_type": "stream",
          "text": [
            "Building dictionary and corpus...\n",
            "Analyzing 265 unique topics (excluding outliers)\n",
            "Successfully extracted words for 265 topics (skipped 0)\n",
            "Calculating NPMI coherence...\n"
          ]
        },
        {
          "metadata": {
            "tags": null
          },
          "name": "stderr",
          "output_type": "stream",
          "text": [
            "2025-03-31 01:23:39,427 - BERTopic - Dimensionality - Fitting the dimensionality reduction algorithm\n",
            "2025-03-31 01:24:35,536 - BERTopic - Dimensionality - Completed ✓\n",
            "2025-03-31 01:24:35,538 - BERTopic - Cluster - Start clustering the reduced embeddings\n",
            "2025-03-31 01:24:39,791 - BERTopic - Cluster - Completed ✓\n",
            "2025-03-31 01:24:39,807 - BERTopic - Representation - Fine-tuning topics using representation models.\n",
            "2025-03-31 01:24:44,826 - BERTopic - Representation - Completed ✓\n"
          ]
        },
        {
          "metadata": {
            "tags": null
          },
          "name": "stdout",
          "output_type": "stream",
          "text": [
            "Building dictionary and corpus...\n",
            "Analyzing 1049 unique topics (excluding outliers)\n",
            "Successfully extracted words for 1049 topics (skipped 0)\n",
            "Calculating NPMI coherence...\n"
          ]
        },
        {
          "metadata": {
            "tags": null
          },
          "name": "stderr",
          "output_type": "stream",
          "text": [
            "/usr/local/lib/python3.11/dist-packages/numpy/core/fromnumeric.py:3504: RuntimeWarning: Mean of empty slice.\n",
            "  return _methods._mean(a, axis=axis, dtype=dtype,\n",
            "/usr/local/lib/python3.11/dist-packages/numpy/core/_methods.py:129: RuntimeWarning: invalid value encountered in scalar divide\n",
            "  ret = ret.dtype.type(ret / rcount)\n",
            "2025-03-31 01:30:10,546 - BERTopic - Dimensionality - Fitting the dimensionality reduction algorithm\n",
            "2025-03-31 01:31:05,869 - BERTopic - Dimensionality - Completed ✓\n",
            "2025-03-31 01:31:05,871 - BERTopic - Cluster - Start clustering the reduced embeddings\n",
            "2025-03-31 01:31:11,448 - BERTopic - Cluster - Completed ✓\n",
            "2025-03-31 01:31:11,462 - BERTopic - Representation - Fine-tuning topics using representation models.\n",
            "2025-03-31 01:31:16,148 - BERTopic - Representation - Completed ✓\n"
          ]
        },
        {
          "metadata": {
            "tags": null
          },
          "name": "stdout",
          "output_type": "stream",
          "text": [
            "Building dictionary and corpus...\n",
            "Analyzing 536 unique topics (excluding outliers)\n",
            "Successfully extracted words for 536 topics (skipped 0)\n",
            "Calculating NPMI coherence...\n"
          ]
        },
        {
          "metadata": {
            "tags": null
          },
          "name": "stderr",
          "output_type": "stream",
          "text": [
            "2025-03-31 01:33:08,783 - BERTopic - Dimensionality - Fitting the dimensionality reduction algorithm\n",
            "2025-03-31 01:34:03,297 - BERTopic - Dimensionality - Completed ✓\n",
            "2025-03-31 01:34:03,300 - BERTopic - Cluster - Start clustering the reduced embeddings\n",
            "2025-03-31 01:34:07,169 - BERTopic - Cluster - Completed ✓\n",
            "2025-03-31 01:34:07,181 - BERTopic - Representation - Fine-tuning topics using representation models.\n",
            "2025-03-31 01:34:11,534 - BERTopic - Representation - Completed ✓\n"
          ]
        },
        {
          "metadata": {
            "tags": null
          },
          "name": "stdout",
          "output_type": "stream",
          "text": [
            "Building dictionary and corpus...\n",
            "Analyzing 289 unique topics (excluding outliers)\n",
            "Successfully extracted words for 289 topics (skipped 0)\n",
            "Calculating NPMI coherence...\n"
          ]
        },
        {
          "metadata": {
            "tags": null
          },
          "name": "stderr",
          "output_type": "stream",
          "text": [
            "2025-03-31 01:35:21,336 - BERTopic - Dimensionality - Fitting the dimensionality reduction algorithm\n",
            "2025-03-31 01:36:28,656 - BERTopic - Dimensionality - Completed ✓\n",
            "2025-03-31 01:36:28,659 - BERTopic - Cluster - Start clustering the reduced embeddings\n",
            "2025-03-31 01:36:32,369 - BERTopic - Cluster - Completed ✓\n",
            "2025-03-31 01:36:32,385 - BERTopic - Representation - Fine-tuning topics using representation models.\n",
            "2025-03-31 01:36:37,258 - BERTopic - Representation - Completed ✓\n"
          ]
        },
        {
          "metadata": {
            "tags": null
          },
          "name": "stdout",
          "output_type": "stream",
          "text": [
            "Building dictionary and corpus...\n",
            "Analyzing 840 unique topics (excluding outliers)\n",
            "Successfully extracted words for 840 topics (skipped 0)\n",
            "Calculating NPMI coherence...\n"
          ]
        },
        {
          "metadata": {
            "tags": null
          },
          "name": "stderr",
          "output_type": "stream",
          "text": [
            "/usr/local/lib/python3.11/dist-packages/numpy/core/fromnumeric.py:3504: RuntimeWarning: Mean of empty slice.\n",
            "  return _methods._mean(a, axis=axis, dtype=dtype,\n",
            "/usr/local/lib/python3.11/dist-packages/numpy/core/_methods.py:129: RuntimeWarning: invalid value encountered in scalar divide\n",
            "  ret = ret.dtype.type(ret / rcount)\n",
            "2025-03-31 01:40:20,415 - BERTopic - Dimensionality - Fitting the dimensionality reduction algorithm\n",
            "2025-03-31 01:41:27,685 - BERTopic - Dimensionality - Completed ✓\n",
            "2025-03-31 01:41:27,689 - BERTopic - Cluster - Start clustering the reduced embeddings\n",
            "2025-03-31 01:41:31,142 - BERTopic - Cluster - Completed ✓\n",
            "2025-03-31 01:41:31,156 - BERTopic - Representation - Fine-tuning topics using representation models.\n",
            "2025-03-31 01:41:35,710 - BERTopic - Representation - Completed ✓\n"
          ]
        },
        {
          "metadata": {
            "tags": null
          },
          "name": "stdout",
          "output_type": "stream",
          "text": [
            "Building dictionary and corpus...\n",
            "Analyzing 450 unique topics (excluding outliers)\n",
            "Successfully extracted words for 450 topics (skipped 0)\n",
            "Calculating NPMI coherence...\n"
          ]
        },
        {
          "metadata": {
            "tags": null
          },
          "name": "stderr",
          "output_type": "stream",
          "text": [
            "2025-03-31 01:43:12,818 - BERTopic - Dimensionality - Fitting the dimensionality reduction algorithm\n",
            "2025-03-31 01:44:20,341 - BERTopic - Dimensionality - Completed ✓\n",
            "2025-03-31 01:44:20,343 - BERTopic - Cluster - Start clustering the reduced embeddings\n",
            "2025-03-31 01:44:23,797 - BERTopic - Cluster - Completed ✓\n",
            "2025-03-31 01:44:23,809 - BERTopic - Representation - Fine-tuning topics using representation models.\n",
            "2025-03-31 01:44:28,159 - BERTopic - Representation - Completed ✓\n"
          ]
        },
        {
          "metadata": {
            "tags": null
          },
          "name": "stdout",
          "output_type": "stream",
          "text": [
            "Building dictionary and corpus...\n",
            "Analyzing 273 unique topics (excluding outliers)\n",
            "Successfully extracted words for 273 topics (skipped 0)\n",
            "Calculating NPMI coherence...\n"
          ]
        },
        {
          "metadata": {
            "tags": null
          },
          "name": "stderr",
          "output_type": "stream",
          "text": [
            "2025-03-31 01:45:36,393 - BERTopic - Dimensionality - Fitting the dimensionality reduction algorithm\n",
            "2025-03-31 01:46:54,947 - BERTopic - Dimensionality - Completed ✓\n",
            "2025-03-31 01:46:54,949 - BERTopic - Cluster - Start clustering the reduced embeddings\n",
            "2025-03-31 01:46:58,780 - BERTopic - Cluster - Completed ✓\n",
            "2025-03-31 01:46:58,796 - BERTopic - Representation - Fine-tuning topics using representation models.\n",
            "2025-03-31 01:47:03,597 - BERTopic - Representation - Completed ✓\n"
          ]
        },
        {
          "metadata": {
            "tags": null
          },
          "name": "stdout",
          "output_type": "stream",
          "text": [
            "Building dictionary and corpus...\n",
            "Analyzing 759 unique topics (excluding outliers)\n",
            "Successfully extracted words for 759 topics (skipped 0)\n",
            "Calculating NPMI coherence...\n"
          ]
        },
        {
          "metadata": {
            "tags": null
          },
          "name": "stderr",
          "output_type": "stream",
          "text": [
            "2025-03-31 01:50:16,396 - BERTopic - Dimensionality - Fitting the dimensionality reduction algorithm\n",
            "2025-03-31 01:51:34,031 - BERTopic - Dimensionality - Completed ✓\n",
            "2025-03-31 01:51:34,034 - BERTopic - Cluster - Start clustering the reduced embeddings\n",
            "2025-03-31 01:51:37,641 - BERTopic - Cluster - Completed ✓\n",
            "2025-03-31 01:51:37,653 - BERTopic - Representation - Fine-tuning topics using representation models.\n",
            "2025-03-31 01:51:42,076 - BERTopic - Representation - Completed ✓\n"
          ]
        },
        {
          "metadata": {
            "tags": null
          },
          "name": "stdout",
          "output_type": "stream",
          "text": [
            "Building dictionary and corpus...\n",
            "Analyzing 353 unique topics (excluding outliers)\n",
            "Successfully extracted words for 353 topics (skipped 0)\n",
            "Calculating NPMI coherence...\n"
          ]
        },
        {
          "metadata": {
            "tags": null
          },
          "name": "stderr",
          "output_type": "stream",
          "text": [
            "2025-03-31 01:52:54,851 - BERTopic - Dimensionality - Fitting the dimensionality reduction algorithm\n",
            "2025-03-31 01:54:12,453 - BERTopic - Dimensionality - Completed ✓\n",
            "2025-03-31 01:54:12,456 - BERTopic - Cluster - Start clustering the reduced embeddings\n",
            "2025-03-31 01:54:16,033 - BERTopic - Cluster - Completed ✓\n",
            "2025-03-31 01:54:16,045 - BERTopic - Representation - Fine-tuning topics using representation models.\n",
            "2025-03-31 01:54:20,355 - BERTopic - Representation - Completed ✓\n"
          ]
        },
        {
          "metadata": {
            "tags": null
          },
          "name": "stdout",
          "output_type": "stream",
          "text": [
            "Building dictionary and corpus...\n",
            "Analyzing 260 unique topics (excluding outliers)\n",
            "Successfully extracted words for 260 topics (skipped 0)\n",
            "Calculating NPMI coherence...\n"
          ]
        },
        {
          "metadata": {
            "tags": null
          },
          "name": "stderr",
          "output_type": "stream",
          "text": [
            "2025-03-31 01:55:24,532 - BERTopic - Dimensionality - Fitting the dimensionality reduction algorithm\n",
            "2025-03-31 01:56:09,133 - BERTopic - Dimensionality - Completed ✓\n",
            "2025-03-31 01:56:09,134 - BERTopic - Cluster - Start clustering the reduced embeddings\n",
            "2025-03-31 01:56:11,307 - BERTopic - Cluster - Completed ✓\n",
            "2025-03-31 01:56:11,321 - BERTopic - Representation - Fine-tuning topics using representation models.\n",
            "2025-03-31 01:56:15,884 - BERTopic - Representation - Completed ✓\n"
          ]
        },
        {
          "metadata": {
            "tags": null
          },
          "name": "stdout",
          "output_type": "stream",
          "text": [
            "Building dictionary and corpus...\n",
            "Analyzing 571 unique topics (excluding outliers)\n",
            "Successfully extracted words for 571 topics (skipped 0)\n",
            "Calculating NPMI coherence...\n"
          ]
        },
        {
          "metadata": {
            "tags": null
          },
          "name": "stderr",
          "output_type": "stream",
          "text": [
            "2025-03-31 01:58:17,342 - BERTopic - Dimensionality - Fitting the dimensionality reduction algorithm\n",
            "2025-03-31 01:59:01,796 - BERTopic - Dimensionality - Completed ✓\n",
            "2025-03-31 01:59:01,798 - BERTopic - Cluster - Start clustering the reduced embeddings\n",
            "2025-03-31 01:59:03,862 - BERTopic - Cluster - Completed ✓\n",
            "2025-03-31 01:59:03,876 - BERTopic - Representation - Fine-tuning topics using representation models.\n",
            "2025-03-31 01:59:08,276 - BERTopic - Representation - Completed ✓\n"
          ]
        },
        {
          "metadata": {
            "tags": null
          },
          "name": "stdout",
          "output_type": "stream",
          "text": [
            "Building dictionary and corpus...\n",
            "Analyzing 385 unique topics (excluding outliers)\n",
            "Successfully extracted words for 385 topics (skipped 0)\n",
            "Calculating NPMI coherence...\n"
          ]
        },
        {
          "metadata": {
            "tags": null
          },
          "name": "stderr",
          "output_type": "stream",
          "text": [
            "2025-03-31 02:00:24,346 - BERTopic - Dimensionality - Fitting the dimensionality reduction algorithm\n",
            "2025-03-31 02:01:09,284 - BERTopic - Dimensionality - Completed ✓\n",
            "2025-03-31 02:01:09,286 - BERTopic - Cluster - Start clustering the reduced embeddings\n",
            "2025-03-31 02:01:11,330 - BERTopic - Cluster - Completed ✓\n",
            "2025-03-31 02:01:11,342 - BERTopic - Representation - Fine-tuning topics using representation models.\n",
            "2025-03-31 02:01:15,669 - BERTopic - Representation - Completed ✓\n"
          ]
        },
        {
          "metadata": {
            "tags": null
          },
          "name": "stdout",
          "output_type": "stream",
          "text": [
            "Building dictionary and corpus...\n",
            "Analyzing 288 unique topics (excluding outliers)\n",
            "Successfully extracted words for 288 topics (skipped 0)\n",
            "Calculating NPMI coherence...\n"
          ]
        },
        {
          "metadata": {
            "tags": null
          },
          "name": "stderr",
          "output_type": "stream",
          "text": [
            "2025-03-31 02:02:25,749 - BERTopic - Dimensionality - Fitting the dimensionality reduction algorithm\n",
            "2025-03-31 02:03:21,050 - BERTopic - Dimensionality - Completed ✓\n",
            "2025-03-31 02:03:21,051 - BERTopic - Cluster - Start clustering the reduced embeddings\n",
            "2025-03-31 02:03:23,235 - BERTopic - Cluster - Completed ✓\n",
            "2025-03-31 02:03:23,249 - BERTopic - Representation - Fine-tuning topics using representation models.\n",
            "2025-03-31 02:03:27,826 - BERTopic - Representation - Completed ✓\n"
          ]
        },
        {
          "metadata": {
            "tags": null
          },
          "name": "stdout",
          "output_type": "stream",
          "text": [
            "Building dictionary and corpus...\n",
            "Analyzing 515 unique topics (excluding outliers)\n",
            "Successfully extracted words for 515 topics (skipped 0)\n",
            "Calculating NPMI coherence...\n"
          ]
        },
        {
          "metadata": {
            "tags": null
          },
          "name": "stderr",
          "output_type": "stream",
          "text": [
            "2025-03-31 02:05:16,451 - BERTopic - Dimensionality - Fitting the dimensionality reduction algorithm\n",
            "2025-03-31 02:06:11,980 - BERTopic - Dimensionality - Completed ✓\n",
            "2025-03-31 02:06:11,981 - BERTopic - Cluster - Start clustering the reduced embeddings\n",
            "2025-03-31 02:06:14,030 - BERTopic - Cluster - Completed ✓\n",
            "2025-03-31 02:06:14,042 - BERTopic - Representation - Fine-tuning topics using representation models.\n",
            "2025-03-31 02:06:18,470 - BERTopic - Representation - Completed ✓\n"
          ]
        },
        {
          "metadata": {
            "tags": null
          },
          "name": "stdout",
          "output_type": "stream",
          "text": [
            "Building dictionary and corpus...\n",
            "Analyzing 301 unique topics (excluding outliers)\n",
            "Successfully extracted words for 301 topics (skipped 0)\n",
            "Calculating NPMI coherence...\n"
          ]
        },
        {
          "metadata": {
            "tags": null
          },
          "name": "stderr",
          "output_type": "stream",
          "text": [
            "2025-03-31 02:07:28,413 - BERTopic - Dimensionality - Fitting the dimensionality reduction algorithm\n",
            "2025-03-31 02:08:24,336 - BERTopic - Dimensionality - Completed ✓\n",
            "2025-03-31 02:08:24,338 - BERTopic - Cluster - Start clustering the reduced embeddings\n",
            "2025-03-31 02:08:26,383 - BERTopic - Cluster - Completed ✓\n",
            "2025-03-31 02:08:26,395 - BERTopic - Representation - Fine-tuning topics using representation models.\n",
            "2025-03-31 02:08:30,820 - BERTopic - Representation - Completed ✓\n"
          ]
        },
        {
          "metadata": {
            "tags": null
          },
          "name": "stdout",
          "output_type": "stream",
          "text": [
            "Building dictionary and corpus...\n",
            "Analyzing 236 unique topics (excluding outliers)\n",
            "Successfully extracted words for 236 topics (skipped 0)\n",
            "Calculating NPMI coherence...\n"
          ]
        },
        {
          "metadata": {
            "tags": null
          },
          "name": "stderr",
          "output_type": "stream",
          "text": [
            "2025-03-31 02:09:31,733 - BERTopic - Dimensionality - Fitting the dimensionality reduction algorithm\n",
            "2025-03-31 02:10:36,344 - BERTopic - Dimensionality - Completed ✓\n",
            "2025-03-31 02:10:36,346 - BERTopic - Cluster - Start clustering the reduced embeddings\n",
            "2025-03-31 02:10:38,488 - BERTopic - Cluster - Completed ✓\n",
            "2025-03-31 02:10:38,501 - BERTopic - Representation - Fine-tuning topics using representation models.\n",
            "2025-03-31 02:10:43,158 - BERTopic - Representation - Completed ✓\n"
          ]
        },
        {
          "metadata": {
            "tags": null
          },
          "name": "stdout",
          "output_type": "stream",
          "text": [
            "Building dictionary and corpus...\n",
            "Analyzing 458 unique topics (excluding outliers)\n",
            "Successfully extracted words for 458 topics (skipped 0)\n",
            "Calculating NPMI coherence...\n"
          ]
        },
        {
          "metadata": {
            "tags": null
          },
          "name": "stderr",
          "output_type": "stream",
          "text": [
            "2025-03-31 02:12:23,562 - BERTopic - Dimensionality - Fitting the dimensionality reduction algorithm\n",
            "2025-03-31 02:13:30,635 - BERTopic - Dimensionality - Completed ✓\n",
            "2025-03-31 02:13:30,637 - BERTopic - Cluster - Start clustering the reduced embeddings\n",
            "2025-03-31 02:13:32,731 - BERTopic - Cluster - Completed ✓\n",
            "2025-03-31 02:13:32,743 - BERTopic - Representation - Fine-tuning topics using representation models.\n",
            "2025-03-31 02:13:37,097 - BERTopic - Representation - Completed ✓\n"
          ]
        },
        {
          "metadata": {
            "tags": null
          },
          "name": "stdout",
          "output_type": "stream",
          "text": [
            "Building dictionary and corpus...\n",
            "Analyzing 289 unique topics (excluding outliers)\n",
            "Successfully extracted words for 289 topics (skipped 0)\n",
            "Calculating NPMI coherence...\n"
          ]
        },
        {
          "metadata": {
            "tags": null
          },
          "name": "stderr",
          "output_type": "stream",
          "text": [
            "2025-03-31 02:14:45,439 - BERTopic - Dimensionality - Fitting the dimensionality reduction algorithm\n",
            "2025-03-31 02:15:50,730 - BERTopic - Dimensionality - Completed ✓\n",
            "2025-03-31 02:15:50,731 - BERTopic - Cluster - Start clustering the reduced embeddings\n",
            "2025-03-31 02:15:52,851 - BERTopic - Cluster - Completed ✓\n",
            "2025-03-31 02:15:52,862 - BERTopic - Representation - Fine-tuning topics using representation models.\n",
            "2025-03-31 02:15:57,206 - BERTopic - Representation - Completed ✓\n"
          ]
        },
        {
          "metadata": {
            "tags": null
          },
          "name": "stdout",
          "output_type": "stream",
          "text": [
            "Building dictionary and corpus...\n",
            "Analyzing 228 unique topics (excluding outliers)\n",
            "Successfully extracted words for 228 topics (skipped 0)\n",
            "Calculating NPMI coherence...\n"
          ]
        },
        {
          "metadata": {
            "tags": null
          },
          "name": "stderr",
          "output_type": "stream",
          "text": [
            "2025-03-31 02:16:57,787 - BERTopic - Dimensionality - Fitting the dimensionality reduction algorithm\n",
            "2025-03-31 02:17:52,286 - BERTopic - Dimensionality - Completed ✓\n",
            "2025-03-31 02:17:52,288 - BERTopic - Cluster - Start clustering the reduced embeddings\n",
            "2025-03-31 02:17:56,088 - BERTopic - Cluster - Completed ✓\n",
            "2025-03-31 02:17:56,103 - BERTopic - Representation - Fine-tuning topics using representation models.\n",
            "2025-03-31 02:18:00,673 - BERTopic - Representation - Completed ✓\n"
          ]
        },
        {
          "metadata": {
            "tags": null
          },
          "name": "stdout",
          "output_type": "stream",
          "text": [
            "Building dictionary and corpus...\n",
            "Analyzing 557 unique topics (excluding outliers)\n",
            "Successfully extracted words for 557 topics (skipped 0)\n",
            "Calculating NPMI coherence...\n"
          ]
        },
        {
          "metadata": {
            "tags": null
          },
          "name": "stderr",
          "output_type": "stream",
          "text": [
            "2025-03-31 02:19:59,390 - BERTopic - Dimensionality - Fitting the dimensionality reduction algorithm\n",
            "2025-03-31 02:20:54,365 - BERTopic - Dimensionality - Completed ✓\n",
            "2025-03-31 02:20:54,368 - BERTopic - Cluster - Start clustering the reduced embeddings\n",
            "2025-03-31 02:20:58,111 - BERTopic - Cluster - Completed ✓\n",
            "2025-03-31 02:20:58,124 - BERTopic - Representation - Fine-tuning topics using representation models.\n",
            "2025-03-31 02:21:02,636 - BERTopic - Representation - Completed ✓\n"
          ]
        },
        {
          "metadata": {
            "tags": null
          },
          "name": "stdout",
          "output_type": "stream",
          "text": [
            "Building dictionary and corpus...\n",
            "Analyzing 407 unique topics (excluding outliers)\n",
            "Successfully extracted words for 407 topics (skipped 0)\n",
            "Calculating NPMI coherence...\n"
          ]
        },
        {
          "metadata": {
            "tags": null
          },
          "name": "stderr",
          "output_type": "stream",
          "text": [
            "2025-03-31 02:22:34,381 - BERTopic - Dimensionality - Fitting the dimensionality reduction algorithm\n",
            "2025-03-31 02:23:28,895 - BERTopic - Dimensionality - Completed ✓\n",
            "2025-03-31 02:23:28,898 - BERTopic - Cluster - Start clustering the reduced embeddings\n",
            "2025-03-31 02:23:32,709 - BERTopic - Cluster - Completed ✓\n",
            "2025-03-31 02:23:32,720 - BERTopic - Representation - Fine-tuning topics using representation models.\n",
            "2025-03-31 02:23:37,028 - BERTopic - Representation - Completed ✓\n"
          ]
        },
        {
          "metadata": {
            "tags": null
          },
          "name": "stdout",
          "output_type": "stream",
          "text": [
            "Building dictionary and corpus...\n",
            "Analyzing 247 unique topics (excluding outliers)\n",
            "Successfully extracted words for 247 topics (skipped 0)\n",
            "Calculating NPMI coherence...\n"
          ]
        },
        {
          "metadata": {
            "tags": null
          },
          "name": "stderr",
          "output_type": "stream",
          "text": [
            "2025-03-31 02:24:39,822 - BERTopic - Dimensionality - Fitting the dimensionality reduction algorithm\n",
            "2025-03-31 02:25:47,292 - BERTopic - Dimensionality - Completed ✓\n",
            "2025-03-31 02:25:47,295 - BERTopic - Cluster - Start clustering the reduced embeddings\n",
            "2025-03-31 02:25:50,632 - BERTopic - Cluster - Completed ✓\n",
            "2025-03-31 02:25:50,645 - BERTopic - Representation - Fine-tuning topics using representation models.\n",
            "2025-03-31 02:25:55,169 - BERTopic - Representation - Completed ✓\n"
          ]
        },
        {
          "metadata": {
            "tags": null
          },
          "name": "stdout",
          "output_type": "stream",
          "text": [
            "Building dictionary and corpus...\n",
            "Analyzing 478 unique topics (excluding outliers)\n",
            "Successfully extracted words for 478 topics (skipped 0)\n",
            "Calculating NPMI coherence...\n"
          ]
        },
        {
          "metadata": {
            "tags": null
          },
          "name": "stderr",
          "output_type": "stream",
          "text": [
            "2025-03-31 02:27:39,153 - BERTopic - Dimensionality - Fitting the dimensionality reduction algorithm\n",
            "2025-03-31 02:28:47,402 - BERTopic - Dimensionality - Completed ✓\n",
            "2025-03-31 02:28:47,404 - BERTopic - Cluster - Start clustering the reduced embeddings\n",
            "2025-03-31 02:28:50,764 - BERTopic - Cluster - Completed ✓\n",
            "2025-03-31 02:28:50,776 - BERTopic - Representation - Fine-tuning topics using representation models.\n",
            "2025-03-31 02:28:55,188 - BERTopic - Representation - Completed ✓\n"
          ]
        },
        {
          "metadata": {
            "tags": null
          },
          "name": "stdout",
          "output_type": "stream",
          "text": [
            "Building dictionary and corpus...\n",
            "Analyzing 334 unique topics (excluding outliers)\n",
            "Successfully extracted words for 334 topics (skipped 0)\n",
            "Calculating NPMI coherence...\n"
          ]
        },
        {
          "metadata": {
            "tags": null
          },
          "name": "stderr",
          "output_type": "stream",
          "text": [
            "2025-03-31 02:30:09,748 - BERTopic - Dimensionality - Fitting the dimensionality reduction algorithm\n",
            "2025-03-31 02:31:17,260 - BERTopic - Dimensionality - Completed ✓\n",
            "2025-03-31 02:31:17,262 - BERTopic - Cluster - Start clustering the reduced embeddings\n",
            "2025-03-31 02:31:20,665 - BERTopic - Cluster - Completed ✓\n",
            "2025-03-31 02:31:20,676 - BERTopic - Representation - Fine-tuning topics using representation models.\n",
            "2025-03-31 02:31:24,925 - BERTopic - Representation - Completed ✓\n"
          ]
        },
        {
          "metadata": {
            "tags": null
          },
          "name": "stdout",
          "output_type": "stream",
          "text": [
            "Building dictionary and corpus...\n",
            "Analyzing 232 unique topics (excluding outliers)\n",
            "Successfully extracted words for 232 topics (skipped 0)\n",
            "Calculating NPMI coherence...\n"
          ]
        },
        {
          "metadata": {
            "tags": null
          },
          "name": "stderr",
          "output_type": "stream",
          "text": [
            "2025-03-31 02:32:26,979 - BERTopic - Dimensionality - Fitting the dimensionality reduction algorithm\n",
            "2025-03-31 02:33:45,735 - BERTopic - Dimensionality - Completed ✓\n",
            "2025-03-31 02:33:45,738 - BERTopic - Cluster - Start clustering the reduced embeddings\n",
            "2025-03-31 02:33:49,237 - BERTopic - Cluster - Completed ✓\n",
            "2025-03-31 02:33:49,251 - BERTopic - Representation - Fine-tuning topics using representation models.\n",
            "2025-03-31 02:33:53,785 - BERTopic - Representation - Completed ✓\n"
          ]
        },
        {
          "metadata": {
            "tags": null
          },
          "name": "stdout",
          "output_type": "stream",
          "text": [
            "Building dictionary and corpus...\n",
            "Analyzing 386 unique topics (excluding outliers)\n",
            "Successfully extracted words for 386 topics (skipped 0)\n",
            "Calculating NPMI coherence...\n"
          ]
        },
        {
          "metadata": {
            "tags": null
          },
          "name": "stderr",
          "output_type": "stream",
          "text": [
            "2025-03-31 02:35:13,086 - BERTopic - Dimensionality - Fitting the dimensionality reduction algorithm\n",
            "2025-03-31 02:36:32,189 - BERTopic - Dimensionality - Completed ✓\n",
            "2025-03-31 02:36:32,192 - BERTopic - Cluster - Start clustering the reduced embeddings\n",
            "2025-03-31 02:36:35,682 - BERTopic - Cluster - Completed ✓\n",
            "2025-03-31 02:36:35,694 - BERTopic - Representation - Fine-tuning topics using representation models.\n",
            "2025-03-31 02:36:40,042 - BERTopic - Representation - Completed ✓\n"
          ]
        },
        {
          "metadata": {
            "tags": null
          },
          "name": "stdout",
          "output_type": "stream",
          "text": [
            "Building dictionary and corpus...\n",
            "Analyzing 274 unique topics (excluding outliers)\n",
            "Successfully extracted words for 274 topics (skipped 0)\n",
            "Calculating NPMI coherence...\n"
          ]
        },
        {
          "metadata": {
            "tags": null
          },
          "name": "stderr",
          "output_type": "stream",
          "text": [
            "2025-03-31 02:37:46,493 - BERTopic - Dimensionality - Fitting the dimensionality reduction algorithm\n",
            "2025-03-31 02:39:04,495 - BERTopic - Dimensionality - Completed ✓\n",
            "2025-03-31 02:39:04,498 - BERTopic - Cluster - Start clustering the reduced embeddings\n",
            "2025-03-31 02:39:08,031 - BERTopic - Cluster - Completed ✓\n",
            "2025-03-31 02:39:08,043 - BERTopic - Representation - Fine-tuning topics using representation models.\n",
            "2025-03-31 02:39:12,430 - BERTopic - Representation - Completed ✓\n"
          ]
        },
        {
          "metadata": {
            "tags": null
          },
          "name": "stdout",
          "output_type": "stream",
          "text": [
            "Building dictionary and corpus...\n",
            "Analyzing 222 unique topics (excluding outliers)\n",
            "Successfully extracted words for 222 topics (skipped 0)\n",
            "Calculating NPMI coherence...\n"
          ]
        },
        {
          "metadata": {
            "tags": null
          },
          "name": "stderr",
          "output_type": "stream",
          "text": [
            "2025-03-31 02:40:13,021 - BERTopic - Dimensionality - Fitting the dimensionality reduction algorithm\n",
            "2025-03-31 02:40:57,548 - BERTopic - Dimensionality - Completed ✓\n",
            "2025-03-31 02:40:57,549 - BERTopic - Cluster - Start clustering the reduced embeddings\n",
            "2025-03-31 02:40:59,608 - BERTopic - Cluster - Completed ✓\n",
            "2025-03-31 02:40:59,621 - BERTopic - Representation - Fine-tuning topics using representation models.\n",
            "2025-03-31 02:41:04,058 - BERTopic - Representation - Completed ✓\n"
          ]
        },
        {
          "metadata": {
            "tags": null
          },
          "name": "stdout",
          "output_type": "stream",
          "text": [
            "Building dictionary and corpus...\n",
            "Analyzing 386 unique topics (excluding outliers)\n",
            "Successfully extracted words for 386 topics (skipped 0)\n",
            "Calculating NPMI coherence...\n"
          ]
        },
        {
          "metadata": {
            "tags": null
          },
          "name": "stderr",
          "output_type": "stream",
          "text": [
            "2025-03-31 02:42:25,824 - BERTopic - Dimensionality - Fitting the dimensionality reduction algorithm\n",
            "2025-03-31 02:43:10,220 - BERTopic - Dimensionality - Completed ✓\n",
            "2025-03-31 02:43:10,221 - BERTopic - Cluster - Start clustering the reduced embeddings\n",
            "2025-03-31 02:43:12,185 - BERTopic - Cluster - Completed ✓\n",
            "2025-03-31 02:43:12,197 - BERTopic - Representation - Fine-tuning topics using representation models.\n",
            "2025-03-31 02:43:16,532 - BERTopic - Representation - Completed ✓\n"
          ]
        },
        {
          "metadata": {
            "tags": null
          },
          "name": "stdout",
          "output_type": "stream",
          "text": [
            "Building dictionary and corpus...\n",
            "Analyzing 300 unique topics (excluding outliers)\n",
            "Successfully extracted words for 300 topics (skipped 0)\n",
            "Calculating NPMI coherence...\n"
          ]
        },
        {
          "metadata": {
            "tags": null
          },
          "name": "stderr",
          "output_type": "stream",
          "text": [
            "2025-03-31 02:44:28,949 - BERTopic - Dimensionality - Fitting the dimensionality reduction algorithm\n",
            "2025-03-31 02:45:13,223 - BERTopic - Dimensionality - Completed ✓\n",
            "2025-03-31 02:45:13,225 - BERTopic - Cluster - Start clustering the reduced embeddings\n",
            "2025-03-31 02:45:15,236 - BERTopic - Cluster - Completed ✓\n",
            "2025-03-31 02:45:15,247 - BERTopic - Representation - Fine-tuning topics using representation models.\n",
            "2025-03-31 02:45:19,526 - BERTopic - Representation - Completed ✓\n"
          ]
        },
        {
          "metadata": {
            "tags": null
          },
          "name": "stdout",
          "output_type": "stream",
          "text": [
            "Building dictionary and corpus...\n",
            "Analyzing 262 unique topics (excluding outliers)\n",
            "Successfully extracted words for 262 topics (skipped 0)\n",
            "Calculating NPMI coherence...\n"
          ]
        },
        {
          "metadata": {
            "tags": null
          },
          "name": "stderr",
          "output_type": "stream",
          "text": [
            "2025-03-31 02:46:25,856 - BERTopic - Dimensionality - Fitting the dimensionality reduction algorithm\n",
            "2025-03-31 02:47:20,933 - BERTopic - Dimensionality - Completed ✓\n",
            "2025-03-31 02:47:20,935 - BERTopic - Cluster - Start clustering the reduced embeddings\n",
            "2025-03-31 02:47:22,984 - BERTopic - Cluster - Completed ✓\n",
            "2025-03-31 02:47:22,996 - BERTopic - Representation - Fine-tuning topics using representation models.\n",
            "2025-03-31 02:47:27,402 - BERTopic - Representation - Completed ✓\n"
          ]
        },
        {
          "metadata": {
            "tags": null
          },
          "name": "stdout",
          "output_type": "stream",
          "text": [
            "Building dictionary and corpus...\n",
            "Analyzing 330 unique topics (excluding outliers)\n",
            "Successfully extracted words for 330 topics (skipped 0)\n",
            "Calculating NPMI coherence...\n"
          ]
        },
        {
          "metadata": {
            "tags": null
          },
          "name": "stderr",
          "output_type": "stream",
          "text": [
            "2025-03-31 02:48:41,207 - BERTopic - Dimensionality - Fitting the dimensionality reduction algorithm\n",
            "2025-03-31 02:49:36,577 - BERTopic - Dimensionality - Completed ✓\n",
            "2025-03-31 02:49:36,579 - BERTopic - Cluster - Start clustering the reduced embeddings\n",
            "2025-03-31 02:49:38,562 - BERTopic - Cluster - Completed ✓\n",
            "2025-03-31 02:49:38,574 - BERTopic - Representation - Fine-tuning topics using representation models.\n",
            "2025-03-31 02:49:42,845 - BERTopic - Representation - Completed ✓\n"
          ]
        },
        {
          "metadata": {
            "tags": null
          },
          "name": "stdout",
          "output_type": "stream",
          "text": [
            "Building dictionary and corpus...\n",
            "Analyzing 242 unique topics (excluding outliers)\n",
            "Successfully extracted words for 242 topics (skipped 0)\n",
            "Calculating NPMI coherence...\n"
          ]
        },
        {
          "metadata": {
            "tags": null
          },
          "name": "stderr",
          "output_type": "stream",
          "text": [
            "2025-03-31 02:50:45,191 - BERTopic - Dimensionality - Fitting the dimensionality reduction algorithm\n",
            "2025-03-31 02:51:40,329 - BERTopic - Dimensionality - Completed ✓\n",
            "2025-03-31 02:51:40,331 - BERTopic - Cluster - Start clustering the reduced embeddings\n",
            "2025-03-31 02:51:42,369 - BERTopic - Cluster - Completed ✓\n",
            "2025-03-31 02:51:42,381 - BERTopic - Representation - Fine-tuning topics using representation models.\n",
            "2025-03-31 02:51:46,635 - BERTopic - Representation - Completed ✓\n"
          ]
        },
        {
          "metadata": {
            "tags": null
          },
          "name": "stdout",
          "output_type": "stream",
          "text": [
            "Building dictionary and corpus...\n",
            "Analyzing 211 unique topics (excluding outliers)\n",
            "Successfully extracted words for 211 topics (skipped 0)\n",
            "Calculating NPMI coherence...\n"
          ]
        },
        {
          "metadata": {
            "tags": null
          },
          "name": "stderr",
          "output_type": "stream",
          "text": [
            "2025-03-31 02:52:45,714 - BERTopic - Dimensionality - Fitting the dimensionality reduction algorithm\n",
            "2025-03-31 02:53:50,699 - BERTopic - Dimensionality - Completed ✓\n",
            "2025-03-31 02:53:50,701 - BERTopic - Cluster - Start clustering the reduced embeddings\n",
            "2025-03-31 02:53:52,744 - BERTopic - Cluster - Completed ✓\n",
            "2025-03-31 02:53:52,757 - BERTopic - Representation - Fine-tuning topics using representation models.\n",
            "2025-03-31 02:53:57,792 - BERTopic - Representation - Completed ✓\n"
          ]
        },
        {
          "metadata": {
            "tags": null
          },
          "name": "stdout",
          "output_type": "stream",
          "text": [
            "Building dictionary and corpus...\n",
            "Analyzing 326 unique topics (excluding outliers)\n",
            "Successfully extracted words for 326 topics (skipped 0)\n",
            "Calculating NPMI coherence...\n"
          ]
        },
        {
          "metadata": {
            "tags": null
          },
          "name": "stderr",
          "output_type": "stream",
          "text": [
            "2025-03-31 02:55:10,877 - BERTopic - Dimensionality - Fitting the dimensionality reduction algorithm\n",
            "2025-03-31 02:56:15,994 - BERTopic - Dimensionality - Completed ✓\n",
            "2025-03-31 02:56:15,996 - BERTopic - Cluster - Start clustering the reduced embeddings\n",
            "2025-03-31 02:56:18,021 - BERTopic - Cluster - Completed ✓\n",
            "2025-03-31 02:56:18,032 - BERTopic - Representation - Fine-tuning topics using representation models.\n",
            "2025-03-31 02:56:22,351 - BERTopic - Representation - Completed ✓\n"
          ]
        },
        {
          "metadata": {
            "tags": null
          },
          "name": "stdout",
          "output_type": "stream",
          "text": [
            "Building dictionary and corpus...\n",
            "Analyzing 228 unique topics (excluding outliers)\n",
            "Successfully extracted words for 228 topics (skipped 0)\n",
            "Calculating NPMI coherence...\n"
          ]
        },
        {
          "metadata": {
            "tags": null
          },
          "name": "stderr",
          "output_type": "stream",
          "text": [
            "2025-03-31 02:57:21,393 - BERTopic - Dimensionality - Fitting the dimensionality reduction algorithm\n",
            "2025-03-31 02:58:26,414 - BERTopic - Dimensionality - Completed ✓\n",
            "2025-03-31 02:58:26,416 - BERTopic - Cluster - Start clustering the reduced embeddings\n",
            "2025-03-31 02:58:28,497 - BERTopic - Cluster - Completed ✓\n",
            "2025-03-31 02:58:28,508 - BERTopic - Representation - Fine-tuning topics using representation models.\n",
            "2025-03-31 02:58:32,778 - BERTopic - Representation - Completed ✓\n"
          ]
        },
        {
          "output_type": "stream",
          "name": "stdout",
          "text": [
            "Building dictionary and corpus...\n",
            "Analyzing 205 unique topics (excluding outliers)\n",
            "Successfully extracted words for 205 topics (skipped 0)\n",
            "Calculating NPMI coherence...\n"
          ]
        },
        {
          "output_type": "stream",
          "name": "stderr",
          "text": [
            "2025-03-31 02:59:32,474 - BERTopic - Dimensionality - Fitting the dimensionality reduction algorithm\n",
            "2025-03-31 03:00:27,654 - BERTopic - Dimensionality - Completed ✓\n",
            "2025-03-31 03:00:27,657 - BERTopic - Cluster - Start clustering the reduced embeddings\n",
            "2025-03-31 03:00:31,290 - BERTopic - Cluster - Completed ✓\n",
            "2025-03-31 03:00:31,302 - BERTopic - Representation - Fine-tuning topics using representation models.\n",
            "2025-03-31 03:00:35,718 - BERTopic - Representation - Completed ✓\n"
          ]
        },
        {
          "output_type": "stream",
          "name": "stdout",
          "text": [
            "Building dictionary and corpus...\n",
            "Analyzing 372 unique topics (excluding outliers)\n",
            "Successfully extracted words for 372 topics (skipped 0)\n",
            "Calculating NPMI coherence...\n"
          ]
        },
        {
          "output_type": "stream",
          "name": "stderr",
          "text": [
            "2025-03-31 03:01:57,386 - BERTopic - Dimensionality - Fitting the dimensionality reduction algorithm\n",
            "2025-03-31 03:02:52,312 - BERTopic - Dimensionality - Completed ✓\n",
            "2025-03-31 03:02:52,315 - BERTopic - Cluster - Start clustering the reduced embeddings\n",
            "2025-03-31 03:02:56,030 - BERTopic - Cluster - Completed ✓\n",
            "2025-03-31 03:02:56,042 - BERTopic - Representation - Fine-tuning topics using representation models.\n",
            "2025-03-31 03:03:00,442 - BERTopic - Representation - Completed ✓\n"
          ]
        },
        {
          "output_type": "stream",
          "name": "stdout",
          "text": [
            "Building dictionary and corpus...\n",
            "Analyzing 313 unique topics (excluding outliers)\n",
            "Successfully extracted words for 313 topics (skipped 0)\n",
            "Calculating NPMI coherence...\n"
          ]
        },
        {
          "output_type": "stream",
          "name": "stderr",
          "text": [
            "2025-03-31 03:04:13,632 - BERTopic - Dimensionality - Fitting the dimensionality reduction algorithm\n",
            "2025-03-31 03:05:08,309 - BERTopic - Dimensionality - Completed ✓\n",
            "2025-03-31 03:05:08,312 - BERTopic - Cluster - Start clustering the reduced embeddings\n",
            "2025-03-31 03:05:12,106 - BERTopic - Cluster - Completed ✓\n",
            "2025-03-31 03:05:12,117 - BERTopic - Representation - Fine-tuning topics using representation models.\n",
            "2025-03-31 03:05:16,457 - BERTopic - Representation - Completed ✓\n"
          ]
        },
        {
          "output_type": "stream",
          "name": "stdout",
          "text": [
            "Building dictionary and corpus...\n",
            "Analyzing 234 unique topics (excluding outliers)\n",
            "Successfully extracted words for 234 topics (skipped 0)\n",
            "Calculating NPMI coherence...\n"
          ]
        },
        {
          "output_type": "stream",
          "name": "stderr",
          "text": [
            "2025-03-31 03:06:18,641 - BERTopic - Dimensionality - Fitting the dimensionality reduction algorithm\n",
            "2025-03-31 03:07:27,861 - BERTopic - Dimensionality - Completed ✓\n",
            "2025-03-31 03:07:27,864 - BERTopic - Cluster - Start clustering the reduced embeddings\n",
            "2025-03-31 03:07:31,090 - BERTopic - Cluster - Completed ✓\n",
            "2025-03-31 03:07:31,102 - BERTopic - Representation - Fine-tuning topics using representation models.\n",
            "2025-03-31 03:07:35,531 - BERTopic - Representation - Completed ✓\n"
          ]
        },
        {
          "output_type": "stream",
          "name": "stdout",
          "text": [
            "Building dictionary and corpus...\n",
            "Analyzing 324 unique topics (excluding outliers)\n",
            "Successfully extracted words for 324 topics (skipped 0)\n",
            "Calculating NPMI coherence...\n"
          ]
        },
        {
          "output_type": "stream",
          "name": "stderr",
          "text": [
            "2025-03-31 03:08:50,919 - BERTopic - Dimensionality - Fitting the dimensionality reduction algorithm\n",
            "2025-03-31 03:09:58,317 - BERTopic - Dimensionality - Completed ✓\n",
            "2025-03-31 03:09:58,319 - BERTopic - Cluster - Start clustering the reduced embeddings\n",
            "2025-03-31 03:10:01,626 - BERTopic - Cluster - Completed ✓\n",
            "2025-03-31 03:10:01,637 - BERTopic - Representation - Fine-tuning topics using representation models.\n",
            "2025-03-31 03:10:05,958 - BERTopic - Representation - Completed ✓\n"
          ]
        },
        {
          "output_type": "stream",
          "name": "stdout",
          "text": [
            "Building dictionary and corpus...\n",
            "Analyzing 272 unique topics (excluding outliers)\n",
            "Successfully extracted words for 272 topics (skipped 0)\n",
            "Calculating NPMI coherence...\n"
          ]
        },
        {
          "output_type": "stream",
          "name": "stderr",
          "text": [
            "2025-03-31 03:11:14,303 - BERTopic - Dimensionality - Fitting the dimensionality reduction algorithm\n",
            "2025-03-31 03:12:21,794 - BERTopic - Dimensionality - Completed ✓\n",
            "2025-03-31 03:12:21,796 - BERTopic - Cluster - Start clustering the reduced embeddings\n",
            "2025-03-31 03:12:25,174 - BERTopic - Cluster - Completed ✓\n",
            "2025-03-31 03:12:25,185 - BERTopic - Representation - Fine-tuning topics using representation models.\n",
            "2025-03-31 03:12:29,480 - BERTopic - Representation - Completed ✓\n"
          ]
        },
        {
          "output_type": "stream",
          "name": "stdout",
          "text": [
            "Building dictionary and corpus...\n",
            "Analyzing 217 unique topics (excluding outliers)\n",
            "Successfully extracted words for 217 topics (skipped 0)\n",
            "Calculating NPMI coherence...\n"
          ]
        },
        {
          "output_type": "stream",
          "name": "stderr",
          "text": [
            "2025-03-31 03:13:29,090 - BERTopic - Dimensionality - Fitting the dimensionality reduction algorithm\n",
            "2025-03-31 03:14:47,823 - BERTopic - Dimensionality - Completed ✓\n",
            "2025-03-31 03:14:47,826 - BERTopic - Cluster - Start clustering the reduced embeddings\n",
            "2025-03-31 03:14:51,182 - BERTopic - Cluster - Completed ✓\n",
            "2025-03-31 03:14:51,194 - BERTopic - Representation - Fine-tuning topics using representation models.\n",
            "2025-03-31 03:14:55,555 - BERTopic - Representation - Completed ✓\n"
          ]
        },
        {
          "output_type": "stream",
          "name": "stdout",
          "text": [
            "Building dictionary and corpus...\n",
            "Analyzing 285 unique topics (excluding outliers)\n",
            "Successfully extracted words for 285 topics (skipped 0)\n",
            "Calculating NPMI coherence...\n"
          ]
        },
        {
          "output_type": "stream",
          "name": "stderr",
          "text": [
            "2025-03-31 03:16:04,777 - BERTopic - Dimensionality - Fitting the dimensionality reduction algorithm\n",
            "2025-03-31 03:17:23,095 - BERTopic - Dimensionality - Completed ✓\n",
            "2025-03-31 03:17:23,098 - BERTopic - Cluster - Start clustering the reduced embeddings\n",
            "2025-03-31 03:17:26,540 - BERTopic - Cluster - Completed ✓\n",
            "2025-03-31 03:17:26,551 - BERTopic - Representation - Fine-tuning topics using representation models.\n",
            "2025-03-31 03:17:30,834 - BERTopic - Representation - Completed ✓\n"
          ]
        },
        {
          "output_type": "stream",
          "name": "stdout",
          "text": [
            "Building dictionary and corpus...\n",
            "Analyzing 225 unique topics (excluding outliers)\n",
            "Successfully extracted words for 225 topics (skipped 0)\n",
            "Calculating NPMI coherence...\n"
          ]
        },
        {
          "output_type": "stream",
          "name": "stderr",
          "text": [
            "2025-03-31 03:18:31,166 - BERTopic - Dimensionality - Fitting the dimensionality reduction algorithm\n",
            "2025-03-31 03:19:49,385 - BERTopic - Dimensionality - Completed ✓\n",
            "2025-03-31 03:19:49,388 - BERTopic - Cluster - Start clustering the reduced embeddings\n",
            "2025-03-31 03:19:52,929 - BERTopic - Cluster - Completed ✓\n",
            "2025-03-31 03:19:52,940 - BERTopic - Representation - Fine-tuning topics using representation models.\n",
            "2025-03-31 03:19:57,242 - BERTopic - Representation - Completed ✓\n"
          ]
        },
        {
          "output_type": "stream",
          "name": "stdout",
          "text": [
            "Building dictionary and corpus...\n",
            "Analyzing 206 unique topics (excluding outliers)\n",
            "Successfully extracted words for 206 topics (skipped 0)\n",
            "Calculating NPMI coherence...\n",
            "\n",
            "Best hyperparameters for Domain-Adapted TopicWeave:\n",
            "  min_topic_size: 10\n",
            "  umap_components: 10\n",
            "  umap_neighbors: 10\n",
            "  hdbscan_min_samples: 15\n",
            "Best combined score: 0.4439\n"
          ]
        },
        {
          "output_type": "stream",
          "name": "stderr",
          "text": [
            "2025-03-31 03:20:56,315 - BERTopic - Dimensionality - Fitting the dimensionality reduction algorithm\n"
          ]
        },
        {
          "output_type": "stream",
          "name": "stdout",
          "text": [
            "\n",
            "[Step 4]: Running evaluation with tuned parameters\n",
            "\n",
            "===== Running Evaluation with Tuned Parameters =====\n",
            "\n",
            "==================================================\n",
            "Running tuned evaluation: Domain-Adapted SciBERT\n",
            "==================================================\n"
          ]
        },
        {
          "output_type": "stream",
          "name": "stderr",
          "text": [
            "2025-03-31 03:22:14,250 - BERTopic - Dimensionality - Completed ✓\n",
            "2025-03-31 03:22:14,252 - BERTopic - Cluster - Start clustering the reduced embeddings\n",
            "2025-03-31 03:22:19,703 - BERTopic - Cluster - Completed ✓\n",
            "2025-03-31 03:22:19,714 - BERTopic - Representation - Fine-tuning topics using representation models.\n",
            "2025-03-31 03:22:23,979 - BERTopic - Representation - Completed ✓\n"
          ]
        },
        {
          "output_type": "stream",
          "name": "stdout",
          "text": [
            "\n",
            "Quantitative Evaluation Results:\n",
            "NMI: 0.39737998211514397\n",
            "ARI: 0.12674684725286967\n",
            "n_topics: 165\n",
            "n_categories: 10\n",
            "Building dictionary and corpus...\n",
            "Analyzing 165 unique topics (excluding outliers)\n",
            "Successfully extracted words for 165 topics (skipped 0)\n",
            "Calculating NPMI coherence...\n"
          ]
        },
        {
          "output_type": "stream",
          "name": "stderr",
          "text": [
            "2025-03-31 03:23:17,702 - BERTopic - Dimensionality - Fitting the dimensionality reduction algorithm\n"
          ]
        },
        {
          "output_type": "stream",
          "name": "stdout",
          "text": [
            "\n",
            "Qualitative Evaluation Results:\n",
            "C_v Coherence: 0.6400\n",
            "NPMI Coherence: 0.1420\n",
            "\n",
            "==================================================\n",
            "Running tuned evaluation: Domain-Adapted TopicWeave\n",
            "==================================================\n"
          ]
        },
        {
          "output_type": "stream",
          "name": "stderr",
          "text": [
            "2025-03-31 03:24:14,084 - BERTopic - Dimensionality - Completed ✓\n",
            "2025-03-31 03:24:14,087 - BERTopic - Cluster - Start clustering the reduced embeddings\n",
            "2025-03-31 03:24:17,960 - BERTopic - Cluster - Completed ✓\n",
            "2025-03-31 03:24:17,971 - BERTopic - Representation - Fine-tuning topics using representation models.\n",
            "2025-03-31 03:24:22,243 - BERTopic - Representation - Completed ✓\n"
          ]
        },
        {
          "output_type": "stream",
          "name": "stdout",
          "text": [
            "\n",
            "Quantitative Evaluation Results:\n",
            "NMI: 0.41094685056030567\n",
            "ARI: 0.16489363513032662\n",
            "n_topics: 247\n",
            "n_categories: 10\n",
            "Building dictionary and corpus...\n",
            "Analyzing 247 unique topics (excluding outliers)\n",
            "Successfully extracted words for 247 topics (skipped 0)\n",
            "Calculating NPMI coherence...\n",
            "\n",
            "Qualitative Evaluation Results:\n",
            "C_v Coherence: 0.6164\n",
            "NPMI Coherence: 0.1220\n"
          ]
        }
      ]
    },
    {
      "cell_type": "code",
      "source": [
        "# Step 5: Create visualizations\n",
        "print(\"\\n[Step 5]: Creating comprehensive visualizations\")\n",
        "summary_df = create_comprehensive_visualizations(default_results, tuned_results)"
      ],
      "metadata": {
        "id": "3kkJ6Lbq8A6n",
        "colab": {
          "base_uri": "https://localhost:8080/",
          "height": 760
        },
        "outputId": "b9f640a4-1c99-462f-d208-7fdcb03c6642"
      },
      "execution_count": 19,
      "outputs": [
        {
          "output_type": "stream",
          "name": "stdout",
          "text": [
            "\n",
            "[Step 5]: Creating comprehensive visualizations\n",
            "\n",
            "===== Creating Comprehensive Visualizations =====\n"
          ]
        },
        {
          "output_type": "display_data",
          "data": {
            "text/plain": [
              "<Figure size 1500x1000 with 4 Axes>"
            ],
            "image/png": "[encoded data removed]"
          },
          "metadata": {}
        }
      ]
    },
    {
      "cell_type": "code",
      "source": [
        "# Step 6: Create domain-specific analysis\n",
        "print(\"\\n[Step 6]: Creating domain-specific analysis\")\n",
        "domain_df = create_domain_specific_analysis(default_results, tuned_results)"
      ],
      "metadata": {
        "id": "rHDFpccLDnu4",
        "colab": {
          "base_uri": "https://localhost:8080/"
        },
        "outputId": "83fdb4d3-2156-4870-e7d6-da1b74287c20"
      },
      "execution_count": 20,
      "outputs": [
        {
          "output_type": "stream",
          "name": "stdout",
          "text": [
            "\n",
            "[Step 6]: Creating domain-specific analysis\n",
            "\n",
            "===== Creating Domain-Specific Analysis =====\n"
          ]
        }
      ]
    },
    {
      "cell_type": "code",
      "source": [
        "# Step 7: Save results\n",
        "print(\"\\n[Step 7]: Saving comprehensive results\")\n",
        "save_comprehensive_results(default_results, summary_df, domain_df, tuned_results)\n",
        "\n",
        "end_time = datetime.now()\n",
        "duration = end_time - start_time\n",
        "print(f\"\\nTopicWeave Comprehensive Evaluation - Completed at {datetime.now().strftime('%Y-%m-%d %H:%M')}\")\n",
        "print(f\"Total execution time: {duration}\")"
      ],
      "metadata": {
        "id": "9BpxugKPDraL",
        "colab": {
          "base_uri": "https://localhost:8080/"
        },
        "outputId": "14c85fe3-9776-4bdf-9f6b-cdf1e1b58ac9"
      },
      "execution_count": 23,
      "outputs": [
        {
          "output_type": "stream",
          "name": "stdout",
          "text": [
            "\n",
            "[Step 7]: Saving comprehensive results\n",
            "\n",
            "===== Saving Comprehensive Results =====\n",
            "Results saved to /content/drive/MyDrive/MIDS/W266/final_project//evaluation_results/\n",
            "\n",
            "TopicWeave Comprehensive Evaluation - Completed at 2025-03-31 04:08\n",
            "Total execution time: 5:49:53.181620\n"
          ]
        }
      ]
    }
  ]
}