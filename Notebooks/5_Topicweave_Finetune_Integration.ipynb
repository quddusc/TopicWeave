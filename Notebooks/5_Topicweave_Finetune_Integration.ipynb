{
  "nbformat": 4,
  "nbformat_minor": 0,
  "metadata": {
    "colab": {
      "provenance": [],
      "machine_shape": "hm",
      "gpuType": "A100"
    },
    "kernelspec": {
      "name": "python3",
      "display_name": "Python 3"
    },
    "language_info": {
      "name": "python"
    },
    "accelerator": "GPU"
  },
  "cells": [
    {
      "cell_type": "markdown",
      "source": [
        "# TopicWeave: Domain-Adapted Integration\n",
        "This notebook integrates domain-adapted SciBERT embeddings with SPECTER embeddings\n",
        "to create a domain-adapted version of TopicWeave."
      ],
      "metadata": {
        "id": "1kSOYiqoyKJ8"
      }
    },
    {
      "cell_type": "markdown",
      "source": [
        "## Setup"
      ],
      "metadata": {
        "id": "RkyV-fOp0rlE"
      }
    },
    {
      "cell_type": "code",
      "source": [
        "# Install required packages\n",
        "!pip install -q numpy pandas matplotlib scikit-learn tqdm seaborn"
      ],
      "metadata": {
        "id": "IP9DTyAPyEMs"
      },
      "execution_count": null,
      "outputs": []
    },
    {
      "cell_type": "code",
      "source": [
        "# Import necessary libraries\n",
        "import os\n",
        "import numpy as np\n",
        "import pandas as pd\n",
        "import matplotlib.pyplot as plt\n",
        "import seaborn as sns\n",
        "from sklearn.metrics.pairwise import cosine_similarity\n",
        "from sklearn.metrics import silhouette_score, adjusted_rand_score, normalized_mutual_info_score\n",
        "from sklearn.cluster import KMeans\n",
        "from sklearn.preprocessing import LabelEncoder\n",
        "from tqdm import tqdm\n",
        "import json\n",
        "from datetime import datetime"
      ],
      "metadata": {
        "id": "aAbM7a58yrk1"
      },
      "execution_count": null,
      "outputs": []
    },
    {
      "cell_type": "code",
      "source": [
        "# Mount Google Drive\n",
        "from google.colab import drive\n",
        "drive.mount('/content/drive')"
      ],
      "metadata": {
        "colab": {
          "base_uri": "https://localhost:8080/"
        },
        "id": "XVoWKEGqyuHT",
        "outputId": "d830025a-50f7-45ba-fd4d-793f73a3e759"
      },
      "execution_count": null,
      "outputs": [
        {
          "output_type": "stream",
          "name": "stdout",
          "text": [
            "Drive already mounted at /content/drive; to attempt to forcibly remount, call drive.mount(\"/content/drive\", force_remount=True).\n"
          ]
        }
      ]
    },
    {
      "cell_type": "code",
      "source": [
        "# Define directories\n",
        "PROJECT_DIR = '/content/drive/MyDrive/MIDS/W266/final_project/'\n",
        "DOMAIN_DIR = f\"{PROJECT_DIR}/domain_adaptation/\"\n",
        "EMBEDDING_DIR = f\"{PROJECT_DIR}/embeddings/\"\n",
        "OUTPUT_DIR = f\"{PROJECT_DIR}/domain_integration/\"\n",
        "FIGURE_DIR = f\"{PROJECT_DIR}/figures/domain_integration/\""
      ],
      "metadata": {
        "id": "ODVbZ1VsyzZv"
      },
      "execution_count": null,
      "outputs": []
    },
    {
      "cell_type": "code",
      "source": [
        "# Create directories\n",
        "for directory in [OUTPUT_DIR, FIGURE_DIR]:\n",
        "    os.makedirs(directory, exist_ok=True)\n",
        "\n",
        "print(\"TopicWeave Domain-Adapted Integration - Started at\", datetime.now().strftime('%Y-%m-%d %H:%M'))"
      ],
      "metadata": {
        "colab": {
          "base_uri": "https://localhost:8080/"
        },
        "id": "qkYziP5hy5ir",
        "outputId": "52d8acf3-8231-4324-adda-c7eb6925ce8c"
      },
      "execution_count": null,
      "outputs": [
        {
          "output_type": "stream",
          "name": "stdout",
          "text": [
            "TopicWeave Domain-Adapted Integration - Started at 2025-03-29 22:30\n"
          ]
        }
      ]
    },
    {
      "cell_type": "markdown",
      "source": [
        "## Load embedddings and document data"
      ],
      "metadata": {
        "id": "I2BtvCEGzbed"
      }
    },
    {
      "cell_type": "code",
      "source": [
        "def load_embeddings_and_data():\n",
        "    \"\"\"\n",
        "    Load all required embeddings and document data\n",
        "    \"\"\"\n",
        "    print(\"\\n===== Loading Embeddings and Document Data =====\")\n",
        "\n",
        "    # Load document info\n",
        "    docs_df = pd.read_csv(f\"{EMBEDDING_DIR}/document_info.csv\")\n",
        "    print(f\"Loaded {len(docs_df)} documents\")\n",
        "\n",
        "    # Load domain-adapted SciBERT embeddings\n",
        "    domain_scibert_path = f\"{DOMAIN_DIR}/domain_adapted_embeddings.npy\"\n",
        "    if os.path.exists(domain_scibert_path):\n",
        "        domain_scibert_embeddings = np.load(domain_scibert_path)\n",
        "        print(f\"Loaded domain-adapted SciBERT embeddings: {domain_scibert_embeddings.shape}\")\n",
        "    else:\n",
        "        raise FileNotFoundError(f\"Domain-adapted embeddings not found at {domain_scibert_path}\")\n",
        "\n",
        "    # Load original SPECTER embeddings\n",
        "    specter_path = f\"{EMBEDDING_DIR}/citation_embeddings.npy\"\n",
        "    if os.path.exists(specter_path):\n",
        "        specter_embeddings = np.load(specter_path)\n",
        "        print(f\"Loaded SPECTER embeddings: {specter_embeddings.shape}\")\n",
        "    else:\n",
        "        raise FileNotFoundError(f\"SPECTER embeddings not found at {specter_path}\")\n",
        "\n",
        "    # Load metadata\n",
        "    with open(f\"{EMBEDDING_DIR}/embeddings_metadata.json\", \"r\") as f:\n",
        "        metadata = json.load(f)\n",
        "\n",
        "    # Return all loaded data\n",
        "    return {\n",
        "        \"docs_df\": docs_df,\n",
        "        \"domain_scibert_embeddings\": domain_scibert_embeddings,\n",
        "        \"specter_embeddings\": specter_embeddings,\n",
        "        \"metadata\": metadata\n",
        "    }"
      ],
      "metadata": {
        "id": "WHku4QYizWPy"
      },
      "execution_count": null,
      "outputs": []
    },
    {
      "cell_type": "markdown",
      "source": [
        "## Optimize weights for combining embeddings"
      ],
      "metadata": {
        "id": "NDA3UJpLznYC"
      }
    },
    {
      "cell_type": "code",
      "source": [
        "def combine_embeddings(scibert_embeddings, specter_embeddings, weight_scibert=0.5):\n",
        "    \"\"\"\n",
        "    Combine embeddings with specified weights\n",
        "\n",
        "    Args:\n",
        "        scibert_embeddings: SciBERT embeddings\n",
        "        specter_embeddings: SPECTER embeddings\n",
        "        weight_scibert: Weight for SciBERT embeddings (1-weight for SPECTER)\n",
        "\n",
        "    Returns:\n",
        "        Combined embeddings\n",
        "    \"\"\"\n",
        "    assert scibert_embeddings.shape[0] == specter_embeddings.shape[0], \"Number of embeddings must match\"\n",
        "\n",
        "    # Weighted combination\n",
        "    combined = (weight_scibert * scibert_embeddings) + ((1 - weight_scibert) * specter_embeddings)\n",
        "\n",
        "    # Normalize combined embeddings\n",
        "    norm = np.linalg.norm(combined, axis=1, keepdims=True)\n",
        "    combined_norm = combined / norm\n",
        "\n",
        "    return combined_norm"
      ],
      "metadata": {
        "id": "TSXQHVD8znDs"
      },
      "execution_count": null,
      "outputs": []
    },
    {
      "cell_type": "code",
      "source": [
        "def optimize_weights(scibert_embeddings, specter_embeddings, categories, weight_range=None):\n",
        "    \"\"\"\n",
        "    Find the optimal weight combination for SciBERT and SPECTER embeddings\n",
        "\n",
        "    Args:\n",
        "        scibert_embeddings: SciBERT embeddings\n",
        "        specter_embeddings: SPECTER embeddings\n",
        "        categories: Document categories (for evaluating alignment)\n",
        "        weight_range: List of weights to try\n",
        "\n",
        "    Returns:\n",
        "        Dictionary with optimal weight and scores\n",
        "    \"\"\"\n",
        "    if weight_range is None:\n",
        "        weight_range = np.linspace(0.0, 1.0, 11)  # [0.0, 0.1, 0.2, ..., 1.0]\n",
        "\n",
        "    print(\"\\n===== Optimizing Weights for Embedding Combination =====\")\n",
        "    results = []\n",
        "\n",
        "    # Convert categories to numeric labels\n",
        "    encoder = LabelEncoder()\n",
        "    category_labels = encoder.fit_transform(categories)\n",
        "\n",
        "    # Number of clusters equals number of categories\n",
        "    n_clusters = len(set(categories))\n",
        "\n",
        "    for weight in tqdm(weight_range, desc=\"Testing weights\"):\n",
        "        # Combine embeddings with this weight\n",
        "        combined = combine_embeddings(scibert_embeddings, specter_embeddings, weight_scibert=weight)\n",
        "\n",
        "        # Calculate silhouette score\n",
        "        sil_score = silhouette_score(\n",
        "            combined,\n",
        "            category_labels,\n",
        "            sample_size=min(5000, len(categories)),\n",
        "            metric='cosine'\n",
        "        )\n",
        "\n",
        "        # Perform K-means clustering and evaluate against true categories\n",
        "        kmeans = KMeans(n_clusters=n_clusters, random_state=42, n_init=10)\n",
        "        cluster_labels = kmeans.fit_predict(combined)\n",
        "\n",
        "        # Calculate metrics\n",
        "        ari = adjusted_rand_score(category_labels, cluster_labels)\n",
        "        nmi = normalized_mutual_info_score(category_labels, cluster_labels)\n",
        "\n",
        "        # Calculate within-category similarity\n",
        "        sample_size = min(1000, len(categories))\n",
        "        indices = np.random.choice(len(categories), sample_size, replace=False)\n",
        "\n",
        "        sampled_embeddings = combined[indices]\n",
        "        sampled_categories = [categories[i] for i in indices]\n",
        "\n",
        "        # Calculate within-category similarity\n",
        "        similarities = []\n",
        "        for cat in set(sampled_categories):\n",
        "            cat_indices = [i for i, c in enumerate(sampled_categories) if c == cat]\n",
        "            if len(cat_indices) > 1:\n",
        "                cat_embeddings = sampled_embeddings[cat_indices]\n",
        "                sim_matrix = cosine_similarity(cat_embeddings)\n",
        "                np.fill_diagonal(sim_matrix, 0)\n",
        "                avg_sim = sim_matrix.sum() / (len(cat_indices) * (len(cat_indices) - 1))\n",
        "                similarities.append(avg_sim)\n",
        "\n",
        "        within_cat_similarity = np.mean(similarities) if similarities else 0\n",
        "\n",
        "        # Calculate combined score\n",
        "        combined_score = 0.3 * sil_score + 0.3 * nmi + 0.2 * ari + 0.2 * within_cat_similarity\n",
        "\n",
        "        # Store results\n",
        "        results.append({\n",
        "            'weight_scibert': weight,\n",
        "            'silhouette_score': sil_score,\n",
        "            'ari': ari,\n",
        "            'nmi': nmi,\n",
        "            'within_category_similarity': within_cat_similarity,\n",
        "            'combined_score': combined_score\n",
        "        })\n",
        "\n",
        "    # Convert to DataFrame\n",
        "    results_df = pd.DataFrame(results)\n",
        "\n",
        "    # Find optimal weight\n",
        "    best_idx = results_df['combined_score'].idxmax()\n",
        "    optimal_weight = results_df.loc[best_idx, 'weight_scibert']\n",
        "\n",
        "    # Plot results\n",
        "    plt.figure(figsize=(12, 8))\n",
        "    plt.plot(results_df['weight_scibert'], results_df['silhouette_score'], 'b-o', label='Silhouette Score')\n",
        "    plt.plot(results_df['weight_scibert'], results_df['nmi'], 'g-o', label='NMI')\n",
        "    plt.plot(results_df['weight_scibert'], results_df['ari'], 'r-o', label='ARI')\n",
        "    plt.plot(results_df['weight_scibert'], results_df['within_category_similarity'], 'c-o', label='Within-Category Similarity')\n",
        "    plt.plot(results_df['weight_scibert'], results_df['combined_score'], 'k-o', label='Combined Score')\n",
        "    plt.axvline(x=optimal_weight, color='black', linestyle='--', label=f'Optimal Weight: {optimal_weight:.2f}')\n",
        "    plt.xlabel('SciBERT Weight')\n",
        "    plt.ylabel('Score')\n",
        "    plt.title('Weight Optimization Results (Domain-Adapted)')\n",
        "    plt.legend()\n",
        "    plt.grid(True)\n",
        "    plt.savefig(f\"{FIGURE_DIR}/domain_weight_optimization.png\", dpi=300)\n",
        "\n",
        "    print(f\"Optimal domain-adapted SciBERT weight: {optimal_weight:.2f}\")\n",
        "    print(f\"Optimal SPECTER weight: {1-optimal_weight:.2f}\")\n",
        "\n",
        "    return {\n",
        "        'optimal_weight_scibert': optimal_weight,\n",
        "        'optimal_weight_specter': 1 - optimal_weight,\n",
        "        'results': results_df\n",
        "    }"
      ],
      "metadata": {
        "id": "ctsnGk7p0UM_"
      },
      "execution_count": null,
      "outputs": []
    },
    {
      "cell_type": "markdown",
      "source": [
        "## Create integrated embeddings"
      ],
      "metadata": {
        "id": "2w-VygBW0YZb"
      }
    },
    {
      "cell_type": "code",
      "source": [
        "def create_domain_topicweave_embeddings(data, weight_results=None):\n",
        "    \"\"\"\n",
        "    Create domain-adapted TopicWeave embeddings\n",
        "\n",
        "    Args:\n",
        "        data: Dictionary with loaded data\n",
        "        weight_results: Optional weight optimization results\n",
        "\n",
        "    Returns:\n",
        "        Domain-adapted TopicWeave embeddings\n",
        "    \"\"\"\n",
        "    print(\"\\n===== Creating Domain-Adapted TopicWeave Embeddings =====\")\n",
        "\n",
        "    # Extract embeddings\n",
        "    domain_scibert_embeddings = data[\"domain_scibert_embeddings\"]\n",
        "    specter_embeddings = data[\"specter_embeddings\"]\n",
        "\n",
        "    # Use optimal weight if weight_results is provided, otherwise use default 0.5\n",
        "    if weight_results is not None:\n",
        "        weight_scibert = weight_results[\"optimal_weight_scibert\"]\n",
        "    else:\n",
        "        weight_scibert = 0.5\n",
        "        print(\"No weight optimization results provided. Using default weight: 0.5\")\n",
        "\n",
        "    # Combine embeddings\n",
        "    domain_topicweave_embeddings = combine_embeddings(\n",
        "        scibert_embeddings=domain_scibert_embeddings,\n",
        "        specter_embeddings=specter_embeddings,\n",
        "        weight_scibert=weight_scibert\n",
        "    )\n",
        "\n",
        "    print(f\"Created domain-adapted TopicWeave embeddings: {domain_topicweave_embeddings.shape}\")\n",
        "    return domain_topicweave_embeddings"
      ],
      "metadata": {
        "id": "CyVP95IC0dNC"
      },
      "execution_count": null,
      "outputs": []
    },
    {
      "cell_type": "markdown",
      "source": [
        "## Save embeddings and results"
      ],
      "metadata": {
        "id": "EjW8DMZZ0kfK"
      }
    },
    {
      "cell_type": "code",
      "source": [
        "def save_embeddings_and_metadata(domain_topicweave_embeddings, weight_results, data):\n",
        "    \"\"\"\n",
        "    Save the domain-adapted TopicWeave embeddings and metadata\n",
        "\n",
        "    Args:\n",
        "        domain_topicweave_embeddings: Domain-adapted TopicWeave embeddings\n",
        "        weight_results: Weight optimization results\n",
        "        data: Dictionary with loaded data\n",
        "    \"\"\"\n",
        "    print(\"\\n===== Saving Embeddings and Metadata =====\")\n",
        "\n",
        "    # Save domain-adapted TopicWeave embeddings\n",
        "    np.save(f\"{OUTPUT_DIR}/domain_topicweave_embeddings.npy\", domain_topicweave_embeddings)\n",
        "\n",
        "    # Save weight optimization results\n",
        "    weight_results[\"results\"].to_csv(f\"{OUTPUT_DIR}/domain_weight_optimization_results.csv\", index=False)\n",
        "\n",
        "    # Save metadata\n",
        "    metadata = data[\"metadata\"].copy()\n",
        "    metadata.update({\n",
        "        \"timestamp\": datetime.now().strftime(\"%Y-%m-%d %H:%M:%S\"),\n",
        "        \"domain_scibert_weight\": float(weight_results[\"optimal_weight_scibert\"]),\n",
        "        \"specter_weight\": float(weight_results[\"optimal_weight_specter\"]),\n",
        "        \"embedding_dimension\": int(domain_topicweave_embeddings.shape[1])\n",
        "    })\n",
        "\n",
        "    with open(f\"{OUTPUT_DIR}/domain_topicweave_metadata.json\", \"w\") as f:\n",
        "        json.dump(metadata, f, indent=2)\n",
        "\n",
        "    print(f\"Domain-adapted TopicWeave embeddings saved to {OUTPUT_DIR}/domain_topicweave_embeddings.npy\")\n",
        "    print(f\"Metadata saved to {OUTPUT_DIR}/domain_topicweave_metadata.json\")"
      ],
      "metadata": {
        "id": "rNn6E2D30m35"
      },
      "execution_count": null,
      "outputs": []
    },
    {
      "cell_type": "markdown",
      "source": [
        "## Main execution"
      ],
      "metadata": {
        "id": "c4BzelxC0vd7"
      }
    },
    {
      "cell_type": "code",
      "source": [
        "# 1. Load embeddings and document data\n",
        "data = load_embeddings_and_data()"
      ],
      "metadata": {
        "colab": {
          "base_uri": "https://localhost:8080/"
        },
        "id": "aaSAYJ7k0yEU",
        "outputId": "10754434-076a-4f9b-8a0f-384a4c7ce973"
      },
      "execution_count": null,
      "outputs": [
        {
          "output_type": "stream",
          "name": "stdout",
          "text": [
            "\n",
            "===== Loading Embeddings and Document Data =====\n",
            "Loaded 45655 documents\n",
            "Loaded domain-adapted SciBERT embeddings: (45655, 768)\n",
            "Loaded SPECTER embeddings: (45655, 768)\n"
          ]
        }
      ]
    },
    {
      "cell_type": "code",
      "source": [
        "# 2. Optimize weights\n",
        "weight_results = optimize_weights(\n",
        "    scibert_embeddings=data[\"domain_scibert_embeddings\"],\n",
        "    specter_embeddings=data[\"specter_embeddings\"],\n",
        "    categories=data[\"docs_df\"][\"category\"].tolist()\n",
        ")"
      ],
      "metadata": {
        "colab": {
          "base_uri": "https://localhost:8080/",
          "height": 805
        },
        "id": "iTkB1VkY026J",
        "outputId": "8653b52e-c1a7-4808-8248-ec192629584d"
      },
      "execution_count": null,
      "outputs": [
        {
          "output_type": "stream",
          "name": "stdout",
          "text": [
            "\n",
            "===== Optimizing Weights for Embedding Combination =====\n"
          ]
        },
        {
          "output_type": "stream",
          "name": "stderr",
          "text": [
            "Testing weights: 100%|██████████| 11/11 [02:10<00:00, 11.86s/it]\n"
          ]
        },
        {
          "output_type": "stream",
          "name": "stdout",
          "text": [
            "Optimal domain-adapted SciBERT weight: 0.60\n",
            "Optimal SPECTER weight: 0.40\n"
          ]
        },
        {
          "output_type": "display_data",
          "data": {
            "text/plain": [
              "<Figure size 1200x800 with 1 Axes>"
            ],
            "image/png": "[encoded data removed]"
          },
          "metadata": {}
        }
      ]
    },
    {
      "cell_type": "code",
      "source": [
        "# 3. Create domain-adapted TopicWeave embeddings\n",
        "domain_topicweave_embeddings = create_domain_topicweave_embeddings(\n",
        "    data=data,\n",
        "    weight_results=weight_results\n",
        ")"
      ],
      "metadata": {
        "colab": {
          "base_uri": "https://localhost:8080/"
        },
        "id": "6T4sBkGt06l4",
        "outputId": "06a21f9e-ab39-4ef9-f6bd-f4ad48f5cfb3"
      },
      "execution_count": null,
      "outputs": [
        {
          "output_type": "stream",
          "name": "stdout",
          "text": [
            "\n",
            "===== Creating Domain-Adapted TopicWeave Embeddings =====\n",
            "Created domain-adapted TopicWeave embeddings: (45655, 768)\n"
          ]
        }
      ]
    },
    {
      "cell_type": "code",
      "source": [
        "# 4. Save embeddings and metadata\n",
        "save_embeddings_and_metadata(\n",
        "    domain_topicweave_embeddings=domain_topicweave_embeddings,\n",
        "    weight_results=weight_results,\n",
        "    data=data\n",
        ")\n",
        "\n",
        "print(\"\\n===== Domain-Adapted TopicWeave Integration Complete =====\")\n",
        "print(f\"Completed at {datetime.now().strftime('%Y-%m-%d %H:%M')}\")"
      ],
      "metadata": {
        "colab": {
          "base_uri": "https://localhost:8080/"
        },
        "id": "Xf_L0M-e0-OZ",
        "outputId": "2986be52-32f5-485c-fd9b-975295c5b29e"
      },
      "execution_count": null,
      "outputs": [
        {
          "output_type": "stream",
          "name": "stdout",
          "text": [
            "\n",
            "===== Saving Embeddings and Metadata =====\n",
            "Domain-adapted TopicWeave embeddings saved to /content/drive/MyDrive/MIDS/W266/final_project//domain_integration//domain_topicweave_embeddings.npy\n",
            "Metadata saved to /content/drive/MyDrive/MIDS/W266/final_project//domain_integration//domain_topicweave_metadata.json\n",
            "\n",
            "===== Domain-Adapted TopicWeave Integration Complete =====\n",
            "Completed at 2025-03-29 22:33\n"
          ]
        }
      ]
    }
  ]
}