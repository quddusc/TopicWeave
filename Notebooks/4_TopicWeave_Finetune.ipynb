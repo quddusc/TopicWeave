{
  "nbformat": 4,
  "nbformat_minor": 0,
  "metadata": {
    "colab": {
      "provenance": [],
      "machine_shape": "hm",
      "gpuType": "A100"
    },
    "kernelspec": {
      "name": "python3",
      "display_name": "Python 3"
    },
    "language_info": {
      "name": "python"
    },
    "accelerator": "GPU",
    "widgets": {
      "application/vnd.jupyter.widget-state+json": {
        "6b9f551cbdf441d9914526a17653c511": {
          "model_module": "@jupyter-widgets/controls",
          "model_name": "HBoxModel",
          "model_module_version": "1.5.0",
          "state": {
            "_dom_classes": [],
            "_model_module": "@jupyter-widgets/controls",
            "_model_module_version": "1.5.0",
            "_model_name": "HBoxModel",
            "_view_count": null,
            "_view_module": "@jupyter-widgets/controls",
            "_view_module_version": "1.5.0",
            "_view_name": "HBoxView",
            "box_style": "",
            "children": [
              "IPY_MODEL_94bcbb83da744d1aa7a736c87042f725",
              "IPY_MODEL_5cb75f0cdb354d5abb79372690876636",
              "IPY_MODEL_721799acb7c24f6d9f38cd21bfc33e8e"
            ],
            "layout": "IPY_MODEL_bf9f600cb9a643e2a1e2691ee4ea4a51"
          }
        },
        "94bcbb83da744d1aa7a736c87042f725": {
          "model_module": "@jupyter-widgets/controls",
          "model_name": "HTMLModel",
          "model_module_version": "1.5.0",
          "state": {
            "_dom_classes": [],
            "_model_module": "@jupyter-widgets/controls",
            "_model_module_version": "1.5.0",
            "_model_name": "HTMLModel",
            "_view_count": null,
            "_view_module": "@jupyter-widgets/controls",
            "_view_module_version": "1.5.0",
            "_view_name": "HTMLView",
            "description": "",
            "description_tooltip": null,
            "layout": "IPY_MODEL_beeb3a1b8317449c86262806545bd3ff",
            "placeholder": "​",
            "style": "IPY_MODEL_98d246f501f243f79d03e2a9a4848342",
            "value": "Batches: 100%"
          }
        },
        "5cb75f0cdb354d5abb79372690876636": {
          "model_module": "@jupyter-widgets/controls",
          "model_name": "FloatProgressModel",
          "model_module_version": "1.5.0",
          "state": {
            "_dom_classes": [],
            "_model_module": "@jupyter-widgets/controls",
            "_model_module_version": "1.5.0",
            "_model_name": "FloatProgressModel",
            "_view_count": null,
            "_view_module": "@jupyter-widgets/controls",
            "_view_module_version": "1.5.0",
            "_view_name": "ProgressView",
            "bar_style": "success",
            "description": "",
            "description_tooltip": null,
            "layout": "IPY_MODEL_6bc0e23a045f42c38d60c52df7d299aa",
            "max": 1427,
            "min": 0,
            "orientation": "horizontal",
            "style": "IPY_MODEL_a954392ebdbd4da9b860bbdc9d8f763b",
            "value": 1427
          }
        },
        "721799acb7c24f6d9f38cd21bfc33e8e": {
          "model_module": "@jupyter-widgets/controls",
          "model_name": "HTMLModel",
          "model_module_version": "1.5.0",
          "state": {
            "_dom_classes": [],
            "_model_module": "@jupyter-widgets/controls",
            "_model_module_version": "1.5.0",
            "_model_name": "HTMLModel",
            "_view_count": null,
            "_view_module": "@jupyter-widgets/controls",
            "_view_module_version": "1.5.0",
            "_view_name": "HTMLView",
            "description": "",
            "description_tooltip": null,
            "layout": "IPY_MODEL_308337e0157e474db28c397b2f5c2c25",
            "placeholder": "​",
            "style": "IPY_MODEL_3e6fda2216be493d920fdc5b9a1d0c69",
            "value": " 1427/1427 [00:53&lt;00:00, 58.20it/s]"
          }
        },
        "bf9f600cb9a643e2a1e2691ee4ea4a51": {
          "model_module": "@jupyter-widgets/base",
          "model_name": "LayoutModel",
          "model_module_version": "1.2.0",
          "state": {
            "_model_module": "@jupyter-widgets/base",
            "_model_module_version": "1.2.0",
            "_model_name": "LayoutModel",
            "_view_count": null,
            "_view_module": "@jupyter-widgets/base",
            "_view_module_version": "1.2.0",
            "_view_name": "LayoutView",
            "align_content": null,
            "align_items": null,
            "align_self": null,
            "border": null,
            "bottom": null,
            "display": null,
            "flex": null,
            "flex_flow": null,
            "grid_area": null,
            "grid_auto_columns": null,
            "grid_auto_flow": null,
            "grid_auto_rows": null,
            "grid_column": null,
            "grid_gap": null,
            "grid_row": null,
            "grid_template_areas": null,
            "grid_template_columns": null,
            "grid_template_rows": null,
            "height": null,
            "justify_content": null,
            "justify_items": null,
            "left": null,
            "margin": null,
            "max_height": null,
            "max_width": null,
            "min_height": null,
            "min_width": null,
            "object_fit": null,
            "object_position": null,
            "order": null,
            "overflow": null,
            "overflow_x": null,
            "overflow_y": null,
            "padding": null,
            "right": null,
            "top": null,
            "visibility": null,
            "width": null
          }
        },
        "beeb3a1b8317449c86262806545bd3ff": {
          "model_module": "@jupyter-widgets/base",
          "model_name": "LayoutModel",
          "model_module_version": "1.2.0",
          "state": {
            "_model_module": "@jupyter-widgets/base",
            "_model_module_version": "1.2.0",
            "_model_name": "LayoutModel",
            "_view_count": null,
            "_view_module": "@jupyter-widgets/base",
            "_view_module_version": "1.2.0",
            "_view_name": "LayoutView",
            "align_content": null,
            "align_items": null,
            "align_self": null,
            "border": null,
            "bottom": null,
            "display": null,
            "flex": null,
            "flex_flow": null,
            "grid_area": null,
            "grid_auto_columns": null,
            "grid_auto_flow": null,
            "grid_auto_rows": null,
            "grid_column": null,
            "grid_gap": null,
            "grid_row": null,
            "grid_template_areas": null,
            "grid_template_columns": null,
            "grid_template_rows": null,
            "height": null,
            "justify_content": null,
            "justify_items": null,
            "left": null,
            "margin": null,
            "max_height": null,
            "max_width": null,
            "min_height": null,
            "min_width": null,
            "object_fit": null,
            "object_position": null,
            "order": null,
            "overflow": null,
            "overflow_x": null,
            "overflow_y": null,
            "padding": null,
            "right": null,
            "top": null,
            "visibility": null,
            "width": null
          }
        },
        "98d246f501f243f79d03e2a9a4848342": {
          "model_module": "@jupyter-widgets/controls",
          "model_name": "DescriptionStyleModel",
          "model_module_version": "1.5.0",
          "state": {
            "_model_module": "@jupyter-widgets/controls",
            "_model_module_version": "1.5.0",
            "_model_name": "DescriptionStyleModel",
            "_view_count": null,
            "_view_module": "@jupyter-widgets/base",
            "_view_module_version": "1.2.0",
            "_view_name": "StyleView",
            "description_width": ""
          }
        },
        "6bc0e23a045f42c38d60c52df7d299aa": {
          "model_module": "@jupyter-widgets/base",
          "model_name": "LayoutModel",
          "model_module_version": "1.2.0",
          "state": {
            "_model_module": "@jupyter-widgets/base",
            "_model_module_version": "1.2.0",
            "_model_name": "LayoutModel",
            "_view_count": null,
            "_view_module": "@jupyter-widgets/base",
            "_view_module_version": "1.2.0",
            "_view_name": "LayoutView",
            "align_content": null,
            "align_items": null,
            "align_self": null,
            "border": null,
            "bottom": null,
            "display": null,
            "flex": null,
            "flex_flow": null,
            "grid_area": null,
            "grid_auto_columns": null,
            "grid_auto_flow": null,
            "grid_auto_rows": null,
            "grid_column": null,
            "grid_gap": null,
            "grid_row": null,
            "grid_template_areas": null,
            "grid_template_columns": null,
            "grid_template_rows": null,
            "height": null,
            "justify_content": null,
            "justify_items": null,
            "left": null,
            "margin": null,
            "max_height": null,
            "max_width": null,
            "min_height": null,
            "min_width": null,
            "object_fit": null,
            "object_position": null,
            "order": null,
            "overflow": null,
            "overflow_x": null,
            "overflow_y": null,
            "padding": null,
            "right": null,
            "top": null,
            "visibility": null,
            "width": null
          }
        },
        "a954392ebdbd4da9b860bbdc9d8f763b": {
          "model_module": "@jupyter-widgets/controls",
          "model_name": "ProgressStyleModel",
          "model_module_version": "1.5.0",
          "state": {
            "_model_module": "@jupyter-widgets/controls",
            "_model_module_version": "1.5.0",
            "_model_name": "ProgressStyleModel",
            "_view_count": null,
            "_view_module": "@jupyter-widgets/base",
            "_view_module_version": "1.2.0",
            "_view_name": "StyleView",
            "bar_color": null,
            "description_width": ""
          }
        },
        "308337e0157e474db28c397b2f5c2c25": {
          "model_module": "@jupyter-widgets/base",
          "model_name": "LayoutModel",
          "model_module_version": "1.2.0",
          "state": {
            "_model_module": "@jupyter-widgets/base",
            "_model_module_version": "1.2.0",
            "_model_name": "LayoutModel",
            "_view_count": null,
            "_view_module": "@jupyter-widgets/base",
            "_view_module_version": "1.2.0",
            "_view_name": "LayoutView",
            "align_content": null,
            "align_items": null,
            "align_self": null,
            "border": null,
            "bottom": null,
            "display": null,
            "flex": null,
            "flex_flow": null,
            "grid_area": null,
            "grid_auto_columns": null,
            "grid_auto_flow": null,
            "grid_auto_rows": null,
            "grid_column": null,
            "grid_gap": null,
            "grid_row": null,
            "grid_template_areas": null,
            "grid_template_columns": null,
            "grid_template_rows": null,
            "height": null,
            "justify_content": null,
            "justify_items": null,
            "left": null,
            "margin": null,
            "max_height": null,
            "max_width": null,
            "min_height": null,
            "min_width": null,
            "object_fit": null,
            "object_position": null,
            "order": null,
            "overflow": null,
            "overflow_x": null,
            "overflow_y": null,
            "padding": null,
            "right": null,
            "top": null,
            "visibility": null,
            "width": null
          }
        },
        "3e6fda2216be493d920fdc5b9a1d0c69": {
          "model_module": "@jupyter-widgets/controls",
          "model_name": "DescriptionStyleModel",
          "model_module_version": "1.5.0",
          "state": {
            "_model_module": "@jupyter-widgets/controls",
            "_model_module_version": "1.5.0",
            "_model_name": "DescriptionStyleModel",
            "_view_count": null,
            "_view_module": "@jupyter-widgets/base",
            "_view_module_version": "1.2.0",
            "_view_name": "StyleView",
            "description_width": ""
          }
        },
        "3aba31508674481c8295de74e0e35d24": {
          "model_module": "@jupyter-widgets/controls",
          "model_name": "HBoxModel",
          "model_module_version": "1.5.0",
          "state": {
            "_dom_classes": [],
            "_model_module": "@jupyter-widgets/controls",
            "_model_module_version": "1.5.0",
            "_model_name": "HBoxModel",
            "_view_count": null,
            "_view_module": "@jupyter-widgets/controls",
            "_view_module_version": "1.5.0",
            "_view_name": "HBoxView",
            "box_style": "",
            "children": [
              "IPY_MODEL_231159b6d2f94ed0acab6d56ed5a3436",
              "IPY_MODEL_5170c6cb9d4044ee9078c9e4d9adf63e",
              "IPY_MODEL_bb10fa0f900e47df874f21bca03066fc"
            ],
            "layout": "IPY_MODEL_6e6db010f97940afb9bca48fff4aedaa"
          }
        },
        "231159b6d2f94ed0acab6d56ed5a3436": {
          "model_module": "@jupyter-widgets/controls",
          "model_name": "HTMLModel",
          "model_module_version": "1.5.0",
          "state": {
            "_dom_classes": [],
            "_model_module": "@jupyter-widgets/controls",
            "_model_module_version": "1.5.0",
            "_model_name": "HTMLModel",
            "_view_count": null,
            "_view_module": "@jupyter-widgets/controls",
            "_view_module_version": "1.5.0",
            "_view_name": "HTMLView",
            "description": "",
            "description_tooltip": null,
            "layout": "IPY_MODEL_a09294599b584524b4164bbe42e1d10f",
            "placeholder": "​",
            "style": "IPY_MODEL_2c2e7eaef85f4885b8cec7ce4cd7c81d",
            "value": "Batches: 100%"
          }
        },
        "5170c6cb9d4044ee9078c9e4d9adf63e": {
          "model_module": "@jupyter-widgets/controls",
          "model_name": "FloatProgressModel",
          "model_module_version": "1.5.0",
          "state": {
            "_dom_classes": [],
            "_model_module": "@jupyter-widgets/controls",
            "_model_module_version": "1.5.0",
            "_model_name": "FloatProgressModel",
            "_view_count": null,
            "_view_module": "@jupyter-widgets/controls",
            "_view_module_version": "1.5.0",
            "_view_name": "ProgressView",
            "bar_style": "success",
            "description": "",
            "description_tooltip": null,
            "layout": "IPY_MODEL_1e115f8de0c84165832bb041f1473ad6",
            "max": 1427,
            "min": 0,
            "orientation": "horizontal",
            "style": "IPY_MODEL_b137a1e843c04e3d813240148d022c73",
            "value": 1427
          }
        },
        "bb10fa0f900e47df874f21bca03066fc": {
          "model_module": "@jupyter-widgets/controls",
          "model_name": "HTMLModel",
          "model_module_version": "1.5.0",
          "state": {
            "_dom_classes": [],
            "_model_module": "@jupyter-widgets/controls",
            "_model_module_version": "1.5.0",
            "_model_name": "HTMLModel",
            "_view_count": null,
            "_view_module": "@jupyter-widgets/controls",
            "_view_module_version": "1.5.0",
            "_view_name": "HTMLView",
            "description": "",
            "description_tooltip": null,
            "layout": "IPY_MODEL_6e158050e1f44637bd1a6ad8231d2731",
            "placeholder": "​",
            "style": "IPY_MODEL_1dc18882535d473e9465a926a0465f3e",
            "value": " 1427/1427 [00:53&lt;00:00, 57.09it/s]"
          }
        },
        "6e6db010f97940afb9bca48fff4aedaa": {
          "model_module": "@jupyter-widgets/base",
          "model_name": "LayoutModel",
          "model_module_version": "1.2.0",
          "state": {
            "_model_module": "@jupyter-widgets/base",
            "_model_module_version": "1.2.0",
            "_model_name": "LayoutModel",
            "_view_count": null,
            "_view_module": "@jupyter-widgets/base",
            "_view_module_version": "1.2.0",
            "_view_name": "LayoutView",
            "align_content": null,
            "align_items": null,
            "align_self": null,
            "border": null,
            "bottom": null,
            "display": null,
            "flex": null,
            "flex_flow": null,
            "grid_area": null,
            "grid_auto_columns": null,
            "grid_auto_flow": null,
            "grid_auto_rows": null,
            "grid_column": null,
            "grid_gap": null,
            "grid_row": null,
            "grid_template_areas": null,
            "grid_template_columns": null,
            "grid_template_rows": null,
            "height": null,
            "justify_content": null,
            "justify_items": null,
            "left": null,
            "margin": null,
            "max_height": null,
            "max_width": null,
            "min_height": null,
            "min_width": null,
            "object_fit": null,
            "object_position": null,
            "order": null,
            "overflow": null,
            "overflow_x": null,
            "overflow_y": null,
            "padding": null,
            "right": null,
            "top": null,
            "visibility": null,
            "width": null
          }
        },
        "a09294599b584524b4164bbe42e1d10f": {
          "model_module": "@jupyter-widgets/base",
          "model_name": "LayoutModel",
          "model_module_version": "1.2.0",
          "state": {
            "_model_module": "@jupyter-widgets/base",
            "_model_module_version": "1.2.0",
            "_model_name": "LayoutModel",
            "_view_count": null,
            "_view_module": "@jupyter-widgets/base",
            "_view_module_version": "1.2.0",
            "_view_name": "LayoutView",
            "align_content": null,
            "align_items": null,
            "align_self": null,
            "border": null,
            "bottom": null,
            "display": null,
            "flex": null,
            "flex_flow": null,
            "grid_area": null,
            "grid_auto_columns": null,
            "grid_auto_flow": null,
            "grid_auto_rows": null,
            "grid_column": null,
            "grid_gap": null,
            "grid_row": null,
            "grid_template_areas": null,
            "grid_template_columns": null,
            "grid_template_rows": null,
            "height": null,
            "justify_content": null,
            "justify_items": null,
            "left": null,
            "margin": null,
            "max_height": null,
            "max_width": null,
            "min_height": null,
            "min_width": null,
            "object_fit": null,
            "object_position": null,
            "order": null,
            "overflow": null,
            "overflow_x": null,
            "overflow_y": null,
            "padding": null,
            "right": null,
            "top": null,
            "visibility": null,
            "width": null
          }
        },
        "2c2e7eaef85f4885b8cec7ce4cd7c81d": {
          "model_module": "@jupyter-widgets/controls",
          "model_name": "DescriptionStyleModel",
          "model_module_version": "1.5.0",
          "state": {
            "_model_module": "@jupyter-widgets/controls",
            "_model_module_version": "1.5.0",
            "_model_name": "DescriptionStyleModel",
            "_view_count": null,
            "_view_module": "@jupyter-widgets/base",
            "_view_module_version": "1.2.0",
            "_view_name": "StyleView",
            "description_width": ""
          }
        },
        "1e115f8de0c84165832bb041f1473ad6": {
          "model_module": "@jupyter-widgets/base",
          "model_name": "LayoutModel",
          "model_module_version": "1.2.0",
          "state": {
            "_model_module": "@jupyter-widgets/base",
            "_model_module_version": "1.2.0",
            "_model_name": "LayoutModel",
            "_view_count": null,
            "_view_module": "@jupyter-widgets/base",
            "_view_module_version": "1.2.0",
            "_view_name": "LayoutView",
            "align_content": null,
            "align_items": null,
            "align_self": null,
            "border": null,
            "bottom": null,
            "display": null,
            "flex": null,
            "flex_flow": null,
            "grid_area": null,
            "grid_auto_columns": null,
            "grid_auto_flow": null,
            "grid_auto_rows": null,
            "grid_column": null,
            "grid_gap": null,
            "grid_row": null,
            "grid_template_areas": null,
            "grid_template_columns": null,
            "grid_template_rows": null,
            "height": null,
            "justify_content": null,
            "justify_items": null,
            "left": null,
            "margin": null,
            "max_height": null,
            "max_width": null,
            "min_height": null,
            "min_width": null,
            "object_fit": null,
            "object_position": null,
            "order": null,
            "overflow": null,
            "overflow_x": null,
            "overflow_y": null,
            "padding": null,
            "right": null,
            "top": null,
            "visibility": null,
            "width": null
          }
        },
        "b137a1e843c04e3d813240148d022c73": {
          "model_module": "@jupyter-widgets/controls",
          "model_name": "ProgressStyleModel",
          "model_module_version": "1.5.0",
          "state": {
            "_model_module": "@jupyter-widgets/controls",
            "_model_module_version": "1.5.0",
            "_model_name": "ProgressStyleModel",
            "_view_count": null,
            "_view_module": "@jupyter-widgets/base",
            "_view_module_version": "1.2.0",
            "_view_name": "StyleView",
            "bar_color": null,
            "description_width": ""
          }
        },
        "6e158050e1f44637bd1a6ad8231d2731": {
          "model_module": "@jupyter-widgets/base",
          "model_name": "LayoutModel",
          "model_module_version": "1.2.0",
          "state": {
            "_model_module": "@jupyter-widgets/base",
            "_model_module_version": "1.2.0",
            "_model_name": "LayoutModel",
            "_view_count": null,
            "_view_module": "@jupyter-widgets/base",
            "_view_module_version": "1.2.0",
            "_view_name": "LayoutView",
            "align_content": null,
            "align_items": null,
            "align_self": null,
            "border": null,
            "bottom": null,
            "display": null,
            "flex": null,
            "flex_flow": null,
            "grid_area": null,
            "grid_auto_columns": null,
            "grid_auto_flow": null,
            "grid_auto_rows": null,
            "grid_column": null,
            "grid_gap": null,
            "grid_row": null,
            "grid_template_areas": null,
            "grid_template_columns": null,
            "grid_template_rows": null,
            "height": null,
            "justify_content": null,
            "justify_items": null,
            "left": null,
            "margin": null,
            "max_height": null,
            "max_width": null,
            "min_height": null,
            "min_width": null,
            "object_fit": null,
            "object_position": null,
            "order": null,
            "overflow": null,
            "overflow_x": null,
            "overflow_y": null,
            "padding": null,
            "right": null,
            "top": null,
            "visibility": null,
            "width": null
          }
        },
        "1dc18882535d473e9465a926a0465f3e": {
          "model_module": "@jupyter-widgets/controls",
          "model_name": "DescriptionStyleModel",
          "model_module_version": "1.5.0",
          "state": {
            "_model_module": "@jupyter-widgets/controls",
            "_model_module_version": "1.5.0",
            "_model_name": "DescriptionStyleModel",
            "_view_count": null,
            "_view_module": "@jupyter-widgets/base",
            "_view_module_version": "1.2.0",
            "_view_name": "StyleView",
            "description_width": ""
          }
        }
      }
    }
  },
  "cells": [
    {
      "cell_type": "markdown",
      "source": [
        "# TopicWeave: Domain Adaptation Fine-Tuning\n",
        "\n",
        "This notebook implements domain-specific fine-tuning of the distilled SciBERT model\n",
        "for the TopicWeave project. We fine-tune on specific scientific domains to improve\n",
        "topic modeling performance."
      ],
      "metadata": {
        "id": "rQiCYn_IyWvn"
      }
    },
    {
      "cell_type": "markdown",
      "source": [
        "## Setup"
      ],
      "metadata": {
        "id": "hAWh_fwI1Egb"
      }
    },
    {
      "cell_type": "code",
      "source": [
        "!pip install -q transformers datasets torch scikit-learn numpy pandas matplotlib bertopic umap-learn hdbscan gensim"
      ],
      "metadata": {
        "id": "VcwkYk491cam"
      },
      "execution_count": null,
      "outputs": []
    },
    {
      "cell_type": "code",
      "source": [
        "!pip install -q bertopic"
      ],
      "metadata": {
        "id": "QqUAVmpc1qWU"
      },
      "execution_count": null,
      "outputs": []
    },
    {
      "cell_type": "code",
      "source": [
        "!pip install -q gensim"
      ],
      "metadata": {
        "id": "1DTCzptj2J8U"
      },
      "execution_count": null,
      "outputs": []
    },
    {
      "cell_type": "code",
      "execution_count": 1,
      "metadata": {
        "id": "Z9r68SA90gCP"
      },
      "outputs": [],
      "source": [
        "# Import libraries\n",
        "import os\n",
        "import numpy as np\n",
        "import pandas as pd\n",
        "import matplotlib.pyplot as plt\n",
        "import torch\n",
        "import json\n",
        "from tqdm.auto import tqdm\n",
        "from datetime import datetime\n",
        "\n",
        "# Transformers and fine-tuning\n",
        "from transformers import (\n",
        "    AutoModelForMaskedLM,\n",
        "    AutoTokenizer,\n",
        "    Trainer,\n",
        "    TrainingArguments,\n",
        "    DataCollatorForLanguageModeling\n",
        ")\n",
        "\n",
        "# For embedding and topic modeling\n",
        "from sentence_transformers import SentenceTransformer\n",
        "from bertopic import BERTopic\n",
        "from sklearn.metrics import normalized_mutual_info_score, adjusted_rand_score\n",
        "from gensim.models.coherencemodel import CoherenceModel\n",
        "import gensim.corpora as corpora"
      ]
    },
    {
      "cell_type": "code",
      "source": [
        "# Set random seed\n",
        "RANDOM_SEED = 42\n",
        "np.random.seed(RANDOM_SEED)\n",
        "torch.manual_seed(RANDOM_SEED)\n",
        "\n",
        "# Mount Drive\n",
        "from google.colab import drive\n",
        "drive.mount('/content/drive')\n",
        "\n",
        "# Define directories\n",
        "PROJECT_DIR = '/content/drive/MyDrive/MIDS/W266/final_project/'\n",
        "MODEL_DIR = f\"{PROJECT_DIR}/models/\"\n",
        "EMBEDDING_DIR = f\"{PROJECT_DIR}/embeddings/\"\n",
        "OUTPUT_DIR = f\"{PROJECT_DIR}/domain_adaptation/\"\n",
        "os.makedirs(OUTPUT_DIR, exist_ok=True)"
      ],
      "metadata": {
        "colab": {
          "base_uri": "https://localhost:8080/"
        },
        "id": "TQNeHJwC08Y9",
        "outputId": "6868ee9b-4c76-4457-df6d-57f225db68cc"
      },
      "execution_count": 2,
      "outputs": [
        {
          "output_type": "stream",
          "name": "stdout",
          "text": [
            "Drive already mounted at /content/drive; to attempt to forcibly remount, call drive.mount(\"/content/drive\", force_remount=True).\n"
          ]
        }
      ]
    },
    {
      "cell_type": "code",
      "source": [
        "# Check GPU\n",
        "device = torch.device(\"cuda\" if torch.cuda.is_available() else \"cpu\")\n",
        "print(f\"Using device: {device}\")"
      ],
      "metadata": {
        "colab": {
          "base_uri": "https://localhost:8080/"
        },
        "id": "1nj6p7Ym1DD8",
        "outputId": "2ea641ed-f0d8-4c73-eb08-5e1833d76ce7"
      },
      "execution_count": 3,
      "outputs": [
        {
          "output_type": "stream",
          "name": "stdout",
          "text": [
            "Using device: cuda\n"
          ]
        }
      ]
    },
    {
      "cell_type": "markdown",
      "source": [
        "## Data and model preparation"
      ],
      "metadata": {
        "id": "UyudK1Y61Ixc"
      }
    },
    {
      "cell_type": "code",
      "source": [
        "# Load document data and select domains\n",
        "def prepare_data(domains=None):\n",
        "    \"\"\"Load document data and prepare for domain adaptation\"\"\"\n",
        "    # Load documents\n",
        "    docs_df = pd.read_csv(f\"{EMBEDDING_DIR}/document_info.csv\")\n",
        "    print(f\"Loaded {len(docs_df)} documents\")\n",
        "\n",
        "    # Select domains for adaptation (Computer Science domains by default)\n",
        "    if domains is None:\n",
        "        domains = [\"cs.AI\", \"cs.CL\", \"cs.CV\", \"cs.DL\", \"cs.LG\", \"math.ST\", \"physics.comp-ph\", \"q-bio.QM\", \"q-fin.ST\", \"stat.ML\"]\n",
        "\n",
        "    # Filter documents by domain\n",
        "    domain_df = docs_df[docs_df['category'].isin(domains)]\n",
        "    print(f\"Selected {len(domain_df)} documents from domains: {domains}\")\n",
        "\n",
        "    return docs_df, domain_df"
      ],
      "metadata": {
        "id": "4jMrzVC31LXY"
      },
      "execution_count": 4,
      "outputs": []
    },
    {
      "cell_type": "code",
      "source": [
        "# Dataset class for Masked Learning Model (MLM)\n",
        "class MLMDataset(torch.utils.data.Dataset):\n",
        "    def __init__(self, encodings):\n",
        "        self.encodings = encodings\n",
        "\n",
        "    def __getitem__(self, idx):\n",
        "        return {key: val[idx] for key, val in self.encodings.items()}\n",
        "\n",
        "    def __len__(self):\n",
        "        return len(self.encodings.input_ids)"
      ],
      "metadata": {
        "id": "ehMoA7pK1WFL"
      },
      "execution_count": 5,
      "outputs": []
    },
    {
      "cell_type": "code",
      "source": [
        "# Create datasets for fine-tuning\n",
        "def create_datasets(texts, tokenizer, max_length=256, train_frac=0.9):\n",
        "    \"\"\"Create training and validation datasets for fine-tuning\"\"\"\n",
        "    # Tokenize texts\n",
        "    encodings = tokenizer(\n",
        "        texts,\n",
        "        truncation=True,\n",
        "        padding='max_length',\n",
        "        max_length=max_length,\n",
        "        return_tensors=\"pt\"\n",
        "    )\n",
        "\n",
        "    # Split into train and validation\n",
        "    train_size = int(len(texts) * train_frac)\n",
        "\n",
        "    # Create datasets\n",
        "    train_encodings = {key: val[:train_size] for key, val in encodings.items()}\n",
        "    val_encodings = {key: val[train_size:] for key, val in encodings.items()}\n",
        "\n",
        "    train_dataset = MLMDataset(train_encodings)\n",
        "    val_dataset = MLMDataset(val_encodings)\n",
        "\n",
        "    print(f\"Created datasets: {len(train_dataset)} training, {len(val_dataset)} validation\")\n",
        "    return train_dataset, val_dataset\n",
        "\n",
        "class MLMDataset(torch.utils.data.Dataset):\n",
        "    def __init__(self, encodings):\n",
        "        self.encodings = encodings\n",
        "\n",
        "    def __getitem__(self, idx):\n",
        "        return {key: val[idx] for key, val in self.encodings.items()}\n",
        "\n",
        "    def __len__(self):\n",
        "        return len(self.encodings['input_ids'])"
      ],
      "metadata": {
        "id": "BiILwb7O1TjV"
      },
      "execution_count": 13,
      "outputs": []
    },
    {
      "cell_type": "markdown",
      "source": [
        "## Domain adaptation"
      ],
      "metadata": {
        "id": "QQZyMF912mq9"
      }
    },
    {
      "cell_type": "code",
      "source": [
        "def fine_tune_model(train_dataset, val_dataset, model_path, output_path):\n",
        "    \"\"\"Fine-tune model using MLM on domain-specific data\"\"\"\n",
        "    print(f\"Fine-tuning model from {model_path}\")\n",
        "\n",
        "    # Load tokenizer and model\n",
        "    tokenizer = AutoTokenizer.from_pretrained(model_path)\n",
        "    model = AutoModelForMaskedLM.from_pretrained(model_path)\n",
        "    model.to(device)\n",
        "\n",
        "    # Data collator for MLM\n",
        "    data_collator = DataCollatorForLanguageModeling(\n",
        "        tokenizer=tokenizer,\n",
        "        mlm=True,\n",
        "        mlm_probability=0.15\n",
        "    )\n",
        "\n",
        "    # Training arguments - optimized for Colab environment\n",
        "    training_args = TrainingArguments(\n",
        "        output_dir=output_path,\n",
        "        num_train_epochs=3,                  # Limited epochs for Colab\n",
        "        per_device_train_batch_size=8,       # Small batch size for GPU memory\n",
        "        per_device_eval_batch_size=8,\n",
        "        learning_rate=5e-5,                  # Conservative learning rate\n",
        "        weight_decay=0.01,                   # Regularization\n",
        "        save_strategy=\"epoch\",\n",
        "        evaluation_strategy=\"epoch\",\n",
        "        load_best_model_at_end=True,\n",
        "        save_total_limit=1,                  # Save space\n",
        "        report_to=\"none\",                    # Disable wandb\n",
        "    )\n",
        "\n",
        "    # Create trainer\n",
        "    trainer = Trainer(\n",
        "        model=model,\n",
        "        args=training_args,\n",
        "        data_collator=data_collator,\n",
        "        train_dataset=train_dataset,\n",
        "        eval_dataset=val_dataset,\n",
        "    )\n",
        "\n",
        "    # Train model\n",
        "    print(\"Starting fine-tuning...\")\n",
        "    trainer.train()\n",
        "\n",
        "    # Save model\n",
        "    model.save_pretrained(output_path)\n",
        "    tokenizer.save_pretrained(output_path)\n",
        "    print(f\"Model saved to {output_path}\")\n",
        "\n",
        "    return model, tokenizer"
      ],
      "metadata": {
        "id": "OG62fK-t2o2S"
      },
      "execution_count": 6,
      "outputs": []
    },
    {
      "cell_type": "markdown",
      "source": [
        "## Embeddings and Topic Modeling"
      ],
      "metadata": {
        "id": "ACO72HSM2wOm"
      }
    },
    {
      "cell_type": "code",
      "source": [
        "def generate_embeddings(texts, model_path, batch_size=32):\n",
        "    \"\"\"Generate embeddings using a SentenceTransformer model\"\"\"\n",
        "    print(f\"Generating embeddings using {model_path}\")\n",
        "\n",
        "    # Create SentenceTransformer\n",
        "    model = SentenceTransformer(model_path)\n",
        "\n",
        "    # Generate embeddings\n",
        "    embeddings = model.encode(texts, batch_size=batch_size, show_progress_bar=True)\n",
        "\n",
        "    # Normalize embeddings\n",
        "    norm = np.linalg.norm(embeddings, axis=1, keepdims=True)\n",
        "    normalized_embeddings = embeddings / norm\n",
        "\n",
        "    return normalized_embeddings, model"
      ],
      "metadata": {
        "id": "tfLLSa7k2v3k"
      },
      "execution_count": 7,
      "outputs": []
    },
    {
      "cell_type": "code",
      "source": [
        "def create_topic_model(embeddings, min_topic_size=10):\n",
        "    \"\"\"Create BERTopic model using pre-computed embeddings\"\"\"\n",
        "    # Create BERTopic model with standard parameters\n",
        "    topic_model = BERTopic(\n",
        "        embedding_model=None,  # No embedding model since we already have embeddings\n",
        "        min_topic_size=min_topic_size,\n",
        "        verbose=True\n",
        "    )\n",
        "\n",
        "    return topic_model"
      ],
      "metadata": {
        "id": "vEc28TQJ22yI"
      },
      "execution_count": 8,
      "outputs": []
    },
    {
      "cell_type": "code",
      "source": [
        "def evaluate_model(topic_model, topics, texts, categories):\n",
        "    \"\"\"Evaluate topic model using quantitative and qualitative metrics\"\"\"\n",
        "    results = {}\n",
        "\n",
        "    # Calculate quantitative metrics\n",
        "    nmi = normalized_mutual_info_score(categories, topics)\n",
        "    ari = adjusted_rand_score(categories, topics)\n",
        "    n_topics = len(set([t for t in topics if t != -1]))\n",
        "\n",
        "    results[\"quantitative\"] = {\n",
        "        \"NMI\": nmi,\n",
        "        \"ARI\": ari,\n",
        "        \"n_topics\": n_topics\n",
        "    }\n",
        "\n",
        "    # Calculate topic coherence\n",
        "    def simple_preprocess(text):\n",
        "        return text.lower().split() if isinstance(text, str) else []\n",
        "\n",
        "    # Prepare for coherence calculation\n",
        "    tokenized_texts = [simple_preprocess(text) for text in texts]\n",
        "    dictionary = corpora.Dictionary(tokenized_texts)\n",
        "\n",
        "    # Get topic words\n",
        "    topic_words = []\n",
        "    for topic_id in set(topics):\n",
        "        if topic_id != -1:  # Skip outlier topic\n",
        "            try:\n",
        "                words = [word for word, _ in topic_model.get_topic(topic_id)][:10]\n",
        "                topic_words.append(words)\n",
        "            except:\n",
        "                continue\n",
        "\n",
        "    try:\n",
        "        # Calculate coherence\n",
        "        cv_model = CoherenceModel(\n",
        "            topics=topic_words,\n",
        "            texts=tokenized_texts,\n",
        "            dictionary=dictionary,\n",
        "            coherence='c_v'\n",
        "        )\n",
        "        results[\"qualitative\"] = {\n",
        "            \"C_v Coherence\": cv_model.get_coherence()\n",
        "        }\n",
        "    except:\n",
        "        results[\"qualitative\"] = {\n",
        "            \"C_v Coherence\": None\n",
        "        }\n",
        "\n",
        "    return results"
      ],
      "metadata": {
        "id": "0eMZYChG25K3"
      },
      "execution_count": 9,
      "outputs": []
    },
    {
      "cell_type": "markdown",
      "source": [
        "## Experiment pipeline"
      ],
      "metadata": {
        "id": "AXghIe1G2_N2"
      }
    },
    {
      "cell_type": "code",
      "source": [
        "start_time = datetime.now()\n",
        "print(f\"Starting domain adaptation experiment at {start_time}\")\n",
        "\n",
        "# Step 1: Prepare data\n",
        "print(\"\\n===== Step 1: Preparing Data =====\")\n",
        "docs_df, domain_df = prepare_data()\n",
        "domain_texts = domain_df['processed_text'].tolist()"
      ],
      "metadata": {
        "colab": {
          "base_uri": "https://localhost:8080/"
        },
        "id": "MJ2wg3ZT3Bm2",
        "outputId": "58aa610a-ff08-4529-a265-899b15ff36b7"
      },
      "execution_count": 10,
      "outputs": [
        {
          "output_type": "stream",
          "name": "stdout",
          "text": [
            "Starting domain adaptation experiment at 2025-03-29 21:52:20.520160\n",
            "\n",
            "===== Step 1: Preparing Data =====\n",
            "Loaded 45655 documents\n",
            "Selected 45655 documents from domains: ['cs.AI', 'cs.CL', 'cs.CV', 'cs.DL', 'cs.LG', 'math.ST', 'physics.comp-ph', 'q-bio.QM', 'q-fin.ST', 'stat.ML']\n"
          ]
        }
      ]
    },
    {
      "cell_type": "code",
      "source": [
        "# Step 2: Load base model\n",
        "print(\"\\n===== Step 2: Loading Base Model =====\")\n",
        "base_model_path = f\"{MODEL_DIR}/distilled_scibert\"\n",
        "tokenizer = AutoTokenizer.from_pretrained(base_model_path)"
      ],
      "metadata": {
        "colab": {
          "base_uri": "https://localhost:8080/"
        },
        "id": "wjNkxxy43MJl",
        "outputId": "3d71cd06-84ea-46bb-b43e-4f9ad81c0945"
      },
      "execution_count": 11,
      "outputs": [
        {
          "output_type": "stream",
          "name": "stdout",
          "text": [
            "\n",
            "===== Step 2: Loading Base Model =====\n"
          ]
        }
      ]
    },
    {
      "cell_type": "code",
      "source": [
        "# Step 3: Create datasets\n",
        "print(\"\\n===== Step 3: Creating Datasets =====\")\n",
        "train_dataset, val_dataset = create_datasets(domain_texts, tokenizer)"
      ],
      "metadata": {
        "colab": {
          "base_uri": "https://localhost:8080/"
        },
        "id": "7KEjdqE23Tgr",
        "outputId": "6b18cd9f-f744-4e13-bfb6-1dcdbba902ea"
      },
      "execution_count": 14,
      "outputs": [
        {
          "output_type": "stream",
          "name": "stdout",
          "text": [
            "\n",
            "===== Step 3: Creating Datasets =====\n",
            "Created datasets: 41089 training, 4566 validation\n"
          ]
        }
      ]
    },
    {
      "cell_type": "code",
      "source": [
        "# Step 4: Fine-tune model\n",
        "print(\"\\n===== Step 4: Fine-tuning Model =====\")\n",
        "domain_model_path = f\"{OUTPUT_DIR}/domain_adapted_scibert\"\n",
        "fine_tuned_model, tokenizer = fine_tune_model(\n",
        "    train_dataset,\n",
        "    val_dataset,\n",
        "    base_model_path,\n",
        "    domain_model_path\n",
        ")"
      ],
      "metadata": {
        "colab": {
          "base_uri": "https://localhost:8080/",
          "height": 328
        },
        "id": "t0fuLYcV3W0Q",
        "outputId": "215e3955-557e-4058-c82d-3fe842b8bf76"
      },
      "execution_count": 15,
      "outputs": [
        {
          "output_type": "stream",
          "name": "stdout",
          "text": [
            "\n",
            "===== Step 4: Fine-tuning Model =====\n",
            "Fine-tuning model from /content/drive/MyDrive/MIDS/W266/final_project//models//distilled_scibert\n"
          ]
        },
        {
          "output_type": "stream",
          "name": "stderr",
          "text": [
            "Some weights of BertForMaskedLM were not initialized from the model checkpoint at /content/drive/MyDrive/MIDS/W266/final_project//models//distilled_scibert and are newly initialized: ['cls.predictions.bias', 'cls.predictions.decoder.bias', 'cls.predictions.transform.LayerNorm.bias', 'cls.predictions.transform.LayerNorm.weight', 'cls.predictions.transform.dense.bias', 'cls.predictions.transform.dense.weight']\n",
            "You should probably TRAIN this model on a down-stream task to be able to use it for predictions and inference.\n"
          ]
        },
        {
          "output_type": "stream",
          "name": "stdout",
          "text": [
            "Starting fine-tuning...\n"
          ]
        },
        {
          "output_type": "display_data",
          "data": {
            "text/plain": [
              "<IPython.core.display.HTML object>"
            ],
            "text/html": [
              "\n",
              "    <div>\n",
              "      \n",
              "      <progress value='15411' max='15411' style='width:300px; height:20px; vertical-align: middle;'></progress>\n",
              "      [15411/15411 19:22, Epoch 3/3]\n",
              "    </div>\n",
              "    <table border=\"1\" class=\"dataframe\">\n",
              "  <thead>\n",
              " <tr style=\"text-align: left;\">\n",
              "      <th>Epoch</th>\n",
              "      <th>Training Loss</th>\n",
              "      <th>Validation Loss</th>\n",
              "    </tr>\n",
              "  </thead>\n",
              "  <tbody>\n",
              "    <tr>\n",
              "      <td>1</td>\n",
              "      <td>4.142600</td>\n",
              "      <td>3.912895</td>\n",
              "    </tr>\n",
              "    <tr>\n",
              "      <td>2</td>\n",
              "      <td>3.792600</td>\n",
              "      <td>3.621935</td>\n",
              "    </tr>\n",
              "    <tr>\n",
              "      <td>3</td>\n",
              "      <td>3.637400</td>\n",
              "      <td>3.515491</td>\n",
              "    </tr>\n",
              "  </tbody>\n",
              "</table><p>"
            ]
          },
          "metadata": {}
        },
        {
          "output_type": "stream",
          "name": "stderr",
          "text": [
            "There were missing keys in the checkpoint model loaded: ['cls.predictions.decoder.weight', 'cls.predictions.decoder.bias'].\n"
          ]
        },
        {
          "output_type": "stream",
          "name": "stdout",
          "text": [
            "Model saved to /content/drive/MyDrive/MIDS/W266/final_project//domain_adaptation//domain_adapted_scibert\n"
          ]
        }
      ]
    },
    {
      "cell_type": "code",
      "source": [
        "# Step 5: Generate embeddings for evaluation\n",
        "print(\"\\n===== Step 5: Generating Embeddings =====\")\n",
        "# Sample documents for evaluation (for speed)\n",
        "# sample_size = min(5000, len(docs_df))\n",
        "# sample_indices = np.random.choice(len(docs_df), sample_size, replace=False)\n",
        "# eval_df = docs_df.iloc[sample_indices].reset_index(drop=True)\n",
        "eval_df = docs_df.copy()  # Use all documents\n",
        "eval_texts = eval_df['processed_text'].tolist()\n",
        "eval_categories = eval_df['category'].tolist()\n",
        "print(f\"Generating embeddings for all {len(eval_texts)} documents\")\n",
        "\n",
        "# Generate embeddings with both models\n",
        "print(\"Generating embeddings with domain-adapted model...\")\n",
        "domain_embeddings, _ = generate_embeddings(eval_texts, domain_model_path)\n",
        "\n",
        "# Save domain-adapted embeddings\n",
        "np.save(f\"{OUTPUT_DIR}/domain_adapted_embeddings.npy\", domain_embeddings)\n",
        "print(f\"Domain-adapted embeddings saved to {OUTPUT_DIR}/domain_adapted_embeddings.npy\")\n",
        "\n",
        "print(\"Generating embeddings with original model...\")\n",
        "original_embeddings, _ = generate_embeddings(eval_texts, base_model_path)"
      ],
      "metadata": {
        "colab": {
          "base_uri": "https://localhost:8080/",
          "height": 292,
          "referenced_widgets": [
            "6b9f551cbdf441d9914526a17653c511",
            "94bcbb83da744d1aa7a736c87042f725",
            "5cb75f0cdb354d5abb79372690876636",
            "721799acb7c24f6d9f38cd21bfc33e8e",
            "bf9f600cb9a643e2a1e2691ee4ea4a51",
            "beeb3a1b8317449c86262806545bd3ff",
            "98d246f501f243f79d03e2a9a4848342",
            "6bc0e23a045f42c38d60c52df7d299aa",
            "a954392ebdbd4da9b860bbdc9d8f763b",
            "308337e0157e474db28c397b2f5c2c25",
            "3e6fda2216be493d920fdc5b9a1d0c69",
            "3aba31508674481c8295de74e0e35d24",
            "231159b6d2f94ed0acab6d56ed5a3436",
            "5170c6cb9d4044ee9078c9e4d9adf63e",
            "bb10fa0f900e47df874f21bca03066fc",
            "6e6db010f97940afb9bca48fff4aedaa",
            "a09294599b584524b4164bbe42e1d10f",
            "2c2e7eaef85f4885b8cec7ce4cd7c81d",
            "1e115f8de0c84165832bb041f1473ad6",
            "b137a1e843c04e3d813240148d022c73",
            "6e158050e1f44637bd1a6ad8231d2731",
            "1dc18882535d473e9465a926a0465f3e"
          ]
        },
        "id": "enlDd-XG3aTd",
        "outputId": "5646d8bf-d451-4f51-f74c-680b9bc05d70"
      },
      "execution_count": 16,
      "outputs": [
        {
          "output_type": "stream",
          "name": "stderr",
          "text": [
            "WARNING:sentence_transformers.SentenceTransformer:No sentence-transformers model found with name /content/drive/MyDrive/MIDS/W266/final_project//domain_adaptation//domain_adapted_scibert. Creating a new one with mean pooling.\n"
          ]
        },
        {
          "output_type": "stream",
          "name": "stdout",
          "text": [
            "\n",
            "===== Step 5: Generating Embeddings =====\n",
            "Generating embeddings for all 45655 documents\n",
            "Generating embeddings with domain-adapted model...\n",
            "Generating embeddings using /content/drive/MyDrive/MIDS/W266/final_project//domain_adaptation//domain_adapted_scibert\n"
          ]
        },
        {
          "output_type": "stream",
          "name": "stderr",
          "text": [
            "Some weights of BertModel were not initialized from the model checkpoint at /content/drive/MyDrive/MIDS/W266/final_project//domain_adaptation//domain_adapted_scibert and are newly initialized: ['pooler.dense.bias', 'pooler.dense.weight']\n",
            "You should probably TRAIN this model on a down-stream task to be able to use it for predictions and inference.\n"
          ]
        },
        {
          "output_type": "display_data",
          "data": {
            "text/plain": [
              "Batches:   0%|          | 0/1427 [00:00<?, ?it/s]"
            ],
            "application/vnd.jupyter.widget-view+json": {
              "version_major": 2,
              "version_minor": 0,
              "model_id": "6b9f551cbdf441d9914526a17653c511"
            }
          },
          "metadata": {}
        },
        {
          "output_type": "stream",
          "name": "stdout",
          "text": [
            "Domain-adapted embeddings saved to /content/drive/MyDrive/MIDS/W266/final_project//domain_adaptation//domain_adapted_embeddings.npy\n",
            "Generating embeddings with original model...\n",
            "Generating embeddings using /content/drive/MyDrive/MIDS/W266/final_project//models//distilled_scibert\n"
          ]
        },
        {
          "output_type": "display_data",
          "data": {
            "text/plain": [
              "Batches:   0%|          | 0/1427 [00:00<?, ?it/s]"
            ],
            "application/vnd.jupyter.widget-view+json": {
              "version_major": 2,
              "version_minor": 0,
              "model_id": "3aba31508674481c8295de74e0e35d24"
            }
          },
          "metadata": {}
        }
      ]
    },
    {
      "cell_type": "code",
      "source": [
        "# Step 6: Run topic modeling and evaluation\n",
        "print(\"\\n===== Step 6: Topic Modeling & Evaluation =====\")\n",
        "# Create topic models\n",
        "domain_topic_model = create_topic_model(domain_embeddings)\n",
        "original_topic_model = create_topic_model(original_embeddings)"
      ],
      "metadata": {
        "colab": {
          "base_uri": "https://localhost:8080/"
        },
        "id": "grFN3iS43d3M",
        "outputId": "1469d900-8dbf-4e92-fd18-a20c1ce4d0d3"
      },
      "execution_count": 17,
      "outputs": [
        {
          "output_type": "stream",
          "name": "stdout",
          "text": [
            "\n",
            "===== Step 6: Topic Modeling & Evaluation =====\n"
          ]
        }
      ]
    },
    {
      "cell_type": "code",
      "source": [
        "# Fit models\n",
        "print(\"Fitting domain-adapted topic model...\")\n",
        "domain_topics, _ = domain_topic_model.fit_transform(eval_texts, embeddings=domain_embeddings)"
      ],
      "metadata": {
        "colab": {
          "base_uri": "https://localhost:8080/"
        },
        "id": "VKjF5mbo3sUd",
        "outputId": "87009f57-9629-4077-ad50-49e82b60ea1f"
      },
      "execution_count": 18,
      "outputs": [
        {
          "output_type": "stream",
          "name": "stderr",
          "text": [
            "2025-03-29 22:14:41,894 - BERTopic - Dimensionality - Fitting the dimensionality reduction algorithm\n"
          ]
        },
        {
          "output_type": "stream",
          "name": "stdout",
          "text": [
            "Fitting domain-adapted topic model...\n"
          ]
        },
        {
          "output_type": "stream",
          "name": "stderr",
          "text": [
            "2025-03-29 22:15:17,196 - BERTopic - Dimensionality - Completed ✓\n",
            "2025-03-29 22:15:17,198 - BERTopic - Cluster - Start clustering the reduced embeddings\n",
            "2025-03-29 22:15:20,913 - BERTopic - Cluster - Completed ✓\n",
            "2025-03-29 22:15:20,927 - BERTopic - Representation - Fine-tuning topics using representation models.\n",
            "2025-03-29 22:15:25,167 - BERTopic - Representation - Completed ✓\n"
          ]
        }
      ]
    },
    {
      "cell_type": "code",
      "source": [
        "print(\"Fitting original topic model...\")\n",
        "original_topics, _ = original_topic_model.fit_transform(eval_texts, embeddings=original_embeddings)"
      ],
      "metadata": {
        "colab": {
          "base_uri": "https://localhost:8080/"
        },
        "id": "T1z0Vrl634KX",
        "outputId": "47840867-efae-4733-f8b8-310e18795ff5"
      },
      "execution_count": 19,
      "outputs": [
        {
          "output_type": "stream",
          "name": "stderr",
          "text": [
            "2025-03-29 22:15:27,499 - BERTopic - Dimensionality - Fitting the dimensionality reduction algorithm\n"
          ]
        },
        {
          "output_type": "stream",
          "name": "stdout",
          "text": [
            "Fitting original topic model...\n"
          ]
        },
        {
          "output_type": "stream",
          "name": "stderr",
          "text": [
            "2025-03-29 22:15:40,640 - BERTopic - Dimensionality - Completed ✓\n",
            "2025-03-29 22:15:40,642 - BERTopic - Cluster - Start clustering the reduced embeddings\n",
            "2025-03-29 22:15:42,662 - BERTopic - Cluster - Completed ✓\n",
            "2025-03-29 22:15:42,673 - BERTopic - Representation - Fine-tuning topics using representation models.\n",
            "2025-03-29 22:15:46,624 - BERTopic - Representation - Completed ✓\n"
          ]
        }
      ]
    },
    {
      "cell_type": "code",
      "source": [
        "# Evaluate models\n",
        "print(\"Evaluating domain-adapted model...\")\n",
        "domain_results = evaluate_model(domain_topic_model, domain_topics, eval_texts, eval_categories)"
      ],
      "metadata": {
        "colab": {
          "base_uri": "https://localhost:8080/"
        },
        "id": "mXMXNYq136lN",
        "outputId": "43a32369-4ef6-4a49-87b6-94341a4d6c03"
      },
      "execution_count": 20,
      "outputs": [
        {
          "output_type": "stream",
          "name": "stdout",
          "text": [
            "Evaluating domain-adapted model...\n"
          ]
        }
      ]
    },
    {
      "cell_type": "code",
      "source": [
        "print(\"Evaluating original model...\")\n",
        "original_results = evaluate_model(original_topic_model, original_topics, eval_texts, eval_categories)"
      ],
      "metadata": {
        "colab": {
          "base_uri": "https://localhost:8080/"
        },
        "id": "vE5zdGRb38Uf",
        "outputId": "3971f486-3c1a-43a6-b6f2-410d97d82c45"
      },
      "execution_count": 21,
      "outputs": [
        {
          "output_type": "stream",
          "name": "stdout",
          "text": [
            "Evaluating original model...\n"
          ]
        }
      ]
    },
    {
      "cell_type": "code",
      "source": [
        "# Step 7: Results and comparison\n",
        "print(\"\\n===== Step 7: Results & Comparison =====\")\n",
        "results = {\n",
        "    \"Domain-Adapted\": domain_results,\n",
        "    \"Original\": original_results\n",
        "}\n",
        "\n",
        "# Create comparison table\n",
        "comparison = pd.DataFrame({\n",
        "    \"Metric\": [\"NMI\", \"ARI\", \"Topics\", \"C_v Coherence\"],\n",
        "    \"Domain-Adapted\": [\n",
        "        domain_results[\"quantitative\"][\"NMI\"],\n",
        "        domain_results[\"quantitative\"][\"ARI\"],\n",
        "        domain_results[\"quantitative\"][\"n_topics\"],\n",
        "        domain_results[\"qualitative\"][\"C_v Coherence\"]\n",
        "    ],\n",
        "    \"Original\": [\n",
        "        original_results[\"quantitative\"][\"NMI\"],\n",
        "        original_results[\"quantitative\"][\"ARI\"],\n",
        "        original_results[\"quantitative\"][\"n_topics\"],\n",
        "        original_results[\"qualitative\"][\"C_v Coherence\"]\n",
        "    ]\n",
        "})\n",
        "\n",
        "# Display comparison\n",
        "print(\"\\nModel Performance Comparison:\")\n",
        "print(comparison)\n",
        "\n",
        "# Save results\n",
        "comparison.to_csv(f\"{OUTPUT_DIR}/model_comparison.csv\", index=False)\n",
        "\n",
        "# Save topic information\n",
        "domain_topic_model.get_topic_info().to_csv(f\"{OUTPUT_DIR}/domain_adapted_topics.csv\", index=False)\n",
        "original_topic_model.get_topic_info().to_csv(f\"{OUTPUT_DIR}/original_topics.csv\", index=False)\n",
        "\n",
        "# Create simple visualization\n",
        "plt.figure(figsize=(10, 6))\n",
        "\n",
        "metrics = [\"NMI\", \"ARI\", \"C_v Coherence\"]\n",
        "x = np.arange(len(metrics))\n",
        "width = 0.35\n",
        "\n",
        "domain_values = [\n",
        "    domain_results[\"quantitative\"][\"NMI\"],\n",
        "    domain_results[\"quantitative\"][\"ARI\"],\n",
        "    domain_results[\"qualitative\"][\"C_v Coherence\"]\n",
        "]\n",
        "\n",
        "original_values = [\n",
        "    original_results[\"quantitative\"][\"NMI\"],\n",
        "    original_results[\"quantitative\"][\"ARI\"],\n",
        "    original_results[\"qualitative\"][\"C_v Coherence\"]\n",
        "]\n",
        "\n",
        "plt.bar(x - width/2, domain_values, width, label='Domain-Adapted')\n",
        "plt.bar(x + width/2, original_values, width, label='Original')\n",
        "\n",
        "plt.xlabel('Metrics')\n",
        "plt.ylabel('Score')\n",
        "plt.title('Model Comparison')\n",
        "plt.xticks(x, metrics)\n",
        "plt.legend()\n",
        "\n",
        "plt.tight_layout()\n",
        "plt.savefig(f\"{OUTPUT_DIR}/model_comparison.png\", dpi=300)\n",
        "\n",
        "end_time = datetime.now()\n",
        "duration = end_time - start_time\n",
        "print(f\"\\nExperiment completed in {duration}\")\n",
        "print(f\"Results saved to {OUTPUT_DIR}\")"
      ],
      "metadata": {
        "colab": {
          "base_uri": "https://localhost:8080/",
          "height": 815
        },
        "id": "elsNY2_c4Ceq",
        "outputId": "124b53a7-85cb-40fd-ab77-cd2b83a3712b"
      },
      "execution_count": 22,
      "outputs": [
        {
          "output_type": "stream",
          "name": "stdout",
          "text": [
            "\n",
            "===== Step 7: Results & Comparison =====\n",
            "\n",
            "Model Performance Comparison:\n",
            "          Metric  Domain-Adapted   Original\n",
            "0            NMI        0.315887   0.180250\n",
            "1            ARI        0.027637   0.012677\n",
            "2         Topics      306.000000  48.000000\n",
            "3  C_v Coherence        0.601107   0.604940\n",
            "\n",
            "Experiment completed in 0:24:20.770055\n",
            "Results saved to /content/drive/MyDrive/MIDS/W266/final_project//domain_adaptation/\n"
          ]
        },
        {
          "output_type": "display_data",
          "data": {
            "text/plain": [
              "<Figure size 1000x600 with 1 Axes>"
            ],
            "image/png": "[encoded data removed]"
          },
          "metadata": {}
        }
      ]
    }
  ]
}